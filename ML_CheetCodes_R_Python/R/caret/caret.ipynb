{
 "cells": [
  {
   "cell_type": "code",
   "execution_count": 12,
   "metadata": {},
   "outputs": [
    {
     "name": "stderr",
     "output_type": "stream",
     "text": [
      "Loading required package: gplots\n",
      "\n",
      "Attaching package: 'gplots'\n",
      "\n",
      "The following object is masked from 'package:stats':\n",
      "\n",
      "    lowess\n",
      "\n"
     ]
    }
   ],
   "source": [
    "### simple glm\n",
    "library(caret)\n",
    "library(ROCR)\n"
   ]
  },
  {
   "cell_type": "code",
   "execution_count": 2,
   "metadata": {},
   "outputs": [
    {
     "name": "stdout",
     "output_type": "stream",
     "text": [
      "'data.frame':\t1000 obs. of  22 variables:\n",
      " $ Customer_ID             : int  1122334 6156361 2051359 8740590 3924540 3115687 8251714 2272783 1865292 8369450 ...\n",
      " $ checking_account_status : chr  \"< 0 DM\" \"0 - 200 DM\" \"none\" \"< 0 DM\" ...\n",
      " $ loan_duration_mo        : int  6 48 12 42 24 36 24 36 12 30 ...\n",
      " $ credit_history          : chr  \"critical account - other non-bank loans\" \"current loans paid\" \"critical account - other non-bank loans\" \"current loans paid\" ...\n",
      " $ purpose                 : chr  \"radio/television\" \"radio/television\" \"education\" \"furniture/equipment\" ...\n",
      " $ loan_amount             : int  1169 5951 2096 7882 4870 9055 2835 6948 3059 5234 ...\n",
      " $ savings_account_balance : chr  \"unknown/none\" \"< 100 DM\" \"< 100 DM\" \"< 100 DM\" ...\n",
      " $ time_employed_yrs       : chr  \">= 7 years\" \"1 - 4 years\" \"4 - 7 years\" \"4 - 7 years\" ...\n",
      " $ payment_pcnt_income     : int  4 2 2 2 3 2 3 2 2 4 ...\n",
      " $ gender_status           : chr  \"male-single\" \"female-divorced/separated/married\" \"male-single\" \"male-single\" ...\n",
      " $ other_signators         : chr  \"none\" \"none\" \"none\" \"guarantor\" ...\n",
      " $ time_in_residence       : int  4 2 3 4 4 4 4 2 4 2 ...\n",
      " $ property                : chr  \"real estate\" \"real estate\" \"real estate\" \"building society savings/life insurance\" ...\n",
      " $ age_yrs                 : int  67 22 49 45 53 35 53 35 61 28 ...\n",
      " $ other_credit_outstanding: chr  \"none\" \"none\" \"none\" \"none\" ...\n",
      " $ home_ownership          : chr  \"own\" \"own\" \"own\" \"for free\" ...\n",
      " $ number_loans            : int  2 1 1 1 2 1 1 1 1 2 ...\n",
      " $ job_category            : chr  \"skilled\" \"skilled\" \"unskilled-resident\" \"skilled\" ...\n",
      " $ dependents              : int  1 1 2 2 2 2 1 1 1 1 ...\n",
      " $ telephone               : chr  \"yes\" \"none\" \"none\" \"none\" ...\n",
      " $ foreign_worker          : chr  \"yes\" \"yes\" \"yes\" \"yes\" ...\n",
      " $ bad_credit              : int  0 1 0 0 1 0 0 0 0 1 ...\n"
     ]
    }
   ],
   "source": [
    "credit<-read.csv('C:\\\\Users\\\\Gaya\\\\Desktop\\\\R\\\\EDX_Scripts\\\\Principles-of-Machine-Learning-R-master\\\\Module4\\\\German_Credit_Preped.csv',stringsAsFactors = F)\n",
    "\n",
    "str(credit)"
   ]
  },
  {
   "cell_type": "code",
   "execution_count": 3,
   "metadata": {},
   "outputs": [],
   "source": [
    "credit$Customer_ID<-NULL\n",
    "credit$bad_credit<-as.factor(ifelse(credit$bad_credit==1,'Yes','No'))\n",
    "## Splitting into training and testing sets"
   ]
  },
  {
   "cell_type": "code",
   "execution_count": 4,
   "metadata": {},
   "outputs": [],
   "source": [
    "ind<-createDataPartition(credit$bad_credit,p=0.7,list = F) "
   ]
  },
  {
   "cell_type": "code",
   "execution_count": 5,
   "metadata": {},
   "outputs": [],
   "source": [
    "credit_train<-credit[ind,]\n",
    "credit_test<-credit[-ind,]"
   ]
  },
  {
   "cell_type": "code",
   "execution_count": 6,
   "metadata": {},
   "outputs": [
    {
     "data": {
      "text/plain": [
       "\n",
       "Call:\n",
       "glm(formula = bad_credit ~ ., family = \"binomial\", data = credit_train)\n",
       "\n",
       "Deviance Residuals: \n",
       "    Min       1Q   Median       3Q      Max  \n",
       "-2.4648  -0.6546  -0.3108   0.6827   2.8577  \n",
       "\n",
       "Coefficients:\n",
       "                                                        Estimate Std. Error\n",
       "(Intercept)                                           -1.620e+00  1.603e+00\n",
       "checking_account_status> 200 DM or salary assignment  -7.180e-01  4.263e-01\n",
       "checking_account_status0 - 200 DM                     -3.716e-01  2.747e-01\n",
       "checking_account_statusnone                           -1.811e+00  2.907e-01\n",
       "loan_duration_mo                                       2.961e-02  1.123e-02\n",
       "credit_historycritical account - other non-bank loans -1.630e+00  5.242e-01\n",
       "credit_historycurrent loans paid                      -7.346e-01  4.629e-01\n",
       "credit_historyno credit - paid                         1.636e-01  6.896e-01\n",
       "credit_historypast payment delays                     -8.550e-01  5.706e-01\n",
       "purposecar (new)                                       8.009e-01  4.318e-01\n",
       "purposecar (used)                                     -8.748e-01  5.589e-01\n",
       "purposedomestic appliances                             1.392e-01  9.763e-01\n",
       "purposeeducation                                       7.010e-01  5.858e-01\n",
       "purposefurniture/equipment                             7.593e-02  4.589e-01\n",
       "purposeother                                          -6.160e-01  9.876e-01\n",
       "purposeradio/television                               -3.601e-02  4.408e-01\n",
       "purposerepairs                                         9.427e-01  8.417e-01\n",
       "purposeretraining                                     -1.420e+00  1.335e+00\n",
       "loan_amount                                            1.422e-04  5.584e-05\n",
       "savings_account_balance>= 1000 DM                     -1.650e+00  6.845e-01\n",
       "savings_account_balance100 - 500 DM                   -9.051e-01  3.959e-01\n",
       "savings_account_balance500 - 1000 DM                  -1.112e+00  5.772e-01\n",
       "savings_account_balanceunknown/none                   -9.014e-01  3.143e-01\n",
       "time_employed_yrs>= 7 years                           -1.138e-01  3.829e-01\n",
       "time_employed_yrs1 - 4 years                           1.727e-01  3.063e-01\n",
       "time_employed_yrs4 - 7 years                          -6.877e-01  3.812e-01\n",
       "time_employed_yrsunemployed                            5.066e-01  5.211e-01\n",
       "payment_pcnt_income                                    3.691e-01  1.103e-01\n",
       "gender_statusmale-divorced/separated                   3.066e-01  4.658e-01\n",
       "gender_statusmale-married/widowed                     -2.161e-02  3.934e-01\n",
       "gender_statusmale-single                              -6.545e-01  2.595e-01\n",
       "other_signatorsguarantor                              -2.199e+00  7.308e-01\n",
       "other_signatorsnone                                   -6.511e-01  4.889e-01\n",
       "time_in_residence                                     -4.810e-03  1.074e-01\n",
       "propertycar or other                                  -1.176e-01  2.843e-01\n",
       "propertyreal estate                                   -9.263e-02  3.067e-01\n",
       "propertyunknown-none                                   1.161e-02  5.521e-01\n",
       "age_yrs                                               -4.893e-03  1.124e-02\n",
       "other_credit_outstandingnone                          -1.046e+00  2.992e-01\n",
       "other_credit_outstandingstores                        -3.375e-01  5.202e-01\n",
       "home_ownershipown                                     -3.049e-02  5.840e-01\n",
       "home_ownershiprent                                     6.793e-01  6.121e-01\n",
       "number_loans                                           1.525e-01  2.501e-01\n",
       "job_categoryskilled                                    1.737e-01  3.495e-01\n",
       "job_categoryunemployed-unskilled-non-resident         -7.512e-01  8.462e-01\n",
       "job_categoryunskilled-resident                         2.927e-01  4.303e-01\n",
       "dependents                                             4.356e-01  3.004e-01\n",
       "telephoneyes                                          -3.065e-01  2.553e-01\n",
       "foreign_workeryes                                      1.548e+00  8.488e-01\n",
       "                                                      z value Pr(>|z|)    \n",
       "(Intercept)                                            -1.011 0.312136    \n",
       "checking_account_status> 200 DM or salary assignment   -1.684 0.092139 .  \n",
       "checking_account_status0 - 200 DM                      -1.353 0.176114    \n",
       "checking_account_statusnone                            -6.228 4.72e-10 ***\n",
       "loan_duration_mo                                        2.636 0.008393 ** \n",
       "credit_historycritical account - other non-bank loans  -3.110 0.001871 ** \n",
       "credit_historycurrent loans paid                       -1.587 0.112531    \n",
       "credit_historyno credit - paid                          0.237 0.812480    \n",
       "credit_historypast payment delays                      -1.498 0.134017    \n",
       "purposecar (new)                                        1.855 0.063648 .  \n",
       "purposecar (used)                                      -1.565 0.117544    \n",
       "purposedomestic appliances                              0.143 0.886657    \n",
       "purposeeducation                                        1.197 0.231464    \n",
       "purposefurniture/equipment                              0.165 0.868572    \n",
       "purposeother                                           -0.624 0.532796    \n",
       "purposeradio/television                                -0.082 0.934905    \n",
       "purposerepairs                                          1.120 0.262708    \n",
       "purposeretraining                                      -1.064 0.287240    \n",
       "loan_amount                                             2.547 0.010870 *  \n",
       "savings_account_balance>= 1000 DM                      -2.410 0.015941 *  \n",
       "savings_account_balance100 - 500 DM                    -2.286 0.022248 *  \n",
       "savings_account_balance500 - 1000 DM                   -1.926 0.054060 .  \n",
       "savings_account_balanceunknown/none                    -2.868 0.004131 ** \n",
       "time_employed_yrs>= 7 years                            -0.297 0.766334    \n",
       "time_employed_yrs1 - 4 years                            0.564 0.572957    \n",
       "time_employed_yrs4 - 7 years                           -1.804 0.071228 .  \n",
       "time_employed_yrsunemployed                             0.972 0.330969    \n",
       "payment_pcnt_income                                     3.346 0.000821 ***\n",
       "gender_statusmale-divorced/separated                    0.658 0.510342    \n",
       "gender_statusmale-married/widowed                      -0.055 0.956190    \n",
       "gender_statusmale-single                               -2.522 0.011675 *  \n",
       "other_signatorsguarantor                               -3.009 0.002617 ** \n",
       "other_signatorsnone                                    -1.332 0.182953    \n",
       "time_in_residence                                      -0.045 0.964286    \n",
       "propertycar or other                                   -0.414 0.679126    \n",
       "propertyreal estate                                    -0.302 0.762625    \n",
       "propertyunknown-none                                    0.021 0.983218    \n",
       "age_yrs                                                -0.435 0.663310    \n",
       "other_credit_outstandingnone                           -3.495 0.000474 ***\n",
       "other_credit_outstandingstores                         -0.649 0.516455    \n",
       "home_ownershipown                                      -0.052 0.958363    \n",
       "home_ownershiprent                                      1.110 0.267079    \n",
       "number_loans                                            0.610 0.541930    \n",
       "job_categoryskilled                                     0.497 0.619248    \n",
       "job_categoryunemployed-unskilled-non-resident          -0.888 0.374694    \n",
       "job_categoryunskilled-resident                          0.680 0.496405    \n",
       "dependents                                              1.450 0.147077    \n",
       "telephoneyes                                           -1.200 0.229949    \n",
       "foreign_workeryes                                       1.824 0.068130 .  \n",
       "---\n",
       "Signif. codes:  0 '***' 0.001 '**' 0.01 '*' 0.05 '.' 0.1 ' ' 1\n",
       "\n",
       "(Dispersion parameter for binomial family taken to be 1)\n",
       "\n",
       "    Null deviance: 855.21  on 699  degrees of freedom\n",
       "Residual deviance: 598.86  on 651  degrees of freedom\n",
       "AIC: 696.86\n",
       "\n",
       "Number of Fisher Scoring iterations: 5\n"
      ]
     },
     "metadata": {},
     "output_type": "display_data"
    }
   ],
   "source": [
    "mod1<-glm(bad_credit~., data = credit_train,family='binomial')\n",
    "\n",
    "summary(mod1)"
   ]
  },
  {
   "cell_type": "code",
   "execution_count": 7,
   "metadata": {},
   "outputs": [],
   "source": [
    "b_c_p1<-predict(mod1,credit_test,type='response')\n",
    "\n",
    "b_c_p1_labels<-factor(ifelse(b_c_p1>0.3,'Yes','No'))"
   ]
  },
  {
   "cell_type": "code",
   "execution_count": 8,
   "metadata": {},
   "outputs": [
    {
     "data": {
      "text/plain": [
       "Confusion Matrix and Statistics\n",
       "\n",
       "          Reference\n",
       "Prediction  No Yes\n",
       "       No  159  34\n",
       "       Yes  51  56\n",
       "                                        \n",
       "               Accuracy : 0.7167        \n",
       "                 95% CI : (0.662, 0.767)\n",
       "    No Information Rate : 0.7           \n",
       "    P-Value [Acc > NIR] : 0.28736       \n",
       "                                        \n",
       "                  Kappa : 0.3599        \n",
       " Mcnemar's Test P-Value : 0.08266       \n",
       "                                        \n",
       "            Sensitivity : 0.6222        \n",
       "            Specificity : 0.7571        \n",
       "         Pos Pred Value : 0.5234        \n",
       "         Neg Pred Value : 0.8238        \n",
       "             Prevalence : 0.3000        \n",
       "         Detection Rate : 0.1867        \n",
       "   Detection Prevalence : 0.3567        \n",
       "      Balanced Accuracy : 0.6897        \n",
       "                                        \n",
       "       'Positive' Class : Yes           \n",
       "                                        "
      ]
     },
     "metadata": {},
     "output_type": "display_data"
    }
   ],
   "source": [
    "confusionMatrix(data =b_c_p1_labels,reference=credit_test$bad_credit,positive='Yes') # Important always note data and reference parameters namely.. position assignment fail often!!!"
   ]
  },
  {
   "cell_type": "code",
   "execution_count": 9,
   "metadata": {},
   "outputs": [
    {
     "data": {
      "text/plain": [
       "             \n",
       "b_c_p1_labels  No Yes\n",
       "          No  159  34\n",
       "          Yes  51  56"
      ]
     },
     "metadata": {},
     "output_type": "display_data"
    }
   ],
   "source": [
    "table(b_c_p1_labels,credit_test$bad_credit)"
   ]
  },
  {
   "cell_type": "code",
   "execution_count": 10,
   "metadata": {},
   "outputs": [
    {
     "data": {
      "text/html": [
       "<dl class=dl-horizontal>\n",
       "\t<dt>6</dt>\n",
       "\t\t<dd>0.254806332982065</dd>\n",
       "\t<dt>9</dt>\n",
       "\t\t<dd>0.011983187289158</dd>\n",
       "\t<dt>12</dt>\n",
       "\t\t<dd>0.87462728041744</dd>\n",
       "\t<dt>17</dt>\n",
       "\t\t<dd>0.0223540861799598</dd>\n",
       "\t<dt>19</dt>\n",
       "\t\t<dd>0.545104957633779</dd>\n",
       "\t<dt>21</dt>\n",
       "\t\t<dd>0.0768558171368138</dd>\n",
       "</dl>\n"
      ],
      "text/latex": [
       "\\begin{description*}\n",
       "\\item[6] 0.254806332982065\n",
       "\\item[9] 0.011983187289158\n",
       "\\item[12] 0.87462728041744\n",
       "\\item[17] 0.0223540861799598\n",
       "\\item[19] 0.545104957633779\n",
       "\\item[21] 0.0768558171368138\n",
       "\\end{description*}\n"
      ],
      "text/markdown": [
       "6\n",
       ":   0.2548063329820659\n",
       ":   0.01198318728915812\n",
       ":   0.8746272804174417\n",
       ":   0.022354086179959819\n",
       ":   0.54510495763377921\n",
       ":   0.0768558171368138\n",
       "\n"
      ],
      "text/plain": [
       "         6          9         12         17         19         21 \n",
       "0.25480633 0.01198319 0.87462728 0.02235409 0.54510496 0.07685582 "
      ]
     },
     "metadata": {},
     "output_type": "display_data"
    }
   ],
   "source": [
    "pred_prob<-predict(mod1,credit_test,type = 'response')\n",
    "head(pred_prob)"
   ]
  },
  {
   "cell_type": "code",
   "execution_count": 13,
   "metadata": {},
   "outputs": [
    {
     "data": {
      "image/png": "[encoded data removed]",
      "text/plain": [
       "plot without title"
      ]
     },
     "metadata": {},
     "output_type": "display_data"
    }
   ],
   "source": [
    "p_test<-prediction(pred_prob,credit_test$bad_credit)\n",
    "perf<-performance(p_test,'tpr','fpr')\n",
    "plot(perf,colorize=T)"
   ]
  },
  {
   "cell_type": "code",
   "execution_count": 14,
   "metadata": {},
   "outputs": [
    {
     "data": {
      "text/html": [
       "<ol>\n",
       "\t<li>0.761957671957671</li>\n",
       "</ol>\n"
      ],
      "text/latex": [
       "\\begin{enumerate}\n",
       "\\item 0.761957671957671\n",
       "\\end{enumerate}\n"
      ],
      "text/markdown": [
       "1. 0.761957671957671\n",
       "\n",
       "\n"
      ],
      "text/plain": [
       "[[1]]\n",
       "[1] 0.7619577\n"
      ]
     },
     "metadata": {},
     "output_type": "display_data"
    }
   ],
   "source": [
    "performance(p_test,'auc')@y.values"
   ]
  },
  {
   "cell_type": "code",
   "execution_count": 15,
   "metadata": {},
   "outputs": [
    {
     "name": "stderr",
     "output_type": "stream",
     "text": [
      "Loading required package: glmnet\n",
      "Loading required package: Matrix\n",
      "Loading required package: foreach\n",
      "Loaded glmnet 2.0-5\n",
      "\n",
      "Warning message in train.default(x, y, weights = w, ...):\n",
      "\"The metric \"Accuracy\" was not in the result set. ROC will be used instead.\""
     ]
    },
    {
     "name": "stdout",
     "output_type": "stream",
     "text": [
      "+ Fold01: alpha=0, lambda=0.03 \n",
      "- Fold01: alpha=0, lambda=0.03 \n",
      "+ Fold01: alpha=1, lambda=0.03 \n",
      "- Fold01: alpha=1, lambda=0.03 \n",
      "+ Fold02: alpha=0, lambda=0.03 \n",
      "- Fold02: alpha=0, lambda=0.03 \n",
      "+ Fold02: alpha=1, lambda=0.03 \n",
      "- Fold02: alpha=1, lambda=0.03 \n",
      "+ Fold03: alpha=0, lambda=0.03 \n",
      "- Fold03: alpha=0, lambda=0.03 \n",
      "+ Fold03: alpha=1, lambda=0.03 \n",
      "- Fold03: alpha=1, lambda=0.03 \n",
      "+ Fold04: alpha=0, lambda=0.03 \n",
      "- Fold04: alpha=0, lambda=0.03 \n",
      "+ Fold04: alpha=1, lambda=0.03 \n",
      "- Fold04: alpha=1, lambda=0.03 \n",
      "+ Fold05: alpha=0, lambda=0.03 \n",
      "- Fold05: alpha=0, lambda=0.03 \n",
      "+ Fold05: alpha=1, lambda=0.03 \n",
      "- Fold05: alpha=1, lambda=0.03 \n",
      "+ Fold06: alpha=0, lambda=0.03 \n",
      "- Fold06: alpha=0, lambda=0.03 \n",
      "+ Fold06: alpha=1, lambda=0.03 \n",
      "- Fold06: alpha=1, lambda=0.03 \n",
      "+ Fold07: alpha=0, lambda=0.03 \n",
      "- Fold07: alpha=0, lambda=0.03 \n",
      "+ Fold07: alpha=1, lambda=0.03 \n",
      "- Fold07: alpha=1, lambda=0.03 \n",
      "+ Fold08: alpha=0, lambda=0.03 \n",
      "- Fold08: alpha=0, lambda=0.03 \n",
      "+ Fold08: alpha=1, lambda=0.03 \n",
      "- Fold08: alpha=1, lambda=0.03 \n",
      "+ Fold09: alpha=0, lambda=0.03 \n",
      "- Fold09: alpha=0, lambda=0.03 \n",
      "+ Fold09: alpha=1, lambda=0.03 \n",
      "- Fold09: alpha=1, lambda=0.03 \n",
      "+ Fold10: alpha=0, lambda=0.03 \n",
      "- Fold10: alpha=0, lambda=0.03 \n",
      "+ Fold10: alpha=1, lambda=0.03 \n",
      "- Fold10: alpha=1, lambda=0.03 \n",
      "Aggregating results\n",
      "Selecting tuning parameters\n",
      "Fitting alpha = 1, lambda = 0.0113 on full training set\n"
     ]
    },
    {
     "data": {},
     "metadata": {},
     "output_type": "display_data"
    },
    {
     "data": {
      "image/png": "[encoded data removed]",
      "text/plain": [
       "plot without title"
      ]
     },
     "metadata": {},
     "output_type": "display_data"
    }
   ],
   "source": [
    "## Now let's use caret package\n",
    "\n",
    "mod2<-train(bad_credit~.,data=credit_train,method='glmnet',\n",
    "            tuneGrid=expand.grid(alpha=c(0,1),lambda=seq(0.0001,0.03,length=100)),\n",
    "            trControl=trainControl(method = 'cv',number = 10,\n",
    "                                   summaryFunction = twoClassSummary,\n",
    "                                   classProbs = TRUE, ## Important!!!!\n",
    "                                   #preProcess = 'medianImpute' ## if NAs in data\n",
    "                                   verboseIter = TRUE))\n",
    "plot(mod2)"
   ]
  },
  {
   "cell_type": "code",
   "execution_count": 16,
   "metadata": {},
   "outputs": [
    {
     "data": {
      "text/html": [
       "0.942857142857143"
      ],
      "text/latex": [
       "0.942857142857143"
      ],
      "text/markdown": [
       "0.942857142857143"
      ],
      "text/plain": [
       "[1] 0.9428571"
      ]
     },
     "metadata": {},
     "output_type": "display_data"
    }
   ],
   "source": [
    "max(mod2$results$Sens)"
   ]
  },
  {
   "cell_type": "code",
   "execution_count": 17,
   "metadata": {},
   "outputs": [
    {
     "data": {
      "image/png": "[encoded data removed]",
      "text/plain": [
       "plot without title"
      ]
     },
     "metadata": {},
     "output_type": "display_data"
    }
   ],
   "source": [
    "plot(mod2$finalModel)"
   ]
  },
  {
   "cell_type": "code",
   "execution_count": 18,
   "metadata": {},
   "outputs": [],
   "source": [
    "mod2_pred<-predict(mod2,credit_test)"
   ]
  },
  {
   "cell_type": "code",
   "execution_count": 19,
   "metadata": {},
   "outputs": [
    {
     "data": {
      "text/plain": [
       "Confusion Matrix and Statistics\n",
       "\n",
       "          Reference\n",
       "Prediction  No Yes\n",
       "       No  190  54\n",
       "       Yes  20  36\n",
       "                                          \n",
       "               Accuracy : 0.7533          \n",
       "                 95% CI : (0.7005, 0.8011)\n",
       "    No Information Rate : 0.7             \n",
       "    P-Value [Acc > NIR] : 0.023885        \n",
       "                                          \n",
       "                  Kappa : 0.3416          \n",
       " Mcnemar's Test P-Value : 0.000125        \n",
       "                                          \n",
       "            Sensitivity : 0.4000          \n",
       "            Specificity : 0.9048          \n",
       "         Pos Pred Value : 0.6429          \n",
       "         Neg Pred Value : 0.7787          \n",
       "             Prevalence : 0.3000          \n",
       "         Detection Rate : 0.1200          \n",
       "   Detection Prevalence : 0.1867          \n",
       "      Balanced Accuracy : 0.6524          \n",
       "                                          \n",
       "       'Positive' Class : Yes             \n",
       "                                          "
      ]
     },
     "metadata": {},
     "output_type": "display_data"
    }
   ],
   "source": [
    "confusionMatrix(data =mod2_pred,reference=credit_test$bad_credit,positive='Yes') # Important always note data and reference parameters namely.. position assignment fail often!!!"
   ]
  },
  {
   "cell_type": "code",
   "execution_count": 20,
   "metadata": {},
   "outputs": [
    {
     "data": {
      "text/plain": [
       "         \n",
       "mod2_pred  No Yes\n",
       "      No  190  54\n",
       "      Yes  20  36"
      ]
     },
     "metadata": {},
     "output_type": "display_data"
    }
   ],
   "source": [
    "table(mod2_pred,credit_test$bad_credit)"
   ]
  },
  {
   "cell_type": "code",
   "execution_count": 21,
   "metadata": {},
   "outputs": [
    {
     "data": {
      "text/html": [
       "<table>\n",
       "<thead><tr><th scope=col>No</th><th scope=col>Yes</th></tr></thead>\n",
       "<tbody>\n",
       "\t<tr><td>0.8053642 </td><td>0.19463582</td></tr>\n",
       "\t<tr><td>0.9589059 </td><td>0.04109413</td></tr>\n",
       "\t<tr><td>0.2161694 </td><td>0.78383058</td></tr>\n",
       "\t<tr><td>0.9503947 </td><td>0.04960526</td></tr>\n",
       "\t<tr><td>0.4519993 </td><td>0.54800073</td></tr>\n",
       "\t<tr><td>0.9071066 </td><td>0.09289343</td></tr>\n",
       "</tbody>\n",
       "</table>\n"
      ],
      "text/latex": [
       "\\begin{tabular}{r|ll}\n",
       " No & Yes\\\\\n",
       "\\hline\n",
       "\t 0.8053642  & 0.19463582\\\\\n",
       "\t 0.9589059  & 0.04109413\\\\\n",
       "\t 0.2161694  & 0.78383058\\\\\n",
       "\t 0.9503947  & 0.04960526\\\\\n",
       "\t 0.4519993  & 0.54800073\\\\\n",
       "\t 0.9071066  & 0.09289343\\\\\n",
       "\\end{tabular}\n"
      ],
      "text/markdown": [
       "\n",
       "No | Yes | \n",
       "|---|---|---|---|---|---|\n",
       "| 0.8053642  | 0.19463582 | \n",
       "| 0.9589059  | 0.04109413 | \n",
       "| 0.2161694  | 0.78383058 | \n",
       "| 0.9503947  | 0.04960526 | \n",
       "| 0.4519993  | 0.54800073 | \n",
       "| 0.9071066  | 0.09289343 | \n",
       "\n",
       "\n"
      ],
      "text/plain": [
       "  No        Yes       \n",
       "1 0.8053642 0.19463582\n",
       "2 0.9589059 0.04109413\n",
       "3 0.2161694 0.78383058\n",
       "4 0.9503947 0.04960526\n",
       "5 0.4519993 0.54800073\n",
       "6 0.9071066 0.09289343"
      ]
     },
     "metadata": {},
     "output_type": "display_data"
    }
   ],
   "source": [
    "pred_prob<-predict(mod2,credit_test,type = 'prob')\n",
    "head(pred_prob)"
   ]
  },
  {
   "cell_type": "code",
   "execution_count": 22,
   "metadata": {},
   "outputs": [
    {
     "data": {
      "image/png": "[encoded data removed]",
      "text/plain": [
       "plot without title"
      ]
     },
     "metadata": {},
     "output_type": "display_data"
    }
   ],
   "source": [
    "p_test<-prediction(pred_prob[,2],credit_test$bad_credit)\n",
    "perf<-performance(p_test,'tpr','fpr')\n",
    "plot(perf,colorize=T)"
   ]
  },
  {
   "cell_type": "code",
   "execution_count": 23,
   "metadata": {},
   "outputs": [
    {
     "data": {
      "text/html": [
       "<ol>\n",
       "\t<li>0.763386243386244</li>\n",
       "</ol>\n"
      ],
      "text/latex": [
       "\\begin{enumerate}\n",
       "\\item 0.763386243386244\n",
       "\\end{enumerate}\n"
      ],
      "text/markdown": [
       "1. 0.763386243386244\n",
       "\n",
       "\n"
      ],
      "text/plain": [
       "[[1]]\n",
       "[1] 0.7633862\n"
      ]
     },
     "metadata": {},
     "output_type": "display_data"
    }
   ],
   "source": [
    "performance(p_test,'auc')@y.values"
   ]
  },
  {
   "cell_type": "code",
   "execution_count": 47,
   "metadata": {},
   "outputs": [],
   "source": [
    "####### caret with multiple model, preProcessing etc.\n",
    "library(dplyr)\n",
    "library(ranger)"
   ]
  },
  {
   "cell_type": "code",
   "execution_count": 26,
   "metadata": {},
   "outputs": [],
   "source": [
    "data(mtcars)\n",
    "set.seed(42)\n",
    "mtcars[sample(1:nrow(mtcars), 10), \"hp\"] <- NA\n",
    "Y <- mtcars$mpg\n",
    "X <- mtcars%>%\n",
    "  select(-mpg)"
   ]
  },
  {
   "cell_type": "code",
   "execution_count": 27,
   "metadata": {},
   "outputs": [
    {
     "name": "stdout",
     "output_type": "stream",
     "text": [
      "'data.frame':\t32 obs. of  11 variables:\n",
      " $ mpg : num  21 21 22.8 21.4 18.7 18.1 14.3 24.4 22.8 19.2 ...\n",
      " $ cyl : num  6 6 4 6 8 6 8 4 4 6 ...\n",
      " $ disp: num  160 160 108 258 360 ...\n",
      " $ hp  : num  110 110 93 NA 175 105 245 62 NA 123 ...\n",
      " $ drat: num  3.9 3.9 3.85 3.08 3.15 2.76 3.21 3.69 3.92 3.92 ...\n",
      " $ wt  : num  2.62 2.88 2.32 3.21 3.44 ...\n",
      " $ qsec: num  16.5 17 18.6 19.4 17 ...\n",
      " $ vs  : num  0 0 1 1 0 1 0 1 1 1 ...\n",
      " $ am  : num  1 1 1 0 0 0 0 0 0 0 ...\n",
      " $ gear: num  4 4 4 3 3 3 3 4 4 4 ...\n",
      " $ carb: num  4 4 1 1 2 1 4 2 2 4 ...\n"
     ]
    }
   ],
   "source": [
    "str(mtcars)\n",
    "set.seed(42)\n",
    "mod3<-train(x=X,y=Y,method='lm',trControl=trainControl(method='cv',number = 10),preProcess = c(\"medianImpute\",'center','scale'))"
   ]
  },
  {
   "cell_type": "code",
   "execution_count": 29,
   "metadata": {},
   "outputs": [
    {
     "data": {
      "text/plain": [
       "\n",
       "Call:\n",
       "lm(formula = .outcome ~ ., data = dat)\n",
       "\n",
       "Residuals:\n",
       "    Min      1Q  Median      3Q     Max \n",
       "-3.7092 -1.3046 -0.1712  1.2443  4.8985 \n",
       "\n",
       "Coefficients:\n",
       "            Estimate Std. Error t value Pr(>|t|)    \n",
       "(Intercept)  20.0072     0.4844  41.306   <2e-16 ***\n",
       "cyl           0.1514     2.0498   0.074   0.9418    \n",
       "disp          0.8709     1.9563   0.445   0.6607    \n",
       "hp           -0.7842     1.0049  -0.780   0.4439    \n",
       "drat          0.5252     0.8792   0.597   0.5567    \n",
       "wt           -3.7615     1.9540  -1.925   0.0679 .  \n",
       "qsec          1.7357     1.3196   1.315   0.2026    \n",
       "vs            0.0724     1.0598   0.068   0.9462    \n",
       "am            1.2102     1.0337   1.171   0.2548    \n",
       "gear          0.4811     1.1132   0.432   0.6700    \n",
       "carb         -0.7096     1.2136  -0.585   0.5650    \n",
       "---\n",
       "Signif. codes:  0 '***' 0.001 '**' 0.01 '*' 0.05 '.' 0.1 ' ' 1\n",
       "\n",
       "Residual standard error: 2.672 on 21 degrees of freedom\n",
       "Multiple R-squared:  0.8668,\tAdjusted R-squared:  0.8034 \n",
       "F-statistic: 13.67 on 10 and 21 DF,  p-value: 4.481e-07\n"
      ]
     },
     "metadata": {},
     "output_type": "display_data"
    }
   ],
   "source": [
    "summary(mod3)"
   ]
  },
  {
   "cell_type": "code",
   "execution_count": 30,
   "metadata": {},
   "outputs": [
    {
     "data": {
      "text/html": [
       "3.48273357568104"
      ],
      "text/latex": [
       "3.48273357568104"
      ],
      "text/markdown": [
       "3.48273357568104"
      ],
      "text/plain": [
       "[1] 3.482734"
      ]
     },
     "metadata": {},
     "output_type": "display_data"
    }
   ],
   "source": [
    "min(mod3$results$RMSE)"
   ]
  },
  {
   "cell_type": "code",
   "execution_count": 31,
   "metadata": {},
   "outputs": [],
   "source": [
    "X$bad <- 1 ## Adding constant"
   ]
  },
  {
   "cell_type": "code",
   "execution_count": 32,
   "metadata": {},
   "outputs": [
    {
     "data": {
      "text/plain": [
       "\n",
       "Call:\n",
       "lm(formula = .outcome ~ ., data = dat)\n",
       "\n",
       "Residuals:\n",
       "    Min      1Q  Median      3Q     Max \n",
       "-3.7092 -1.3046 -0.1712  1.2443  4.8985 \n",
       "\n",
       "Coefficients:\n",
       "            Estimate Std. Error t value Pr(>|t|)    \n",
       "(Intercept)  20.0072     0.4844  41.306   <2e-16 ***\n",
       "cyl           0.1514     2.0498   0.074   0.9418    \n",
       "disp          0.8709     1.9563   0.445   0.6607    \n",
       "hp           -0.7842     1.0049  -0.780   0.4439    \n",
       "drat          0.5252     0.8792   0.597   0.5567    \n",
       "wt           -3.7615     1.9540  -1.925   0.0679 .  \n",
       "qsec          1.7357     1.3196   1.315   0.2026    \n",
       "vs            0.0724     1.0598   0.068   0.9462    \n",
       "am            1.2102     1.0337   1.171   0.2548    \n",
       "gear          0.4811     1.1132   0.432   0.6700    \n",
       "carb         -0.7096     1.2136  -0.585   0.5650    \n",
       "---\n",
       "Signif. codes:  0 '***' 0.001 '**' 0.01 '*' 0.05 '.' 0.1 ' ' 1\n",
       "\n",
       "Residual standard error: 2.672 on 21 degrees of freedom\n",
       "Multiple R-squared:  0.8668,\tAdjusted R-squared:  0.8034 \n",
       "F-statistic: 13.67 on 10 and 21 DF,  p-value: 4.481e-07\n"
      ]
     },
     "metadata": {},
     "output_type": "display_data"
    }
   ],
   "source": [
    "set.seed(42)\n",
    "mod4<-train(x=X,y=Y,method='lm',trControl=trainControl(method='cv',number = 10),preProcess = c('zv','medianImpute','center','scale'))\n",
    "\n",
    "summary(mod4)"
   ]
  },
  {
   "cell_type": "code",
   "execution_count": 33,
   "metadata": {},
   "outputs": [
    {
     "data": {
      "text/html": [
       "3.48273357568104"
      ],
      "text/latex": [
       "3.48273357568104"
      ],
      "text/markdown": [
       "3.48273357568104"
      ],
      "text/plain": [
       "[1] 3.482734"
      ]
     },
     "metadata": {},
     "output_type": "display_data"
    }
   ],
   "source": [
    "min(mod4$results$RMSE)"
   ]
  },
  {
   "cell_type": "code",
   "execution_count": 34,
   "metadata": {},
   "outputs": [],
   "source": [
    "## Adding pca principal component analysis\n",
    "set.seed(42)\n",
    "mod5<-train(x=X,y=Y,method='lm',trControl=trainControl(method='cv',number = 10),preProcess = c('zv','medianImpute','center','scale','pca'))"
   ]
  },
  {
   "cell_type": "code",
   "execution_count": 35,
   "metadata": {},
   "outputs": [
    {
     "data": {
      "text/plain": [
       "\n",
       "Call:\n",
       "lm(formula = .outcome ~ ., data = dat)\n",
       "\n",
       "Residuals:\n",
       "    Min      1Q  Median      3Q     Max \n",
       "-4.6428 -1.2501 -0.2501  1.5185  5.4964 \n",
       "\n",
       "Coefficients:\n",
       "            Estimate Std. Error t value Pr(>|t|)    \n",
       "(Intercept)  20.0275     0.4487  44.635  < 2e-16 ***\n",
       "PC1          -2.3360     0.2131 -10.964 3.02e-11 ***\n",
       "PC2          -0.2979     0.2852  -1.045   0.3059    \n",
       "PC3           1.3455     0.6089   2.210   0.0361 *  \n",
       "PC4           0.5985     0.8741   0.685   0.4996    \n",
       "PC5           0.6757     0.8770   0.770   0.4480    \n",
       "---\n",
       "Signif. codes:  0 '***' 0.001 '**' 0.01 '*' 0.05 '.' 0.1 ' ' 1\n",
       "\n",
       "Residual standard error: 2.522 on 26 degrees of freedom\n",
       "Multiple R-squared:  0.8531,\tAdjusted R-squared:  0.8249 \n",
       "F-statistic:  30.2 on 5 and 26 DF,  p-value: 4.81e-10\n"
      ]
     },
     "metadata": {},
     "output_type": "display_data"
    },
    {
     "data": {
      "text/html": [
       "2.39169256323991"
      ],
      "text/latex": [
       "2.39169256323991"
      ],
      "text/markdown": [
       "2.39169256323991"
      ],
      "text/plain": [
       "[1] 2.391693"
      ]
     },
     "metadata": {},
     "output_type": "display_data"
    }
   ],
   "source": [
    "summary(mod5) ## Interpretation needed to understand PC's\n",
    "min(mod5$results$RMSE)\n"
   ]
  },
  {
   "cell_type": "code",
   "execution_count": 38,
   "metadata": {},
   "outputs": [
    {
     "data": {
      "text/plain": [
       "\n",
       "      yes        no \n",
       "0.1449145 0.8550855 "
      ]
     },
     "metadata": {},
     "output_type": "display_data"
    }
   ],
   "source": [
    "## Testing several model with caret\n",
    "\n",
    "library(caret)\n",
    "library(C50)\n",
    "data(churn)\n",
    "table(churnTrain$churn) / nrow(churnTrain)"
   ]
  },
  {
   "cell_type": "code",
   "execution_count": 39,
   "metadata": {},
   "outputs": [],
   "source": [
    "# Create train/test indexes\n",
    "set.seed(42)\n",
    "myFolds <- createFolds(churnTrain$churn, k = 5) ## In order to have all models trained on the same folds of data"
   ]
  },
  {
   "cell_type": "code",
   "execution_count": 40,
   "metadata": {},
   "outputs": [
    {
     "data": {
      "text/plain": [
       "\n",
       "      yes        no \n",
       "0.1441441 0.8558559 "
      ]
     },
     "metadata": {},
     "output_type": "display_data"
    }
   ],
   "source": [
    "i <- myFolds$Fold1\n",
    "table(churnTrain$churn[i]) / length(i)"
   ]
  },
  {
   "cell_type": "code",
   "execution_count": 41,
   "metadata": {},
   "outputs": [],
   "source": [
    "myControl <- trainControl(\n",
    "  summaryFunction = twoClassSummary,\n",
    "  classProbs = TRUE,\n",
    "  verboseIter = TRUE,\n",
    "  savePredictions = TRUE,\n",
    "  index = myFolds\n",
    ")"
   ]
  },
  {
   "cell_type": "code",
   "execution_count": 42,
   "metadata": {},
   "outputs": [
    {
     "name": "stdout",
     "output_type": "stream",
     "text": [
      "+ Fold1: alpha=0, lambda=1 \n",
      "- Fold1: alpha=0, lambda=1 \n",
      "+ Fold1: alpha=1, lambda=1 \n",
      "- Fold1: alpha=1, lambda=1 \n",
      "+ Fold2: alpha=0, lambda=1 \n",
      "- Fold2: alpha=0, lambda=1 \n",
      "+ Fold2: alpha=1, lambda=1 \n",
      "- Fold2: alpha=1, lambda=1 \n",
      "+ Fold3: alpha=0, lambda=1 \n",
      "- Fold3: alpha=0, lambda=1 \n",
      "+ Fold3: alpha=1, lambda=1 \n",
      "- Fold3: alpha=1, lambda=1 \n",
      "+ Fold4: alpha=0, lambda=1 \n",
      "- Fold4: alpha=0, lambda=1 \n",
      "+ Fold4: alpha=1, lambda=1 \n",
      "- Fold4: alpha=1, lambda=1 \n",
      "+ Fold5: alpha=0, lambda=1 \n",
      "- Fold5: alpha=0, lambda=1 \n",
      "+ Fold5: alpha=1, lambda=1 \n",
      "- Fold5: alpha=1, lambda=1 \n",
      "Aggregating results\n",
      "Selecting tuning parameters\n",
      "Fitting alpha = 0, lambda = 0.2 on full training set\n"
     ]
    }
   ],
   "source": [
    "set.seed(42)\n",
    "model_glmnet <- train(\n",
    "  churn ~ ., churnTrain,\n",
    "  metric = \"ROC\",\n",
    "  method = \"glmnet\",\n",
    "  tuneGrid = expand.grid(\n",
    "    alpha = 0:1,\n",
    "    lambda = 0:10/10\n",
    "  ),\n",
    "  trControl = myControl\n",
    ")"
   ]
  },
  {
   "cell_type": "code",
   "execution_count": 43,
   "metadata": {},
   "outputs": [
    {
     "data": {},
     "metadata": {},
     "output_type": "display_data"
    },
    {
     "data": {
      "image/png": "[encoded data removed]",
      "text/plain": [
       "plot without title"
      ]
     },
     "metadata": {},
     "output_type": "display_data"
    }
   ],
   "source": [
    "# Plot the results\n",
    "plot(model_glmnet)"
   ]
  },
  {
   "cell_type": "code",
   "execution_count": 44,
   "metadata": {},
   "outputs": [
    {
     "data": {
      "image/png": "[encoded data removed]",
      "text/plain": [
       "plot without title"
      ]
     },
     "metadata": {},
     "output_type": "display_data"
    }
   ],
   "source": [
    "plot(model_glmnet$finalModel)"
   ]
  },
  {
   "cell_type": "code",
   "execution_count": 48,
   "metadata": {},
   "outputs": [
    {
     "name": "stderr",
     "output_type": "stream",
     "text": [
      "Loading required package: e1071\n"
     ]
    },
    {
     "name": "stdout",
     "output_type": "stream",
     "text": [
      "+ Fold1: mtry= 2 \n",
      "- Fold1: mtry= 2 \n",
      "+ Fold1: mtry=35 \n",
      "- Fold1: mtry=35 \n",
      "+ Fold1: mtry=69 \n",
      "- Fold1: mtry=69 \n",
      "+ Fold2: mtry= 2 \n",
      "- Fold2: mtry= 2 \n",
      "+ Fold2: mtry=35 \n",
      "- Fold2: mtry=35 \n",
      "+ Fold2: mtry=69 \n",
      "- Fold2: mtry=69 \n",
      "+ Fold3: mtry= 2 \n",
      "- Fold3: mtry= 2 \n",
      "+ Fold3: mtry=35 \n",
      "- Fold3: mtry=35 \n",
      "+ Fold3: mtry=69 \n",
      "- Fold3: mtry=69 \n",
      "+ Fold4: mtry= 2 \n",
      "- Fold4: mtry= 2 \n",
      "+ Fold4: mtry=35 \n",
      "- Fold4: mtry=35 \n",
      "+ Fold4: mtry=69 \n",
      "- Fold4: mtry=69 \n",
      "+ Fold5: mtry= 2 \n",
      "- Fold5: mtry= 2 \n",
      "+ Fold5: mtry=35 \n",
      "- Fold5: mtry=35 \n",
      "+ Fold5: mtry=69 \n",
      "- Fold5: mtry=69 \n",
      "Aggregating results\n",
      "Selecting tuning parameters\n",
      "Fitting mtry = 69 on full training set\n"
     ]
    },
    {
     "data": {},
     "metadata": {},
     "output_type": "display_data"
    },
    {
     "data": {
      "image/png": "[encoded data removed]",
      "text/plain": [
       "plot without title"
      ]
     },
     "metadata": {},
     "output_type": "display_data"
    }
   ],
   "source": [
    "set.seed(42)\n",
    "churnTrain$churn <- factor(churnTrain$churn, levels = c(\"no\", \"yes\"))\n",
    "model_rf <- train(\n",
    "  churn ~ ., churnTrain,\n",
    "  metric = \"ROC\",\n",
    "  method = \"ranger\",\n",
    "  trControl = myControl\n",
    ")\n",
    "\n",
    "plot(model_rf)"
   ]
  },
  {
   "cell_type": "code",
   "execution_count": 49,
   "metadata": {},
   "outputs": [],
   "source": [
    "# Make a list\n",
    "model_list <- list(\n",
    "  glmnet = model_glmnet,\n",
    "  rf = model_rf\n",
    ")"
   ]
  },
  {
   "cell_type": "code",
   "execution_count": 50,
   "metadata": {},
   "outputs": [
    {
     "data": {
      "text/plain": [
       "\n",
       "Call:\n",
       "resamples.default(x = model_list)\n",
       "\n",
       "Models: glmnet, rf \n",
       "Number of resamples: 5 \n",
       "Performance metrics: ROC, Sens, Spec \n",
       "Time estimates for: everything, final model fit "
      ]
     },
     "metadata": {},
     "output_type": "display_data"
    }
   ],
   "source": [
    "# Collect resamples from the CV folds\n",
    "resamps <- resamples(model_list)\n",
    "resamps"
   ]
  },
  {
   "cell_type": "code",
   "execution_count": 51,
   "metadata": {},
   "outputs": [
    {
     "data": {
      "text/plain": [
       "\n",
       "Call:\n",
       "summary.resamples(object = resamps)\n",
       "\n",
       "Models: glmnet, rf \n",
       "Number of resamples: 5 \n",
       "\n",
       "ROC \n",
       "         Min. 1st Qu. Median   Mean 3rd Qu.   Max. NA's\n",
       "glmnet 0.7526  0.7624 0.7719 0.7686  0.7722 0.7840    0\n",
       "rf     0.8961  0.9015 0.9077 0.9063  0.9112 0.9153    0\n",
       "\n",
       "Sens \n",
       "          Min. 1st Qu.  Median    Mean 3rd Qu.    Max. NA's\n",
       "glmnet 0.01036 0.01295 0.01809 0.01759 0.01813 0.02842    0\n",
       "rf     0.97680 0.97810 0.98110 0.98110 0.98250 0.98680    0\n",
       "\n",
       "Spec \n",
       "         Min. 1st Qu. Median   Mean 3rd Qu.   Max. NA's\n",
       "glmnet 0.9991  0.9991 1.0000 0.9996  1.0000 1.0000    0\n",
       "rf     0.6166  0.6580 0.6606 0.6739  0.7003 0.7339    0\n"
      ]
     },
     "metadata": {},
     "output_type": "display_data"
    }
   ],
   "source": [
    "summary(resamps)"
   ]
  },
  {
   "cell_type": "code",
   "execution_count": 52,
   "metadata": {},
   "outputs": [
    {
     "data": {},
     "metadata": {},
     "output_type": "display_data"
    },
    {
     "data": {
      "image/png": "[encoded data removed]",
      "text/plain": [
       "plot without title"
      ]
     },
     "metadata": {},
     "output_type": "display_data"
    }
   ],
   "source": [
    "bwplot(resamps, metric = \"ROC\")"
   ]
  },
  {
   "cell_type": "code",
   "execution_count": 53,
   "metadata": {},
   "outputs": [
    {
     "data": {},
     "metadata": {},
     "output_type": "display_data"
    },
    {
     "data": {
      "image/png": "[encoded data removed]",
      "text/plain": [
       "plot without title"
      ]
     },
     "metadata": {},
     "output_type": "display_data"
    }
   ],
   "source": [
    "dotplot(resamps, metric = \"ROC\")"
   ]
  },
  {
   "cell_type": "code",
   "execution_count": 54,
   "metadata": {},
   "outputs": [
    {
     "data": {},
     "metadata": {},
     "output_type": "display_data"
    },
    {
     "data": {
      "image/png": "[encoded data removed]",
      "text/plain": [
       "plot without title"
      ]
     },
     "metadata": {},
     "output_type": "display_data"
    }
   ],
   "source": [
    "densityplot(resamps, metric = \"ROC\")"
   ]
  },
  {
   "cell_type": "code",
   "execution_count": 55,
   "metadata": {},
   "outputs": [
    {
     "data": {},
     "metadata": {},
     "output_type": "display_data"
    },
    {
     "data": {
      "image/png": "[encoded data removed]",
      "text/plain": [
       "plot without title"
      ]
     },
     "metadata": {},
     "output_type": "display_data"
    }
   ],
   "source": [
    "xyplot(resamps, metric = \"ROC\")"
   ]
  },
  {
   "cell_type": "code",
   "execution_count": null,
   "metadata": {},
   "outputs": [],
   "source": []
  }
 ],
 "metadata": {
  "kernelspec": {
   "display_name": "R 3.3",
   "language": "R",
   "name": "ir33"
  },
  "language_info": {
   "codemirror_mode": "r",
   "file_extension": ".r",
   "mimetype": "text/x-r-source",
   "name": "R",
   "pygments_lexer": "r",
   "version": "3.3.3"
  }
 },
 "nbformat": 4,
 "nbformat_minor": 2
}
