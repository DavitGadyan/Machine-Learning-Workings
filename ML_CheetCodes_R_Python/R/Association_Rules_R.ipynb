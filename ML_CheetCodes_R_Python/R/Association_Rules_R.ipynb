{
 "cells": [
  {
   "cell_type": "code",
   "execution_count": 8,
   "metadata": {},
   "outputs": [
    {
     "name": "stderr",
     "output_type": "stream",
     "text": [
      "Loading required package: Matrix\n",
      "\n",
      "Attaching package: 'arules'\n",
      "\n",
      "The following objects are masked from 'package:base':\n",
      "\n",
      "    abbreviate, write\n",
      "\n",
      "Loading required package: grid\n"
     ]
    }
   ],
   "source": [
    "library(arules)\n",
    "library(arulesViz)"
   ]
  },
  {
   "cell_type": "code",
   "execution_count": 4,
   "metadata": {},
   "outputs": [
    {
     "data": {
      "text/html": [
       "<table>\n",
       "<thead><tr><th scope=col>Transaction</th><th scope=col>Red</th><th scope=col>White</th><th scope=col>Blue</th><th scope=col>Orange</th><th scope=col>Green</th><th scope=col>Yellow</th></tr></thead>\n",
       "<tbody>\n",
       "\t<tr><td>1</td><td>1</td><td>1</td><td>0</td><td>0</td><td>1</td><td>0</td></tr>\n",
       "\t<tr><td>2</td><td>0</td><td>1</td><td>0</td><td>1</td><td>0</td><td>0</td></tr>\n",
       "\t<tr><td>3</td><td>0</td><td>1</td><td>1</td><td>0</td><td>0</td><td>0</td></tr>\n",
       "\t<tr><td>4</td><td>1</td><td>1</td><td>0</td><td>1</td><td>0</td><td>0</td></tr>\n",
       "\t<tr><td>5</td><td>1</td><td>0</td><td>1</td><td>0</td><td>0</td><td>0</td></tr>\n",
       "\t<tr><td>6</td><td>0</td><td>1</td><td>1</td><td>0</td><td>0</td><td>0</td></tr>\n",
       "</tbody>\n",
       "</table>\n"
      ],
      "text/latex": [
       "\\begin{tabular}{r|lllllll}\n",
       " Transaction & Red & White & Blue & Orange & Green & Yellow\\\\\n",
       "\\hline\n",
       "\t 1 & 1 & 1 & 0 & 0 & 1 & 0\\\\\n",
       "\t 2 & 0 & 1 & 0 & 1 & 0 & 0\\\\\n",
       "\t 3 & 0 & 1 & 1 & 0 & 0 & 0\\\\\n",
       "\t 4 & 1 & 1 & 0 & 1 & 0 & 0\\\\\n",
       "\t 5 & 1 & 0 & 1 & 0 & 0 & 0\\\\\n",
       "\t 6 & 0 & 1 & 1 & 0 & 0 & 0\\\\\n",
       "\\end{tabular}\n"
      ],
      "text/markdown": [
       "\n",
       "Transaction | Red | White | Blue | Orange | Green | Yellow | \n",
       "|---|---|---|---|---|---|\n",
       "| 1 | 1 | 1 | 0 | 0 | 1 | 0 | \n",
       "| 2 | 0 | 1 | 0 | 1 | 0 | 0 | \n",
       "| 3 | 0 | 1 | 1 | 0 | 0 | 0 | \n",
       "| 4 | 1 | 1 | 0 | 1 | 0 | 0 | \n",
       "| 5 | 1 | 0 | 1 | 0 | 0 | 0 | \n",
       "| 6 | 0 | 1 | 1 | 0 | 0 | 0 | \n",
       "\n",
       "\n"
      ],
      "text/plain": [
       "  Transaction Red White Blue Orange Green Yellow\n",
       "1 1           1   1     0    0      1     0     \n",
       "2 2           0   1     0    1      0     0     \n",
       "3 3           0   1     1    0      0     0     \n",
       "4 4           1   1     0    1      0     0     \n",
       "5 5           1   0     1    0      0     0     \n",
       "6 6           0   1     1    0      0     0     "
      ]
     },
     "metadata": {},
     "output_type": "display_data"
    }
   ],
   "source": [
    "faceplate1<-read.csv('C:\\\\Users\\\\Gaya\\\\Desktop\\\\R\\\\Data mining\\\\final\\\\faceplate.csv')\n",
    "\n",
    "head(faceplate1)"
   ]
  },
  {
   "cell_type": "code",
   "execution_count": 9,
   "metadata": {},
   "outputs": [],
   "source": [
    "# Transforming data frame object into matrix object\n",
    "\n",
    "faceplate<-as.matrix(faceplate1[,-1])"
   ]
  },
  {
   "cell_type": "code",
   "execution_count": 10,
   "metadata": {},
   "outputs": [
    {
     "name": "stdout",
     "output_type": "stream",
     "text": [
      "     items                 \n",
      "[1]  {Red,White,Green}     \n",
      "[2]  {White,Orange}        \n",
      "[3]  {White,Blue}          \n",
      "[4]  {Red,White,Orange}    \n",
      "[5]  {Red,Blue}            \n",
      "[6]  {White,Blue}          \n",
      "[7]  {Red,Blue}            \n",
      "[8]  {Red,White,Blue,Green}\n",
      "[9]  {Red,White,Blue}      \n",
      "[10] {Yellow}              \n"
     ]
    }
   ],
   "source": [
    "# Transforming matrix object into transaction object\n",
    "\n",
    "txn<-as(faceplate,'transactions')\n",
    "\n",
    "inspect(txn)"
   ]
  },
  {
   "cell_type": "code",
   "execution_count": 11,
   "metadata": {},
   "outputs": [
    {
     "data": {
      "image/png": "[encoded data removed]",
      "text/plain": [
       "plot without title"
      ]
     },
     "metadata": {},
     "output_type": "display_data"
    }
   ],
   "source": [
    "itemFrequencyPlot(txn)"
   ]
  },
  {
   "cell_type": "code",
   "execution_count": 12,
   "metadata": {},
   "outputs": [
    {
     "name": "stdout",
     "output_type": "stream",
     "text": [
      "Apriori\n",
      "\n",
      "Parameter specification:\n",
      " confidence minval smax arem  aval originalSupport maxtime support minlen\n",
      "      0.001    0.1    1 none FALSE            TRUE       5   0.001      2\n",
      " maxlen target   ext\n",
      "      2  rules FALSE\n",
      "\n",
      "Algorithmic control:\n",
      " filter tree heap memopt load sort verbose\n",
      "    0.1 TRUE TRUE  FALSE TRUE    2    TRUE\n",
      "\n",
      "Absolute minimum support count: 0 \n",
      "\n",
      "set item appearances ...[0 item(s)] done [0.00s].\n",
      "set transactions ...[6 item(s), 10 transaction(s)] done [0.00s].\n",
      "sorting and recoding items ... [6 item(s)] done [0.00s].\n",
      "creating transaction tree ... done [0.00s].\n",
      "checking subsets of size 1 2"
     ]
    },
    {
     "name": "stderr",
     "output_type": "stream",
     "text": [
      "Warning message in apriori(txn, parameter = list(minlen = 2, maxlen = 2, supp = 0.001, :\n",
      "\"Mining stopped (maxlen reached). Only patterns up to a length of 2 returned!\""
     ]
    },
    {
     "name": "stdout",
     "output_type": "stream",
     "text": [
      " done [0.01s].\n",
      "writing ... [16 rule(s)] done [0.00s].\n",
      "creating S4 object  ... done [0.00s].\n",
      "     lhs         rhs      support confidence lift     \n",
      "[1]  {Orange} => {Red}    0.1     0.5000000  0.8333333\n",
      "[2]  {Red}    => {Orange} 0.1     0.1666667  0.8333333\n",
      "[3]  {Orange} => {White}  0.2     1.0000000  1.4285714\n",
      "[4]  {White}  => {Orange} 0.2     0.2857143  1.4285714\n",
      "[5]  {Green}  => {Blue}   0.1     0.5000000  0.8333333\n",
      "[6]  {Blue}   => {Green}  0.1     0.1666667  0.8333333\n",
      "[7]  {Green}  => {Red}    0.2     1.0000000  1.6666667\n",
      "[8]  {Red}    => {Green}  0.2     0.3333333  1.6666667\n",
      "[9]  {Green}  => {White}  0.2     1.0000000  1.4285714\n",
      "[10] {White}  => {Green}  0.2     0.2857143  1.4285714\n",
      "[11] {Blue}   => {Red}    0.4     0.6666667  1.1111111\n",
      "[12] {Red}    => {Blue}   0.4     0.6666667  1.1111111\n",
      "[13] {Blue}   => {White}  0.4     0.6666667  0.9523810\n",
      "[14] {White}  => {Blue}   0.4     0.5714286  0.9523810\n",
      "[15] {Red}    => {White}  0.4     0.6666667  0.9523810\n",
      "[16] {White}  => {Red}    0.4     0.5714286  0.9523810\n"
     ]
    }
   ],
   "source": [
    "rules<-apriori(txn,parameter = list(minlen=2,maxlen=2,\n",
    "                                    supp=0.001,conf=0.001))\n",
    "inspect(rules)"
   ]
  },
  {
   "cell_type": "code",
   "execution_count": 13,
   "metadata": {},
   "outputs": [
    {
     "name": "stdout",
     "output_type": "stream",
     "text": [
      "     lhs         rhs      support confidence lift     \n",
      "[1]  {Blue}   => {Red}    0.4     0.6666667  1.1111111\n",
      "[2]  {Red}    => {Blue}   0.4     0.6666667  1.1111111\n",
      "[3]  {Blue}   => {White}  0.4     0.6666667  0.9523810\n",
      "[4]  {White}  => {Blue}   0.4     0.5714286  0.9523810\n",
      "[5]  {Red}    => {White}  0.4     0.6666667  0.9523810\n",
      "[6]  {White}  => {Red}    0.4     0.5714286  0.9523810\n",
      "[7]  {Orange} => {White}  0.2     1.0000000  1.4285714\n",
      "[8]  {White}  => {Orange} 0.2     0.2857143  1.4285714\n",
      "[9]  {Green}  => {Red}    0.2     1.0000000  1.6666667\n",
      "[10] {Red}    => {Green}  0.2     0.3333333  1.6666667\n",
      "[11] {Green}  => {White}  0.2     1.0000000  1.4285714\n",
      "[12] {White}  => {Green}  0.2     0.2857143  1.4285714\n",
      "[13] {Orange} => {Red}    0.1     0.5000000  0.8333333\n",
      "[14] {Red}    => {Orange} 0.1     0.1666667  0.8333333\n",
      "[15] {Green}  => {Blue}   0.1     0.5000000  0.8333333\n",
      "[16] {Blue}   => {Green}  0.1     0.1666667  0.8333333\n"
     ]
    }
   ],
   "source": [
    "rules_s<-sort(rules,by='support')\n",
    "inspect(rules_s)"
   ]
  },
  {
   "cell_type": "code",
   "execution_count": 14,
   "metadata": {},
   "outputs": [
    {
     "data": {
      "text/html": [
       "<table>\n",
       "<thead><tr><th scope=col>rules</th><th scope=col>support</th><th scope=col>confidence</th><th scope=col>lift</th></tr></thead>\n",
       "<tbody>\n",
       "\t<tr><td>{Orange} =&gt; {Red}</td><td>0.1                 </td><td>0.5                 </td><td>0.8333333           </td></tr>\n",
       "</tbody>\n",
       "</table>\n"
      ],
      "text/latex": [
       "\\begin{tabular}{r|llll}\n",
       " rules & support & confidence & lift\\\\\n",
       "\\hline\n",
       "\t \\{Orange\\} => \\{Red\\} & 0.1                       & 0.5                       & 0.8333333                \\\\\n",
       "\\end{tabular}\n"
      ],
      "text/markdown": [
       "\n",
       "rules | support | confidence | lift | \n",
       "|---|\n",
       "| {Orange} => {Red} | 0.1               | 0.5               | 0.8333333         | \n",
       "\n",
       "\n"
      ],
      "text/plain": [
       "  rules             support confidence lift     \n",
       "1 {Orange} => {Red} 0.1     0.5        0.8333333"
      ]
     },
     "metadata": {},
     "output_type": "display_data"
    }
   ],
   "source": [
    "rules_df<-as(rules,'data.frame')\n",
    "rules_df[1,]"
   ]
  },
  {
   "cell_type": "code",
   "execution_count": 15,
   "metadata": {},
   "outputs": [
    {
     "data": {
      "text/plain": [
       "   \n",
       "    0 1\n",
       "  0 3 5\n",
       "  1 1 1"
      ]
     },
     "metadata": {},
     "output_type": "display_data"
    },
    {
     "data": {
      "text/html": [
       "0.111111111111111"
      ],
      "text/latex": [
       "0.111111111111111"
      ],
      "text/markdown": [
       "0.111111111111111"
      ],
      "text/plain": [
       "[1] 0.1111111"
      ]
     },
     "metadata": {},
     "output_type": "display_data"
    }
   ],
   "source": [
    "# Calcualting support by hand\n",
    "\n",
    "table(faceplate1$Orange,faceplate1$Red)\n",
    "\n",
    "1/(3+5+1)"
   ]
  },
  {
   "cell_type": "code",
   "execution_count": 16,
   "metadata": {},
   "outputs": [
    {
     "data": {
      "text/html": [
       "<table>\n",
       "<thead><tr><th scope=col>rules</th><th scope=col>support</th><th scope=col>confidence</th><th scope=col>lift</th></tr></thead>\n",
       "<tbody>\n",
       "\t<tr><td>{Orange} =&gt; {Red}</td><td>0.1                 </td><td>0.5                 </td><td>0.8333333           </td></tr>\n",
       "</tbody>\n",
       "</table>\n"
      ],
      "text/latex": [
       "\\begin{tabular}{r|llll}\n",
       " rules & support & confidence & lift\\\\\n",
       "\\hline\n",
       "\t \\{Orange\\} => \\{Red\\} & 0.1                       & 0.5                       & 0.8333333                \\\\\n",
       "\\end{tabular}\n"
      ],
      "text/markdown": [
       "\n",
       "rules | support | confidence | lift | \n",
       "|---|\n",
       "| {Orange} => {Red} | 0.1               | 0.5               | 0.8333333         | \n",
       "\n",
       "\n"
      ],
      "text/plain": [
       "  rules             support confidence lift     \n",
       "1 {Orange} => {Red} 0.1     0.5        0.8333333"
      ]
     },
     "metadata": {},
     "output_type": "display_data"
    },
    {
     "data": {
      "text/plain": [
       "   \n",
       "        0     1\n",
       "  0 0.375 0.625\n",
       "  1 0.500 0.500"
      ]
     },
     "metadata": {},
     "output_type": "display_data"
    }
   ],
   "source": [
    "# Calculating confidence by hand\n",
    "rules_df[1,]\n",
    "\n",
    "# confidence= P(Red|Orange)=(P(Red)*P(Orange|Red))/P(Orange)=P(Red and Orange)/P(Orange)\n",
    "\n",
    "prop.table(table(faceplate1$Orange,faceplate1$Red),1) #0.5"
   ]
  },
  {
   "cell_type": "code",
   "execution_count": 17,
   "metadata": {},
   "outputs": [
    {
     "data": {
      "text/plain": [
       "\n",
       "0 1 \n",
       "4 6 "
      ]
     },
     "metadata": {},
     "output_type": "display_data"
    },
    {
     "data": {
      "text/plain": [
       "   \n",
       "        0     1\n",
       "  0 0.375 0.625\n",
       "  1 0.500 0.500"
      ]
     },
     "metadata": {},
     "output_type": "display_data"
    },
    {
     "data": {
      "text/html": [
       "0.833333333333333"
      ],
      "text/latex": [
       "0.833333333333333"
      ],
      "text/markdown": [
       "0.833333333333333"
      ],
      "text/plain": [
       "[1] 0.8333333"
      ]
     },
     "metadata": {},
     "output_type": "display_data"
    }
   ],
   "source": [
    "# Calcualting lift by hand\n",
    "# Lift=P(Red|Orange)/P(Red)=1/2 / 6/10=0.5/0.6\n",
    "\n",
    "table(faceplate1$Red)\n",
    "\n",
    "prop.table(table(faceplate1$Orange,faceplate1$Red),1)\n",
    "\n",
    "0.5/0.6"
   ]
  },
  {
   "cell_type": "code",
   "execution_count": 18,
   "metadata": {},
   "outputs": [
    {
     "name": "stdout",
     "output_type": "stream",
     "text": [
      "Apriori\n",
      "\n",
      "Parameter specification:\n",
      " confidence minval smax arem  aval originalSupport maxtime support minlen\n",
      "      0.001    0.1    1 none FALSE            TRUE       5   0.001      1\n",
      " maxlen target   ext\n",
      "     10  rules FALSE\n",
      "\n",
      "Algorithmic control:\n",
      " filter tree heap memopt load sort verbose\n",
      "    0.1 TRUE TRUE  FALSE TRUE    2    TRUE\n",
      "\n",
      "Absolute minimum support count: 0 \n",
      "\n",
      "set item appearances ...[0 item(s)] done [0.00s].\n",
      "set transactions ...[6 item(s), 10 transaction(s)] done [0.00s].\n",
      "sorting and recoding items ... [6 item(s)] done [0.00s].\n",
      "creating transaction tree ... done [0.00s].\n",
      "checking subsets of size 1 2 3 4 done [0.00s].\n",
      "writing ... [41 rule(s)] done [0.00s].\n",
      "creating S4 object  ... done [0.00s].\n",
      "     lhs                   rhs      support confidence lift     \n",
      "[1]  {}                 => {Yellow} 0.1     0.1000000  1.0000000\n",
      "[2]  {}                 => {Orange} 0.2     0.2000000  1.0000000\n",
      "[3]  {}                 => {Green}  0.2     0.2000000  1.0000000\n",
      "[4]  {}                 => {Blue}   0.6     0.6000000  1.0000000\n",
      "[5]  {}                 => {Red}    0.6     0.6000000  1.0000000\n",
      "[6]  {}                 => {White}  0.7     0.7000000  1.0000000\n",
      "[7]  {Orange}           => {Red}    0.1     0.5000000  0.8333333\n",
      "[8]  {Red}              => {Orange} 0.1     0.1666667  0.8333333\n",
      "[9]  {Orange}           => {White}  0.2     1.0000000  1.4285714\n",
      "[10] {White}            => {Orange} 0.2     0.2857143  1.4285714\n",
      "[11] {Green}            => {Blue}   0.1     0.5000000  0.8333333\n",
      "[12] {Blue}             => {Green}  0.1     0.1666667  0.8333333\n",
      "[13] {Green}            => {Red}    0.2     1.0000000  1.6666667\n",
      "[14] {Red}              => {Green}  0.2     0.3333333  1.6666667\n",
      "[15] {Green}            => {White}  0.2     1.0000000  1.4285714\n",
      "[16] {White}            => {Green}  0.2     0.2857143  1.4285714\n",
      "[17] {Blue}             => {Red}    0.4     0.6666667  1.1111111\n",
      "[18] {Red}              => {Blue}   0.4     0.6666667  1.1111111\n",
      "[19] {Blue}             => {White}  0.4     0.6666667  0.9523810\n",
      "[20] {White}            => {Blue}   0.4     0.5714286  0.9523810\n",
      "[21] {Red}              => {White}  0.4     0.6666667  0.9523810\n",
      "[22] {White}            => {Red}    0.4     0.5714286  0.9523810\n",
      "[23] {Red,Orange}       => {White}  0.1     1.0000000  1.4285714\n",
      "[24] {White,Orange}     => {Red}    0.1     0.5000000  0.8333333\n",
      "[25] {Red,White}        => {Orange} 0.1     0.2500000  1.2500000\n",
      "[26] {Blue,Green}       => {Red}    0.1     1.0000000  1.6666667\n",
      "[27] {Red,Green}        => {Blue}   0.1     0.5000000  0.8333333\n",
      "[28] {Red,Blue}         => {Green}  0.1     0.2500000  1.2500000\n",
      "[29] {Blue,Green}       => {White}  0.1     1.0000000  1.4285714\n",
      "[30] {White,Green}      => {Blue}   0.1     0.5000000  0.8333333\n",
      "[31] {White,Blue}       => {Green}  0.1     0.2500000  1.2500000\n",
      "[32] {Red,Green}        => {White}  0.2     1.0000000  1.4285714\n",
      "[33] {White,Green}      => {Red}    0.2     1.0000000  1.6666667\n",
      "[34] {Red,White}        => {Green}  0.2     0.5000000  2.5000000\n",
      "[35] {Red,Blue}         => {White}  0.2     0.5000000  0.7142857\n",
      "[36] {White,Blue}       => {Red}    0.2     0.5000000  0.8333333\n",
      "[37] {Red,White}        => {Blue}   0.2     0.5000000  0.8333333\n",
      "[38] {Red,Blue,Green}   => {White}  0.1     1.0000000  1.4285714\n",
      "[39] {White,Blue,Green} => {Red}    0.1     1.0000000  1.6666667\n",
      "[40] {Red,White,Green}  => {Blue}   0.1     0.5000000  0.8333333\n",
      "[41] {Red,White,Blue}   => {Green}  0.1     0.5000000  2.5000000\n"
     ]
    }
   ],
   "source": [
    "## Let's ease the rules by taking out minlen and maxlen\n",
    "\n",
    "rules1<-apriori(txn,parameter = list(supp=0.001,conf=0.001))\n",
    "\n",
    "inspect(rules1)"
   ]
  },
  {
   "cell_type": "code",
   "execution_count": 19,
   "metadata": {},
   "outputs": [
    {
     "name": "stdout",
     "output_type": "stream",
     "text": [
      "Apriori\n",
      "\n",
      "Parameter specification:\n",
      " confidence minval smax arem  aval originalSupport maxtime support minlen\n",
      "      0.001    0.1    1 none FALSE            TRUE       5   0.001      2\n",
      " maxlen target   ext\n",
      "     10  rules FALSE\n",
      "\n",
      "Algorithmic control:\n",
      " filter tree heap memopt load sort verbose\n",
      "    0.1 TRUE TRUE  FALSE TRUE    2    TRUE\n",
      "\n",
      "Absolute minimum support count: 0 \n",
      "\n",
      "set item appearances ...[0 item(s)] done [0.00s].\n",
      "set transactions ...[6 item(s), 10 transaction(s)] done [0.00s].\n",
      "sorting and recoding items ... [6 item(s)] done [0.00s].\n",
      "creating transaction tree ... done [0.00s].\n",
      "checking subsets of size 1 2 3 4 done [0.00s].\n",
      "writing ... [35 rule(s)] done [0.00s].\n",
      "creating S4 object  ... done [0.00s].\n",
      "     lhs                   rhs      support confidence lift     \n",
      "[1]  {Orange}           => {Red}    0.1     0.5000000  0.8333333\n",
      "[2]  {Red}              => {Orange} 0.1     0.1666667  0.8333333\n",
      "[3]  {Orange}           => {White}  0.2     1.0000000  1.4285714\n",
      "[4]  {White}            => {Orange} 0.2     0.2857143  1.4285714\n",
      "[5]  {Green}            => {Blue}   0.1     0.5000000  0.8333333\n",
      "[6]  {Blue}             => {Green}  0.1     0.1666667  0.8333333\n",
      "[7]  {Green}            => {Red}    0.2     1.0000000  1.6666667\n",
      "[8]  {Red}              => {Green}  0.2     0.3333333  1.6666667\n",
      "[9]  {Green}            => {White}  0.2     1.0000000  1.4285714\n",
      "[10] {White}            => {Green}  0.2     0.2857143  1.4285714\n",
      "[11] {Blue}             => {Red}    0.4     0.6666667  1.1111111\n",
      "[12] {Red}              => {Blue}   0.4     0.6666667  1.1111111\n",
      "[13] {Blue}             => {White}  0.4     0.6666667  0.9523810\n",
      "[14] {White}            => {Blue}   0.4     0.5714286  0.9523810\n",
      "[15] {Red}              => {White}  0.4     0.6666667  0.9523810\n",
      "[16] {White}            => {Red}    0.4     0.5714286  0.9523810\n",
      "[17] {Red,Orange}       => {White}  0.1     1.0000000  1.4285714\n",
      "[18] {White,Orange}     => {Red}    0.1     0.5000000  0.8333333\n",
      "[19] {Red,White}        => {Orange} 0.1     0.2500000  1.2500000\n",
      "[20] {Blue,Green}       => {Red}    0.1     1.0000000  1.6666667\n",
      "[21] {Red,Green}        => {Blue}   0.1     0.5000000  0.8333333\n",
      "[22] {Red,Blue}         => {Green}  0.1     0.2500000  1.2500000\n",
      "[23] {Blue,Green}       => {White}  0.1     1.0000000  1.4285714\n",
      "[24] {White,Green}      => {Blue}   0.1     0.5000000  0.8333333\n",
      "[25] {White,Blue}       => {Green}  0.1     0.2500000  1.2500000\n",
      "[26] {Red,Green}        => {White}  0.2     1.0000000  1.4285714\n",
      "[27] {White,Green}      => {Red}    0.2     1.0000000  1.6666667\n",
      "[28] {Red,White}        => {Green}  0.2     0.5000000  2.5000000\n",
      "[29] {Red,Blue}         => {White}  0.2     0.5000000  0.7142857\n",
      "[30] {White,Blue}       => {Red}    0.2     0.5000000  0.8333333\n",
      "[31] {Red,White}        => {Blue}   0.2     0.5000000  0.8333333\n",
      "[32] {Red,Blue,Green}   => {White}  0.1     1.0000000  1.4285714\n",
      "[33] {White,Blue,Green} => {Red}    0.1     1.0000000  1.6666667\n",
      "[34] {Red,White,Green}  => {Blue}   0.1     0.5000000  0.8333333\n",
      "[35] {Red,White,Blue}   => {Green}  0.1     0.5000000  2.5000000\n"
     ]
    }
   ],
   "source": [
    "rules1<-apriori(txn,parameter = list(minlen=2,supp=0.001,conf=0.001))\n",
    "\n",
    "inspect(rules1)"
   ]
  },
  {
   "cell_type": "code",
   "execution_count": 20,
   "metadata": {},
   "outputs": [
    {
     "name": "stdout",
     "output_type": "stream",
     "text": [
      "     lhs                   rhs      support confidence lift     \n",
      "[1]  {Blue}             => {Red}    0.4     0.6666667  1.1111111\n",
      "[2]  {Red}              => {Blue}   0.4     0.6666667  1.1111111\n",
      "[3]  {Blue}             => {White}  0.4     0.6666667  0.9523810\n",
      "[4]  {White}            => {Blue}   0.4     0.5714286  0.9523810\n",
      "[5]  {Red}              => {White}  0.4     0.6666667  0.9523810\n",
      "[6]  {White}            => {Red}    0.4     0.5714286  0.9523810\n",
      "[7]  {Orange}           => {White}  0.2     1.0000000  1.4285714\n",
      "[8]  {White}            => {Orange} 0.2     0.2857143  1.4285714\n",
      "[9]  {Green}            => {Red}    0.2     1.0000000  1.6666667\n",
      "[10] {Red}              => {Green}  0.2     0.3333333  1.6666667\n",
      "[11] {Green}            => {White}  0.2     1.0000000  1.4285714\n",
      "[12] {White}            => {Green}  0.2     0.2857143  1.4285714\n",
      "[13] {Red,Green}        => {White}  0.2     1.0000000  1.4285714\n",
      "[14] {White,Green}      => {Red}    0.2     1.0000000  1.6666667\n",
      "[15] {Red,White}        => {Green}  0.2     0.5000000  2.5000000\n",
      "[16] {Red,Blue}         => {White}  0.2     0.5000000  0.7142857\n",
      "[17] {White,Blue}       => {Red}    0.2     0.5000000  0.8333333\n",
      "[18] {Red,White}        => {Blue}   0.2     0.5000000  0.8333333\n",
      "[19] {Orange}           => {Red}    0.1     0.5000000  0.8333333\n",
      "[20] {Red}              => {Orange} 0.1     0.1666667  0.8333333\n",
      "[21] {Green}            => {Blue}   0.1     0.5000000  0.8333333\n",
      "[22] {Blue}             => {Green}  0.1     0.1666667  0.8333333\n",
      "[23] {Red,Orange}       => {White}  0.1     1.0000000  1.4285714\n",
      "[24] {White,Orange}     => {Red}    0.1     0.5000000  0.8333333\n",
      "[25] {Red,White}        => {Orange} 0.1     0.2500000  1.2500000\n",
      "[26] {Blue,Green}       => {Red}    0.1     1.0000000  1.6666667\n",
      "[27] {Red,Green}        => {Blue}   0.1     0.5000000  0.8333333\n",
      "[28] {Red,Blue}         => {Green}  0.1     0.2500000  1.2500000\n",
      "[29] {Blue,Green}       => {White}  0.1     1.0000000  1.4285714\n",
      "[30] {White,Green}      => {Blue}   0.1     0.5000000  0.8333333\n",
      "[31] {White,Blue}       => {Green}  0.1     0.2500000  1.2500000\n",
      "[32] {Red,Blue,Green}   => {White}  0.1     1.0000000  1.4285714\n",
      "[33] {White,Blue,Green} => {Red}    0.1     1.0000000  1.6666667\n",
      "[34] {Red,White,Green}  => {Blue}   0.1     0.5000000  0.8333333\n",
      "[35] {Red,White,Blue}   => {Green}  0.1     0.5000000  2.5000000\n"
     ]
    }
   ],
   "source": [
    "rules1_s<-sort(rules1,by='support')\n",
    "inspect(rules1_s)"
   ]
  },
  {
   "cell_type": "code",
   "execution_count": 21,
   "metadata": {},
   "outputs": [
    {
     "name": "stdout",
     "output_type": "stream",
     "text": [
      "     lhs                   rhs      support confidence lift     \n",
      "[1]  {Red,White}        => {Green}  0.2     0.5000000  2.5000000\n",
      "[2]  {Red,White,Blue}   => {Green}  0.1     0.5000000  2.5000000\n",
      "[3]  {Green}            => {Red}    0.2     1.0000000  1.6666667\n",
      "[4]  {Blue,Green}       => {Red}    0.1     1.0000000  1.6666667\n",
      "[5]  {White,Green}      => {Red}    0.2     1.0000000  1.6666667\n",
      "[6]  {White,Blue,Green} => {Red}    0.1     1.0000000  1.6666667\n",
      "[7]  {Red}              => {Green}  0.2     0.3333333  1.6666667\n",
      "[8]  {Orange}           => {White}  0.2     1.0000000  1.4285714\n",
      "[9]  {Green}            => {White}  0.2     1.0000000  1.4285714\n",
      "[10] {Red,Orange}       => {White}  0.1     1.0000000  1.4285714\n",
      "[11] {Blue,Green}       => {White}  0.1     1.0000000  1.4285714\n",
      "[12] {Red,Green}        => {White}  0.2     1.0000000  1.4285714\n",
      "[13] {Red,Blue,Green}   => {White}  0.1     1.0000000  1.4285714\n",
      "[14] {White}            => {Orange} 0.2     0.2857143  1.4285714\n",
      "[15] {White}            => {Green}  0.2     0.2857143  1.4285714\n",
      "[16] {Red,White}        => {Orange} 0.1     0.2500000  1.2500000\n",
      "[17] {Red,Blue}         => {Green}  0.1     0.2500000  1.2500000\n",
      "[18] {White,Blue}       => {Green}  0.1     0.2500000  1.2500000\n",
      "[19] {Blue}             => {Red}    0.4     0.6666667  1.1111111\n",
      "[20] {Red}              => {Blue}   0.4     0.6666667  1.1111111\n",
      "[21] {Blue}             => {White}  0.4     0.6666667  0.9523810\n",
      "[22] {Red}              => {White}  0.4     0.6666667  0.9523810\n",
      "[23] {White}            => {Blue}   0.4     0.5714286  0.9523810\n",
      "[24] {White}            => {Red}    0.4     0.5714286  0.9523810\n",
      "[25] {Orange}           => {Red}    0.1     0.5000000  0.8333333\n",
      "[26] {Green}            => {Blue}   0.1     0.5000000  0.8333333\n",
      "[27] {White,Orange}     => {Red}    0.1     0.5000000  0.8333333\n",
      "[28] {Red,Green}        => {Blue}   0.1     0.5000000  0.8333333\n",
      "[29] {White,Green}      => {Blue}   0.1     0.5000000  0.8333333\n",
      "[30] {White,Blue}       => {Red}    0.2     0.5000000  0.8333333\n",
      "[31] {Red,White}        => {Blue}   0.2     0.5000000  0.8333333\n",
      "[32] {Red,White,Green}  => {Blue}   0.1     0.5000000  0.8333333\n",
      "[33] {Red}              => {Orange} 0.1     0.1666667  0.8333333\n",
      "[34] {Blue}             => {Green}  0.1     0.1666667  0.8333333\n",
      "[35] {Red,Blue}         => {White}  0.2     0.5000000  0.7142857\n"
     ]
    }
   ],
   "source": [
    "rules1_l<-sort(rules1,by='lift')\n",
    "inspect(rules1_l)"
   ]
  },
  {
   "cell_type": "code",
   "execution_count": 22,
   "metadata": {},
   "outputs": [
    {
     "name": "stdout",
     "output_type": "stream",
     "text": [
      "    lhs                   rhs   support confidence lift     \n",
      "[1] {Orange}           => {Red} 0.1     0.5000000  0.8333333\n",
      "[2] {Green}            => {Red} 0.2     1.0000000  1.6666667\n",
      "[3] {Blue}             => {Red} 0.4     0.6666667  1.1111111\n",
      "[4] {White}            => {Red} 0.4     0.5714286  0.9523810\n",
      "[5] {White,Orange}     => {Red} 0.1     0.5000000  0.8333333\n",
      "[6] {Blue,Green}       => {Red} 0.1     1.0000000  1.6666667\n",
      "[7] {White,Green}      => {Red} 0.2     1.0000000  1.6666667\n",
      "[8] {White,Blue}       => {Red} 0.2     0.5000000  0.8333333\n",
      "[9] {White,Blue,Green} => {Red} 0.1     1.0000000  1.6666667\n"
     ]
    }
   ],
   "source": [
    "rules1_r<-subset(rules1, rhs %in% 'Red')\n",
    "inspect(rules1_r)"
   ]
  },
  {
   "cell_type": "code",
   "execution_count": 23,
   "metadata": {},
   "outputs": [
    {
     "name": "stdout",
     "output_type": "stream",
     "text": [
      "     lhs                   rhs      support confidence lift     \n",
      "[1]  {Orange}           => {Red}    0.1     0.5000000  0.8333333\n",
      "[2]  {Orange}           => {White}  0.2     1.0000000  1.4285714\n",
      "[3]  {White}            => {Orange} 0.2     0.2857143  1.4285714\n",
      "[4]  {White}            => {Green}  0.2     0.2857143  1.4285714\n",
      "[5]  {White}            => {Blue}   0.4     0.5714286  0.9523810\n",
      "[6]  {White}            => {Red}    0.4     0.5714286  0.9523810\n",
      "[7]  {Red,Orange}       => {White}  0.1     1.0000000  1.4285714\n",
      "[8]  {White,Orange}     => {Red}    0.1     0.5000000  0.8333333\n",
      "[9]  {Red,White}        => {Orange} 0.1     0.2500000  1.2500000\n",
      "[10] {White,Green}      => {Blue}   0.1     0.5000000  0.8333333\n",
      "[11] {White,Blue}       => {Green}  0.1     0.2500000  1.2500000\n",
      "[12] {White,Green}      => {Red}    0.2     1.0000000  1.6666667\n",
      "[13] {Red,White}        => {Green}  0.2     0.5000000  2.5000000\n",
      "[14] {White,Blue}       => {Red}    0.2     0.5000000  0.8333333\n",
      "[15] {Red,White}        => {Blue}   0.2     0.5000000  0.8333333\n",
      "[16] {White,Blue,Green} => {Red}    0.1     1.0000000  1.6666667\n",
      "[17] {Red,White,Green}  => {Blue}   0.1     0.5000000  0.8333333\n",
      "[18] {Red,White,Blue}   => {Green}  0.1     0.5000000  2.5000000\n"
     ]
    }
   ],
   "source": [
    "# lhs with Orange or White\n",
    "rules_3<-subset(rules1, lhs %in% c('Orange','White'))\n",
    "inspect(rules_3)"
   ]
  },
  {
   "cell_type": "code",
   "execution_count": 24,
   "metadata": {},
   "outputs": [
    {
     "name": "stdout",
     "output_type": "stream",
     "text": [
      "    lhs                  rhs      support confidence lift     \n",
      "[1] {Red,White}       => {Orange} 0.1     0.25       1.2500000\n",
      "[2] {Red,White}       => {Green}  0.2     0.50       2.5000000\n",
      "[3] {Red,White}       => {Blue}   0.2     0.50       0.8333333\n",
      "[4] {Red,White,Green} => {Blue}   0.1     0.50       0.8333333\n",
      "[5] {Red,White,Blue}  => {Green}  0.1     0.50       2.5000000\n"
     ]
    }
   ],
   "source": [
    "# lhs with Orange and White\n",
    "rules_4<-subset(rules1, lhs %ain% c('Red','White'))\n",
    "inspect(rules_4)"
   ]
  },
  {
   "cell_type": "code",
   "execution_count": 30,
   "metadata": {},
   "outputs": [
    {
     "name": "stderr",
     "output_type": "stream",
     "text": [
      "Warning message:\n",
      "\"Unknown control parameters: type\""
     ]
    },
    {
     "name": "stdout",
     "output_type": "stream",
     "text": [
      "Available control parameters (with default values):\n",
      "main\t =  Scatter plot for 16 rules\n",
      "interactive\t =  FALSE\n",
      "pch\t =  19\n",
      "cex\t =  0.5\n",
      "xlim\t =  NULL\n",
      "ylim\t =  NULL\n",
      "zlim\t =  NULL\n",
      "alpha\t =  NULL\n",
      "col\t =  c(\"#EE0000FF\", \"#EE0303FF\", \"#EE0606FF\", \"#EE0909FF\", \"#EE0C0CFF\", \"#EE0F0FFF\", \"#EE1212FF\", \"#EE1515FF\", \"#EE1818FF\", \"#EE1B1BFF\", \"#EE1E1EFF\", \"#EE2222FF\", \"#EE2525FF\", \"#EE2828FF\", \"#EE2B2BFF\", \"#EE2E2EFF\", \"#EE3131FF\", \"#EE3434FF\", \"#EE3737FF\", \"#EE3A3AFF\", \"#EE3D3DFF\", \"#EE4040FF\", \"#EE4444FF\", \"#EE4747FF\", \"#EE4A4AFF\", \"#EE4D4DFF\", \"#EE5050FF\", \"#EE5353FF\", \"#EE5656FF\", \"#EE5959FF\", \"#EE5C5CFF\", \"#EE5F5FFF\", \"#EE6262FF\", \"#EE6666FF\", \"#EE6969FF\", \"#EE6C6CFF\", \"#EE6F6FFF\", \"#EE7272FF\", \"#EE7575FF\",  \"#EE7878FF\", \"#EE7B7BFF\", \"#EE7E7EFF\", \"#EE8181FF\", \"#EE8484FF\", \"#EE8888FF\", \"#EE8B8BFF\", \"#EE8E8EFF\", \"#EE9191FF\", \"#EE9494FF\", \"#EE9797FF\", \"#EE9999FF\", \"#EE9B9BFF\", \"#EE9D9DFF\", \"#EE9F9FFF\", \"#EEA0A0FF\", \"#EEA2A2FF\", \"#EEA4A4FF\", \"#EEA5A5FF\", \"#EEA7A7FF\", \"#EEA9A9FF\", \"#EEABABFF\", \"#EEACACFF\", \"#EEAEAEFF\", \"#EEB0B0FF\", \"#EEB1B1FF\", \"#EEB3B3FF\", \"#EEB5B5FF\", \"#EEB7B7FF\", \"#EEB8B8FF\", \"#EEBABAFF\", \"#EEBCBCFF\", \"#EEBDBDFF\", \"#EEBFBFFF\", \"#EEC1C1FF\", \"#EEC3C3FF\", \"#EEC4C4FF\", \"#EEC6C6FF\", \"#EEC8C8FF\",  \"#EEC9C9FF\", \"#EECBCBFF\", \"#EECDCDFF\", \"#EECFCFFF\", \"#EED0D0FF\", \"#EED2D2FF\", \"#EED4D4FF\", \"#EED5D5FF\", \"#EED7D7FF\", \"#EED9D9FF\", \"#EEDBDBFF\", \"#EEDCDCFF\", \"#EEDEDEFF\", \"#EEE0E0FF\", \"#EEE1E1FF\", \"#EEE3E3FF\", \"#EEE5E5FF\", \"#EEE7E7FF\", \"#EEE8E8FF\", \"#EEEAEAFF\", \"#EEECECFF\", \"#EEEEEEFF\")\n",
      "newpage\t =  TRUE\n",
      "jitter\t =  NA\n",
      "verbose\t =  FALSE\n"
     ]
    },
    {
     "data": {
      "image/png": "[encoded data removed]",
      "text/plain": [
       "plot without title"
      ]
     },
     "metadata": {},
     "output_type": "display_data"
    }
   ],
   "source": [
    "plot(rules,type='scatterplot')"
   ]
  },
  {
   "cell_type": "code",
   "execution_count": 31,
   "metadata": {},
   "outputs": [
    {
     "name": "stderr",
     "output_type": "stream",
     "text": [
      "Warning message:\n",
      "\"Unknown control parameters: type\""
     ]
    },
    {
     "name": "stdout",
     "output_type": "stream",
     "text": [
      "Available control parameters (with default values):\n",
      "main\t =  Scatter plot for 35 rules\n",
      "interactive\t =  FALSE\n",
      "pch\t =  19\n",
      "cex\t =  0.5\n",
      "xlim\t =  NULL\n",
      "ylim\t =  NULL\n",
      "zlim\t =  NULL\n",
      "alpha\t =  NULL\n",
      "col\t =  c(\"#EE0000FF\", \"#EE0303FF\", \"#EE0606FF\", \"#EE0909FF\", \"#EE0C0CFF\", \"#EE0F0FFF\", \"#EE1212FF\", \"#EE1515FF\", \"#EE1818FF\", \"#EE1B1BFF\", \"#EE1E1EFF\", \"#EE2222FF\", \"#EE2525FF\", \"#EE2828FF\", \"#EE2B2BFF\", \"#EE2E2EFF\", \"#EE3131FF\", \"#EE3434FF\", \"#EE3737FF\", \"#EE3A3AFF\", \"#EE3D3DFF\", \"#EE4040FF\", \"#EE4444FF\", \"#EE4747FF\", \"#EE4A4AFF\", \"#EE4D4DFF\", \"#EE5050FF\", \"#EE5353FF\", \"#EE5656FF\", \"#EE5959FF\", \"#EE5C5CFF\", \"#EE5F5FFF\", \"#EE6262FF\", \"#EE6666FF\", \"#EE6969FF\", \"#EE6C6CFF\", \"#EE6F6FFF\", \"#EE7272FF\", \"#EE7575FF\",  \"#EE7878FF\", \"#EE7B7BFF\", \"#EE7E7EFF\", \"#EE8181FF\", \"#EE8484FF\", \"#EE8888FF\", \"#EE8B8BFF\", \"#EE8E8EFF\", \"#EE9191FF\", \"#EE9494FF\", \"#EE9797FF\", \"#EE9999FF\", \"#EE9B9BFF\", \"#EE9D9DFF\", \"#EE9F9FFF\", \"#EEA0A0FF\", \"#EEA2A2FF\", \"#EEA4A4FF\", \"#EEA5A5FF\", \"#EEA7A7FF\", \"#EEA9A9FF\", \"#EEABABFF\", \"#EEACACFF\", \"#EEAEAEFF\", \"#EEB0B0FF\", \"#EEB1B1FF\", \"#EEB3B3FF\", \"#EEB5B5FF\", \"#EEB7B7FF\", \"#EEB8B8FF\", \"#EEBABAFF\", \"#EEBCBCFF\", \"#EEBDBDFF\", \"#EEBFBFFF\", \"#EEC1C1FF\", \"#EEC3C3FF\", \"#EEC4C4FF\", \"#EEC6C6FF\", \"#EEC8C8FF\",  \"#EEC9C9FF\", \"#EECBCBFF\", \"#EECDCDFF\", \"#EECFCFFF\", \"#EED0D0FF\", \"#EED2D2FF\", \"#EED4D4FF\", \"#EED5D5FF\", \"#EED7D7FF\", \"#EED9D9FF\", \"#EEDBDBFF\", \"#EEDCDCFF\", \"#EEDEDEFF\", \"#EEE0E0FF\", \"#EEE1E1FF\", \"#EEE3E3FF\", \"#EEE5E5FF\", \"#EEE7E7FF\", \"#EEE8E8FF\", \"#EEEAEAFF\", \"#EEECECFF\", \"#EEEEEEFF\")\n",
      "newpage\t =  TRUE\n",
      "jitter\t =  NA\n",
      "verbose\t =  FALSE\n"
     ]
    },
    {
     "data": {
      "image/png": "[encoded data removed]",
      "text/plain": [
       "plot without title"
      ]
     },
     "metadata": {},
     "output_type": "display_data"
    }
   ],
   "source": [
    "plot(rules1,type='scatterplot',\n",
    "     measure=c('lift','confidence'),shading='support')"
   ]
  },
  {
   "cell_type": "code",
   "execution_count": 32,
   "metadata": {},
   "outputs": [
    {
     "name": "stderr",
     "output_type": "stream",
     "text": [
      "Warning message:\n",
      "\"Unknown control parameters: type\""
     ]
    },
    {
     "name": "stdout",
     "output_type": "stream",
     "text": [
      "Available control parameters (with default values):\n",
      "main\t =  Scatter plot for 35 rules\n",
      "interactive\t =  FALSE\n",
      "pch\t =  19\n",
      "cex\t =  0.5\n",
      "xlim\t =  NULL\n",
      "ylim\t =  NULL\n",
      "zlim\t =  NULL\n",
      "alpha\t =  NULL\n",
      "col\t =  c(\"#EE0000FF\", \"#EE0303FF\", \"#EE0606FF\", \"#EE0909FF\", \"#EE0C0CFF\", \"#EE0F0FFF\", \"#EE1212FF\", \"#EE1515FF\", \"#EE1818FF\", \"#EE1B1BFF\", \"#EE1E1EFF\", \"#EE2222FF\", \"#EE2525FF\", \"#EE2828FF\", \"#EE2B2BFF\", \"#EE2E2EFF\", \"#EE3131FF\", \"#EE3434FF\", \"#EE3737FF\", \"#EE3A3AFF\", \"#EE3D3DFF\", \"#EE4040FF\", \"#EE4444FF\", \"#EE4747FF\", \"#EE4A4AFF\", \"#EE4D4DFF\", \"#EE5050FF\", \"#EE5353FF\", \"#EE5656FF\", \"#EE5959FF\", \"#EE5C5CFF\", \"#EE5F5FFF\", \"#EE6262FF\", \"#EE6666FF\", \"#EE6969FF\", \"#EE6C6CFF\", \"#EE6F6FFF\", \"#EE7272FF\", \"#EE7575FF\",  \"#EE7878FF\", \"#EE7B7BFF\", \"#EE7E7EFF\", \"#EE8181FF\", \"#EE8484FF\", \"#EE8888FF\", \"#EE8B8BFF\", \"#EE8E8EFF\", \"#EE9191FF\", \"#EE9494FF\", \"#EE9797FF\", \"#EE9999FF\", \"#EE9B9BFF\", \"#EE9D9DFF\", \"#EE9F9FFF\", \"#EEA0A0FF\", \"#EEA2A2FF\", \"#EEA4A4FF\", \"#EEA5A5FF\", \"#EEA7A7FF\", \"#EEA9A9FF\", \"#EEABABFF\", \"#EEACACFF\", \"#EEAEAEFF\", \"#EEB0B0FF\", \"#EEB1B1FF\", \"#EEB3B3FF\", \"#EEB5B5FF\", \"#EEB7B7FF\", \"#EEB8B8FF\", \"#EEBABAFF\", \"#EEBCBCFF\", \"#EEBDBDFF\", \"#EEBFBFFF\", \"#EEC1C1FF\", \"#EEC3C3FF\", \"#EEC4C4FF\", \"#EEC6C6FF\", \"#EEC8C8FF\",  \"#EEC9C9FF\", \"#EECBCBFF\", \"#EECDCDFF\", \"#EECFCFFF\", \"#EED0D0FF\", \"#EED2D2FF\", \"#EED4D4FF\", \"#EED5D5FF\", \"#EED7D7FF\", \"#EED9D9FF\", \"#EEDBDBFF\", \"#EEDCDCFF\", \"#EEDEDEFF\", \"#EEE0E0FF\", \"#EEE1E1FF\", \"#EEE3E3FF\", \"#EEE5E5FF\", \"#EEE7E7FF\", \"#EEE8E8FF\", \"#EEEAEAFF\", \"#EEECECFF\", \"#EEEEEEFF\")\n",
      "newpage\t =  TRUE\n",
      "jitter\t =  NA\n",
      "verbose\t =  FALSE\n"
     ]
    },
    {
     "data": {
      "image/png": "[encoded data removed]",
      "text/plain": [
       "plot without title"
      ]
     },
     "metadata": {},
     "output_type": "display_data"
    }
   ],
   "source": [
    "plot(rules1,type='scatterplot',\n",
    "     measure=c('confidence','support'),shading='lift')"
   ]
  },
  {
   "cell_type": "code",
   "execution_count": 33,
   "metadata": {},
   "outputs": [
    {
     "name": "stderr",
     "output_type": "stream",
     "text": [
      "Warning message:\n",
      "\"Unknown control parameters: type\""
     ]
    },
    {
     "name": "stdout",
     "output_type": "stream",
     "text": [
      "Available control parameters (with default values):\n",
      "main\t =  Scatter plot for 35 rules\n",
      "interactive\t =  FALSE\n",
      "pch\t =  19\n",
      "cex\t =  0.5\n",
      "xlim\t =  NULL\n",
      "ylim\t =  NULL\n",
      "zlim\t =  NULL\n",
      "alpha\t =  NULL\n",
      "col\t =  c(\"#EE0000FF\", \"#EE0303FF\", \"#EE0606FF\", \"#EE0909FF\", \"#EE0C0CFF\", \"#EE0F0FFF\", \"#EE1212FF\", \"#EE1515FF\", \"#EE1818FF\", \"#EE1B1BFF\", \"#EE1E1EFF\", \"#EE2222FF\", \"#EE2525FF\", \"#EE2828FF\", \"#EE2B2BFF\", \"#EE2E2EFF\", \"#EE3131FF\", \"#EE3434FF\", \"#EE3737FF\", \"#EE3A3AFF\", \"#EE3D3DFF\", \"#EE4040FF\", \"#EE4444FF\", \"#EE4747FF\", \"#EE4A4AFF\", \"#EE4D4DFF\", \"#EE5050FF\", \"#EE5353FF\", \"#EE5656FF\", \"#EE5959FF\", \"#EE5C5CFF\", \"#EE5F5FFF\", \"#EE6262FF\", \"#EE6666FF\", \"#EE6969FF\", \"#EE6C6CFF\", \"#EE6F6FFF\", \"#EE7272FF\", \"#EE7575FF\",  \"#EE7878FF\", \"#EE7B7BFF\", \"#EE7E7EFF\", \"#EE8181FF\", \"#EE8484FF\", \"#EE8888FF\", \"#EE8B8BFF\", \"#EE8E8EFF\", \"#EE9191FF\", \"#EE9494FF\", \"#EE9797FF\", \"#EE9999FF\", \"#EE9B9BFF\", \"#EE9D9DFF\", \"#EE9F9FFF\", \"#EEA0A0FF\", \"#EEA2A2FF\", \"#EEA4A4FF\", \"#EEA5A5FF\", \"#EEA7A7FF\", \"#EEA9A9FF\", \"#EEABABFF\", \"#EEACACFF\", \"#EEAEAEFF\", \"#EEB0B0FF\", \"#EEB1B1FF\", \"#EEB3B3FF\", \"#EEB5B5FF\", \"#EEB7B7FF\", \"#EEB8B8FF\", \"#EEBABAFF\", \"#EEBCBCFF\", \"#EEBDBDFF\", \"#EEBFBFFF\", \"#EEC1C1FF\", \"#EEC3C3FF\", \"#EEC4C4FF\", \"#EEC6C6FF\", \"#EEC8C8FF\",  \"#EEC9C9FF\", \"#EECBCBFF\", \"#EECDCDFF\", \"#EECFCFFF\", \"#EED0D0FF\", \"#EED2D2FF\", \"#EED4D4FF\", \"#EED5D5FF\", \"#EED7D7FF\", \"#EED9D9FF\", \"#EEDBDBFF\", \"#EEDCDCFF\", \"#EEDEDEFF\", \"#EEE0E0FF\", \"#EEE1E1FF\", \"#EEE3E3FF\", \"#EEE5E5FF\", \"#EEE7E7FF\", \"#EEE8E8FF\", \"#EEEAEAFF\", \"#EEECECFF\", \"#EEEEEEFF\")\n",
      "newpage\t =  TRUE\n",
      "jitter\t =  NA\n",
      "verbose\t =  FALSE\n"
     ]
    },
    {
     "data": {
      "image/png": "[encoded data removed]",
      "text/plain": [
       "plot without title"
      ]
     },
     "metadata": {},
     "output_type": "display_data"
    }
   ],
   "source": [
    "plot(rules1,type='scatterplot',\n",
    "     measure=c('confidence','support'),shading='lift',\n",
    "     xlim=c(0.001,1),ylim=c(0.001,0.5))"
   ]
  },
  {
   "cell_type": "code",
   "execution_count": 34,
   "metadata": {},
   "outputs": [
    {
     "data": {
      "image/png": "[encoded data removed]",
      "text/plain": [
       "Plot with title \"Graph for 11 rules\""
      ]
     },
     "metadata": {},
     "output_type": "display_data"
    }
   ],
   "source": [
    "plot(rules1[10:20],method='graph')"
   ]
  },
  {
   "cell_type": "code",
   "execution_count": 35,
   "metadata": {},
   "outputs": [
    {
     "data": {
      "image/png": "[encoded data removed]",
      "text/plain": [
       "plot without title"
      ]
     },
     "metadata": {},
     "output_type": "display_data"
    }
   ],
   "source": [
    "plot(rules1,method='grouped')"
   ]
  }
 ],
 "metadata": {
  "kernelspec": {
   "display_name": "R 3.3",
   "language": "R",
   "name": "ir33"
  },
  "language_info": {
   "codemirror_mode": "r",
   "file_extension": ".r",
   "mimetype": "text/x-r-source",
   "name": "R",
   "pygments_lexer": "r",
   "version": "3.3.3"
  }
 },
 "nbformat": 4,
 "nbformat_minor": 2
}
