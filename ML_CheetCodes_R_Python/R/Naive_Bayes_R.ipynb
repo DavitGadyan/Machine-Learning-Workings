{
 "cells": [
  {
   "cell_type": "code",
   "execution_count": 1,
   "metadata": {},
   "outputs": [
    {
     "name": "stderr",
     "output_type": "stream",
     "text": [
      "Loading required package: ggplot2\n",
      "Loading required package: gplots\n",
      "\n",
      "Attaching package: 'gplots'\n",
      "\n",
      "The following object is masked from 'package:stats':\n",
      "\n",
      "    lowess\n",
      "\n"
     ]
    }
   ],
   "source": [
    "library(caret)\n",
    "library(e1071)\n",
    "library(ROCR)"
   ]
  },
  {
   "cell_type": "code",
   "execution_count": 2,
   "metadata": {},
   "outputs": [
    {
     "name": "stdout",
     "output_type": "stream",
     "text": [
      "'data.frame':\t7570 obs. of  10 variables:\n",
      " $ satisfaction_level   : num  0.38 0.8 0.11 0.72 0.37 0.41 0.1 0.92 0.89 0.42 ...\n",
      " $ last_evaluation      : num  0.53 0.86 0.88 0.87 0.52 0.5 0.77 0.85 1 0.53 ...\n",
      " $ number_project       : int  2 5 7 5 2 2 6 5 5 2 ...\n",
      " $ average_montly_hours : int  157 262 272 223 159 153 247 259 224 142 ...\n",
      " $ time_spend_company   : int  3 6 4 5 3 3 4 5 5 3 ...\n",
      " $ Work_accident        : Factor w/ 2 levels \"Accident\",\"No accident\": 2 2 2 2 2 2 2 2 2 2 ...\n",
      " $ promotion_last_5years: Factor w/ 2 levels \"No promotion\",..: 1 1 1 1 1 1 1 1 1 1 ...\n",
      " $ sales                : Factor w/ 10 levels \"accounting\",\"hr\",..: 8 8 8 8 8 8 8 8 8 8 ...\n",
      " $ salary               : Factor w/ 3 levels \"high\",\"low\",\"medium\": 2 3 3 2 2 2 2 2 2 2 ...\n",
      " $ left                 : Factor w/ 2 levels \"No\",\"Yes\": 2 2 2 2 2 2 2 2 2 2 ...\n"
     ]
    }
   ],
   "source": [
    "hr_data<-read.csv('C:\\\\Users\\\\Gaya\\\\Desktop\\\\R\\\\Data mining\\\\final\\\\HR_balanced.csv')\n",
    "\n",
    "str(hr_data)"
   ]
  },
  {
   "cell_type": "code",
   "execution_count": 3,
   "metadata": {},
   "outputs": [
    {
     "data": {
      "text/plain": [
       "\n",
       "  No  Yes \n",
       "3999 3571 "
      ]
     },
     "metadata": {},
     "output_type": "display_data"
    }
   ],
   "source": [
    "table(hr_data$left) ## Cool almost balanced dataset"
   ]
  },
  {
   "cell_type": "code",
   "execution_count": 4,
   "metadata": {},
   "outputs": [],
   "source": [
    "set.seed(42)\n",
    "ind<-createDataPartition(hr_data$left,p = 0.7,list=F)"
   ]
  },
  {
   "cell_type": "code",
   "execution_count": 5,
   "metadata": {},
   "outputs": [],
   "source": [
    "hr_train<-hr_data[ind,]\n",
    "hr_test<-hr_data[-ind,]"
   ]
  },
  {
   "cell_type": "code",
   "execution_count": 6,
   "metadata": {},
   "outputs": [],
   "source": [
    "mod1<-naiveBayes(left~.,data = hr_train,laplace = 1)"
   ]
  },
  {
   "cell_type": "code",
   "execution_count": 7,
   "metadata": {},
   "outputs": [
    {
     "data": {
      "text/html": [
       "<ol class=list-inline>\n",
       "\t<li>'apriori'</li>\n",
       "\t<li>'tables'</li>\n",
       "\t<li>'levels'</li>\n",
       "\t<li>'call'</li>\n",
       "</ol>\n"
      ],
      "text/latex": [
       "\\begin{enumerate*}\n",
       "\\item 'apriori'\n",
       "\\item 'tables'\n",
       "\\item 'levels'\n",
       "\\item 'call'\n",
       "\\end{enumerate*}\n"
      ],
      "text/markdown": [
       "1. 'apriori'\n",
       "2. 'tables'\n",
       "3. 'levels'\n",
       "4. 'call'\n",
       "\n",
       "\n"
      ],
      "text/plain": [
       "[1] \"apriori\" \"tables\"  \"levels\"  \"call\"   "
      ]
     },
     "metadata": {},
     "output_type": "display_data"
    }
   ],
   "source": [
    "names(mod1)"
   ]
  },
  {
   "cell_type": "code",
   "execution_count": 8,
   "metadata": {},
   "outputs": [
    {
     "data": {
      "text/plain": [
       "Y\n",
       "  No  Yes \n",
       "2800 2500 "
      ]
     },
     "metadata": {},
     "output_type": "display_data"
    }
   ],
   "source": [
    "mod1$apriori"
   ]
  },
  {
   "cell_type": "code",
   "execution_count": 9,
   "metadata": {},
   "outputs": [
    {
     "data": {
      "text/plain": [
       "$satisfaction_level\n",
       "     satisfaction_level\n",
       "Y          [,1]      [,2]\n",
       "  No  0.6667464 0.2156077\n",
       "  Yes 0.4439000 0.2631521\n",
       "\n",
       "$last_evaluation\n",
       "     last_evaluation\n",
       "Y          [,1]      [,2]\n",
       "  No  0.7151964 0.1629146\n",
       "  Yes 0.7155080 0.1973135\n",
       "\n",
       "$number_project\n",
       "     number_project\n",
       "Y         [,1]      [,2]\n",
       "  No  3.802857 0.9906994\n",
       "  Yes 3.824000 1.8145912\n",
       "\n",
       "$average_montly_hours\n",
       "     average_montly_hours\n",
       "Y         [,1]     [,2]\n",
       "  No  199.6579 46.16618\n",
       "  Yes 206.1552 60.90386\n",
       "\n",
       "$time_spend_company\n",
       "     time_spend_company\n",
       "Y       [,1]      [,2]\n",
       "  No  3.3800 1.5770867\n",
       "  Yes 3.8696 0.9843696\n",
       "\n",
       "$Work_accident\n",
       "     Work_accident\n",
       "Y       Accident No accident\n",
       "  No  0.16916488  0.83083512\n",
       "  Yes 0.04996003  0.95003997\n",
       "\n",
       "$promotion_last_5years\n",
       "     promotion_last_5years\n",
       "Y     No promotion   Promotion\n",
       "  No   0.966095646 0.033904354\n",
       "  Yes  0.992406075 0.007593925\n",
       "\n",
       "$sales\n",
       "     sales\n",
       "Y     accounting         hr         IT management  marketing product_mng\n",
       "  No  0.04946619 0.04768683 0.08113879 0.04875445 0.06192171  0.06405694\n",
       "  Yes 0.05537849 0.05737052 0.07609562 0.02589641 0.05976096  0.05737052\n",
       "     sales\n",
       "Y          RandD      sales    support  technical\n",
       "  No  0.06156584 0.26227758 0.15693950 0.16619217\n",
       "  Yes 0.03824701 0.28207171 0.15657371 0.19123506\n",
       "\n",
       "$salary\n",
       "     salary\n",
       "Y           high        low     medium\n",
       "  No  0.09953621 0.44273992 0.45772387\n",
       "  Yes 0.02277267 0.61326408 0.36396324\n"
      ]
     },
     "metadata": {},
     "output_type": "display_data"
    }
   ],
   "source": [
    "mod1$tables"
   ]
  },
  {
   "cell_type": "code",
   "execution_count": 10,
   "metadata": {},
   "outputs": [
    {
     "data": {
      "text/html": [
       "<ol class=list-inline>\n",
       "\t<li>'No'</li>\n",
       "\t<li>'Yes'</li>\n",
       "</ol>\n"
      ],
      "text/latex": [
       "\\begin{enumerate*}\n",
       "\\item 'No'\n",
       "\\item 'Yes'\n",
       "\\end{enumerate*}\n"
      ],
      "text/markdown": [
       "1. 'No'\n",
       "2. 'Yes'\n",
       "\n",
       "\n"
      ],
      "text/plain": [
       "[1] \"No\"  \"Yes\""
      ]
     },
     "metadata": {},
     "output_type": "display_data"
    }
   ],
   "source": [
    "mod1$levels"
   ]
  },
  {
   "cell_type": "code",
   "execution_count": 11,
   "metadata": {},
   "outputs": [
    {
     "data": {
      "text/plain": [
       "naiveBayes.default(x = X, y = Y, laplace = laplace)"
      ]
     },
     "metadata": {},
     "output_type": "display_data"
    }
   ],
   "source": [
    "mod1$call"
   ]
  },
  {
   "cell_type": "code",
   "execution_count": 12,
   "metadata": {},
   "outputs": [
    {
     "data": {
      "text/html": [
       "<table>\n",
       "<tbody>\n",
       "\t<tr><th scope=row>No</th><td>0.6667464</td><td>0.2156077</td></tr>\n",
       "\t<tr><th scope=row>Yes</th><td>0.4439000</td><td>0.2631521</td></tr>\n",
       "</tbody>\n",
       "</table>\n"
      ],
      "text/latex": [
       "\\begin{tabular}{r|ll}\n",
       "\tNo & 0.6667464 & 0.2156077\\\\\n",
       "\tYes & 0.4439000 & 0.2631521\\\\\n",
       "\\end{tabular}\n"
      ],
      "text/markdown": [
       "\n",
       "| No | 0.6667464 | 0.2156077 | \n",
       "| Yes | 0.4439000 | 0.2631521 | \n",
       "\n",
       "\n"
      ],
      "text/plain": [
       "     satisfaction_level\n",
       "Y     [,1]      [,2]     \n",
       "  No  0.6667464 0.2156077\n",
       "  Yes 0.4439000 0.2631521"
      ]
     },
     "metadata": {},
     "output_type": "display_data"
    }
   ],
   "source": [
    "mod1$tables$satisfaction_level  "
   ]
  },
  {
   "cell_type": "code",
   "execution_count": 13,
   "metadata": {},
   "outputs": [
    {
     "data": {
      "text/html": [
       "0.666746428571429"
      ],
      "text/latex": [
       "0.666746428571429"
      ],
      "text/markdown": [
       "0.666746428571429"
      ],
      "text/plain": [
       "[1] 0.6667464"
      ]
     },
     "metadata": {},
     "output_type": "display_data"
    },
    {
     "data": {
      "text/html": [
       "0.215607734637567"
      ],
      "text/latex": [
       "0.215607734637567"
      ],
      "text/markdown": [
       "0.215607734637567"
      ],
      "text/plain": [
       "[1] 0.2156077"
      ]
     },
     "metadata": {},
     "output_type": "display_data"
    }
   ],
   "source": [
    "mean(hr_train$satisfaction_level[hr_train$left=='No'])\n",
    "sd(hr_train$satisfaction_level[hr_train$left=='No'])"
   ]
  },
  {
   "cell_type": "code",
   "execution_count": 14,
   "metadata": {},
   "outputs": [],
   "source": [
    "pred_test<-predict(mod1,newdata = hr_test)"
   ]
  },
  {
   "cell_type": "code",
   "execution_count": 15,
   "metadata": {},
   "outputs": [
    {
     "data": {
      "text/plain": [
       "Confusion Matrix and Statistics\n",
       "\n",
       "          Reference\n",
       "Prediction   No  Yes\n",
       "       No  1001  292\n",
       "       Yes  198  779\n",
       "                                          \n",
       "               Accuracy : 0.7841          \n",
       "                 95% CI : (0.7666, 0.8009)\n",
       "    No Information Rate : 0.5282          \n",
       "    P-Value [Acc > NIR] : < 2.2e-16       \n",
       "                                          \n",
       "                  Kappa : 0.5649          \n",
       " Mcnemar's Test P-Value : 2.654e-05       \n",
       "                                          \n",
       "            Sensitivity : 0.7274          \n",
       "            Specificity : 0.8349          \n",
       "         Pos Pred Value : 0.7973          \n",
       "         Neg Pred Value : 0.7742          \n",
       "             Prevalence : 0.4718          \n",
       "         Detection Rate : 0.3432          \n",
       "   Detection Prevalence : 0.4304          \n",
       "      Balanced Accuracy : 0.7811          \n",
       "                                          \n",
       "       'Positive' Class : Yes             \n",
       "                                          "
      ]
     },
     "metadata": {},
     "output_type": "display_data"
    }
   ],
   "source": [
    "confusionMatrix(pred_test,hr_test$left,positive = 'Yes')"
   ]
  },
  {
   "cell_type": "code",
   "execution_count": 16,
   "metadata": {},
   "outputs": [],
   "source": [
    "pred_test_prob<-predict(mod1,newdata = hr_test,type = 'raw')"
   ]
  },
  {
   "cell_type": "code",
   "execution_count": 17,
   "metadata": {},
   "outputs": [
    {
     "data": {
      "text/html": [
       "<table>\n",
       "<thead><tr><th scope=col>No</th><th scope=col>Yes</th></tr></thead>\n",
       "<tbody>\n",
       "\t<tr><td>0.002087077</td><td>0.9979129  </td></tr>\n",
       "\t<tr><td>0.176484289</td><td>0.8235157  </td></tr>\n",
       "\t<tr><td>0.180370881</td><td>0.8196291  </td></tr>\n",
       "\t<tr><td>0.156194775</td><td>0.8438052  </td></tr>\n",
       "\t<tr><td>0.832755617</td><td>0.1672444  </td></tr>\n",
       "\t<tr><td>0.007560208</td><td>0.9924398  </td></tr>\n",
       "</tbody>\n",
       "</table>\n"
      ],
      "text/latex": [
       "\\begin{tabular}{ll}\n",
       " No & Yes\\\\\n",
       "\\hline\n",
       "\t 0.002087077 & 0.9979129  \\\\\n",
       "\t 0.176484289 & 0.8235157  \\\\\n",
       "\t 0.180370881 & 0.8196291  \\\\\n",
       "\t 0.156194775 & 0.8438052  \\\\\n",
       "\t 0.832755617 & 0.1672444  \\\\\n",
       "\t 0.007560208 & 0.9924398  \\\\\n",
       "\\end{tabular}\n"
      ],
      "text/markdown": [
       "\n",
       "No | Yes | \n",
       "|---|---|---|---|---|---|\n",
       "| 0.002087077 | 0.9979129   | \n",
       "| 0.176484289 | 0.8235157   | \n",
       "| 0.180370881 | 0.8196291   | \n",
       "| 0.156194775 | 0.8438052   | \n",
       "| 0.832755617 | 0.1672444   | \n",
       "| 0.007560208 | 0.9924398   | \n",
       "\n",
       "\n"
      ],
      "text/plain": [
       "     No          Yes      \n",
       "[1,] 0.002087077 0.9979129\n",
       "[2,] 0.176484289 0.8235157\n",
       "[3,] 0.180370881 0.8196291\n",
       "[4,] 0.156194775 0.8438052\n",
       "[5,] 0.832755617 0.1672444\n",
       "[6,] 0.007560208 0.9924398"
      ]
     },
     "metadata": {},
     "output_type": "display_data"
    }
   ],
   "source": [
    "head(pred_test_prob)"
   ]
  },
  {
   "cell_type": "code",
   "execution_count": 18,
   "metadata": {},
   "outputs": [],
   "source": [
    "p_test<-prediction(pred_test_prob[,2],hr_test$left)"
   ]
  },
  {
   "cell_type": "code",
   "execution_count": 19,
   "metadata": {},
   "outputs": [],
   "source": [
    "perf<-performance(p_test,'tpr','fpr')"
   ]
  },
  {
   "cell_type": "code",
   "execution_count": 20,
   "metadata": {},
   "outputs": [
    {
     "data": {
      "image/png": "[encoded data removed]",
      "text/plain": [
       "plot without title"
      ]
     },
     "metadata": {},
     "output_type": "display_data"
    }
   ],
   "source": [
    "plot(perf,colorize=T)"
   ]
  },
  {
   "cell_type": "code",
   "execution_count": 22,
   "metadata": {},
   "outputs": [
    {
     "data": {
      "text/html": [
       "<ol>\n",
       "\t<li>0.873726860774893</li>\n",
       "</ol>\n"
      ],
      "text/latex": [
       "\\begin{enumerate}\n",
       "\\item 0.873726860774893\n",
       "\\end{enumerate}\n"
      ],
      "text/markdown": [
       "1. 0.873726860774893\n",
       "\n",
       "\n"
      ],
      "text/plain": [
       "[[1]]\n",
       "[1] 0.8737269\n"
      ]
     },
     "metadata": {},
     "output_type": "display_data"
    }
   ],
   "source": [
    "performance(p_test,'auc')@y.values"
   ]
  },
  {
   "cell_type": "code",
   "execution_count": null,
   "metadata": {},
   "outputs": [],
   "source": []
  }
 ],
 "metadata": {
  "kernelspec": {
   "display_name": "R 3.3",
   "language": "R",
   "name": "ir33"
  },
  "language_info": {
   "codemirror_mode": "r",
   "file_extension": ".r",
   "mimetype": "text/x-r-source",
   "name": "R",
   "pygments_lexer": "r",
   "version": "3.3.3"
  }
 },
 "nbformat": 4,
 "nbformat_minor": 2
}
