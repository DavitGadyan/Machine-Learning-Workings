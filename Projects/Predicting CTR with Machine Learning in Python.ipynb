{
 "cells": [
  {
   "cell_type": "code",
   "execution_count": 1,
   "metadata": {},
   "outputs": [],
   "source": [
    "import pandas as pd"
   ]
  },
  {
   "cell_type": "code",
   "execution_count": 44,
   "metadata": {},
   "outputs": [],
   "source": [
    "df = pd.read_csv(r'sample_data.csv',index_col=0)"
   ]
  },
  {
   "cell_type": "code",
   "execution_count": 6,
   "metadata": {},
   "outputs": [
    {
     "name": "stdout",
     "output_type": "stream",
     "text": [
      "   click      hour    C1  banner_pos  device_type  device_conn_type    C14  \\\n",
      "0      0  14102100  1005           0            1                 2  15706   \n",
      "1      0  14102100  1005           0            1                 0  15704   \n",
      "2      0  14102100  1005           0            1                 0  15704   \n",
      "3      0  14102100  1005           0            1                 0  15706   \n",
      "4      0  14102100  1005           1            1                 0  18993   \n",
      "\n",
      "   C15  C16   C17  C18  C19     C20  C21     device_model_int  \n",
      "0  320   50  1722    0   35      -1   79 -4536565594672005814  \n",
      "1  320   50  1722    0   35  100084   79   -80052322344914806  \n",
      "2  320   50  1722    0   35  100084   79 -3130634972019121531  \n",
      "3  320   50  1722    0   35  100084   79 -8587292268327570678  \n",
      "4  320   50  2161    0   35      -1  157 -7699311560514132401  \n",
      "Index(['click', 'hour', 'C1', 'banner_pos', 'device_type', 'device_conn_type',\n",
      "       'C14', 'C15', 'C16', 'C17', 'C18', 'C19', 'C20', 'C21',\n",
      "       'device_model_int'],\n",
      "      dtype='object')\n",
      "Sample CTR :\n",
      " 0.1749\n"
     ]
    }
   ],
   "source": [
    "# Look at basics of Dataframe \n",
    "print(df.head(5))\n",
    "print(df.columns)\n",
    "\n",
    "# Define X and y\n",
    "X = df.loc[:, ~df.columns.isin(['click'])]\n",
    "y = df.click\n",
    "\n",
    "# Sample CTR\n",
    "print(\"Sample CTR :\\n\", \n",
    "      y.sum()/len(y))"
   ]
  },
  {
   "cell_type": "code",
   "execution_count": 8,
   "metadata": {},
   "outputs": [
    {
     "name": "stdout",
     "output_type": "stream",
     "text": [
      "Distribution of device type: \n",
      "1    0.92597\n",
      "0    0.04212\n",
      "4    0.02979\n",
      "5    0.00212\n",
      "Name: device_type, dtype: float64\n",
      "CTR by device type: \n",
      "device_type\n",
      "0    0.00958\n",
      "1    0.16295\n",
      "4    0.00216\n",
      "5    0.00021\n",
      "Name: click, dtype: float64\n"
     ]
    }
   ],
   "source": [
    "# Distribution of values for device type\n",
    "print(\"Distribution of device type: \")\n",
    "print(X.device_type.value_counts()/len(X))\n",
    "\n",
    "# Sample CTR by device type \n",
    "print(\"CTR by device type: \")\n",
    "print(df.groupby('device_type')['click'].sum()/len(y))"
   ]
  },
  {
   "cell_type": "code",
   "execution_count": 9,
   "metadata": {},
   "outputs": [
    {
     "name": "stdout",
     "output_type": "stream",
     "text": [
      "Distribution of banner position: \n",
      "0    0.80249\n",
      "1    0.19714\n",
      "2    0.00021\n",
      "5    0.00010\n",
      "4    0.00006\n",
      "Name: banner_pos, dtype: float64\n",
      "CTR by banner position: \n",
      "banner_pos\n",
      "0    0.13599\n",
      "1    0.03883\n",
      "2    0.00003\n",
      "4    0.00001\n",
      "5    0.00004\n",
      "Name: click, dtype: float64\n"
     ]
    }
   ],
   "source": [
    "# Distribution of values for banner position\n",
    "print(\"Distribution of banner position: \")\n",
    "print(X.banner_pos.value_counts()/len(X))\n",
    "\n",
    "# Sample CTR by banner position\n",
    "print(\"CTR by banner position: \")\n",
    "print(df.groupby('banner_pos')['click'].sum()/len(y))"
   ]
  },
  {
   "cell_type": "code",
   "execution_count": 24,
   "metadata": {},
   "outputs": [],
   "source": [
    "from sklearn.datasets import load_breast_cancer\n",
    "cancer_data = load_breast_cancer()"
   ]
  },
  {
   "cell_type": "code",
   "execution_count": 26,
   "metadata": {},
   "outputs": [],
   "source": [
    "# Define X and y \n",
    "X = cancer_data.data\n",
    "y = cancer_data.target\n",
    "\n",
    "# Define training and testing data\n",
    "X_train = X[:300]\n",
    "X_test = X[300:]\n",
    "y_train = y[:300]\n",
    "y_test = y[300:] "
   ]
  },
  {
   "cell_type": "code",
   "execution_count": 77,
   "metadata": {},
   "outputs": [],
   "source": [
    "from sklearn.linear_model import LogisticRegression\n",
    "from sklearn.model_selection import *"
   ]
  },
  {
   "cell_type": "code",
   "execution_count": 28,
   "metadata": {},
   "outputs": [
    {
     "name": "stdout",
     "output_type": "stream",
     "text": [
      "0.9479553903345725\n"
     ]
    },
    {
     "name": "stderr",
     "output_type": "stream",
     "text": [
      "C:\\Users\\dyada\\Anaconda3\\lib\\site-packages\\sklearn\\linear_model\\logistic.py:432: FutureWarning: Default solver will be changed to 'lbfgs' in 0.22. Specify a solver to silence this warning.\n",
      "  FutureWarning)\n"
     ]
    }
   ],
   "source": [
    "# Create and fit a logistic regression classifier\n",
    "clf = LogisticRegression().fit(X_train, y_train)\n",
    "\n",
    "# Predict labels\n",
    "y_pred = clf.predict(X_test) \n",
    "\n",
    "# Get number of right and wrong predictions\n",
    "num_right = (y_test == y_pred).sum()\n",
    "num_wrong = (y_test != y_pred).sum()\n",
    "\n",
    "# Compute and print accuracy\n",
    "accuracy = 1.0 * num_right / (num_right + num_wrong)\n",
    "print(accuracy)"
   ]
  },
  {
   "cell_type": "code",
   "execution_count": 38,
   "metadata": {},
   "outputs": [],
   "source": [
    "from sklearn.datasets import load_digits\n",
    "from sklearn.metrics import *\n",
    "image_data = load_digits()"
   ]
  },
  {
   "cell_type": "code",
   "execution_count": 39,
   "metadata": {},
   "outputs": [],
   "source": [
    "X = image_data.images\n",
    "y = image_data.target"
   ]
  },
  {
   "cell_type": "code",
   "execution_count": 40,
   "metadata": {},
   "outputs": [
    {
     "name": "stdout",
     "output_type": "stream",
     "text": [
      "0.9\n"
     ]
    },
    {
     "name": "stderr",
     "output_type": "stream",
     "text": [
      "C:\\Users\\dyada\\Anaconda3\\lib\\site-packages\\sklearn\\linear_model\\logistic.py:432: FutureWarning: Default solver will be changed to 'lbfgs' in 0.22. Specify a solver to silence this warning.\n",
      "  FutureWarning)\n",
      "C:\\Users\\dyada\\Anaconda3\\lib\\site-packages\\sklearn\\linear_model\\logistic.py:469: FutureWarning: Default multi_class will be changed to 'auto' in 0.22. Specify the multi_class option to silence this warning.\n",
      "  \"this warning.\", FutureWarning)\n"
     ]
    }
   ],
   "source": [
    "# Define X and y \n",
    "X = image_data.data\n",
    "y = image_data.target\n",
    "\n",
    "# Define training and testing\n",
    "split = int(0.7 * len(X))\n",
    "X_train, X_test, y_train, y_test = \\\n",
    "\tX[:split], X[split:], y[:split], y[split:] \n",
    "\n",
    "# Create logistic regression classifier\n",
    "clf = LogisticRegression()\n",
    "\n",
    "# Train classifier - predict label and evaluate accuracy\n",
    "y_pred = clf.fit(X_train, y_train).predict(X_test) \n",
    "print(accuracy_score(y_test, y_pred))"
   ]
  },
  {
   "cell_type": "code",
   "execution_count": 42,
   "metadata": {},
   "outputs": [],
   "source": [
    "from sklearn.tree import DecisionTreeClassifier"
   ]
  },
  {
   "cell_type": "code",
   "execution_count": 45,
   "metadata": {},
   "outputs": [
    {
     "name": "stdout",
     "output_type": "stream",
     "text": [
      "   click      hour    C1  banner_pos  device_type  device_conn_type    C14  \\\n",
      "0      0  14102100  1005           0            1                 2  15706   \n",
      "1      0  14102100  1005           0            1                 0  15704   \n",
      "2      0  14102100  1005           0            1                 0  15704   \n",
      "3      0  14102100  1005           0            1                 0  15706   \n",
      "4      0  14102100  1005           1            1                 0  18993   \n",
      "\n",
      "   C15  C16   C17  C18  C19     C20  C21     device_model_int  \n",
      "0  320   50  1722    0   35      -1   79 -4536565594672005814  \n",
      "1  320   50  1722    0   35  100084   79   -80052322344914806  \n",
      "2  320   50  1722    0   35  100084   79 -3130634972019121531  \n",
      "3  320   50  1722    0   35  100084   79 -8587292268327570678  \n",
      "4  320   50  2161    0   35      -1  157 -7699311560514132401  \n",
      "Index(['click', 'hour', 'C1', 'banner_pos', 'device_type', 'device_conn_type',\n",
      "       'C14', 'C15', 'C16', 'C17', 'C18', 'C19', 'C20', 'C21',\n",
      "       'device_model_int'],\n",
      "      dtype='object')\n",
      "Sample CTR :\n",
      " 0.1749\n"
     ]
    }
   ],
   "source": [
    "df = pd.read_csv(r'sample_data.csv',index_col=0)\n",
    "# Look at basics of Dataframe \n",
    "print(df.head(5))\n",
    "print(df.columns)\n",
    "\n",
    "# Define X and y\n",
    "X = df.loc[:, ~df.columns.isin(['click'])]\n",
    "y = df.click\n",
    "\n",
    "# Sample CTR\n",
    "print(\"Sample CTR :\\n\", \n",
    "      y.sum()/len(y))"
   ]
  },
  {
   "cell_type": "code",
   "execution_count": 46,
   "metadata": {},
   "outputs": [
    {
     "name": "stdout",
     "output_type": "stream",
     "text": [
      "0.81275\n"
     ]
    }
   ],
   "source": [
    "# Define X and y \n",
    "X = df.loc[:, ~df.columns.isin(['click'])]\n",
    "y = df.click\n",
    "\n",
    "# Define training and testing\n",
    "X_train, X_test, y_train, y_test = \\\n",
    "\ttrain_test_split(X, y, test_size = .2, random_state = 0)\n",
    "\n",
    "# Create decision tree classifier\n",
    "clf = DecisionTreeClassifier()\n",
    "\n",
    "# Train classifier - predict label and evaluate accuracy\n",
    "y_pred = clf.fit(X_train, y_train).predict(X_test) \n",
    "print(accuracy_score(y_test, y_pred))"
   ]
  },
  {
   "cell_type": "code",
   "execution_count": 47,
   "metadata": {},
   "outputs": [
    {
     "name": "stdout",
     "output_type": "stream",
     "text": [
      "0.6553522474938943\n"
     ]
    }
   ],
   "source": [
    "# Training and testing\n",
    "X_train, X_test, y_train, y_test = \\\n",
    "\ttrain_test_split(X, y, test_size = .2, random_state = 0)\n",
    "\n",
    "# Create decision tree classifier\n",
    "clf = DecisionTreeClassifier()\n",
    "\n",
    "# Train classifier - predict probability score and label\n",
    "y_score = clf.fit(X_train, y_train).predict_proba(X_test) \n",
    "y_pred = clf.fit(X_train, y_train).predict(X_test) \n",
    "\n",
    "# Get ROC curve metrics\n",
    "fpr, tpr, thresholds = roc_curve(y_test, y_score[:, 1])\n",
    "roc_auc = auc(fpr, tpr)\n",
    "print(roc_auc)"
   ]
  },
  {
   "cell_type": "code",
   "execution_count": 48,
   "metadata": {},
   "outputs": [
    {
     "name": "stdout",
     "output_type": "stream",
     "text": [
      "Index(['click', 'hour', 'C1', 'banner_pos', 'device_type', 'device_conn_type',\n",
      "       'C14', 'C15', 'C16', 'C17', 'C18', 'C19', 'C20', 'C21',\n",
      "       'device_model_int'],\n",
      "      dtype='object')\n",
      "click               int64\n",
      "hour                int64\n",
      "C1                  int64\n",
      "banner_pos          int64\n",
      "device_type         int64\n",
      "device_conn_type    int64\n",
      "C14                 int64\n",
      "C15                 int64\n",
      "C16                 int64\n",
      "C17                 int64\n",
      "C18                 int64\n",
      "C19                 int64\n",
      "C20                 int64\n",
      "C21                 int64\n",
      "device_model_int    int64\n",
      "dtype: object\n",
      "Index([], dtype='object')\n",
      "Index([], dtype='object')\n"
     ]
    }
   ],
   "source": [
    "# Print columns\n",
    "print(df.columns)\n",
    "\n",
    "# Print data types of columns\n",
    "print(df.dtypes)\n",
    "\n",
    "# Select and print numeric columns\n",
    "numeric_df = df.select_dtypes(include=['int', 'float'])\n",
    "print(numeric_df.columns)\n",
    "\n",
    "# Select and print categorical columns \n",
    "categorical_df = df.select_dtypes(include=['object'])\n",
    "print(categorical_df.columns)"
   ]
  },
  {
   "cell_type": "code",
   "execution_count": 49,
   "metadata": {},
   "outputs": [
    {
     "name": "stdout",
     "output_type": "stream",
     "text": [
      "<class 'pandas.core.frame.DataFrame'>\n",
      "Int64Index: 100000 entries, 0 to 99999\n",
      "Data columns (total 15 columns):\n",
      "click               100000 non-null int64\n",
      "hour                100000 non-null int64\n",
      "C1                  100000 non-null int64\n",
      "banner_pos          100000 non-null int64\n",
      "device_type         100000 non-null int64\n",
      "device_conn_type    100000 non-null int64\n",
      "C14                 100000 non-null int64\n",
      "C15                 100000 non-null int64\n",
      "C16                 100000 non-null int64\n",
      "C17                 100000 non-null int64\n",
      "C18                 100000 non-null int64\n",
      "C19                 100000 non-null int64\n",
      "C20                 100000 non-null int64\n",
      "C21                 100000 non-null int64\n",
      "device_model_int    100000 non-null int64\n",
      "dtypes: int64(15)\n",
      "memory usage: 12.2 MB\n",
      "None\n",
      "click               0\n",
      "hour                0\n",
      "C1                  0\n",
      "banner_pos          0\n",
      "device_type         0\n",
      "device_conn_type    0\n",
      "C14                 0\n",
      "C15                 0\n",
      "C16                 0\n",
      "C17                 0\n",
      "C18                 0\n",
      "C19                 0\n",
      "C20                 0\n",
      "C21                 0\n",
      "device_model_int    0\n",
      "dtype: int64\n",
      "0\n"
     ]
    }
   ],
   "source": [
    "# Print info\n",
    "print(df.info())\n",
    "\n",
    "# Print missing values by column \n",
    "print(df.isnull().sum(axis = 0))\n",
    "\n",
    "# Print total number of missing values in rows\n",
    "print(df.isnull().sum(axis = 1).sum())"
   ]
  },
  {
   "cell_type": "code",
   "execution_count": 51,
   "metadata": {},
   "outputs": [],
   "source": [
    "import matplotlib.pyplot as plt"
   ]
  },
  {
   "cell_type": "code",
   "execution_count": 54,
   "metadata": {},
   "outputs": [
    {
     "data": {
      "image/png": "[encoded data removed]",
      "text/plain": [
       "<Figure size 432x288 with 1 Axes>"
      ]
     },
     "metadata": {
      "needs_background": "light"
     },
     "output_type": "display_data"
    }
   ],
   "source": [
    "# Construct bar chart for clicks by search engine type\n",
    "se_df = df.groupby(['device_conn_type', 'click']).size().unstack()\n",
    "se_df.plot(kind = 'bar', title = 'Value frequency for search engine type')\n",
    "plt.show()"
   ]
  },
  {
   "cell_type": "code",
   "execution_count": 55,
   "metadata": {},
   "outputs": [
    {
     "name": "stdout",
     "output_type": "stream",
     "text": [
      "   click       hour    C1  banner_pos  device_type  device_conn_type    C14  \\\n",
      "0      0 2014-10-21  1005           0            1                 2  15706   \n",
      "1      0 2014-10-21  1005           0            1                 0  15704   \n",
      "2      0 2014-10-21  1005           0            1                 0  15704   \n",
      "3      0 2014-10-21  1005           0            1                 0  15706   \n",
      "4      0 2014-10-21  1005           1            1                 0  18993   \n",
      "\n",
      "   C15  C16   C17  C18  C19     C20  C21     device_model_int  hour_of_day  \n",
      "0  320   50  1722    0   35      -1   79 -4536565594672005814            0  \n",
      "1  320   50  1722    0   35  100084   79   -80052322344914806            0  \n",
      "2  320   50  1722    0   35  100084   79 -3130634972019121531            0  \n",
      "3  320   50  1722    0   35  100084   79 -8587292268327570678            0  \n",
      "4  320   50  2161    0   35      -1  157 -7699311560514132401            0  \n"
     ]
    },
    {
     "data": {
      "image/png": "[encoded data removed]",
      "text/plain": [
       "<Figure size 864x432 with 1 Axes>"
      ]
     },
     "metadata": {
      "needs_background": "light"
     },
     "output_type": "display_data"
    }
   ],
   "source": [
    "# Change the hour column to a datetime and extract hour of day\n",
    "df['hour'] = pd.to_datetime(df['hour'], format = '%y%m%d%H')\n",
    "df['hour_of_day'] = df['hour'].dt.hour\n",
    "print(df.head(5))\n",
    "\n",
    "# Get and plot total clicks by hour of day\n",
    "df.groupby('hour_of_day')['click'].sum().plot.bar(figsize=(12,6))\n",
    "plt.ylabel('Number of clicks')\n",
    "plt.title('Number of clicks by hour of day')\n",
    "plt.show()"
   ]
  },
  {
   "cell_type": "code",
   "execution_count": 56,
   "metadata": {},
   "outputs": [
    {
     "name": "stdout",
     "output_type": "stream",
     "text": [
      "Categorical columns: \n",
      "[]\n",
      "   click       hour    C1  banner_pos  device_type  device_conn_type    C14  \\\n",
      "0      0 2014-10-21  1005           0            1                 2  15706   \n",
      "1      0 2014-10-21  1005           0            1                 0  15704   \n",
      "2      0 2014-10-21  1005           0            1                 0  15704   \n",
      "3      0 2014-10-21  1005           0            1                 0  15706   \n",
      "4      0 2014-10-21  1005           1            1                 0  18993   \n",
      "\n",
      "   C15  C16   C17  C18  C19     C20  C21     device_model_int  hour_of_day  \n",
      "0  320   50  1722    0   35      -1   79 -4536565594672005814            0  \n",
      "1  320   50  1722    0   35  100084   79   -80052322344914806            0  \n",
      "2  320   50  1722    0   35  100084   79 -3130634972019121531            0  \n",
      "3  320   50  1722    0   35  100084   79 -8587292268327570678            0  \n",
      "4  320   50  2161    0   35      -1  157 -7699311560514132401            0  \n"
     ]
    }
   ],
   "source": [
    "# Get categorical columns\n",
    "categorical_cols = df.select_dtypes(\n",
    "  include = ['object']).columns.tolist()\n",
    "print(\"Categorical columns: \")\n",
    "print(categorical_cols)\n",
    "\n",
    "# Iterate over categorical columns and apply hash function\n",
    "for col in categorical_cols:\n",
    "\tdf[col] = df[col].apply(lambda x: hash(x))\n",
    "\n",
    "# Print examples of new output\n",
    "print(df.head(5))"
   ]
  },
  {
   "cell_type": "code",
   "execution_count": 60,
   "metadata": {},
   "outputs": [
    {
     "data": {
      "text/plain": [
       "Index(['click', 'hour', 'C1', 'banner_pos', 'device_type', 'device_conn_type',\n",
       "       'C14', 'C15', 'C16', 'C17', 'C18', 'C19', 'C20', 'C21',\n",
       "       'device_model_int', 'hour_of_day'],\n",
       "      dtype='object')"
      ]
     },
     "execution_count": 60,
     "metadata": {},
     "output_type": "execute_result"
    }
   ],
   "source": [
    "df.columns"
   ]
  },
  {
   "cell_type": "code",
   "execution_count": 67,
   "metadata": {},
   "outputs": [
    {
     "name": "stdout",
     "output_type": "stream",
     "text": [
      "100000\n",
      "5\n",
      "100000\n",
      "4\n",
      "100000\n",
      "4\n",
      "   click       hour    C1  banner_pos  device_type  device_conn_type    C14  \\\n",
      "0      0 2014-10-21  1005           0            1                 2  15706   \n",
      "1      0 2014-10-21  1005           0            1                 0  15704   \n",
      "2      0 2014-10-21  1005           0            1                 0  15704   \n",
      "3      0 2014-10-21  1005           0            1                 0  15706   \n",
      "4      0 2014-10-21  1005           1            1                 0  18993   \n",
      "\n",
      "   C15  C16   C17  C18  C19     C20  C21     device_model_int  hour_of_day  \\\n",
      "0  320   50  1722    0   35      -1   79 -4536565594672005814            0   \n",
      "1  320   50  1722    0   35  100084   79   -80052322344914806            0   \n",
      "2  320   50  1722    0   35  100084   79 -3130634972019121531            0   \n",
      "3  320   50  1722    0   35  100084   79 -8587292268327570678            0   \n",
      "4  320   50  2161    0   35      -1  157 -7699311560514132401            0   \n",
      "\n",
      "   device_model_int_count  banner_pos_count  device_type_count  \\\n",
      "0                      67             80249              92597   \n",
      "1                    2108             80249              92597   \n",
      "2                    6886             80249              92597   \n",
      "3                     805             80249              92597   \n",
      "4                    1265             19714              92597   \n",
      "\n",
      "   device_conn_type_count  \n",
      "0                    8097  \n",
      "1                   90708  \n",
      "2                   90708  \n",
      "3                   90708  \n",
      "4                   90708  \n"
     ]
    }
   ],
   "source": [
    "# Get counts of total and unique values for given features\n",
    "feature_list = [\"banner_pos\", \"device_type\", \"device_conn_type\"]\n",
    "for feature in feature_list:\n",
    "\tprint(df[feature].count())\n",
    "\tprint(df[feature].nunique())\n",
    "\n",
    "# Define new features as counts\n",
    "new_feature_list = ['device_model_int'] + feature_list\n",
    "for new_feature in new_feature_list:\n",
    "  df[new_feature + '_count'] = df.groupby(\n",
    "    new_feature)['click'].transform(\"count\")\n",
    "print(df.head(5))"
   ]
  },
  {
   "cell_type": "raw",
   "metadata": {},
   "source": [
    "# Select numeric columns and print median variance\n",
    "num_df = df.select_dtypes(include=['int', 'float'])\n",
    "filter_cols = ['click', 'banner_pos', 'device_type',\n",
    "               'search_engine_type', 'product_type', 'advertiser_type']\n",
    "new_df = num_df[num_df.columns[~num_df.columns.isin(filter_cols)]]\n",
    "median = new_df.var().median()\n",
    "print(median)"
   ]
  },
  {
   "cell_type": "raw",
   "metadata": {},
   "source": [
    "# Get non-categorical columns, with a filter\n",
    "num_df = df.select_dtypes(include=['int', 'float'])\n",
    "filter_cols = ['click', 'banner_pos', 'device_type',\n",
    "               'search_engine_type', 'product_type', 'advertiser_type']\n",
    "new_df = num_df[num_df.columns[~num_df.columns.isin(filter_cols)]]\n",
    "num_cols = new_df.columns\n",
    "\n",
    "# Transform columns using StandardScaler\n",
    "scaler = StandardScaler()\n",
    "df[num_cols] = scaler.fit_transform(df[num_cols])\n",
    "\n",
    "# Print mean and variance of transformed columns\n",
    "print(df[num_cols].mean())\n",
    "print(df[num_cols].var())"
   ]
  },
  {
   "cell_type": "markdown",
   "metadata": {},
   "source": [
    "# Calculating ROI "
   ]
  },
  {
   "cell_type": "raw",
   "metadata": {},
   "source": [
    "total_return = tp * r\n",
    "total_cost = (tp + fp) * c\n",
    "tp * r > (tp + fp) * c\n",
    "roi = total_return / total_spent"
   ]
  },
  {
   "cell_type": "markdown",
   "metadata": {},
   "source": [
    "# Machine Learning Approach"
   ]
  },
  {
   "cell_type": "code",
   "execution_count": 70,
   "metadata": {},
   "outputs": [
    {
     "name": "stdout",
     "output_type": "stream",
     "text": [
      "TN: 15708, FP: 825, FN: 2924, TP: 543\n"
     ]
    }
   ],
   "source": [
    "# Set up classifier using training data to predict test data\n",
    "X_train, X_test, y_train, y_test = train_test_split(\n",
    "  X, y, test_size = .2, random_state = 0)\n",
    "clf = DecisionTreeClassifier()\n",
    "y_pred = clf.fit(X_train, y_train).predict(X_test) \n",
    "\n",
    "# Define confusion matrix and four categories\n",
    "conf_matrix = confusion_matrix(y_test, y_pred)\n",
    "tn = conf_matrix[0][0]\n",
    "fp = conf_matrix[0][1]\n",
    "fn = conf_matrix[1][0]\n",
    "tp = conf_matrix[1][1]\n",
    "\n",
    "print(\"TN: %s, FP: %s, FN: %s, TP: %s\" %(tn, fp, fn, tp))"
   ]
  },
  {
   "cell_type": "code",
   "execution_count": 71,
   "metadata": {},
   "outputs": [
    {
     "name": "stdout",
     "output_type": "stream",
     "text": [
      "Total return: 108.60000000000001, Total cost: 68.4, ROI: 1.587719298245614\n"
     ]
    }
   ],
   "source": [
    "# Compute confusion matrix and get four categories\n",
    "conf_matrix = confusion_matrix(y_test, y_pred)\n",
    "tn, fp, fn, tp = conf_matrix.ravel()\n",
    "\n",
    "# Calculate total return, total spent, and ROI\n",
    "r = 0.2\n",
    "cost = 0.05\n",
    "total_return = tp * r\n",
    "total_cost = (tp + fp) * cost \n",
    "roi = total_return / total_cost\n",
    "print(\"Total return: %s, Total cost: %s, ROI: %s\" %(\n",
    "  total_return, total_cost, roi))"
   ]
  },
  {
   "cell_type": "code",
   "execution_count": 72,
   "metadata": {},
   "outputs": [
    {
     "name": "stdout",
     "output_type": "stream",
     "text": [
      "Precision: 0.765556584901567, Recall: 0.8124\n"
     ]
    }
   ],
   "source": [
    "# Set up training and testing split\n",
    "X_train, X_test, y_train, y_test = train_test_split(\n",
    "  X, y, test_size = .2, random_state = 0)\n",
    "\n",
    "# Create classifier and make predictions\n",
    "clf = DecisionTreeClassifier()\n",
    "y_pred = clf.fit(X_train, y_train).predict(X_test) \n",
    "\n",
    "# Evaluate precision and recall\n",
    "prec = precision_score(y_test, y_pred, average = 'weighted')\n",
    "recall = recall_score(y_test, y_pred, average = 'weighted')\n",
    "print(\"Precision: %s, Recall: %s\" %(prec, recall))"
   ]
  },
  {
   "cell_type": "code",
   "execution_count": 74,
   "metadata": {},
   "outputs": [],
   "source": [
    "import numpy as np"
   ]
  },
  {
   "cell_type": "code",
   "execution_count": 75,
   "metadata": {},
   "outputs": [
    {
     "name": "stdout",
     "output_type": "stream",
     "text": [
      "Confusion matrix: \n",
      "[[16533     0]\n",
      " [ 3467     0]]\n",
      "Precision: 0.6833502225, Recall: 0.82665\n"
     ]
    },
    {
     "name": "stderr",
     "output_type": "stream",
     "text": [
      "C:\\Users\\dyada\\Anaconda3\\lib\\site-packages\\sklearn\\metrics\\classification.py:1437: UndefinedMetricWarning: Precision is ill-defined and being set to 0.0 in labels with no predicted samples.\n",
      "  'precision', 'predicted', average, warn_for)\n"
     ]
    }
   ],
   "source": [
    "# Set up baseline predictions\n",
    "y_pred = np.asarray([0 for x in range(len(X_test))])\n",
    "\n",
    "# Look at confusion matrix\n",
    "print(\"Confusion matrix: \")\n",
    "print(confusion_matrix(y_test, y_pred))\n",
    "\n",
    "# Check precision and recall\n",
    "prec = precision_score(y_test, y_pred, average = 'weighted')\n",
    "recall = recall_score(y_test, y_pred, average = 'weighted')\n",
    "print(\"Precision: %s, Recall: %s\" %(prec, recall))"
   ]
  },
  {
   "cell_type": "code",
   "execution_count": 76,
   "metadata": {},
   "outputs": [
    {
     "name": "stdout",
     "output_type": "stream",
     "text": [
      "Total return: 367.8, Total spent: 511.3, ROI: 0.7193428515548602\n"
     ]
    },
    {
     "name": "stderr",
     "output_type": "stream",
     "text": [
      "C:\\Users\\dyada\\Anaconda3\\lib\\site-packages\\sklearn\\linear_model\\logistic.py:432: FutureWarning: Default solver will be changed to 'lbfgs' in 0.22. Specify a solver to silence this warning.\n",
      "  FutureWarning)\n"
     ]
    }
   ],
   "source": [
    "# Create and fit classifier\n",
    "clf = LogisticRegression()\n",
    "y_pred = clf.fit(X_train, y_train).predict(X_test) \n",
    "\n",
    "# Calculate total return, total spent, and ROI \n",
    "r, cost = 0.2, 0.05\n",
    "tn, fp, fn, tp = confusion_matrix(y_test, y_pred).ravel()\n",
    "total_return = tp * r\n",
    "total_spent = (tp + fp) * cost \n",
    "roi = total_return / total_spent\n",
    "print(\"Total return: %s, Total spent: %s, ROI: %s\" %(total_return, total_spent, roi))"
   ]
  },
  {
   "cell_type": "code",
   "execution_count": 78,
   "metadata": {},
   "outputs": [
    {
     "name": "stdout",
     "output_type": "stream",
     "text": [
      "Evaluating tree with max_depth = 2\n",
      "Confusion matrix: \n",
      "[[16533     0]\n",
      " [ 3467     0]]\n",
      "Precision: 0.6833502225, Recall: 0.82665\n",
      "Evaluating tree with max_depth = 3\n",
      "Confusion matrix: \n",
      "[[16089   444]\n",
      " [ 2984   483]]\n",
      "Precision: 0.7876408651345869, Recall: 0.8286\n",
      "Evaluating tree with max_depth = 5\n",
      "Confusion matrix: \n"
     ]
    },
    {
     "name": "stderr",
     "output_type": "stream",
     "text": [
      "C:\\Users\\dyada\\Anaconda3\\lib\\site-packages\\sklearn\\metrics\\classification.py:1437: UndefinedMetricWarning: Precision is ill-defined and being set to 0.0 in labels with no predicted samples.\n",
      "  'precision', 'predicted', average, warn_for)\n"
     ]
    },
    {
     "name": "stdout",
     "output_type": "stream",
     "text": [
      "[[16211   322]\n",
      " [ 3112   355]]\n",
      "Precision: 0.784416623862502, Recall: 0.8283\n",
      "Evaluating tree with max_depth = 10\n",
      "Confusion matrix: \n",
      "[[16165   368]\n",
      " [ 3108   359]]\n",
      "Precision: 0.7789448705421436, Recall: 0.8262\n",
      "Evaluating tree with max_depth = 15\n",
      "Confusion matrix: \n",
      "[[15994   539]\n",
      " [ 3001   466]]\n",
      "Precision: 0.7764276430430107, Recall: 0.823\n",
      "Evaluating tree with max_depth = 20\n",
      "Confusion matrix: \n",
      "[[15875   658]\n",
      " [ 2980   487]]\n",
      "Precision: 0.769729927358756, Recall: 0.8181\n"
     ]
    }
   ],
   "source": [
    "# Iterate over different levels of max depth\n",
    "for max_depth_val in [2, 3, 5, 10, 15, 20]:\n",
    "  # Create and fit model\n",
    "  clf = DecisionTreeClassifier(max_depth = max_depth_val)\n",
    "  print(\"Evaluating tree with max_depth = %s\" %(max_depth_val))\n",
    "  y_pred = clf.fit(X_train, y_train).predict(X_test) \n",
    "  \n",
    "  # Evaluate confusion matrix, precision, recall\n",
    "  print(\"Confusion matrix: \")\n",
    "  print(confusion_matrix(y_test, y_pred))\n",
    "  precision = precision_score(y_test, y_pred, average = 'weighted')\n",
    "  recall = recall_score(y_test, y_pred, average = 'weighted')\n",
    "  print(\"Precision: %s, Recall: %s\" %(precision, recall))"
   ]
  },
  {
   "cell_type": "code",
   "execution_count": 79,
   "metadata": {},
   "outputs": [
    {
     "name": "stdout",
     "output_type": "stream",
     "text": [
      "Precision scores: [0.76081046 0.76103263 0.75505627 0.76116835]\n",
      "Recall scores: [0.809  0.8074 0.8038 0.8072]\n"
     ]
    }
   ],
   "source": [
    "# Create model \n",
    "clf = DecisionTreeClassifier()\n",
    "\n",
    "# Set up k-fold\n",
    "k_fold = KFold(n_splits = 4, random_state = 0)\n",
    "\n",
    "# Evaluate precision and recall for each fold\n",
    "precision = cross_val_score(\n",
    "  clf, X_train, y_train, cv = k_fold, scoring = 'precision_weighted')\n",
    "recall = cross_val_score(\n",
    "  clf, X_train, y_train, cv = k_fold, scoring = 'recall_weighted')\n",
    "print(\"Precision scores: %s\" %(precision)) \n",
    "print(\"Recall scores: %s\" %(recall))"
   ]
  },
  {
   "cell_type": "code",
   "execution_count": 80,
   "metadata": {},
   "outputs": [
    {
     "name": "stdout",
     "output_type": "stream",
     "text": [
      "Evaluating Decision Tree for max_depth = 3\n",
      "Cross validation Precision: [0.78695073 0.78249538 0.78269398 0.78377152]\n",
      "Test Precision: 0.7876408651345869\n",
      "Evaluating Decision Tree for max_depth = 5\n",
      "Cross validation Precision: [0.78238667 0.78190897 0.78753903 0.78950103]\n",
      "Test Precision: 0.784416623862502\n",
      "Evaluating Decision Tree for max_depth = 10\n",
      "Cross validation Precision: [0.78521683 0.77535147 0.77722276 0.77764682]\n",
      "Test Precision: 0.7791948461022408\n"
     ]
    }
   ],
   "source": [
    "# Iterate over different levels of max depth and set up k-fold\n",
    "for max_depth_val in [3, 5, 10]:\n",
    "  k_fold = KFold(n_splits = 4, random_state = 0)\n",
    "  clf = DecisionTreeClassifier(max_depth = max_depth_val)\n",
    "  print(\"Evaluating Decision Tree for max_depth = %s\" %(max_depth_val))\n",
    "  y_pred = clf.fit(X_train, y_train).predict(X_test) \n",
    "  \n",
    "  # Calculate precision for cross validation and test\n",
    "  cv_precision = cross_val_score(\n",
    "    clf, X_train, y_train, cv = k_fold, scoring = 'precision_weighted')\n",
    "  precision = precision_score(y_test, y_pred, average = 'weighted')\n",
    "  print(\"Cross validation Precision: %s\" %(cv_precision))\n",
    "  print(\"Test Precision: %s\" %(precision))"
   ]
  },
  {
   "cell_type": "code",
   "execution_count": 82,
   "metadata": {},
   "outputs": [],
   "source": [
    "from sklearn.ensemble import RandomForestClassifier"
   ]
  },
  {
   "cell_type": "code",
   "execution_count": 83,
   "metadata": {},
   "outputs": [
    {
     "name": "stdout",
     "output_type": "stream",
     "text": [
      "ROC of AUC: 0.7069566193150579\n",
      "Precision: 0.782741506206127, Recall: 0.8279\n"
     ]
    }
   ],
   "source": [
    "# Create random forest classifier with specified params\n",
    "clf = RandomForestClassifier(n_estimators = 50, max_depth = 5)\n",
    "\n",
    "# Train classifier - predict probability score and label\n",
    "y_score = clf.fit(X_train, y_train).predict_proba(X_test) \n",
    "y_pred = clf.fit(X_train, y_train).predict(X_test) \n",
    "\n",
    "# Get ROC curve metrics\n",
    "fpr, tpr, thresholds = roc_curve(y_test, y_score[:, 1])\n",
    "print(\"ROC of AUC: %s\"%(auc(fpr, tpr)))\n",
    "\n",
    "# Get precision and recall\n",
    "precision = precision_score(y_test, y_pred, average = 'weighted')\n",
    "recall = recall_score(y_test, y_pred, average = 'weighted')\n",
    "print(\"Precision: %s, Recall: %s\" %(precision, recall))"
   ]
  },
  {
   "cell_type": "code",
   "execution_count": 84,
   "metadata": {},
   "outputs": [
    {
     "name": "stdout",
     "output_type": "stream",
     "text": [
      "starting RF grid search.. \n"
     ]
    },
    {
     "name": "stderr",
     "output_type": "stream",
     "text": [
      "C:\\Users\\dyada\\Anaconda3\\lib\\site-packages\\sklearn\\model_selection\\_split.py:1978: FutureWarning: The default value of cv will change from 3 to 5 in version 0.22. Specify it explicitly to silence this warning.\n",
      "  warnings.warn(CV_WARNING, FutureWarning)\n"
     ]
    },
    {
     "name": "stdout",
     "output_type": "stream",
     "text": [
      "Best Score: \n",
      "0.6977879310343978\n",
      "Best Estimator: \n",
      "RandomForestClassifier(bootstrap=True, class_weight=None, criterion='gini',\n",
      "                       max_depth=5, max_features='auto', max_leaf_nodes=None,\n",
      "                       min_impurity_decrease=0.0, min_impurity_split=None,\n",
      "                       min_samples_leaf=1, min_samples_split=2,\n",
      "                       min_weight_fraction_leaf=0.0, n_estimators=50,\n",
      "                       n_jobs=None, oob_score=False, random_state=None,\n",
      "                       verbose=0, warm_start=False)\n"
     ]
    }
   ],
   "source": [
    "# Create list of hyperparameters \n",
    "n_estimators = [10, 50]\n",
    "max_depth = [5, 20]\n",
    "param_grid = {'n_estimators': n_estimators, 'max_depth': max_depth}\n",
    "\n",
    "# Use Grid search CV to find best parameters \n",
    "print(\"starting RF grid search.. \")\n",
    "rf = RandomForestClassifier()\n",
    "clf = GridSearchCV(estimator = rf, param_grid = param_grid, scoring = 'roc_auc')\n",
    "clf.fit(X_train, y_train)\n",
    "print(\"Best Score: \")\n",
    "print(clf.best_score_)\n",
    "print(\"Best Estimator: \")\n",
    "print(clf.best_estimator_)"
   ]
  },
  {
   "cell_type": "markdown",
   "metadata": {},
   "source": [
    "# Deep Learning Approach"
   ]
  },
  {
   "cell_type": "code",
   "execution_count": 88,
   "metadata": {},
   "outputs": [],
   "source": [
    "from sklearn.preprocessing import StandardScaler\n",
    "from sklearn.neural_network import MLPClassifier"
   ]
  },
  {
   "cell_type": "code",
   "execution_count": 89,
   "metadata": {},
   "outputs": [
    {
     "name": "stdout",
     "output_type": "stream",
     "text": [
      "0.9777777777777777\n"
     ]
    }
   ],
   "source": [
    "# Define X and y\n",
    "X, y = image_data.data, image_data.target\n",
    "\n",
    "# Scale features and split into training and testing\n",
    "X_scaled = StandardScaler().fit_transform(X)\n",
    "X_train, X_test, y_train, y_test = train_test_split(\n",
    "  X_scaled, y, test_size = .2, random_state = 0)\n",
    "\n",
    "# Create classifier, train and evaluate accuracy \n",
    "clf = MLPClassifier()\n",
    "y_pred = clf.fit(X_train, y_train).predict(X_test)\n",
    "print(accuracy_score(y_test, y_pred))"
   ]
  },
  {
   "cell_type": "code",
   "execution_count": 90,
   "metadata": {},
   "outputs": [],
   "source": [
    "# Scale features and split into training and testing\n",
    "X_scaled = StandardScaler().fit_transform(X)\n",
    "X_train, X_test, y_train, y_test = train_test_split(\n",
    "  X_scaled, y, test_size = .2, random_state = 0)"
   ]
  },
  {
   "cell_type": "raw",
   "metadata": {},
   "source": [
    "# Loop over various max_iter configurations\n",
    "max_iter_list = [10, 20, 30]\n",
    "for max_iter in max_iter_list:\n",
    "\tclf = MLPClassifier(hidden_layer_sizes = (4, ), \n",
    "                        max_iter = max_iter, random_state = 0)\n",
    "   \t# Extract relevant predictions\n",
    "\ty_score = clf.fit(X_train, y_train).predict_proba(X_test)\n",
    "\ty_pred = clf.fit(X_train, y_train).predict(X_test)\n",
    "\n",
    "\t# Get ROC curve metrics\n",
    "\tprint(\"Accuracy for max_iter = %s: %s\" %(\n",
    "      max_iter, accuracy_score(y_test, y_pred)))\n",
    "\tprint(\"AUC for max_iter = %s: %s\" %(\n",
    "      max_iter, roc_auc_score(y_test, y_score[:, 1])))"
   ]
  },
  {
   "cell_type": "raw",
   "metadata": {},
   "source": [
    "# Create list of hyperparameters \n",
    "max_iter = [10, 20]\n",
    "hidden_layer_sizes = [(8, ), (16, )]\n",
    "param_grid = {'max_iter': max_iter, 'hidden_layer_sizes': hidden_layer_sizes}\n",
    "\n",
    "# Use Grid search CV to find best parameters using 4 jobs\n",
    "mlp = MLPClassifier()\n",
    "clf = GridSearchCV(estimator = mlp, param_grid = param_grid, \n",
    "                   scoring = 'roc_auc', n_jobs = 4)\n",
    "clf.fit(X_train, y_train)\n",
    "print(\"Best Score: \")\n",
    "print(clf.best_score_)\n",
    "print(\"Best Estimator: \")\n",
    "print(clf.best_estimator_)"
   ]
  },
  {
   "cell_type": "raw",
   "metadata": {},
   "source": [
    "# Set up MLP classifier, train and predict\n",
    "X_train, X_test, y_train, y_test = train_test_split(\n",
    "  X, y, test_size = .2, random_state = 0)\n",
    "clf = MLPClassifier(hidden_layer_sizes = (16, ), \n",
    "                    max_iter = 10, random_state = 0)\n",
    "y_pred = clf.fit(X_train, y_train).predict(X_test) \n",
    "\n",
    "# Evaluate precision and recall\n",
    "prec = precision_score(y_test, y_pred, average = 'weighted')\n",
    "recall = recall_score(y_test, y_pred, average = 'weighted')\n",
    "fbeta = fbeta_score(y_test, y_pred, beta = 0.5, average = 'weighted')\n",
    "print(\"Precision: %s, Recall: %s, F-beta score: %s\" %(prec, recall, fbeta))"
   ]
  },
  {
   "cell_type": "raw",
   "metadata": {},
   "source": [
    "# Get precision and total ROI\n",
    "prec = precision_score(y_test, y_pred, average = 'weighted')\n",
    "r = 0.2\n",
    "cost = 0.05 \n",
    "roi = prec * r / cost\n",
    "\n",
    "# Get AUC\n",
    "roc_auc = roc_auc_score(y_test, y_score[:, 1])\n",
    "\n",
    "print(\"Total ROI: %s, Precision: %s, AUC of ROC curve: %s\" %(\n",
    "  roi, prec, roc_auc))"
   ]
  },
  {
   "cell_type": "raw",
   "metadata": {},
   "source": [
    "# Create the list of models in the order below\n",
    "names = ['Random Forest', 'Multi-Layer Perceptron']\n",
    "classifiers = [RandomForestClassifier(), \n",
    "               MLPClassifier(hidden_layer_sizes = (10, ),\n",
    "                             max_iter = 40)]\n",
    "\n",
    "# Produce a confusion matrix for all classifiers\n",
    "for name, classifier in zip(names, classifiers):\n",
    "  print(\"Evaluating classifier: %s\" %(name))\n",
    "  classifier.fit(X_train, y_train)\n",
    "  y_pred = classifier.predict(X_test)\n",
    "  conf_matrix = confusion_matrix(y_test, y_pred)\n",
    "  print(conf_matrix)"
   ]
  },
  {
   "cell_type": "raw",
   "metadata": {},
   "source": [
    "# Create list of classifiers\n",
    "names = ['Logistic Regression',  'Decision Tree',\n",
    "         'Random Forest', 'Multi-Layer Perceptron']\n",
    "clfs = [LogisticRegression(), \n",
    "        DecisionTreeClassifier(), RandomForestClassifier(), \n",
    "        MLPClassifier(hidden_layer_sizes = (5, ), max_iter = 40)]\n",
    "\n",
    "# Fit each classifier and evaluate AUC of ROC curve \n",
    "for name, classifier in zip(names, clfs):\n",
    "  classifier.fit(X_train, y_train)\n",
    "  y_score = classifier.predict_proba(X_test)\n",
    "  y_pred = classifier.predict(X_test) \n",
    "  prec = precision_score(y_test, y_pred, average = 'weighted')\n",
    "  print(\"Precision for %s: %s \" %(name, prec))"
   ]
  },
  {
   "cell_type": "raw",
   "metadata": {},
   "source": [
    "# Create classifiers\n",
    "clfs = [LogisticRegression(), DecisionTreeClassifier(), RandomForestClassifier(), \n",
    "        MLPClassifier(hidden_layer_sizes = (10, ), max_iter = 50)]\n",
    "\n",
    "# Produce all evaluation metrics for each classifier\n",
    "for clf in clfs:\n",
    "  print(\"Evaluating classifier: %s\" %(print_estimator_name(clf)))\n",
    "  y_score = clf.fit(X_train, y_train).predict_proba(X_test)\n",
    "  y_pred = clf.fit(X_train, y_train).predict(X_test)\n",
    "  prec = precision_score(y_test, y_pred, average = 'weighted')\n",
    "  recall = recall_score(y_test, y_pred, average = 'weighted')\n",
    "  fbeta = fbeta_score(y_test, y_pred, beta = 0.5, average = 'weighted')\n",
    "  roc_auc = roc_auc_score(y_test, y_score[:, 1])\n",
    "  print(\"Precision: %s: Recall: %s, F-beta score: %s, AUC of ROC curve: %s\" \n",
    "        %(prec, recall, fbeta, roc_auc))"
   ]
  }
 ],
 "metadata": {
  "kernelspec": {
   "display_name": "Python 3",
   "language": "python",
   "name": "python3"
  },
  "language_info": {
   "codemirror_mode": {
    "name": "ipython",
    "version": 3
   },
   "file_extension": ".py",
   "mimetype": "text/x-python",
   "name": "python",
   "nbconvert_exporter": "python",
   "pygments_lexer": "ipython3",
   "version": "3.7.4"
  }
 },
 "nbformat": 4,
 "nbformat_minor": 2
}
