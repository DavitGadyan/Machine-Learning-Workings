{
 "cells": [
  {
   "cell_type": "code",
   "execution_count": 44,
   "metadata": {},
   "outputs": [
    {
     "name": "stdout",
     "output_type": "stream",
     "text": [
      "        Transaction\n",
      "0  History,Bookmark\n",
      "1  History,Bookmark\n"
     ]
    }
   ],
   "source": [
    "import pandas as pd\n",
    "import numpy as np\n",
    "from itertools import permutations \n",
    "# Load transactions from pandas.\n",
    "books = pd.read_csv(\"datasets/bookstore_transactions.csv\")\n",
    "\n",
    "# Print the header\n",
    "print(books.head(2))"
   ]
  },
  {
   "cell_type": "code",
   "execution_count": 13,
   "metadata": {},
   "outputs": [
    {
     "data": {
      "text/plain": [
       "Biography,Bookmark    40\n",
       "History,Bookmark      25\n",
       "Fiction,Bookmark      25\n",
       "Poetry,Bookmark        9\n",
       "Name: Transaction, dtype: int64"
      ]
     },
     "execution_count": 13,
     "metadata": {},
     "output_type": "execute_result"
    }
   ],
   "source": [
    "books.Transaction.value_counts()"
   ]
  },
  {
   "cell_type": "code",
   "execution_count": 7,
   "metadata": {},
   "outputs": [],
   "source": [
    "# Split transaction strings into lists.\n",
    "transactions = books['Transaction'].apply(lambda t: t.split(','))\n",
    "# Convert DataFrame into list of strings.\n",
    "transactions = list(transactions)"
   ]
  },
  {
   "cell_type": "code",
   "execution_count": 14,
   "metadata": {},
   "outputs": [
    {
     "data": {
      "text/plain": [
       "40"
      ]
     },
     "execution_count": 14,
     "metadata": {},
     "output_type": "execute_result"
    }
   ],
   "source": [
    "transactions.count(['Biography','Bookmark'])"
   ]
  },
  {
   "cell_type": "code",
   "execution_count": 17,
   "metadata": {},
   "outputs": [
    {
     "data": {
      "text/plain": [
       "9"
      ]
     },
     "execution_count": 17,
     "metadata": {},
     "output_type": "execute_result"
    }
   ],
   "source": [
    "transactions.count(['Poetry','Bookmark'])"
   ]
  },
  {
   "cell_type": "code",
   "execution_count": 19,
   "metadata": {},
   "outputs": [
    {
     "name": "stdout",
     "output_type": "stream",
     "text": [
      "    Biography  Bookmark  Fiction  History  Poetry\n",
      "0       False      True    False     True   False\n",
      "1       False      True    False     True   False\n",
      "2       False      True     True    False   False\n",
      "3        True      True    False    False   False\n",
      "4       False      True    False     True   False\n",
      "..        ...       ...      ...      ...     ...\n",
      "94       True      True    False    False   False\n",
      "95      False      True    False    False    True\n",
      "96      False      True    False     True   False\n",
      "97       True      True    False    False   False\n",
      "98       True      True    False    False   False\n",
      "\n",
      "[99 rows x 5 columns]\n"
     ]
    }
   ],
   "source": [
    "# Import the transaction encoder function from mlxtend\n",
    "from mlxtend.preprocessing import TransactionEncoder\n",
    "import pandas as pd\n",
    "\n",
    "# Instantiate transaction encoder and identify unique items\n",
    "encoder = TransactionEncoder().fit(transactions)\n",
    "\n",
    "# One-hot encode transactions\n",
    "onehot = encoder.transform(transactions)\n",
    "\n",
    "# Convert one-hot encoded data to DataFrame\n",
    "onehot = pd.DataFrame(onehot, columns = encoder.columns_)\n",
    "\n",
    "# Print the one-hot encoded transaction dataset\n",
    "print(onehot)"
   ]
  },
  {
   "cell_type": "code",
   "execution_count": 20,
   "metadata": {},
   "outputs": [
    {
     "name": "stdout",
     "output_type": "stream",
     "text": [
      "Biography    0.404040\n",
      "Bookmark     1.000000\n",
      "Fiction      0.252525\n",
      "History      0.252525\n",
      "Poetry       0.090909\n",
      "dtype: float64\n"
     ]
    }
   ],
   "source": [
    "# Compute the support\n",
    "support = onehot.mean()\n",
    "\n",
    "# Print the support\n",
    "print(support)"
   ]
  },
  {
   "cell_type": "code",
   "execution_count": 23,
   "metadata": {},
   "outputs": [
    {
     "name": "stdout",
     "output_type": "stream",
     "text": [
      "Biography            0.404040\n",
      "Bookmark             1.000000\n",
      "Fiction              0.252525\n",
      "History              0.252525\n",
      "Poetry               0.090909\n",
      "Biography+History    0.000000\n",
      "dtype: float64\n"
     ]
    }
   ],
   "source": [
    "# Add a jam+bread column to the DataFrame onehot\n",
    "onehot['Biography+History'] = np.logical_and(onehot['Biography'], onehot['History'])\n",
    "\n",
    "# Compute the support\n",
    "support = onehot.mean()\n",
    "\n",
    "# Print the support values\n",
    "print(support)"
   ]
  },
  {
   "cell_type": "code",
   "execution_count": 25,
   "metadata": {},
   "outputs": [
    {
     "name": "stdout",
     "output_type": "stream",
     "text": [
      "   movieId             title                                       genres\n",
      "0        1  Toy Story (1995)  Adventure|Animation|Children|Comedy|Fantasy\n",
      "1        2    Jumanji (1995)                   Adventure|Children|Fantasy\n"
     ]
    }
   ],
   "source": [
    "# Load transactions from pandas.\n",
    "movies = pd.read_csv(\"datasets/movielens_movies.csv\")\n",
    "\n",
    "# Print the header\n",
    "print(movies.head(2))"
   ]
  },
  {
   "cell_type": "code",
   "execution_count": 26,
   "metadata": {},
   "outputs": [],
   "source": [
    "# Split transaction strings into lists.\n",
    "transactions = movies['genres'].apply(lambda t: t.split('|'))\n",
    "# Convert DataFrame into list of strings.\n",
    "transactions = list(transactions)"
   ]
  },
  {
   "cell_type": "code",
   "execution_count": 27,
   "metadata": {},
   "outputs": [
    {
     "name": "stdout",
     "output_type": "stream",
     "text": [
      "       (no genres listed)  Action  Adventure  Animation  Children  Comedy  \\\n",
      "0                   False   False       True       True      True    True   \n",
      "1                   False   False       True      False      True   False   \n",
      "2                   False   False      False      False     False    True   \n",
      "3                   False   False      False      False     False    True   \n",
      "4                   False   False      False      False     False    True   \n",
      "...                   ...     ...        ...        ...       ...     ...   \n",
      "27273               False   False      False      False     False    True   \n",
      "27274               False   False      False      False     False    True   \n",
      "27275               False   False       True      False     False   False   \n",
      "27276                True   False      False      False     False   False   \n",
      "27277               False   False       True      False     False   False   \n",
      "\n",
      "       Crime  Documentary  Drama  Fantasy  Film-Noir  Horror   IMAX  Musical  \\\n",
      "0      False        False  False     True      False   False  False    False   \n",
      "1      False        False  False     True      False   False  False    False   \n",
      "2      False        False  False    False      False   False  False    False   \n",
      "3      False        False   True    False      False   False  False    False   \n",
      "4      False        False  False    False      False   False  False    False   \n",
      "...      ...          ...    ...      ...        ...     ...    ...      ...   \n",
      "27273  False        False  False    False      False   False  False    False   \n",
      "27274  False        False  False    False      False   False  False    False   \n",
      "27275  False        False  False    False      False   False  False    False   \n",
      "27276  False        False  False    False      False   False  False    False   \n",
      "27277  False        False  False     True      False    True  False    False   \n",
      "\n",
      "       Mystery  Romance  Sci-Fi  Thriller    War  Western  \n",
      "0        False    False   False     False  False    False  \n",
      "1        False    False   False     False  False    False  \n",
      "2        False     True   False     False  False    False  \n",
      "3        False     True   False     False  False    False  \n",
      "4        False    False   False     False  False    False  \n",
      "...        ...      ...     ...       ...    ...      ...  \n",
      "27273    False    False   False     False  False    False  \n",
      "27274    False    False   False     False  False    False  \n",
      "27275    False    False   False     False  False    False  \n",
      "27276    False    False   False     False  False    False  \n",
      "27277    False    False   False     False  False    False  \n",
      "\n",
      "[27278 rows x 20 columns]\n"
     ]
    }
   ],
   "source": [
    "# Import the transaction encoder function from mlxtend\n",
    "from mlxtend.preprocessing import TransactionEncoder\n",
    "import pandas as pd\n",
    "\n",
    "# Instantiate transaction encoder and identify unique items\n",
    "encoder = TransactionEncoder().fit(transactions)\n",
    "\n",
    "# One-hot encode transactions\n",
    "onehot = encoder.transform(transactions)\n",
    "\n",
    "# Convert one-hot encoded data to DataFrame\n",
    "onehot = pd.DataFrame(onehot, columns = encoder.columns_)\n",
    "\n",
    "# Print the one-hot encoded transaction dataset\n",
    "print(onehot)"
   ]
  },
  {
   "cell_type": "code",
   "execution_count": 30,
   "metadata": {},
   "outputs": [
    {
     "name": "stdout",
     "output_type": "stream",
     "text": [
      "Hunger Games and Harry Potter: 0.00\n",
      "Hunger Games and Twilight: 0.00\n",
      "Hunger Games and Twilight: 0.02\n"
     ]
    }
   ],
   "source": [
    "supportCD = np.logical_and(onehot['Crime'], onehot['Documentary']).mean()\n",
    "supportFW = np.logical_and(onehot['Fantasy'], onehot['War']).mean()\n",
    "supportCC = np.logical_and(onehot['Comedy'], onehot['Children']).mean()\n",
    "\n",
    "# Print support values\n",
    "print(\"Hunger Games and Harry Potter: %.2f\" % supportCD)\n",
    "print(\"Hunger Games and Twilight: %.2f\" % supportFW)\n",
    "print(\"Hunger Games and Twilight: %.2f\" % supportCC)"
   ]
  },
  {
   "cell_type": "code",
   "execution_count": 31,
   "metadata": {},
   "outputs": [
    {
     "name": "stdout",
     "output_type": "stream",
     "text": [
      "0.46, 0.06\n"
     ]
    }
   ],
   "source": [
    "# Compute support for Potter and Twilight\n",
    "supportCC = np.logical_and(onehot['Comedy'], onehot['Children']).mean()\n",
    "\n",
    "# Compute support for Potter\n",
    "supportCh = onehot['Children'].mean()\n",
    "\n",
    "# Compute support for Twilight\n",
    "supportCo = onehot['Comedy'].mean()\n",
    "\n",
    "# Compute confidence for both rules\n",
    "confidenceCh_Co = supportCC / supportCh\n",
    "confidenceCo_Ch = supportCC / supportCo\n",
    "\n",
    "# Print results\n",
    "print('{0:.2f}, {1:.2f}'.format(confidenceCh_Co, confidenceCo_Ch))"
   ]
  },
  {
   "cell_type": "code",
   "execution_count": 34,
   "metadata": {},
   "outputs": [
    {
     "name": "stdout",
     "output_type": "stream",
     "text": [
      "Lift: 1.50\n"
     ]
    }
   ],
   "source": [
    "# Compute support for Comedy and Children\n",
    "supportCC = np.logical_and(onehot['Comedy'], onehot['Children']).mean()\n",
    "\n",
    "# Compute support for Children\n",
    "supportCh = onehot['Children'].mean()\n",
    "\n",
    "# Compute support for Comedy\n",
    "supportCo = onehot['Comedy'].mean()\n",
    "\n",
    "# Compute lift\n",
    "lift = supportCC / (supportCh * supportCo)\n",
    "\n",
    "# Print lift\n",
    "print(\"Lift: %.2f\" % lift)"
   ]
  },
  {
   "cell_type": "markdown",
   "metadata": {},
   "source": [
    "# Lift is more than 1 hence relationship between movies of Children genre and Comedy is not random"
   ]
  },
  {
   "cell_type": "code",
   "execution_count": 35,
   "metadata": {},
   "outputs": [
    {
     "name": "stdout",
     "output_type": "stream",
     "text": [
      "Conviction: 1.29\n"
     ]
    }
   ],
   "source": [
    "# Compute support for Comedy and Children\n",
    "supportCC = np.logical_and(onehot['Comedy'], onehot['Children']).mean()\n",
    "\n",
    "# Compute support for Children\n",
    "supportCh = onehot['Children'].mean()\n",
    "\n",
    "\n",
    "# Compute support for NOT Hunger\n",
    "supportnCo = 1.0 - onehot['Comedy'].mean()\n",
    "\n",
    "# Compute support for Potter and NOT Hunger\n",
    "supportChnCo = supportCh - supportCC\n",
    "\n",
    "# Compute and print conviction for Potter -> Hunger\n",
    "conviction = supportCh * supportnCo / supportChnCo\n",
    "print(\"Conviction: %.2f\" % conviction)"
   ]
  },
  {
   "cell_type": "markdown",
   "metadata": {},
   "source": [
    "# Conviction"
   ]
  },
  {
   "cell_type": "code",
   "execution_count": 36,
   "metadata": {},
   "outputs": [],
   "source": [
    "def conviction(antecedent, consequent):\n",
    "\t# Compute support for antecedent AND consequent\n",
    "\tsupportAC = np.logical_and(antecedent, consequent).mean()\n",
    "\n",
    "\t# Compute support for antecedent\n",
    "\tsupportA = antecedent.mean()\n",
    "\n",
    "\t# Compute support for NOT consequent\n",
    "\tsupportnC = 1.0 - consequent.mean()\n",
    "\n",
    "\t# Compute support for antecedent and NOT consequent\n",
    "\tsupportAnC = supportA - supportAC\n",
    "\n",
    "    # Return conviction\n",
    "\treturn supportA * supportnC / supportAnC"
   ]
  },
  {
   "cell_type": "code",
   "execution_count": 37,
   "metadata": {},
   "outputs": [
    {
     "data": {
      "text/plain": [
       "Index(['(no genres listed)', 'Action', 'Adventure', 'Animation', 'Children',\n",
       "       'Comedy', 'Crime', 'Documentary', 'Drama', 'Fantasy', 'Film-Noir',\n",
       "       'Horror', 'IMAX', 'Musical', 'Mystery', 'Romance', 'Sci-Fi', 'Thriller',\n",
       "       'War', 'Western'],\n",
       "      dtype='object')"
      ]
     },
     "execution_count": 37,
     "metadata": {},
     "output_type": "execute_result"
    }
   ],
   "source": [
    "onehot.columns"
   ]
  },
  {
   "cell_type": "code",
   "execution_count": 38,
   "metadata": {},
   "outputs": [
    {
     "name": "stdout",
     "output_type": "stream",
     "text": [
      "Documentary -> Sci-Fi:  0.9402881770770929\n",
      "Sci-Fi -> Documentary:  0.9151899050864022\n"
     ]
    }
   ],
   "source": [
    "# Compute conviction for Documentary -> Sci-Fi and Sci-Fi -> Documentary\n",
    "convictionDS = conviction(onehot['Documentary'], onehot['Sci-Fi'])\n",
    "convictionSD = conviction(onehot['Sci-Fi'], onehot['Documentary'])\n",
    "\n",
    "\n",
    "# Print results\n",
    "print('Documentary -> Sci-Fi: ', convictionDS)\n",
    "print('Sci-Fi -> Documentary: ', convictionSD)"
   ]
  },
  {
   "cell_type": "code",
   "execution_count": 39,
   "metadata": {},
   "outputs": [
    {
     "name": "stdout",
     "output_type": "stream",
     "text": [
      "Children -> Animation:  1.6384414758039654\n",
      "Animation -> Children:  1.7668174996640087\n"
     ]
    }
   ],
   "source": [
    "# Compute conviction for Children -> Animation and Animation -> Children\n",
    "convictionCA = conviction(onehot['Children'], onehot['Animation'])\n",
    "convictionAC = conviction(onehot['Animation'], onehot['Children'])\n",
    "\n",
    "\n",
    "# Print results\n",
    "print('Children -> Animation: ', convictionCA)\n",
    "print('Animation -> Children: ', convictionAC)"
   ]
  },
  {
   "cell_type": "markdown",
   "metadata": {},
   "source": [
    "# Notice that the value of conviction was less than 1, suggesting that the rule `if Potter then Hunger'' is not supported."
   ]
  },
  {
   "cell_type": "markdown",
   "metadata": {},
   "source": [
    "# Zhang metric"
   ]
  },
  {
   "cell_type": "code",
   "execution_count": 41,
   "metadata": {},
   "outputs": [
    {
     "name": "stdout",
     "output_type": "stream",
     "text": [
      "0.22340325333081665\n"
     ]
    }
   ],
   "source": [
    "# Zhang metric Comdefy --> Children (range +1 -1)\n",
    "\n",
    "# Compute support for Children\n",
    "supportCh = onehot['Children'].mean()\n",
    "\n",
    "\n",
    "# Compute support for NOT Hunger\n",
    "supportCo = onehot['Comedy'].mean()\n",
    "\n",
    "supportCC = np.logical_and(onehot['Comedy'], onehot['Children']).mean()\n",
    "\n",
    "# Complete the expressions for the numerator and denominator\n",
    "numerator = supportCC - supportCh*supportCo\n",
    "denominator = max(supportCC*(1-supportCh), supportCh*(1-supportCo))\n",
    "\n",
    "# Compute and print Zhang's metric\n",
    "zhang = numerator / denominator\n",
    "print(zhang)"
   ]
  },
  {
   "cell_type": "code",
   "execution_count": 42,
   "metadata": {},
   "outputs": [],
   "source": [
    "# Define a function to compute Zhang's metric\n",
    "def zhang(antecedent, consequent):\n",
    "\t# Compute the support of each book\n",
    "\tsupportA = antecedent.mean()\n",
    "\tsupportC = consequent.mean()\n",
    "\n",
    "\t# Compute the support of both books\n",
    "\tsupportAC = np.logical_and(antecedent, consequent).mean()\n",
    "\n",
    "\t# Complete the expressions for the numerator and denominator\n",
    "\tnumerator = supportAC - supportA*supportC\n",
    "\tdenominator = max(supportAC*(1-supportC), supportA*(1-supportC))\n",
    "\n",
    "\t# Return Zhang's metric\n",
    "\treturn numerator / denominator"
   ]
  },
  {
   "cell_type": "code",
   "execution_count": 64,
   "metadata": {},
   "outputs": [],
   "source": [
    "itemsets = permutations(['Action', 'Adventure', 'Animation', 'Children', 'Comedy', 'Crime',\n",
    "       'Documentary', 'Drama', 'Fantasy', 'Film-Noir', 'Horror', 'IMAX',\n",
    "       'Musical', 'Mystery', 'Romance', 'Sci-Fi', 'Thriller', 'War',\n",
    "       'Western'], 2) "
   ]
  },
  {
   "cell_type": "code",
   "execution_count": 69,
   "metadata": {},
   "outputs": [
    {
     "name": "stdout",
     "output_type": "stream",
     "text": [
      "('Action', 'Adventure')\n",
      "('Action', 'Animation')\n",
      "('Action', 'Children')\n",
      "('Action', 'Comedy')\n",
      "('Action', 'Crime')\n",
      "('Action', 'Documentary')\n",
      "('Action', 'Drama')\n",
      "('Action', 'Fantasy')\n",
      "('Action', 'Film-Noir')\n",
      "('Action', 'Horror')\n",
      "('Action', 'IMAX')\n",
      "('Action', 'Musical')\n",
      "('Action', 'Mystery')\n",
      "('Action', 'Romance')\n",
      "('Action', 'Sci-Fi')\n",
      "('Action', 'Thriller')\n",
      "('Action', 'War')\n",
      "('Action', 'Western')\n",
      "('Adventure', 'Action')\n",
      "('Adventure', 'Animation')\n",
      "('Adventure', 'Children')\n",
      "('Adventure', 'Comedy')\n",
      "('Adventure', 'Crime')\n",
      "('Adventure', 'Documentary')\n",
      "('Adventure', 'Drama')\n",
      "('Adventure', 'Fantasy')\n",
      "('Adventure', 'Film-Noir')\n",
      "('Adventure', 'Horror')\n",
      "('Adventure', 'IMAX')\n",
      "('Adventure', 'Musical')\n",
      "('Adventure', 'Mystery')\n",
      "('Adventure', 'Romance')\n",
      "('Adventure', 'Sci-Fi')\n",
      "('Adventure', 'Thriller')\n",
      "('Adventure', 'War')\n",
      "('Adventure', 'Western')\n",
      "('Animation', 'Action')\n",
      "('Animation', 'Adventure')\n",
      "('Animation', 'Children')\n",
      "('Animation', 'Comedy')\n",
      "('Animation', 'Crime')\n",
      "('Animation', 'Documentary')\n",
      "('Animation', 'Drama')\n",
      "('Animation', 'Fantasy')\n",
      "('Animation', 'Film-Noir')\n",
      "('Animation', 'Horror')\n",
      "('Animation', 'IMAX')\n",
      "('Animation', 'Musical')\n",
      "('Animation', 'Mystery')\n",
      "('Animation', 'Romance')\n",
      "('Animation', 'Sci-Fi')\n",
      "('Animation', 'Thriller')\n",
      "('Animation', 'War')\n",
      "('Animation', 'Western')\n",
      "('Children', 'Action')\n",
      "('Children', 'Adventure')\n",
      "('Children', 'Animation')\n",
      "('Children', 'Comedy')\n",
      "('Children', 'Crime')\n",
      "('Children', 'Documentary')\n",
      "('Children', 'Drama')\n",
      "('Children', 'Fantasy')\n",
      "('Children', 'Film-Noir')\n",
      "('Children', 'Horror')\n",
      "('Children', 'IMAX')\n",
      "('Children', 'Musical')\n",
      "('Children', 'Mystery')\n",
      "('Children', 'Romance')\n",
      "('Children', 'Sci-Fi')\n",
      "('Children', 'Thriller')\n",
      "('Children', 'War')\n",
      "('Children', 'Western')\n",
      "('Comedy', 'Action')\n",
      "('Comedy', 'Adventure')\n",
      "('Comedy', 'Animation')\n",
      "('Comedy', 'Children')\n",
      "('Comedy', 'Crime')\n",
      "('Comedy', 'Documentary')\n",
      "('Comedy', 'Drama')\n",
      "('Comedy', 'Fantasy')\n",
      "('Comedy', 'Film-Noir')\n",
      "('Comedy', 'Horror')\n",
      "('Comedy', 'IMAX')\n",
      "('Comedy', 'Musical')\n",
      "('Comedy', 'Mystery')\n",
      "('Comedy', 'Romance')\n",
      "('Comedy', 'Sci-Fi')\n",
      "('Comedy', 'Thriller')\n",
      "('Comedy', 'War')\n",
      "('Comedy', 'Western')\n",
      "('Crime', 'Action')\n",
      "('Crime', 'Adventure')\n",
      "('Crime', 'Animation')\n",
      "('Crime', 'Children')\n",
      "('Crime', 'Comedy')\n",
      "('Crime', 'Documentary')\n",
      "('Crime', 'Drama')\n",
      "('Crime', 'Fantasy')\n",
      "('Crime', 'Film-Noir')\n",
      "('Crime', 'Horror')\n",
      "('Crime', 'IMAX')\n",
      "('Crime', 'Musical')\n",
      "('Crime', 'Mystery')\n",
      "('Crime', 'Romance')\n",
      "('Crime', 'Sci-Fi')\n",
      "('Crime', 'Thriller')\n",
      "('Crime', 'War')\n",
      "('Crime', 'Western')\n",
      "('Documentary', 'Action')\n",
      "('Documentary', 'Adventure')\n",
      "('Documentary', 'Animation')\n",
      "('Documentary', 'Children')\n",
      "('Documentary', 'Comedy')\n",
      "('Documentary', 'Crime')\n",
      "('Documentary', 'Drama')\n",
      "('Documentary', 'Fantasy')\n",
      "('Documentary', 'Film-Noir')\n",
      "('Documentary', 'Horror')\n",
      "('Documentary', 'IMAX')\n",
      "('Documentary', 'Musical')\n",
      "('Documentary', 'Mystery')\n",
      "('Documentary', 'Romance')\n",
      "('Documentary', 'Sci-Fi')\n",
      "('Documentary', 'Thriller')\n",
      "('Documentary', 'War')\n",
      "('Documentary', 'Western')\n",
      "('Drama', 'Action')\n",
      "('Drama', 'Adventure')\n",
      "('Drama', 'Animation')\n",
      "('Drama', 'Children')\n",
      "('Drama', 'Comedy')\n",
      "('Drama', 'Crime')\n",
      "('Drama', 'Documentary')\n",
      "('Drama', 'Fantasy')\n",
      "('Drama', 'Film-Noir')\n",
      "('Drama', 'Horror')\n",
      "('Drama', 'IMAX')\n",
      "('Drama', 'Musical')\n",
      "('Drama', 'Mystery')\n",
      "('Drama', 'Romance')\n",
      "('Drama', 'Sci-Fi')\n",
      "('Drama', 'Thriller')\n",
      "('Drama', 'War')\n",
      "('Drama', 'Western')\n",
      "('Fantasy', 'Action')\n",
      "('Fantasy', 'Adventure')\n",
      "('Fantasy', 'Animation')\n",
      "('Fantasy', 'Children')\n",
      "('Fantasy', 'Comedy')\n",
      "('Fantasy', 'Crime')\n",
      "('Fantasy', 'Documentary')\n",
      "('Fantasy', 'Drama')\n",
      "('Fantasy', 'Film-Noir')\n",
      "('Fantasy', 'Horror')\n",
      "('Fantasy', 'IMAX')\n",
      "('Fantasy', 'Musical')\n",
      "('Fantasy', 'Mystery')\n",
      "('Fantasy', 'Romance')\n",
      "('Fantasy', 'Sci-Fi')\n",
      "('Fantasy', 'Thriller')\n",
      "('Fantasy', 'War')\n",
      "('Fantasy', 'Western')\n",
      "('Film-Noir', 'Action')\n",
      "('Film-Noir', 'Adventure')\n",
      "('Film-Noir', 'Animation')\n",
      "('Film-Noir', 'Children')\n",
      "('Film-Noir', 'Comedy')\n",
      "('Film-Noir', 'Crime')\n",
      "('Film-Noir', 'Documentary')\n",
      "('Film-Noir', 'Drama')\n",
      "('Film-Noir', 'Fantasy')\n",
      "('Film-Noir', 'Horror')\n",
      "('Film-Noir', 'IMAX')\n",
      "('Film-Noir', 'Musical')\n",
      "('Film-Noir', 'Mystery')\n",
      "('Film-Noir', 'Romance')\n",
      "('Film-Noir', 'Sci-Fi')\n",
      "('Film-Noir', 'Thriller')\n",
      "('Film-Noir', 'War')\n",
      "('Film-Noir', 'Western')\n",
      "('Horror', 'Action')\n",
      "('Horror', 'Adventure')\n",
      "('Horror', 'Animation')\n",
      "('Horror', 'Children')\n",
      "('Horror', 'Comedy')\n",
      "('Horror', 'Crime')\n",
      "('Horror', 'Documentary')\n",
      "('Horror', 'Drama')\n",
      "('Horror', 'Fantasy')\n",
      "('Horror', 'Film-Noir')\n",
      "('Horror', 'IMAX')\n",
      "('Horror', 'Musical')\n",
      "('Horror', 'Mystery')\n",
      "('Horror', 'Romance')\n",
      "('Horror', 'Sci-Fi')\n",
      "('Horror', 'Thriller')\n",
      "('Horror', 'War')\n",
      "('Horror', 'Western')\n",
      "('IMAX', 'Action')\n",
      "('IMAX', 'Adventure')\n",
      "('IMAX', 'Animation')\n",
      "('IMAX', 'Children')\n",
      "('IMAX', 'Comedy')\n",
      "('IMAX', 'Crime')\n",
      "('IMAX', 'Documentary')\n",
      "('IMAX', 'Drama')\n",
      "('IMAX', 'Fantasy')\n",
      "('IMAX', 'Film-Noir')\n",
      "('IMAX', 'Horror')\n",
      "('IMAX', 'Musical')\n",
      "('IMAX', 'Mystery')\n",
      "('IMAX', 'Romance')\n",
      "('IMAX', 'Sci-Fi')\n",
      "('IMAX', 'Thriller')\n",
      "('IMAX', 'War')\n",
      "('IMAX', 'Western')\n",
      "('Musical', 'Action')\n",
      "('Musical', 'Adventure')\n",
      "('Musical', 'Animation')\n",
      "('Musical', 'Children')\n",
      "('Musical', 'Comedy')\n",
      "('Musical', 'Crime')\n",
      "('Musical', 'Documentary')\n",
      "('Musical', 'Drama')\n",
      "('Musical', 'Fantasy')\n",
      "('Musical', 'Film-Noir')\n",
      "('Musical', 'Horror')\n",
      "('Musical', 'IMAX')\n",
      "('Musical', 'Mystery')\n",
      "('Musical', 'Romance')\n",
      "('Musical', 'Sci-Fi')\n",
      "('Musical', 'Thriller')\n",
      "('Musical', 'War')\n",
      "('Musical', 'Western')\n",
      "('Mystery', 'Action')\n",
      "('Mystery', 'Adventure')\n",
      "('Mystery', 'Animation')\n",
      "('Mystery', 'Children')\n",
      "('Mystery', 'Comedy')\n",
      "('Mystery', 'Crime')\n",
      "('Mystery', 'Documentary')\n",
      "('Mystery', 'Drama')\n",
      "('Mystery', 'Fantasy')\n",
      "('Mystery', 'Film-Noir')\n",
      "('Mystery', 'Horror')\n",
      "('Mystery', 'IMAX')\n",
      "('Mystery', 'Musical')\n",
      "('Mystery', 'Romance')\n",
      "('Mystery', 'Sci-Fi')\n",
      "('Mystery', 'Thriller')\n",
      "('Mystery', 'War')\n",
      "('Mystery', 'Western')\n",
      "('Romance', 'Action')\n",
      "('Romance', 'Adventure')\n",
      "('Romance', 'Animation')\n",
      "('Romance', 'Children')\n",
      "('Romance', 'Comedy')\n",
      "('Romance', 'Crime')\n",
      "('Romance', 'Documentary')\n",
      "('Romance', 'Drama')\n",
      "('Romance', 'Fantasy')\n",
      "('Romance', 'Film-Noir')\n",
      "('Romance', 'Horror')\n",
      "('Romance', 'IMAX')\n",
      "('Romance', 'Musical')\n",
      "('Romance', 'Mystery')\n",
      "('Romance', 'Sci-Fi')\n",
      "('Romance', 'Thriller')\n",
      "('Romance', 'War')\n",
      "('Romance', 'Western')\n",
      "('Sci-Fi', 'Action')\n",
      "('Sci-Fi', 'Adventure')\n",
      "('Sci-Fi', 'Animation')\n",
      "('Sci-Fi', 'Children')\n",
      "('Sci-Fi', 'Comedy')\n",
      "('Sci-Fi', 'Crime')\n",
      "('Sci-Fi', 'Documentary')\n",
      "('Sci-Fi', 'Drama')\n",
      "('Sci-Fi', 'Fantasy')\n",
      "('Sci-Fi', 'Film-Noir')\n",
      "('Sci-Fi', 'Horror')\n",
      "('Sci-Fi', 'IMAX')\n",
      "('Sci-Fi', 'Musical')\n",
      "('Sci-Fi', 'Mystery')\n",
      "('Sci-Fi', 'Romance')\n",
      "('Sci-Fi', 'Thriller')\n",
      "('Sci-Fi', 'War')\n",
      "('Sci-Fi', 'Western')\n",
      "('Thriller', 'Action')\n",
      "('Thriller', 'Adventure')\n",
      "('Thriller', 'Animation')\n",
      "('Thriller', 'Children')\n",
      "('Thriller', 'Comedy')\n",
      "('Thriller', 'Crime')\n",
      "('Thriller', 'Documentary')\n",
      "('Thriller', 'Drama')\n",
      "('Thriller', 'Fantasy')\n",
      "('Thriller', 'Film-Noir')\n",
      "('Thriller', 'Horror')\n",
      "('Thriller', 'IMAX')\n",
      "('Thriller', 'Musical')\n",
      "('Thriller', 'Mystery')\n",
      "('Thriller', 'Romance')\n",
      "('Thriller', 'Sci-Fi')\n",
      "('Thriller', 'War')\n",
      "('Thriller', 'Western')\n",
      "('War', 'Action')\n",
      "('War', 'Adventure')\n",
      "('War', 'Animation')\n",
      "('War', 'Children')\n",
      "('War', 'Comedy')\n",
      "('War', 'Crime')\n",
      "('War', 'Documentary')\n",
      "('War', 'Drama')\n",
      "('War', 'Fantasy')\n",
      "('War', 'Film-Noir')\n",
      "('War', 'Horror')\n",
      "('War', 'IMAX')\n",
      "('War', 'Musical')\n",
      "('War', 'Mystery')\n",
      "('War', 'Romance')\n",
      "('War', 'Sci-Fi')\n",
      "('War', 'Thriller')\n",
      "('War', 'Western')\n",
      "('Western', 'Action')\n",
      "('Western', 'Adventure')\n",
      "('Western', 'Animation')\n",
      "('Western', 'Children')\n",
      "('Western', 'Comedy')\n",
      "('Western', 'Crime')\n",
      "('Western', 'Documentary')\n",
      "('Western', 'Drama')\n",
      "('Western', 'Fantasy')\n",
      "('Western', 'Film-Noir')\n",
      "('Western', 'Horror')\n",
      "('Western', 'IMAX')\n",
      "('Western', 'Musical')\n",
      "('Western', 'Mystery')\n",
      "('Western', 'Romance')\n",
      "('Western', 'Sci-Fi')\n",
      "('Western', 'Thriller')\n",
      "('Western', 'War')\n",
      "    antecedent consequent  zhangs_metric\n",
      "0       Action  Adventure       0.208563\n",
      "1       Action  Animation       0.019328\n",
      "2       Action   Children      -0.013335\n",
      "3       Action     Comedy      -0.148231\n",
      "4       Action      Crime       0.123457\n",
      "..         ...        ...            ...\n",
      "337    Western    Mystery      -0.041536\n",
      "338    Western    Romance       0.018694\n",
      "339    Western     Sci-Fi      -0.039814\n",
      "340    Western   Thriller      -0.133701\n",
      "341    Western        War      -0.004006\n",
      "\n",
      "[342 rows x 3 columns]\n"
     ]
    }
   ],
   "source": [
    "# Define an empty list for Zhang's metric\n",
    "zhangs_metric = []\n",
    "antecedent_l = []\n",
    "consequent_l = []\n",
    "\n",
    "itemsets = permutations(['Action', 'Adventure', 'Animation', 'Children', 'Comedy', 'Crime',\n",
    "       'Documentary', 'Drama', 'Fantasy', 'Film-Noir', 'Horror', 'IMAX',\n",
    "       'Musical', 'Mystery', 'Romance', 'Sci-Fi', 'Thriller', 'War',\n",
    "       'Western'], 2) \n",
    "\n",
    "# Loop over lists in itemsets\n",
    "for itemset in list(itemsets):\n",
    "    print(itemset)\n",
    "    # Extract the antecedent and consequent columns\n",
    "    antecedent = onehot[itemset[0]]\n",
    "    consequent = onehot[itemset[1]]\n",
    "\n",
    "    # Complete Zhang's metric and append it to the list\n",
    "    zhangs_metric.append(zhang(antecedent, consequent))\n",
    "    antecedent_l.append(itemset[0])\n",
    "    consequent_l.append(itemset[1])\n",
    "\n",
    "# Print results\n",
    "rules = pd.DataFrame({'antecedent' : antecedent_l, 'consequent' : consequent_l, 'zhangs_metric' : zhangs_metric})\n",
    "print(rules)"
   ]
  },
  {
   "cell_type": "code",
   "execution_count": 76,
   "metadata": {},
   "outputs": [
    {
     "data": {
      "text/html": [
       "<div>\n",
       "<style scoped>\n",
       "    .dataframe tbody tr th:only-of-type {\n",
       "        vertical-align: middle;\n",
       "    }\n",
       "\n",
       "    .dataframe tbody tr th {\n",
       "        vertical-align: top;\n",
       "    }\n",
       "\n",
       "    .dataframe thead th {\n",
       "        text-align: right;\n",
       "    }\n",
       "</style>\n",
       "<table border=\"1\" class=\"dataframe\">\n",
       "  <thead>\n",
       "    <tr style=\"text-align: right;\">\n",
       "      <th></th>\n",
       "      <th>antecedent</th>\n",
       "      <th>consequent</th>\n",
       "      <th>zhangs_metric</th>\n",
       "    </tr>\n",
       "  </thead>\n",
       "  <tbody>\n",
       "    <tr>\n",
       "      <th>114</th>\n",
       "      <td>Documentary</td>\n",
       "      <td>Drama</td>\n",
       "      <td>-0.861795</td>\n",
       "    </tr>\n",
       "    <tr>\n",
       "      <th>42</th>\n",
       "      <td>Animation</td>\n",
       "      <td>Drama</td>\n",
       "      <td>-0.704134</td>\n",
       "    </tr>\n",
       "    <tr>\n",
       "      <th>187</th>\n",
       "      <td>Horror</td>\n",
       "      <td>Drama</td>\n",
       "      <td>-0.620260</td>\n",
       "    </tr>\n",
       "    <tr>\n",
       "      <th>60</th>\n",
       "      <td>Children</td>\n",
       "      <td>Drama</td>\n",
       "      <td>-0.579532</td>\n",
       "    </tr>\n",
       "    <tr>\n",
       "      <th>205</th>\n",
       "      <td>IMAX</td>\n",
       "      <td>Drama</td>\n",
       "      <td>-0.568124</td>\n",
       "    </tr>\n",
       "    <tr>\n",
       "      <th>...</th>\n",
       "      <td>...</td>\n",
       "      <td>...</td>\n",
       "      <td>...</td>\n",
       "    </tr>\n",
       "    <tr>\n",
       "      <th>169</th>\n",
       "      <td>Film-Noir</td>\n",
       "      <td>Drama</td>\n",
       "      <td>0.436432</td>\n",
       "    </tr>\n",
       "    <tr>\n",
       "      <th>249</th>\n",
       "      <td>Mystery</td>\n",
       "      <td>Thriller</td>\n",
       "      <td>0.439206</td>\n",
       "    </tr>\n",
       "    <tr>\n",
       "      <th>198</th>\n",
       "      <td>IMAX</td>\n",
       "      <td>Action</td>\n",
       "      <td>0.443494</td>\n",
       "    </tr>\n",
       "    <tr>\n",
       "      <th>167</th>\n",
       "      <td>Film-Noir</td>\n",
       "      <td>Crime</td>\n",
       "      <td>0.490567</td>\n",
       "    </tr>\n",
       "    <tr>\n",
       "      <th>313</th>\n",
       "      <td>War</td>\n",
       "      <td>Drama</td>\n",
       "      <td>0.508126</td>\n",
       "    </tr>\n",
       "  </tbody>\n",
       "</table>\n",
       "<p>342 rows × 3 columns</p>\n",
       "</div>"
      ],
      "text/plain": [
       "      antecedent consequent  zhangs_metric\n",
       "114  Documentary      Drama      -0.861795\n",
       "42     Animation      Drama      -0.704134\n",
       "187       Horror      Drama      -0.620260\n",
       "60      Children      Drama      -0.579532\n",
       "205         IMAX      Drama      -0.568124\n",
       "..           ...        ...            ...\n",
       "169    Film-Noir      Drama       0.436432\n",
       "249      Mystery   Thriller       0.439206\n",
       "198         IMAX     Action       0.443494\n",
       "167    Film-Noir      Crime       0.490567\n",
       "313          War      Drama       0.508126\n",
       "\n",
       "[342 rows x 3 columns]"
      ]
     },
     "execution_count": 76,
     "metadata": {},
     "output_type": "execute_result"
    }
   ],
   "source": [
    "rules.sort_values('zhangs_metric')"
   ]
  },
  {
   "cell_type": "markdown",
   "metadata": {},
   "source": [
    "# Zhang metric: Closer to -1 -- more  dissociated, while closer to +1 more associated"
   ]
  },
  {
   "cell_type": "markdown",
   "metadata": {},
   "source": [
    "# Aggregation"
   ]
  },
  {
   "cell_type": "code",
   "execution_count": 77,
   "metadata": {},
   "outputs": [],
   "source": [
    "import pandas as pd"
   ]
  },
  {
   "cell_type": "code",
   "execution_count": 79,
   "metadata": {},
   "outputs": [],
   "source": [
    "df = pd.read_csv('datasets/online_retail.csv')"
   ]
  },
  {
   "cell_type": "code",
   "execution_count": 80,
   "metadata": {},
   "outputs": [
    {
     "data": {
      "text/html": [
       "<div>\n",
       "<style scoped>\n",
       "    .dataframe tbody tr th:only-of-type {\n",
       "        vertical-align: middle;\n",
       "    }\n",
       "\n",
       "    .dataframe tbody tr th {\n",
       "        vertical-align: top;\n",
       "    }\n",
       "\n",
       "    .dataframe thead th {\n",
       "        text-align: right;\n",
       "    }\n",
       "</style>\n",
       "<table border=\"1\" class=\"dataframe\">\n",
       "  <thead>\n",
       "    <tr style=\"text-align: right;\">\n",
       "      <th></th>\n",
       "      <th>InvoiceNo</th>\n",
       "      <th>StockCode</th>\n",
       "      <th>Description</th>\n",
       "    </tr>\n",
       "  </thead>\n",
       "  <tbody>\n",
       "    <tr>\n",
       "      <th>0</th>\n",
       "      <td>562583</td>\n",
       "      <td>35637A</td>\n",
       "      <td>IVORY STRING CURTAIN WITH POLE</td>\n",
       "    </tr>\n",
       "    <tr>\n",
       "      <th>1</th>\n",
       "      <td>562583</td>\n",
       "      <td>35638A</td>\n",
       "      <td>PINK AND BLACK STRING CURTAIN</td>\n",
       "    </tr>\n",
       "    <tr>\n",
       "      <th>2</th>\n",
       "      <td>562583</td>\n",
       "      <td>84927F</td>\n",
       "      <td>PSYCHEDELIC TILE HOOK</td>\n",
       "    </tr>\n",
       "    <tr>\n",
       "      <th>3</th>\n",
       "      <td>562583</td>\n",
       "      <td>22425</td>\n",
       "      <td>ENAMEL COLANDER CREAM</td>\n",
       "    </tr>\n",
       "    <tr>\n",
       "      <th>4</th>\n",
       "      <td>562583</td>\n",
       "      <td>16008</td>\n",
       "      <td>SMALL FOLDING SCISSOR(POINTED EDGE)</td>\n",
       "    </tr>\n",
       "    <tr>\n",
       "      <th>...</th>\n",
       "      <td>...</td>\n",
       "      <td>...</td>\n",
       "      <td>...</td>\n",
       "    </tr>\n",
       "    <tr>\n",
       "      <th>227755</th>\n",
       "      <td>C581229</td>\n",
       "      <td>23158</td>\n",
       "      <td>SET OF 5 LUCKY CAT MAGNETS</td>\n",
       "    </tr>\n",
       "    <tr>\n",
       "      <th>227756</th>\n",
       "      <td>C581229</td>\n",
       "      <td>22712</td>\n",
       "      <td>CARD DOLLY GIRL</td>\n",
       "    </tr>\n",
       "    <tr>\n",
       "      <th>227757</th>\n",
       "      <td>C581229</td>\n",
       "      <td>22027</td>\n",
       "      <td>TEA PARTY BIRTHDAY CARD</td>\n",
       "    </tr>\n",
       "    <tr>\n",
       "      <th>227758</th>\n",
       "      <td>C581229</td>\n",
       "      <td>21508</td>\n",
       "      <td>VINTAGE KID DOLLY CARD</td>\n",
       "    </tr>\n",
       "    <tr>\n",
       "      <th>227759</th>\n",
       "      <td>C581229</td>\n",
       "      <td>21507</td>\n",
       "      <td>ELEPHANT BIRTHDAY CARD</td>\n",
       "    </tr>\n",
       "  </tbody>\n",
       "</table>\n",
       "<p>227760 rows × 3 columns</p>\n",
       "</div>"
      ],
      "text/plain": [
       "       InvoiceNo StockCode                          Description\n",
       "0         562583    35637A      IVORY STRING CURTAIN WITH POLE \n",
       "1         562583    35638A        PINK AND BLACK STRING CURTAIN\n",
       "2         562583    84927F                PSYCHEDELIC TILE HOOK\n",
       "3         562583     22425                ENAMEL COLANDER CREAM\n",
       "4         562583     16008  SMALL FOLDING SCISSOR(POINTED EDGE)\n",
       "...          ...       ...                                  ...\n",
       "227755   C581229     23158          SET OF 5 LUCKY CAT MAGNETS \n",
       "227756   C581229     22712                     CARD DOLLY GIRL \n",
       "227757   C581229     22027              TEA PARTY BIRTHDAY CARD\n",
       "227758   C581229     21508              VINTAGE KID DOLLY CARD \n",
       "227759   C581229     21507              ELEPHANT BIRTHDAY CARD \n",
       "\n",
       "[227760 rows x 3 columns]"
      ]
     },
     "execution_count": 80,
     "metadata": {},
     "output_type": "execute_result"
    }
   ],
   "source": [
    "df"
   ]
  },
  {
   "cell_type": "code",
   "execution_count": 83,
   "metadata": {},
   "outputs": [],
   "source": [
    "onehot = pd.get_dummies(df.Description)"
   ]
  },
  {
   "cell_type": "code",
   "execution_count": 84,
   "metadata": {},
   "outputs": [
    {
     "name": "stdout",
     "output_type": "stream",
     "text": [
      "Share of Signs: 0.08\n"
     ]
    }
   ],
   "source": [
    "# Select the column headers for sign items\n",
    "sign_headers = [i for i in onehot.columns if i.lower().find('sign')>=0]\n",
    "\n",
    "# Select columns of sign items\n",
    "sign_columns = onehot[sign_headers]\n",
    "\n",
    "# Perform aggregation of sign items into sign category\n",
    "signs = sign_columns.sum(axis = 1) >= 1.0\n",
    "\n",
    "# Print support for signs\n",
    "print('Share of Signs: %.2f' % signs.mean())"
   ]
  },
  {
   "cell_type": "code",
   "execution_count": 86,
   "metadata": {},
   "outputs": [],
   "source": [
    "def aggregate(item):\n",
    "\t# Select the column headers for sign items\n",
    "\titem_headers = [i for i in onehot.columns if i.lower().find(item)>=0]\n",
    "\n",
    "\t# Select columns of sign items\n",
    "\titem_columns = onehot[item_headers]\n",
    "\n",
    "\t# Return category of aggregated items\n",
    "\treturn item_columns.sum(axis = 1) >= 1.0\n",
    "\n",
    "# Aggregate items for the bags, boxes, and candles categories  \n",
    "bags = aggregate('bag')\n",
    "boxes = aggregate('boxes')\n",
    "candles = aggregate('candles')"
   ]
  },
  {
   "cell_type": "code",
   "execution_count": 88,
   "metadata": {},
   "outputs": [
    {
     "name": "stdout",
     "output_type": "stream",
     "text": [
      "Share of bags: 0.09\n",
      "Share of boxes: 0.00\n",
      "Share of candles: 0.01\n"
     ]
    }
   ],
   "source": [
    "print('Share of bags: %.2f' % bags.mean())\n",
    "print('Share of boxes: %.2f' % boxes.mean())\n",
    "print('Share of candles: %.2f' % candles.mean())"
   ]
  },
  {
   "cell_type": "code",
   "execution_count": 90,
   "metadata": {},
   "outputs": [
    {
     "name": "stdout",
     "output_type": "stream",
     "text": [
      "     support                               itemsets\n",
      "0   0.002129      (60 CAKE CASES VINTAGE CHRISTMAS)\n",
      "1   0.002107           (ALARM CLOCK BAKELIKE GREEN)\n",
      "2   0.002661        (ASSORTED COLOUR BIRD ORNAMENT)\n",
      "3   0.002099        (BAKING SET 9 PIECE RETROSPOT )\n",
      "4   0.002397           (CHOCOLATE HOT WATER BOTTLE)\n",
      "5   0.002178   (GARDENERS KNEELING PAD CUP OF TEA )\n",
      "6   0.002612    (GARDENERS KNEELING PAD KEEP CALM )\n",
      "7   0.002415               (HAND WARMER OWL DESIGN)\n",
      "8   0.002094        (HAND WARMER SCOTTY DOG DESIGN)\n",
      "9   0.003451           (HOT WATER BOTTLE KEEP CALM)\n",
      "10  0.002331    (HOT WATER BOTTLE TEA AND SYMPATHY)\n",
      "11  0.002806            (JUMBO BAG 50'S CHRISTMAS )\n",
      "12  0.002121                   (JUMBO BAG ALPHABET)\n",
      "13  0.003556              (JUMBO BAG RED RETROSPOT)\n",
      "14  0.002972             (JUMBO BAG VINTAGE DOILY )\n",
      "15  0.002112               (JUMBO BAG VINTAGE LEAF)\n",
      "16  0.002112                (LOVE HOT WATER BOTTLE)\n",
      "17  0.002503              (LUNCH BAG  BLACK SKULL.)\n",
      "18  0.002064               (LUNCH BAG APPLE DESIGN)\n",
      "19  0.002033                  (LUNCH BAG CARS BLUE)\n",
      "20  0.002494              (LUNCH BAG RED RETROSPOT)\n",
      "21  0.002112           (LUNCH BAG SPACEBOY DESIGN )\n",
      "22  0.002235               (LUNCH BAG SUKI DESIGN )\n",
      "23  0.002485             (LUNCH BAG VINTAGE DOILY )\n",
      "24  0.004070      (PAPER CHAIN KIT 50'S CHRISTMAS )\n",
      "25  0.002867    (PAPER CHAIN KIT VINTAGE CHRISTMAS)\n",
      "26  0.002011                        (PARTY BUNTING)\n",
      "27  0.002801                       (POPCORN HOLDER)\n",
      "28  0.003082                   (RABBIT NIGHT LIGHT)\n",
      "29  0.002639             (REGENCY CAKESTAND 3 TIER)\n",
      "30  0.002015         (REX CASH+CARRY JUMBO SHOPPER)\n",
      "31  0.002134         (SCOTTIE DOG HOT WATER BOTTLE)\n",
      "32  0.002064  (SET OF 20 VINTAGE CHRISTMAS NAPKINS)\n",
      "33  0.002419    (SET OF 3 CAKE TINS PANTRY DESIGN )\n",
      "34  0.002151           (SET OF 3 REGENCY CAKE TINS)\n",
      "35  0.002020          (SMALL WHITE HEART OF WICKER)\n",
      "36  0.002129                       (SPOTTY BUNTING)\n",
      "37  0.002165                   (VINTAGE SNAP CARDS)\n",
      "38  0.003350   (WHITE HANGING HEART T-LIGHT HOLDER)\n",
      "39  0.002006  (WOODEN HEART CHRISTMAS SCANDINAVIAN)\n",
      "40  0.002024   (WOODEN STAR CHRISTMAS SCANDINAVIAN)\n"
     ]
    }
   ],
   "source": [
    "# Import apriori from mlxtend\n",
    "from mlxtend.frequent_patterns import apriori\n",
    "\n",
    "# Compute frequent itemsets using the Apriori algorithm\n",
    "frequent_itemsets = apriori(onehot, \n",
    "                            min_support = 0.002, \n",
    "                            max_len = 3, \n",
    "                            use_colnames = True)\n",
    "\n",
    "# Print the number of freqeuent itemsets\n",
    "print(frequent_itemsets)"
   ]
  },
  {
   "cell_type": "code",
   "execution_count": 91,
   "metadata": {},
   "outputs": [
    {
     "name": "stdout",
     "output_type": "stream",
     "text": [
      "41\n"
     ]
    }
   ],
   "source": [
    "print(len(frequent_itemsets))"
   ]
  },
  {
   "cell_type": "code",
   "execution_count": 92,
   "metadata": {},
   "outputs": [
    {
     "name": "stdout",
     "output_type": "stream",
     "text": [
      "5 199\n"
     ]
    }
   ],
   "source": [
    "# Import apriori from mlxtend\n",
    "from mlxtend.frequent_patterns import apriori\n",
    "\n",
    "# Compute frequent itemsets using a support of 0.003 and length of 3\n",
    "frequent_itemsets_1 = apriori(onehot, min_support = 0.003, \n",
    "                            max_len=3, use_colnames = True)\n",
    "\n",
    "# Compute frequent itemsets using a support of 0.001 and length of 3\n",
    "frequent_itemsets_2 = apriori(onehot, min_support = 0.001, \n",
    "                            max_len=3, use_colnames = True)\n",
    "\n",
    "# Print the number of freqeuent itemsets\n",
    "print(len(frequent_itemsets_1), len(frequent_itemsets_2))"
   ]
  },
  {
   "cell_type": "code",
   "execution_count": null,
   "metadata": {},
   "outputs": [],
   "source": []
  }
 ],
 "metadata": {
  "kernelspec": {
   "display_name": "Python 3",
   "language": "python",
   "name": "python3"
  },
  "language_info": {
   "codemirror_mode": {
    "name": "ipython",
    "version": 3
   },
   "file_extension": ".py",
   "mimetype": "text/x-python",
   "name": "python",
   "nbconvert_exporter": "python",
   "pygments_lexer": "ipython3",
   "version": "3.7.4"
  }
 },
 "nbformat": 4,
 "nbformat_minor": 2
}
