{
 "cells": [
  {
   "cell_type": "code",
   "execution_count": 105,
   "metadata": {},
   "outputs": [],
   "source": [
    "import pandas as pd\n",
    "import matplotlib.pyplot as plt\n",
    "import seaborn as sns\n",
    "import numpy as np"
   ]
  },
  {
   "cell_type": "code",
   "execution_count": 41,
   "metadata": {},
   "outputs": [],
   "source": [
    "telco=pd.read_csv(r'E:\\PYTHON\\Data\\Churn.csv')"
   ]
  },
  {
   "cell_type": "code",
   "execution_count": 42,
   "metadata": {},
   "outputs": [
    {
     "name": "stdout",
     "output_type": "stream",
     "text": [
      "<class 'pandas.core.frame.DataFrame'>\n",
      "RangeIndex: 3333 entries, 0 to 3332\n",
      "Data columns (total 21 columns):\n",
      "Account_Length    3333 non-null int64\n",
      "Vmail_Message     3333 non-null int64\n",
      "Day_Mins          3333 non-null float64\n",
      "Eve_Mins          3333 non-null float64\n",
      "Night_Mins        3333 non-null float64\n",
      "Intl_Mins         3333 non-null float64\n",
      "CustServ_Calls    3333 non-null int64\n",
      "Churn             3333 non-null object\n",
      "Intl_Plan         3333 non-null object\n",
      "Vmail_Plan        3333 non-null object\n",
      "Day_Calls         3333 non-null int64\n",
      "Day_Charge        3333 non-null float64\n",
      "Eve_Calls         3333 non-null int64\n",
      "Eve_Charge        3333 non-null float64\n",
      "Night_Calls       3333 non-null int64\n",
      "Night_Charge      3333 non-null float64\n",
      "Intl_Calls        3333 non-null int64\n",
      "Intl_Charge       3333 non-null float64\n",
      "State             3333 non-null object\n",
      "Area_Code         3333 non-null int64\n",
      "Phone             3333 non-null object\n",
      "dtypes: float64(8), int64(8), object(5)\n",
      "memory usage: 546.9+ KB\n"
     ]
    }
   ],
   "source": [
    "telco.info()"
   ]
  },
  {
   "cell_type": "code",
   "execution_count": 43,
   "metadata": {},
   "outputs": [
    {
     "name": "stdout",
     "output_type": "stream",
     "text": [
      "       Account_Length  Vmail_Message    Day_Mins    Eve_Mins  Night_Mins  \\\n",
      "Churn                                                                      \n",
      "no         100.793684       8.604561  175.175754  199.043298  200.133193   \n",
      "yes        102.664596       5.115942  206.914079  212.410145  205.231677   \n",
      "\n",
      "       Intl_Mins  CustServ_Calls   Day_Calls  Day_Charge   Eve_Calls  \\\n",
      "Churn                                                                  \n",
      "no     10.158877        1.449825  100.283158   29.780421  100.038596   \n",
      "yes    10.700000        2.229814  101.335404   35.175921  100.561077   \n",
      "\n",
      "       Eve_Charge  Night_Calls  Night_Charge  Intl_Calls  Intl_Charge  \\\n",
      "Churn                                                                   \n",
      "no      16.918909   100.058246      9.006074    4.532982     2.743404   \n",
      "yes     18.054969   100.399586      9.235528    4.163561     2.889545   \n",
      "\n",
      "        Area_Code  \n",
      "Churn              \n",
      "no     437.074737  \n",
      "yes    437.817805  \n"
     ]
    }
   ],
   "source": [
    "# Group telco by 'Churn' and compute the mean\n",
    "print(telco.groupby(['Churn']).mean())"
   ]
  },
  {
   "cell_type": "code",
   "execution_count": 44,
   "metadata": {},
   "outputs": [
    {
     "name": "stdout",
     "output_type": "stream",
     "text": [
      "State  Churn\n",
      "AK     no       49\n",
      "       yes       3\n",
      "AL     no       72\n",
      "       yes       8\n",
      "AR     no       44\n",
      "       yes      11\n",
      "AZ     no       60\n",
      "       yes       4\n",
      "CA     no       25\n",
      "       yes       9\n",
      "CO     no       57\n",
      "       yes       9\n",
      "CT     no       62\n",
      "       yes      12\n",
      "DC     no       49\n",
      "       yes       5\n",
      "DE     no       52\n",
      "       yes       9\n",
      "FL     no       55\n",
      "       yes       8\n",
      "GA     no       46\n",
      "       yes       8\n",
      "HI     no       50\n",
      "       yes       3\n",
      "IA     no       41\n",
      "       yes       3\n",
      "ID     no       64\n",
      "       yes       9\n",
      "IL     no       53\n",
      "       yes       5\n",
      "                ..\n",
      "OK     no       52\n",
      "       yes       9\n",
      "OR     no       67\n",
      "       yes      11\n",
      "PA     no       37\n",
      "       yes       8\n",
      "RI     no       59\n",
      "       yes       6\n",
      "SC     no       46\n",
      "       yes      14\n",
      "SD     no       52\n",
      "       yes       8\n",
      "TN     no       48\n",
      "       yes       5\n",
      "TX     no       54\n",
      "       yes      18\n",
      "UT     no       62\n",
      "       yes      10\n",
      "VA     no       72\n",
      "       yes       5\n",
      "VT     no       65\n",
      "       yes       8\n",
      "WA     no       52\n",
      "       yes      14\n",
      "WI     no       71\n",
      "       yes       7\n",
      "WV     no       96\n",
      "       yes      10\n",
      "WY     no       68\n",
      "       yes       9\n",
      "Name: Churn, Length: 102, dtype: int64\n"
     ]
    }
   ],
   "source": [
    "# Count the number of churners and non-churners by State\n",
    "print(telco.groupby('State')['Churn'].value_counts())"
   ]
  },
  {
   "cell_type": "code",
   "execution_count": 45,
   "metadata": {},
   "outputs": [
    {
     "data": {
      "image/png": "[encoded data removed]",
      "text/plain": [
       "<Figure size 432x288 with 1 Axes>"
      ]
     },
     "metadata": {},
     "output_type": "display_data"
    }
   ],
   "source": [
    "\n",
    "# Visualize the distribution of 'Day_Mins'\n",
    "sns.distplot(telco['Day_Mins'])\n",
    "\n",
    "# Display the plot\n",
    "plt.show()"
   ]
  },
  {
   "cell_type": "code",
   "execution_count": 46,
   "metadata": {},
   "outputs": [
    {
     "data": {
      "image/png": "[encoded data removed]",
      "text/plain": [
       "<Figure size 432x288 with 1 Axes>"
      ]
     },
     "metadata": {},
     "output_type": "display_data"
    }
   ],
   "source": [
    "# Create the box plot\n",
    "sns.boxplot(x = 'Churn',\n",
    "          y = 'CustServ_Calls',\n",
    "          data = telco)\n",
    "\n",
    "# Display the plot\n",
    "plt.show()"
   ]
  },
  {
   "cell_type": "code",
   "execution_count": 47,
   "metadata": {},
   "outputs": [
    {
     "data": {
      "image/png": "[encoded data removed]",
      "text/plain": [
       "<Figure size 432x288 with 1 Axes>"
      ]
     },
     "metadata": {},
     "output_type": "display_data"
    }
   ],
   "source": [
    "# Create the box plot\n",
    "sns.boxplot(x = 'Churn',\n",
    "            y = 'CustServ_Calls',\n",
    "            data = telco,\n",
    "            sym = \"\")\n",
    "\n",
    "# Display the plot\n",
    "plt.show()"
   ]
  },
  {
   "cell_type": "code",
   "execution_count": 48,
   "metadata": {},
   "outputs": [
    {
     "data": {
      "image/png": "[encoded data removed]",
      "text/plain": [
       "<Figure size 432x288 with 1 Axes>"
      ]
     },
     "metadata": {},
     "output_type": "display_data"
    }
   ],
   "source": [
    "\n",
    "# Add \"Vmail_Plan\" as a third variable\n",
    "sns.boxplot(x = 'Churn',\n",
    "            y = 'CustServ_Calls',\n",
    "            data = telco,\n",
    "            sym = \"\",\n",
    "            hue = \"Vmail_Plan\")\n",
    "\n",
    "# Display the plot\n",
    "plt.show()"
   ]
  },
  {
   "cell_type": "code",
   "execution_count": 49,
   "metadata": {},
   "outputs": [
    {
     "data": {
      "image/png": "[encoded data removed]",
      "text/plain": [
       "<Figure size 432x288 with 1 Axes>"
      ]
     },
     "metadata": {},
     "output_type": "display_data"
    }
   ],
   "source": [
    "# Add \"Intl_Plan\" as a third variable\n",
    "sns.boxplot(x = 'Churn',\n",
    "            y = 'CustServ_Calls',\n",
    "            data = telco,\n",
    "            sym = \"\",\n",
    "            hue = \"Intl_Plan\")\n",
    "\n",
    "# Display the plot\n",
    "plt.show()"
   ]
  },
  {
   "cell_type": "code",
   "execution_count": 50,
   "metadata": {},
   "outputs": [
    {
     "name": "stdout",
     "output_type": "stream",
     "text": [
      "0    1\n",
      "1    1\n",
      "2    0\n",
      "3    0\n",
      "4    0\n",
      "Name: Vmail_Plan, dtype: int64\n",
      "0    0\n",
      "1    0\n",
      "2    0\n",
      "3    0\n",
      "4    0\n",
      "Name: Churn, dtype: int64\n"
     ]
    }
   ],
   "source": [
    "# Replace 'no' with 0 and 'yes' with 1 in 'Vmail_Plan'\n",
    "telco['Vmail_Plan'] = telco['Vmail_Plan'].replace({'yes':1,'no':0})\n",
    "\n",
    "# Replace 'no' with 0 and 'yes' with 1 in 'Churn'\n",
    "telco['Churn'] = telco['Churn'].replace({'yes':1,'no':0})\n",
    "\n",
    "# Replace 'no' with 0 and 'yes' with 1 in 'Churn'\n",
    "telco['Intl_Plan'] = telco['Intl_Plan'].replace({'yes':1,'no':0})\n",
    "\n",
    "# Print the results to verify\n",
    "print(telco['Vmail_Plan'].head())\n",
    "print(telco['Churn'].head())"
   ]
  },
  {
   "cell_type": "code",
   "execution_count": 51,
   "metadata": {
    "collapsed": true
   },
   "outputs": [],
   "source": [
    "# Import pandas\n",
    "import pandas as pd\n",
    "\n",
    "# Perform one hot encoding on 'State'\n",
    "telco_state = pd.get_dummies(telco.State)"
   ]
  },
  {
   "cell_type": "code",
   "execution_count": 53,
   "metadata": {},
   "outputs": [
    {
     "ename": "KeyError",
     "evalue": "\"None of [Index(['Area_Code', 'Phone'], dtype='object')] are in the [columns]\"",
     "output_type": "error",
     "traceback": [
      "\u001b[1;31m---------------------------------------------------------------------------\u001b[0m",
      "\u001b[1;31mKeyError\u001b[0m                                  Traceback (most recent call last)",
      "\u001b[1;32m<ipython-input-53-00538dc76ed6>\u001b[0m in \u001b[0;36m<module>\u001b[1;34m()\u001b[0m\n\u001b[0;32m      1\u001b[0m \u001b[1;31m# Drop the unnecessary features\u001b[0m\u001b[1;33m\u001b[0m\u001b[1;33m\u001b[0m\u001b[0m\n\u001b[1;32m----> 2\u001b[1;33m \u001b[0mtelco\u001b[0m \u001b[1;33m=\u001b[0m \u001b[0mtelco\u001b[0m\u001b[1;33m.\u001b[0m\u001b[0mdrop\u001b[0m\u001b[1;33m(\u001b[0m\u001b[0mtelco\u001b[0m\u001b[1;33m[\u001b[0m\u001b[1;33m[\u001b[0m\u001b[1;34m'Area_Code'\u001b[0m\u001b[1;33m,\u001b[0m\u001b[1;34m'Phone'\u001b[0m\u001b[1;33m]\u001b[0m\u001b[1;33m]\u001b[0m\u001b[1;33m,\u001b[0m \u001b[0maxis\u001b[0m\u001b[1;33m=\u001b[0m\u001b[1;36m1\u001b[0m\u001b[1;33m)\u001b[0m\u001b[1;33m\u001b[0m\u001b[0m\n\u001b[0m\u001b[0;32m      3\u001b[0m \u001b[1;33m\u001b[0m\u001b[0m\n\u001b[0;32m      4\u001b[0m \u001b[1;31m# Verify dropped features\u001b[0m\u001b[1;33m\u001b[0m\u001b[1;33m\u001b[0m\u001b[0m\n\u001b[0;32m      5\u001b[0m \u001b[0mprint\u001b[0m\u001b[1;33m(\u001b[0m\u001b[0mtelco\u001b[0m\u001b[1;33m.\u001b[0m\u001b[0mcolumns\u001b[0m\u001b[1;33m)\u001b[0m\u001b[1;33m\u001b[0m\u001b[0m\n",
      "\u001b[1;32m~\\Anaconda3\\lib\\site-packages\\pandas\\core\\frame.py\u001b[0m in \u001b[0;36m__getitem__\u001b[1;34m(self, key)\u001b[0m\n\u001b[0;32m   2932\u001b[0m                 \u001b[0mkey\u001b[0m \u001b[1;33m=\u001b[0m \u001b[0mlist\u001b[0m\u001b[1;33m(\u001b[0m\u001b[0mkey\u001b[0m\u001b[1;33m)\u001b[0m\u001b[1;33m\u001b[0m\u001b[0m\n\u001b[0;32m   2933\u001b[0m             indexer = self.loc._convert_to_indexer(key, axis=1,\n\u001b[1;32m-> 2934\u001b[1;33m                                                    raise_missing=True)\n\u001b[0m\u001b[0;32m   2935\u001b[0m \u001b[1;33m\u001b[0m\u001b[0m\n\u001b[0;32m   2936\u001b[0m         \u001b[1;31m# take() does not accept boolean indexers\u001b[0m\u001b[1;33m\u001b[0m\u001b[1;33m\u001b[0m\u001b[0m\n",
      "\u001b[1;32m~\\Anaconda3\\lib\\site-packages\\pandas\\core\\indexing.py\u001b[0m in \u001b[0;36m_convert_to_indexer\u001b[1;34m(self, obj, axis, is_setter, raise_missing)\u001b[0m\n\u001b[0;32m   1352\u001b[0m                 kwargs = {'raise_missing': True if is_setter else\n\u001b[0;32m   1353\u001b[0m                           raise_missing}\n\u001b[1;32m-> 1354\u001b[1;33m                 \u001b[1;32mreturn\u001b[0m \u001b[0mself\u001b[0m\u001b[1;33m.\u001b[0m\u001b[0m_get_listlike_indexer\u001b[0m\u001b[1;33m(\u001b[0m\u001b[0mobj\u001b[0m\u001b[1;33m,\u001b[0m \u001b[0maxis\u001b[0m\u001b[1;33m,\u001b[0m \u001b[1;33m**\u001b[0m\u001b[0mkwargs\u001b[0m\u001b[1;33m)\u001b[0m\u001b[1;33m[\u001b[0m\u001b[1;36m1\u001b[0m\u001b[1;33m]\u001b[0m\u001b[1;33m\u001b[0m\u001b[0m\n\u001b[0m\u001b[0;32m   1355\u001b[0m         \u001b[1;32melse\u001b[0m\u001b[1;33m:\u001b[0m\u001b[1;33m\u001b[0m\u001b[0m\n\u001b[0;32m   1356\u001b[0m             \u001b[1;32mtry\u001b[0m\u001b[1;33m:\u001b[0m\u001b[1;33m\u001b[0m\u001b[0m\n",
      "\u001b[1;32m~\\Anaconda3\\lib\\site-packages\\pandas\\core\\indexing.py\u001b[0m in \u001b[0;36m_get_listlike_indexer\u001b[1;34m(self, key, axis, raise_missing)\u001b[0m\n\u001b[0;32m   1159\u001b[0m         self._validate_read_indexer(keyarr, indexer,\n\u001b[0;32m   1160\u001b[0m                                     \u001b[0mo\u001b[0m\u001b[1;33m.\u001b[0m\u001b[0m_get_axis_number\u001b[0m\u001b[1;33m(\u001b[0m\u001b[0maxis\u001b[0m\u001b[1;33m)\u001b[0m\u001b[1;33m,\u001b[0m\u001b[1;33m\u001b[0m\u001b[0m\n\u001b[1;32m-> 1161\u001b[1;33m                                     raise_missing=raise_missing)\n\u001b[0m\u001b[0;32m   1162\u001b[0m         \u001b[1;32mreturn\u001b[0m \u001b[0mkeyarr\u001b[0m\u001b[1;33m,\u001b[0m \u001b[0mindexer\u001b[0m\u001b[1;33m\u001b[0m\u001b[0m\n\u001b[0;32m   1163\u001b[0m \u001b[1;33m\u001b[0m\u001b[0m\n",
      "\u001b[1;32m~\\Anaconda3\\lib\\site-packages\\pandas\\core\\indexing.py\u001b[0m in \u001b[0;36m_validate_read_indexer\u001b[1;34m(self, key, indexer, axis, raise_missing)\u001b[0m\n\u001b[0;32m   1244\u001b[0m                 raise KeyError(\n\u001b[0;32m   1245\u001b[0m                     u\"None of [{key}] are in the [{axis}]\".format(\n\u001b[1;32m-> 1246\u001b[1;33m                         key=key, axis=self.obj._get_axis_name(axis)))\n\u001b[0m\u001b[0;32m   1247\u001b[0m \u001b[1;33m\u001b[0m\u001b[0m\n\u001b[0;32m   1248\u001b[0m             \u001b[1;31m# We (temporarily) allow for some missing keys with .loc, except in\u001b[0m\u001b[1;33m\u001b[0m\u001b[1;33m\u001b[0m\u001b[0m\n",
      "\u001b[1;31mKeyError\u001b[0m: \"None of [Index(['Area_Code', 'Phone'], dtype='object')] are in the [columns]\""
     ]
    }
   ],
   "source": [
    "# Drop the unnecessary features\n",
    "telco = telco.drop(telco[['Area_Code','Phone']], axis=1)\n",
    "\n",
    "# Verify dropped features\n",
    "print(telco.columns)"
   ]
  },
  {
   "cell_type": "code",
   "execution_count": 54,
   "metadata": {},
   "outputs": [
    {
     "name": "stdout",
     "output_type": "stream",
     "text": [
      "   Account_Length  Vmail_Message  Day_Mins  Eve_Mins  Night_Mins  Intl_Mins  \\\n",
      "0             128             25     265.1     197.4       244.7       10.0   \n",
      "1             107             26     161.6     195.5       254.4       13.7   \n",
      "2             137              0     243.4     121.2       162.6       12.2   \n",
      "3              84              0     299.4      61.9       196.9        6.6   \n",
      "4              75              0     166.7     148.3       186.9       10.1   \n",
      "\n",
      "   CustServ_Calls  Churn  Intl_Plan  Vmail_Plan  ...  State_SD  State_TN  \\\n",
      "0               1      0          0           1  ...         0         0   \n",
      "1               1      0          0           1  ...         0         0   \n",
      "2               0      0          0           0  ...         0         0   \n",
      "3               2      0          1           0  ...         0         0   \n",
      "4               3      0          1           0  ...         0         0   \n",
      "\n",
      "   State_TX  State_UT  State_VA  State_VT  State_WA  State_WI  State_WV  \\\n",
      "0         0         0         0         0         0         0         0   \n",
      "1         0         0         0         0         0         0         0   \n",
      "2         0         0         0         0         0         0         0   \n",
      "3         0         0         0         0         0         0         0   \n",
      "4         0         0         0         0         0         0         0   \n",
      "\n",
      "   State_WY  \n",
      "0         0  \n",
      "1         0  \n",
      "2         0  \n",
      "3         0  \n",
      "4         0  \n",
      "\n",
      "[5 rows x 69 columns]\n"
     ]
    }
   ],
   "source": [
    "# Import pandas\n",
    "import pandas as pd\n",
    "\n",
    "# Perform one hot encoding on 'State'\n",
    "telco = pd.get_dummies(telco)\n",
    "\n",
    "# Print the head of telco_state\n",
    "print(telco.head())"
   ]
  },
  {
   "cell_type": "code",
   "execution_count": 55,
   "metadata": {},
   "outputs": [
    {
     "name": "stdout",
     "output_type": "stream",
     "text": [
      "<class 'pandas.core.frame.DataFrame'>\n",
      "RangeIndex: 3333 entries, 0 to 3332\n",
      "Data columns (total 69 columns):\n",
      "Account_Length    3333 non-null int64\n",
      "Vmail_Message     3333 non-null int64\n",
      "Day_Mins          3333 non-null float64\n",
      "Eve_Mins          3333 non-null float64\n",
      "Night_Mins        3333 non-null float64\n",
      "Intl_Mins         3333 non-null float64\n",
      "CustServ_Calls    3333 non-null int64\n",
      "Churn             3333 non-null int64\n",
      "Intl_Plan         3333 non-null int64\n",
      "Vmail_Plan        3333 non-null int64\n",
      "Day_Calls         3333 non-null int64\n",
      "Day_Charge        3333 non-null float64\n",
      "Eve_Calls         3333 non-null int64\n",
      "Eve_Charge        3333 non-null float64\n",
      "Night_Calls       3333 non-null int64\n",
      "Night_Charge      3333 non-null float64\n",
      "Intl_Calls        3333 non-null int64\n",
      "Intl_Charge       3333 non-null float64\n",
      "State_AK          3333 non-null uint8\n",
      "State_AL          3333 non-null uint8\n",
      "State_AR          3333 non-null uint8\n",
      "State_AZ          3333 non-null uint8\n",
      "State_CA          3333 non-null uint8\n",
      "State_CO          3333 non-null uint8\n",
      "State_CT          3333 non-null uint8\n",
      "State_DC          3333 non-null uint8\n",
      "State_DE          3333 non-null uint8\n",
      "State_FL          3333 non-null uint8\n",
      "State_GA          3333 non-null uint8\n",
      "State_HI          3333 non-null uint8\n",
      "State_IA          3333 non-null uint8\n",
      "State_ID          3333 non-null uint8\n",
      "State_IL          3333 non-null uint8\n",
      "State_IN          3333 non-null uint8\n",
      "State_KS          3333 non-null uint8\n",
      "State_KY          3333 non-null uint8\n",
      "State_LA          3333 non-null uint8\n",
      "State_MA          3333 non-null uint8\n",
      "State_MD          3333 non-null uint8\n",
      "State_ME          3333 non-null uint8\n",
      "State_MI          3333 non-null uint8\n",
      "State_MN          3333 non-null uint8\n",
      "State_MO          3333 non-null uint8\n",
      "State_MS          3333 non-null uint8\n",
      "State_MT          3333 non-null uint8\n",
      "State_NC          3333 non-null uint8\n",
      "State_ND          3333 non-null uint8\n",
      "State_NE          3333 non-null uint8\n",
      "State_NH          3333 non-null uint8\n",
      "State_NJ          3333 non-null uint8\n",
      "State_NM          3333 non-null uint8\n",
      "State_NV          3333 non-null uint8\n",
      "State_NY          3333 non-null uint8\n",
      "State_OH          3333 non-null uint8\n",
      "State_OK          3333 non-null uint8\n",
      "State_OR          3333 non-null uint8\n",
      "State_PA          3333 non-null uint8\n",
      "State_RI          3333 non-null uint8\n",
      "State_SC          3333 non-null uint8\n",
      "State_SD          3333 non-null uint8\n",
      "State_TN          3333 non-null uint8\n",
      "State_TX          3333 non-null uint8\n",
      "State_UT          3333 non-null uint8\n",
      "State_VA          3333 non-null uint8\n",
      "State_VT          3333 non-null uint8\n",
      "State_WA          3333 non-null uint8\n",
      "State_WI          3333 non-null uint8\n",
      "State_WV          3333 non-null uint8\n",
      "State_WY          3333 non-null uint8\n",
      "dtypes: float64(8), int64(10), uint8(51)\n",
      "memory usage: 634.8 KB\n"
     ]
    }
   ],
   "source": [
    "telco.info(verbose=1)"
   ]
  },
  {
   "cell_type": "code",
   "execution_count": 57,
   "metadata": {},
   "outputs": [
    {
     "name": "stderr",
     "output_type": "stream",
     "text": [
      "C:\\Users\\Gaya\\AppData\\Roaming\\Python\\Python36\\site-packages\\sklearn\\preprocessing\\data.py:645: DataConversionWarning: Data with input dtype uint8, int64, float64 were all converted to float64 by StandardScaler.\n",
      "  return self.partial_fit(X, y)\n",
      "C:\\Users\\Gaya\\AppData\\Roaming\\Python\\Python36\\site-packages\\sklearn\\base.py:464: DataConversionWarning: Data with input dtype uint8, int64, float64 were all converted to float64 by StandardScaler.\n",
      "  return self.fit(X, **fit_params).transform(X)\n"
     ]
    }
   ],
   "source": [
    "# Import StandardScaler\n",
    "from sklearn.preprocessing import StandardScaler\n",
    "\n",
    "# Scale telco using StandardScaler\n",
    "telco_scaled = StandardScaler().fit_transform(telco)\n"
   ]
  },
  {
   "cell_type": "code",
   "execution_count": 61,
   "metadata": {},
   "outputs": [
    {
     "name": "stdout",
     "output_type": "stream",
     "text": [
      "       Account_Length  Vmail_Message      Day_Mins      Eve_Mins  \\\n",
      "count    3.333000e+03   3.333000e+03  3.333000e+03  3.333000e+03   \n",
      "mean     1.713134e-16   3.832651e-16  7.081711e-16 -1.067919e-16   \n",
      "std      1.000150e+00   1.000150e+00  1.000150e+00  1.000150e+00   \n",
      "min     -2.513172e+00  -5.917599e-01 -3.301096e+00 -3.963622e+00   \n",
      "25%     -6.797448e-01  -5.917599e-01 -6.624241e-01 -6.780300e-01   \n",
      "50%     -1.627644e-03  -5.917599e-01 -6.887677e-03  8.276141e-03   \n",
      "75%      6.513740e-01   8.695542e-01  6.725198e-01  6.768330e-01   \n",
      "max      3.564766e+00   3.134591e+00  3.140422e+00  3.209066e+00   \n",
      "\n",
      "         Night_Mins     Intl_Mins  CustServ_Calls         Churn     Intl_Plan  \\\n",
      "count  3.333000e+03  3.333000e+03    3.333000e+03  3.333000e+03  3.333000e+03   \n",
      "mean   6.602046e-17 -3.274375e-16    3.275708e-16 -5.176377e-17 -1.021951e-16   \n",
      "std    1.000150e+00  1.000150e+00    1.000150e+00  1.000150e+00  1.000150e+00   \n",
      "min   -3.513648e+00 -3.667413e+00   -1.188218e+00 -4.116718e-01 -3.275805e-01   \n",
      "25%   -6.698545e-01 -6.223690e-01   -4.279320e-01 -4.116718e-01 -3.275805e-01   \n",
      "50%    6.485803e-03  2.246393e-02   -4.279320e-01 -4.116718e-01 -3.275805e-01   \n",
      "75%    6.808485e-01  6.672969e-01    3.323545e-01 -4.116718e-01 -3.275805e-01   \n",
      "max    3.839081e+00  3.497397e+00    5.654360e+00  2.429119e+00  3.052685e+00   \n",
      "\n",
      "         Vmail_Plan  ...      State_SD      State_TN      State_TX  \\\n",
      "count  3.333000e+03  ...  3.333000e+03  3.333000e+03  3.333000e+03   \n",
      "mean   6.921823e-17  ... -1.532761e-16 -6.582060e-17  6.153360e-16   \n",
      "std    1.000150e+00  ...  1.000150e+00  1.000150e+00  1.000150e+00   \n",
      "min   -6.183963e-01  ... -1.353950e-01 -1.271162e-01 -1.485904e-01   \n",
      "25%   -6.183963e-01  ... -1.353950e-01 -1.271162e-01 -1.485904e-01   \n",
      "50%   -6.183963e-01  ... -1.353950e-01 -1.271162e-01 -1.485904e-01   \n",
      "75%    1.617086e+00  ... -1.353950e-01 -1.271162e-01 -1.485904e-01   \n",
      "max    1.617086e+00  ...  7.385797e+00  7.866816e+00  6.729908e+00   \n",
      "\n",
      "           State_UT      State_VA      State_VT      State_WA      State_WI  \\\n",
      "count  3.333000e+03  3.333000e+03  3.333000e+03  3.333000e+03  3.333000e+03   \n",
      "mean   4.693382e-17 -1.461477e-16  1.234303e-16 -1.757936e-16  2.228274e-16   \n",
      "std    1.000150e+00  1.000150e+00  1.000150e+00  1.000150e+00  1.000150e+00   \n",
      "min   -1.485904e-01 -1.537812e-01 -1.496417e-01 -1.421338e-01 -1.548003e-01   \n",
      "25%   -1.485904e-01 -1.537812e-01 -1.496417e-01 -1.421338e-01 -1.548003e-01   \n",
      "50%   -1.485904e-01 -1.537812e-01 -1.496417e-01 -1.421338e-01 -1.548003e-01   \n",
      "75%   -1.485904e-01 -1.537812e-01 -1.496417e-01 -1.421338e-01 -1.548003e-01   \n",
      "max    6.729908e+00  6.502747e+00  6.682629e+00  7.035624e+00  6.459936e+00   \n",
      "\n",
      "           State_WV      State_WY  \n",
      "count  3.333000e+03  3.333000e+03  \n",
      "mean  -9.702377e-16 -2.039906e-16  \n",
      "std    1.000150e+00  1.000150e+00  \n",
      "min   -1.812397e-01 -1.537812e-01  \n",
      "25%   -1.812397e-01 -1.537812e-01  \n",
      "50%   -1.812397e-01 -1.537812e-01  \n",
      "75%   -1.812397e-01 -1.537812e-01  \n",
      "max    5.517553e+00  6.502747e+00  \n",
      "\n",
      "[8 rows x 69 columns]\n"
     ]
    }
   ],
   "source": [
    "# Add column names back for readability\n",
    "telco_scaled_df = pd.DataFrame(telco_scaled, columns=telco.columns)\n",
    "\n",
    "# Print summary statistics\n",
    "print(telco_scaled_df.describe())"
   ]
  },
  {
   "cell_type": "code",
   "execution_count": 66,
   "metadata": {
    "scrolled": true
   },
   "outputs": [
    {
     "name": "stdout",
     "output_type": "stream",
     "text": [
      "<class 'pandas.core.frame.DataFrame'>\n",
      "RangeIndex: 3333 entries, 0 to 3332\n",
      "Data columns (total 69 columns):\n",
      "Account_Length    3333 non-null float64\n",
      "Vmail_Message     3333 non-null float64\n",
      "Day_Mins          3333 non-null float64\n",
      "Eve_Mins          3333 non-null float64\n",
      "Night_Mins        3333 non-null float64\n",
      "Intl_Mins         3333 non-null float64\n",
      "CustServ_Calls    3333 non-null float64\n",
      "Churn             3333 non-null float64\n",
      "Intl_Plan         3333 non-null float64\n",
      "Vmail_Plan        3333 non-null float64\n",
      "Day_Calls         3333 non-null float64\n",
      "Day_Charge        3333 non-null float64\n",
      "Eve_Calls         3333 non-null float64\n",
      "Eve_Charge        3333 non-null float64\n",
      "Night_Calls       3333 non-null float64\n",
      "Night_Charge      3333 non-null float64\n",
      "Intl_Calls        3333 non-null float64\n",
      "Intl_Charge       3333 non-null float64\n",
      "State_AK          3333 non-null float64\n",
      "State_AL          3333 non-null float64\n",
      "State_AR          3333 non-null float64\n",
      "State_AZ          3333 non-null float64\n",
      "State_CA          3333 non-null float64\n",
      "State_CO          3333 non-null float64\n",
      "State_CT          3333 non-null float64\n",
      "State_DC          3333 non-null float64\n",
      "State_DE          3333 non-null float64\n",
      "State_FL          3333 non-null float64\n",
      "State_GA          3333 non-null float64\n",
      "State_HI          3333 non-null float64\n",
      "State_IA          3333 non-null float64\n",
      "State_ID          3333 non-null float64\n",
      "State_IL          3333 non-null float64\n",
      "State_IN          3333 non-null float64\n",
      "State_KS          3333 non-null float64\n",
      "State_KY          3333 non-null float64\n",
      "State_LA          3333 non-null float64\n",
      "State_MA          3333 non-null float64\n",
      "State_MD          3333 non-null float64\n",
      "State_ME          3333 non-null float64\n",
      "State_MI          3333 non-null float64\n",
      "State_MN          3333 non-null float64\n",
      "State_MO          3333 non-null float64\n",
      "State_MS          3333 non-null float64\n",
      "State_MT          3333 non-null float64\n",
      "State_NC          3333 non-null float64\n",
      "State_ND          3333 non-null float64\n",
      "State_NE          3333 non-null float64\n",
      "State_NH          3333 non-null float64\n",
      "State_NJ          3333 non-null float64\n",
      "State_NM          3333 non-null float64\n",
      "State_NV          3333 non-null float64\n",
      "State_NY          3333 non-null float64\n",
      "State_OH          3333 non-null float64\n",
      "State_OK          3333 non-null float64\n",
      "State_OR          3333 non-null float64\n",
      "State_PA          3333 non-null float64\n",
      "State_RI          3333 non-null float64\n",
      "State_SC          3333 non-null float64\n",
      "State_SD          3333 non-null float64\n",
      "State_TN          3333 non-null float64\n",
      "State_TX          3333 non-null float64\n",
      "State_UT          3333 non-null float64\n",
      "State_VA          3333 non-null float64\n",
      "State_VT          3333 non-null float64\n",
      "State_WA          3333 non-null float64\n",
      "State_WI          3333 non-null float64\n",
      "State_WV          3333 non-null float64\n",
      "State_WY          3333 non-null float64\n",
      "dtypes: float64(69)\n",
      "memory usage: 1.8 MB\n"
     ]
    }
   ],
   "source": [
    "telco_scaled_df.info()"
   ]
  },
  {
   "cell_type": "code",
   "execution_count": 67,
   "metadata": {},
   "outputs": [
    {
     "name": "stdout",
     "output_type": "stream",
     "text": [
      "0   -1.861984\n",
      "1    7.160988\n",
      "2   -3.804613\n",
      "3    0.138364\n",
      "4   -0.258766\n",
      "Name: Avg_Night_Calls, dtype: float64\n"
     ]
    }
   ],
   "source": [
    "# Create the new feature\n",
    "telco_scaled_df['Avg_Night_Calls'] = telco_scaled_df.Night_Mins/telco_scaled_df.Night_Calls\n",
    "\n",
    "# Print the first five rows of 'Avg_Night_Calls'\n",
    "print(telco_scaled_df['Avg_Night_Calls'].head())"
   ]
  },
  {
   "cell_type": "code",
   "execution_count": 69,
   "metadata": {
    "collapsed": true
   },
   "outputs": [],
   "source": [
    "features=['Account_Length', 'Vmail_Message', 'Day_Mins', 'Eve_Mins', 'Night_Mins', 'Intl_Mins', 'CustServ_Calls', 'Intl_Plan', 'Vmail_Plan', 'Day_Calls', 'Day_Charge', 'Eve_Calls', 'Eve_Charge',\n",
    "       'Night_Calls', 'Night_Charge', 'Intl_Calls', 'Intl_Charge']"
   ]
  },
  {
   "cell_type": "code",
   "execution_count": 89,
   "metadata": {},
   "outputs": [
    {
     "name": "stderr",
     "output_type": "stream",
     "text": [
      "C:\\Users\\Gaya\\AppData\\Roaming\\Python\\Python36\\site-packages\\sklearn\\linear_model\\logistic.py:433: FutureWarning: Default solver will be changed to 'lbfgs' in 0.22. Specify a solver to silence this warning.\n",
      "  FutureWarning)\n"
     ]
    },
    {
     "data": {
      "text/plain": [
       "LogisticRegression(C=1.0, class_weight=None, dual=False, fit_intercept=True,\n",
       "          intercept_scaling=1, max_iter=100, multi_class='warn',\n",
       "          n_jobs=None, penalty='l2', random_state=None, solver='warn',\n",
       "          tol=0.0001, verbose=0, warm_start=False)"
      ]
     },
     "execution_count": 89,
     "metadata": {},
     "output_type": "execute_result"
    }
   ],
   "source": [
    "# Import LogisticRegression\n",
    "from sklearn.linear_model import LogisticRegression\n",
    "\n",
    "# Instantiate the classifier\n",
    "clf = LogisticRegression()\n",
    "\n",
    "# Fit the classifier\n",
    "clf.fit(telco[features], telco['Churn'])"
   ]
  },
  {
   "cell_type": "code",
   "execution_count": 90,
   "metadata": {},
   "outputs": [
    {
     "data": {
      "text/plain": [
       "DecisionTreeClassifier(class_weight=None, criterion='gini', max_depth=None,\n",
       "            max_features=None, max_leaf_nodes=None,\n",
       "            min_impurity_decrease=0.0, min_impurity_split=None,\n",
       "            min_samples_leaf=1, min_samples_split=2,\n",
       "            min_weight_fraction_leaf=0.0, presort=False, random_state=None,\n",
       "            splitter='best')"
      ]
     },
     "execution_count": 90,
     "metadata": {},
     "output_type": "execute_result"
    }
   ],
   "source": [
    "# Import DecisionTreeClassifier\n",
    "from sklearn.tree import DecisionTreeClassifier\n",
    "\n",
    "# Instantiate the classifier\n",
    "clf=DecisionTreeClassifier()\n",
    "\n",
    "# Fit the classifier\n",
    "clf.fit(telco[features],telco['Churn'])\n"
   ]
  },
  {
   "cell_type": "code",
   "execution_count": 91,
   "metadata": {
    "collapsed": true
   },
   "outputs": [],
   "source": [
    "# Import train_test_split\n",
    "from sklearn.model_selection import train_test_split\n",
    "\n",
    "# Create feature variable\n",
    "X = telco.drop('Churn', axis=1)\n",
    "\n",
    "# Create target variable\n",
    "y = telco['Churn']\n",
    "\n",
    "# Create training and testing sets\n",
    "X_train, X_test, y_train, y_test = train_test_split(X, y, test_size=0.3)"
   ]
  },
  {
   "cell_type": "code",
   "execution_count": 92,
   "metadata": {},
   "outputs": [
    {
     "name": "stdout",
     "output_type": "stream",
     "text": [
      "0.93\n"
     ]
    },
    {
     "name": "stderr",
     "output_type": "stream",
     "text": [
      "C:\\Users\\Gaya\\AppData\\Roaming\\Python\\Python36\\site-packages\\sklearn\\ensemble\\forest.py:246: FutureWarning: The default value of n_estimators will change from 10 in version 0.20 to 100 in 0.22.\n",
      "  \"10 in version 0.20 to 100 in 0.22.\", FutureWarning)\n"
     ]
    }
   ],
   "source": [
    "# Import RandomForestClassifier\n",
    "from sklearn.ensemble import RandomForestClassifier\n",
    "\n",
    "# Instantiate the classifier\n",
    "clf = RandomForestClassifier()\n",
    "\n",
    "# Fit to the training data\n",
    "clf.fit(X_train,y_train)\n",
    "\n",
    "# Compute accuracy\n",
    "print(clf.score(X_test, y_test))"
   ]
  },
  {
   "cell_type": "code",
   "execution_count": 94,
   "metadata": {
    "collapsed": true
   },
   "outputs": [],
   "source": [
    "y_pred=clf.predict(X_test)"
   ]
  },
  {
   "cell_type": "code",
   "execution_count": 95,
   "metadata": {},
   "outputs": [
    {
     "name": "stdout",
     "output_type": "stream",
     "text": [
      "[[845   8]\n",
      " [ 62  85]]\n"
     ]
    }
   ],
   "source": [
    "# Import confusion_matrix\n",
    "from sklearn.metrics import confusion_matrix\n",
    "\n",
    "# Print the confusion matrix\n",
    "print(confusion_matrix(y_test,y_pred))"
   ]
  },
  {
   "cell_type": "code",
   "execution_count": 96,
   "metadata": {},
   "outputs": [
    {
     "name": "stderr",
     "output_type": "stream",
     "text": [
      "C:\\Users\\Gaya\\AppData\\Roaming\\Python\\Python36\\site-packages\\sklearn\\ensemble\\forest.py:246: FutureWarning: The default value of n_estimators will change from 10 in version 0.20 to 100 in 0.22.\n",
      "  \"10 in version 0.20 to 100 in 0.22.\", FutureWarning)\n"
     ]
    },
    {
     "name": "stdout",
     "output_type": "stream",
     "text": [
      "1.0\n"
     ]
    }
   ],
   "source": [
    "# Import train_test_split\n",
    "from sklearn.model_selection import train_test_split\n",
    "\n",
    "# Create feature variable\n",
    "X = telco.drop('Churn', axis=1)\n",
    "\n",
    "# Create target variable\n",
    "y = telco['Churn']\n",
    "\n",
    "# Create training and testing sets\n",
    "X_train, X_test, y_train, y_test = train_test_split(X, y, test_size=0.1)\n",
    "\n",
    "# Import RandomForestClassifier\n",
    "from sklearn.ensemble import RandomForestClassifier\n",
    "\n",
    "# Instantiate the classifier\n",
    "clf = RandomForestClassifier()\n",
    "\n",
    "# Fit to the training data\n",
    "clf.fit(X_train, y_train)\n",
    "\n",
    "# Predict the labels of the test set\n",
    "y_pred = clf.predict(X_test)\n",
    "\n",
    "# Import recall_score\n",
    "from sklearn.metrics import precision_score\n",
    "\n",
    "# Print the recall\n",
    "print(precision_score(y_test, y_pred))"
   ]
  },
  {
   "cell_type": "code",
   "execution_count": 97,
   "metadata": {},
   "outputs": [
    {
     "name": "stdout",
     "output_type": "stream",
     "text": [
      "0.45454545454545453\n"
     ]
    }
   ],
   "source": [
    "\n",
    "# Import recall_score\n",
    "from sklearn.metrics import recall_score\n",
    "\n",
    "# Print the recall\n",
    "print(recall_score(y_test, y_pred))"
   ]
  },
  {
   "cell_type": "code",
   "execution_count": 98,
   "metadata": {},
   "outputs": [
    {
     "data": {
      "image/png": "[encoded data removed]",
      "text/plain": [
       "<Figure size 432x288 with 1 Axes>"
      ]
     },
     "metadata": {},
     "output_type": "display_data"
    }
   ],
   "source": [
    "# Generate the probabilities\n",
    "y_pred_prob = clf.predict_proba(X_test)[:, 1]\n",
    "\n",
    "# Import roc_curve\n",
    "from sklearn.metrics import roc_curve\n",
    "\n",
    "# Calculate the roc metrics\n",
    "fpr, tpr, thresholds = roc_curve(y_test, y_pred_prob)\n",
    "\n",
    "# Plot the ROC curve\n",
    "plt.plot(fpr, tpr)\n",
    "\n",
    "# Add labels and diagonal line\n",
    "plt.xlabel(\"False Positive Rate\")\n",
    "plt.ylabel(\"True Positive Rate\")\n",
    "plt.plot([0, 1], [0, 1], \"k--\")\n",
    "plt.show()"
   ]
  },
  {
   "cell_type": "code",
   "execution_count": 99,
   "metadata": {},
   "outputs": [
    {
     "name": "stdout",
     "output_type": "stream",
     "text": [
      "0.8784482758620691\n"
     ]
    }
   ],
   "source": [
    "# Import roc_auc_score\n",
    "from sklearn.metrics import roc_auc_score\n",
    "\n",
    "# Print the AUC\n",
    "print(roc_auc_score(y_test, y_pred_prob))"
   ]
  },
  {
   "cell_type": "code",
   "execution_count": 100,
   "metadata": {},
   "outputs": [
    {
     "name": "stderr",
     "output_type": "stream",
     "text": [
      "C:\\Users\\Gaya\\AppData\\Roaming\\Python\\Python36\\site-packages\\sklearn\\ensemble\\forest.py:246: FutureWarning: The default value of n_estimators will change from 10 in version 0.20 to 100 in 0.22.\n",
      "  \"10 in version 0.20 to 100 in 0.22.\", FutureWarning)\n"
     ]
    },
    {
     "name": "stdout",
     "output_type": "stream",
     "text": [
      "0.5573770491803279\n"
     ]
    }
   ],
   "source": [
    "# Instantiate the classifier\n",
    "clf = RandomForestClassifier()\n",
    "\n",
    "# Fit to the training data\n",
    "clf.fit(X_train, y_train)\n",
    "\n",
    "# Predict the labels of the test set\n",
    "y_pred = clf.predict(X_test)\n",
    "\n",
    "# Import f1_score\n",
    "from sklearn.metrics import f1_score\n",
    "\n",
    "# Print the F1 score\n",
    "print(f1_score(y_test, y_pred))"
   ]
  },
  {
   "cell_type": "code",
   "execution_count": 101,
   "metadata": {},
   "outputs": [
    {
     "name": "stderr",
     "output_type": "stream",
     "text": [
      "C:\\Users\\Gaya\\AppData\\Roaming\\Python\\Python36\\site-packages\\sklearn\\model_selection\\_split.py:2053: FutureWarning: You should specify a value for 'cv' instead of relying on the default value. The default value will change from 3 to 5 in version 0.22.\n",
      "  warnings.warn(CV_WARNING, FutureWarning)\n"
     ]
    },
    {
     "name": "stdout",
     "output_type": "stream",
     "text": [
      "{'max_features': 'auto'}\n"
     ]
    }
   ],
   "source": [
    "# Import GridSearchCV\n",
    "from sklearn.model_selection import GridSearchCV\n",
    "\n",
    "# Create the hyperparameter grid\n",
    "param_grid = {'max_features': ['auto', 'sqrt', 'log2']}\n",
    "\n",
    "# Call GridSearchCV\n",
    "grid_search = GridSearchCV(clf, param_grid)\n",
    "\n",
    "# Fit the model\n",
    "grid_search.fit(X, y)\n",
    "\n",
    "# Print the optimal parameters\n",
    "print(grid_search.best_params_)"
   ]
  },
  {
   "cell_type": "code",
   "execution_count": 102,
   "metadata": {},
   "outputs": [
    {
     "data": {
      "image/png": "[encoded data removed]",
      "text/plain": [
       "<Figure size 432x288 with 1 Axes>"
      ]
     },
     "metadata": {},
     "output_type": "display_data"
    }
   ],
   "source": [
    "# Calculate feature importances\n",
    "importances = clf.feature_importances_\n",
    "\n",
    "# Create plot\n",
    "plt.barh(range(X.shape[1]), importances)\n",
    "plt.show()"
   ]
  },
  {
   "cell_type": "code",
   "execution_count": 107,
   "metadata": {},
   "outputs": [
    {
     "data": {
      "text/plain": [
       "<Figure size 432x288 with 0 Axes>"
      ]
     },
     "metadata": {},
     "output_type": "display_data"
    },
    {
     "data": {
      "image/png": "[encoded data removed]",
      "text/plain": [
       "<Figure size 1080x720 with 1 Axes>"
      ]
     },
     "metadata": {},
     "output_type": "display_data"
    }
   ],
   "source": [
    "# Sort importances\n",
    "sorted_index = np.argsort(importances)\n",
    "\n",
    "# Create labels\n",
    "labels = X.columns[sorted_index]\n",
    "\n",
    "# Clear current plot\n",
    "plt.clf()\n",
    "\n",
    "# Create plot\n",
    "plt.figure(figsize=(15,10))\n",
    "plt.barh(range(X.shape[1]), importances[sorted_index], tick_label=labels)\n",
    "plt.show()"
   ]
  },
  {
   "cell_type": "code",
   "execution_count": null,
   "metadata": {
    "collapsed": true
   },
   "outputs": [],
   "source": []
  }
 ],
 "metadata": {
  "kernelspec": {
   "display_name": "Python 3",
   "language": "python",
   "name": "python3"
  },
  "language_info": {
   "codemirror_mode": {
    "name": "ipython",
    "version": 3
   },
   "file_extension": ".py",
   "mimetype": "text/x-python",
   "name": "python",
   "nbconvert_exporter": "python",
   "pygments_lexer": "ipython3",
   "version": "3.6.3"
  }
 },
 "nbformat": 4,
 "nbformat_minor": 2
}
