{
 "cells": [
  {
   "cell_type": "code",
   "execution_count": 33,
   "metadata": {},
   "outputs": [],
   "source": [
    "library(caret)\n",
    "library(dplyr)\n",
    "library(rpart)\n",
    "library(rpart.plot)\n",
    "# library(rattle)\n",
    "library(ROCR)\n",
    "library(randomForest)\n",
    "library(dummies)"
   ]
  },
  {
   "cell_type": "code",
   "execution_count": 5,
   "metadata": {},
   "outputs": [
    {
     "name": "stdout",
     "output_type": "stream",
     "text": [
      "'data.frame':\t1000 obs. of  22 variables:\n",
      " $ Customer_ID             : int  1122334 6156361 2051359 8740590 3924540 3115687 8251714 2272783 1865292 8369450 ...\n",
      " $ checking_account_status : chr  \"< 0 DM\" \"0 - 200 DM\" \"none\" \"< 0 DM\" ...\n",
      " $ loan_duration_mo        : int  6 48 12 42 24 36 24 36 12 30 ...\n",
      " $ credit_history          : chr  \"critical account - other non-bank loans\" \"current loans paid\" \"critical account - other non-bank loans\" \"current loans paid\" ...\n",
      " $ purpose                 : chr  \"radio/television\" \"radio/television\" \"education\" \"furniture/equipment\" ...\n",
      " $ loan_amount             : int  1169 5951 2096 7882 4870 9055 2835 6948 3059 5234 ...\n",
      " $ savings_account_balance : chr  \"unknown/none\" \"< 100 DM\" \"< 100 DM\" \"< 100 DM\" ...\n",
      " $ time_employed_yrs       : chr  \">= 7 years\" \"1 - 4 years\" \"4 - 7 years\" \"4 - 7 years\" ...\n",
      " $ payment_pcnt_income     : int  4 2 2 2 3 2 3 2 2 4 ...\n",
      " $ gender_status           : chr  \"male-single\" \"female-divorced/separated/married\" \"male-single\" \"male-single\" ...\n",
      " $ other_signators         : chr  \"none\" \"none\" \"none\" \"guarantor\" ...\n",
      " $ time_in_residence       : int  4 2 3 4 4 4 4 2 4 2 ...\n",
      " $ property                : chr  \"real estate\" \"real estate\" \"real estate\" \"building society savings/life insurance\" ...\n",
      " $ age_yrs                 : int  67 22 49 45 53 35 53 35 61 28 ...\n",
      " $ other_credit_outstanding: chr  \"none\" \"none\" \"none\" \"none\" ...\n",
      " $ home_ownership          : chr  \"own\" \"own\" \"own\" \"for free\" ...\n",
      " $ number_loans            : int  2 1 1 1 2 1 1 1 1 2 ...\n",
      " $ job_category            : chr  \"skilled\" \"skilled\" \"unskilled-resident\" \"skilled\" ...\n",
      " $ dependents              : int  1 1 2 2 2 2 1 1 1 1 ...\n",
      " $ telephone               : chr  \"yes\" \"none\" \"none\" \"none\" ...\n",
      " $ foreign_worker          : chr  \"yes\" \"yes\" \"yes\" \"yes\" ...\n",
      " $ bad_credit              : int  0 1 0 0 1 0 0 0 0 1 ...\n"
     ]
    }
   ],
   "source": [
    "credit<-read.csv('C:\\\\Users\\\\Gaya\\\\Desktop\\\\R\\\\EDX_Scripts\\\\Principles-of-Machine-Learning-R-master\\\\Module4\\\\German_Credit_Preped.csv',stringsAsFactors = F)\n",
    "  \n",
    "  str(credit)"
   ]
  },
  {
   "cell_type": "code",
   "execution_count": 6,
   "metadata": {},
   "outputs": [
    {
     "name": "stdout",
     "output_type": "stream",
     "text": [
      "'data.frame':\t1000 obs. of  21 variables:\n",
      " $ checking_account_status : chr  \"< 0 DM\" \"0 - 200 DM\" \"none\" \"< 0 DM\" ...\n",
      " $ loan_duration_mo        : int  6 48 12 42 24 36 24 36 12 30 ...\n",
      " $ credit_history          : chr  \"critical account - other non-bank loans\" \"current loans paid\" \"critical account - other non-bank loans\" \"current loans paid\" ...\n",
      " $ purpose                 : chr  \"radio/television\" \"radio/television\" \"education\" \"furniture/equipment\" ...\n",
      " $ loan_amount             : int  1169 5951 2096 7882 4870 9055 2835 6948 3059 5234 ...\n",
      " $ savings_account_balance : chr  \"unknown/none\" \"< 100 DM\" \"< 100 DM\" \"< 100 DM\" ...\n",
      " $ time_employed_yrs       : chr  \">= 7 years\" \"1 - 4 years\" \"4 - 7 years\" \"4 - 7 years\" ...\n",
      " $ payment_pcnt_income     : int  4 2 2 2 3 2 3 2 2 4 ...\n",
      " $ gender_status           : chr  \"male-single\" \"female-divorced/separated/married\" \"male-single\" \"male-single\" ...\n",
      " $ other_signators         : chr  \"none\" \"none\" \"none\" \"guarantor\" ...\n",
      " $ time_in_residence       : int  4 2 3 4 4 4 4 2 4 2 ...\n",
      " $ property                : chr  \"real estate\" \"real estate\" \"real estate\" \"building society savings/life insurance\" ...\n",
      " $ age_yrs                 : int  67 22 49 45 53 35 53 35 61 28 ...\n",
      " $ other_credit_outstanding: chr  \"none\" \"none\" \"none\" \"none\" ...\n",
      " $ home_ownership          : chr  \"own\" \"own\" \"own\" \"for free\" ...\n",
      " $ number_loans            : int  2 1 1 1 2 1 1 1 1 2 ...\n",
      " $ job_category            : chr  \"skilled\" \"skilled\" \"unskilled-resident\" \"skilled\" ...\n",
      " $ dependents              : int  1 1 2 2 2 2 1 1 1 1 ...\n",
      " $ telephone               : chr  \"yes\" \"none\" \"none\" \"none\" ...\n",
      " $ foreign_worker          : chr  \"yes\" \"yes\" \"yes\" \"yes\" ...\n",
      " $ bad_credit              : int  0 1 0 0 1 0 0 0 0 1 ...\n"
     ]
    },
    {
     "data": {
      "text/plain": [
       "\n",
       "  0   1 \n",
       "700 300 "
      ]
     },
     "metadata": {},
     "output_type": "display_data"
    },
    {
     "name": "stdout",
     "output_type": "stream",
     "text": [
      "'data.frame':\t1000 obs. of  21 variables:\n",
      " $ checking_account_status : chr  \"< 0 DM\" \"0 - 200 DM\" \"none\" \"< 0 DM\" ...\n",
      " $ loan_duration_mo        : int  6 48 12 42 24 36 24 36 12 30 ...\n",
      " $ credit_history          : chr  \"critical account - other non-bank loans\" \"current loans paid\" \"critical account - other non-bank loans\" \"current loans paid\" ...\n",
      " $ purpose                 : chr  \"radio/television\" \"radio/television\" \"education\" \"furniture/equipment\" ...\n",
      " $ loan_amount             : int  1169 5951 2096 7882 4870 9055 2835 6948 3059 5234 ...\n",
      " $ savings_account_balance : chr  \"unknown/none\" \"< 100 DM\" \"< 100 DM\" \"< 100 DM\" ...\n",
      " $ time_employed_yrs       : chr  \">= 7 years\" \"1 - 4 years\" \"4 - 7 years\" \"4 - 7 years\" ...\n",
      " $ payment_pcnt_income     : int  4 2 2 2 3 2 3 2 2 4 ...\n",
      " $ gender_status           : chr  \"male-single\" \"female-divorced/separated/married\" \"male-single\" \"male-single\" ...\n",
      " $ other_signators         : chr  \"none\" \"none\" \"none\" \"guarantor\" ...\n",
      " $ time_in_residence       : int  4 2 3 4 4 4 4 2 4 2 ...\n",
      " $ property                : chr  \"real estate\" \"real estate\" \"real estate\" \"building society savings/life insurance\" ...\n",
      " $ age_yrs                 : int  67 22 49 45 53 35 53 35 61 28 ...\n",
      " $ other_credit_outstanding: chr  \"none\" \"none\" \"none\" \"none\" ...\n",
      " $ home_ownership          : chr  \"own\" \"own\" \"own\" \"for free\" ...\n",
      " $ number_loans            : int  2 1 1 1 2 1 1 1 1 2 ...\n",
      " $ job_category            : chr  \"skilled\" \"skilled\" \"unskilled-resident\" \"skilled\" ...\n",
      " $ dependents              : int  1 1 2 2 2 2 1 1 1 1 ...\n",
      " $ telephone               : chr  \"yes\" \"none\" \"none\" \"none\" ...\n",
      " $ foreign_worker          : chr  \"yes\" \"yes\" \"yes\" \"yes\" ...\n",
      " $ bad_credit              : chr  \"No\" \"Yes\" \"No\" \"No\" ...\n"
     ]
    }
   ],
   "source": []
  },
  {
   "cell_type": "code",
   "execution_count": 13,
   "metadata": {},
   "outputs": [
    {
     "name": "stdout",
     "output_type": "stream",
     "text": [
      "'data.frame':\t700 obs. of  21 variables:\n",
      " $ checking_account_status : chr  \"< 0 DM\" \"0 - 200 DM\" \"none\" \"< 0 DM\" ...\n",
      " $ loan_duration_mo        : int  6 48 12 42 24 12 12 48 12 24 ...\n",
      " $ credit_history          : chr  \"critical account - other non-bank loans\" \"current loans paid\" \"critical account - other non-bank loans\" \"current loans paid\" ...\n",
      " $ purpose                 : chr  \"radio/television\" \"radio/television\" \"education\" \"furniture/equipment\" ...\n",
      " $ loan_amount             : int  1169 5951 2096 7882 2835 3059 1295 4308 1567 1199 ...\n",
      " $ savings_account_balance : chr  \"unknown/none\" \"< 100 DM\" \"< 100 DM\" \"< 100 DM\" ...\n",
      " $ time_employed_yrs       : chr  \">= 7 years\" \"1 - 4 years\" \"4 - 7 years\" \"4 - 7 years\" ...\n",
      " $ payment_pcnt_income     : int  4 2 2 2 3 2 3 3 1 4 ...\n",
      " $ gender_status           : chr  \"male-single\" \"female-divorced/separated/married\" \"male-single\" \"male-single\" ...\n",
      " $ other_signators         : chr  \"none\" \"none\" \"none\" \"guarantor\" ...\n",
      " $ time_in_residence       : int  4 2 3 4 4 4 1 4 1 4 ...\n",
      " $ property                : chr  \"real estate\" \"real estate\" \"real estate\" \"building society savings/life insurance\" ...\n",
      " $ age_yrs                 : int  67 22 49 45 53 61 25 24 22 60 ...\n",
      " $ other_credit_outstanding: chr  \"none\" \"none\" \"none\" \"none\" ...\n",
      " $ home_ownership          : chr  \"own\" \"own\" \"own\" \"for free\" ...\n",
      " $ number_loans            : int  2 1 1 1 1 1 1 1 1 2 ...\n",
      " $ job_category            : chr  \"skilled\" \"skilled\" \"unskilled-resident\" \"skilled\" ...\n",
      " $ dependents              : int  1 1 2 2 1 1 1 1 1 1 ...\n",
      " $ telephone               : chr  \"yes\" \"none\" \"none\" \"none\" ...\n",
      " $ foreign_worker          : chr  \"yes\" \"yes\" \"yes\" \"yes\" ...\n",
      " $ bad_credit              : chr  \"No\" \"Yes\" \"No\" \"No\" ...\n"
     ]
    }
   ],
   "source": [
    "set.seed(42)\n",
    "ind<-createDataPartition(credit$bad_credit,p = 0.7,list = F)\n",
    "\n",
    "credit_train<-credit[ind,]\n",
    "credit_test<-credit[-ind,]\n",
    "str(credit_train)"
   ]
  },
  {
   "cell_type": "code",
   "execution_count": 14,
   "metadata": {},
   "outputs": [
    {
     "data": {
      "image/png": "[encoded data removed]",
      "text/plain": [
       "plot without title"
      ]
     },
     "metadata": {},
     "output_type": "display_data"
    }
   ],
   "source": [
    "### Constructing decision tree\n",
    "\n",
    "mod1<-rpart(bad_credit~.,data=credit_train)\n",
    "\n",
    "prp(mod1,type = 2,extra=2)\n"
   ]
  },
  {
   "cell_type": "code",
   "execution_count": 15,
   "metadata": {},
   "outputs": [
    {
     "data": {
      "image/png": "[encoded data removed]",
      "text/plain": [
       "plot without title"
      ]
     },
     "metadata": {},
     "output_type": "display_data"
    }
   ],
   "source": [
    "mod2<-rpart(bad_credit~.,data=credit_train,control = rpart.control(maxdepth = 4))\n",
    "\n",
    "prp(mod2,type = 2,extra=1)\n"
   ]
  },
  {
   "cell_type": "code",
   "execution_count": null,
   "metadata": {},
   "outputs": [],
   "source": [
    "fancyRpartPlot(mod2,type = 4)"
   ]
  },
  {
   "cell_type": "code",
   "execution_count": 36,
   "metadata": {},
   "outputs": [
    {
     "ename": "ERROR",
     "evalue": "Error in eval(expr, envir, enclos): could not find function \"accuracy\"\n",
     "output_type": "error",
     "traceback": [
      "Error in eval(expr, envir, enclos): could not find function \"accuracy\"\nTraceback:\n"
     ]
    }
   ],
   "source": [
    "pred_class<-predict(mod2,credit_test,type = 'class')\n",
    "\n",
    "accuracy(credit_test$bad_credit,pred_class)"
   ]
  },
  {
   "cell_type": "code",
   "execution_count": 38,
   "metadata": {},
   "outputs": [],
   "source": [
    "# asRules(mod2)"
   ]
  },
  {
   "cell_type": "code",
   "execution_count": 39,
   "metadata": {},
   "outputs": [
    {
     "data": {
      "text/plain": [
       "Confusion Matrix and Statistics\n",
       "\n",
       "          Reference\n",
       "Prediction  No Yes\n",
       "       No  176  68\n",
       "       Yes  34  22\n",
       "                                          \n",
       "               Accuracy : 0.66            \n",
       "                 95% CI : (0.6033, 0.7135)\n",
       "    No Information Rate : 0.7             \n",
       "    P-Value [Acc > NIR] : 0.941040        \n",
       "                                          \n",
       "                  Kappa : 0.0925          \n",
       " Mcnemar's Test P-Value : 0.001085        \n",
       "                                          \n",
       "            Sensitivity : 0.24444         \n",
       "            Specificity : 0.83810         \n",
       "         Pos Pred Value : 0.39286         \n",
       "         Neg Pred Value : 0.72131         \n",
       "             Prevalence : 0.30000         \n",
       "         Detection Rate : 0.07333         \n",
       "   Detection Prevalence : 0.18667         \n",
       "      Balanced Accuracy : 0.54127         \n",
       "                                          \n",
       "       'Positive' Class : Yes             \n",
       "                                          "
      ]
     },
     "metadata": {},
     "output_type": "display_data"
    }
   ],
   "source": [
    "confusionMatrix(factor(pred_class),factor(credit_test$bad_credit),positive='Yes')"
   ]
  },
  {
   "cell_type": "code",
   "execution_count": 40,
   "metadata": {},
   "outputs": [
    {
     "data": {
      "text/plain": [
       "Confusion Matrix and Statistics\n",
       "\n",
       "       \n",
       "        FALSE TRUE\n",
       "  FALSE   114   20\n",
       "  TRUE     96   70\n",
       "                                          \n",
       "               Accuracy : 0.6133          \n",
       "                 95% CI : (0.5557, 0.6687)\n",
       "    No Information Rate : 0.7             \n",
       "    P-Value [Acc > NIR] : 0.9995          \n",
       "                                          \n",
       "                  Kappa : 0.2583          \n",
       " Mcnemar's Test P-Value : 3.317e-12       \n",
       "                                          \n",
       "            Sensitivity : 0.5429          \n",
       "            Specificity : 0.7778          \n",
       "         Pos Pred Value : 0.8507          \n",
       "         Neg Pred Value : 0.4217          \n",
       "             Prevalence : 0.7000          \n",
       "         Detection Rate : 0.3800          \n",
       "   Detection Prevalence : 0.4467          \n",
       "      Balanced Accuracy : 0.6603          \n",
       "                                          \n",
       "       'Positive' Class : FALSE           \n",
       "                                          "
      ]
     },
     "metadata": {},
     "output_type": "display_data"
    }
   ],
   "source": [
    "confusionMatrix(table(predict(mod2,credit_test, type=\"prob\")[,\"Yes\"] >= 0.20,\n",
    "                      credit_test$bad_credit == \"Yes\"))"
   ]
  },
  {
   "cell_type": "code",
   "execution_count": 41,
   "metadata": {},
   "outputs": [],
   "source": [
    "### Let's also construct ROC curve and calsulate AUC\n",
    "\n",
    "pred_prob<-predict(mod2,credit_test,type='prob')"
   ]
  },
  {
   "cell_type": "code",
   "execution_count": 42,
   "metadata": {},
   "outputs": [],
   "source": [
    "p_credit<-prediction(pred_prob[,2],credit_test$bad_credit)"
   ]
  },
  {
   "cell_type": "code",
   "execution_count": 43,
   "metadata": {},
   "outputs": [],
   "source": [
    "perf<-performance(p_credit,'tpr','fpr')"
   ]
  },
  {
   "cell_type": "code",
   "execution_count": 44,
   "metadata": {},
   "outputs": [
    {
     "data": {
      "image/png": "[encoded data removed]",
      "text/plain": [
       "plot without title"
      ]
     },
     "metadata": {},
     "output_type": "display_data"
    }
   ],
   "source": [
    "plot(perf,colorize=T)  ### Real bad result as line is almost goes through the center"
   ]
  },
  {
   "cell_type": "code",
   "execution_count": 45,
   "metadata": {},
   "outputs": [
    {
     "name": "stdout",
     "output_type": "stream",
     "text": [
      "'data.frame':\t700 obs. of  21 variables:\n",
      " $ checking_account_status : chr  \"< 0 DM\" \"0 - 200 DM\" \"none\" \"< 0 DM\" ...\n",
      " $ loan_duration_mo        : int  6 48 12 42 24 12 12 48 12 24 ...\n",
      " $ credit_history          : chr  \"critical account - other non-bank loans\" \"current loans paid\" \"critical account - other non-bank loans\" \"current loans paid\" ...\n",
      " $ purpose                 : chr  \"radio/television\" \"radio/television\" \"education\" \"furniture/equipment\" ...\n",
      " $ loan_amount             : int  1169 5951 2096 7882 2835 3059 1295 4308 1567 1199 ...\n",
      " $ savings_account_balance : chr  \"unknown/none\" \"< 100 DM\" \"< 100 DM\" \"< 100 DM\" ...\n",
      " $ time_employed_yrs       : chr  \">= 7 years\" \"1 - 4 years\" \"4 - 7 years\" \"4 - 7 years\" ...\n",
      " $ payment_pcnt_income     : int  4 2 2 2 3 2 3 3 1 4 ...\n",
      " $ gender_status           : chr  \"male-single\" \"female-divorced/separated/married\" \"male-single\" \"male-single\" ...\n",
      " $ other_signators         : chr  \"none\" \"none\" \"none\" \"guarantor\" ...\n",
      " $ time_in_residence       : int  4 2 3 4 4 4 1 4 1 4 ...\n",
      " $ property                : chr  \"real estate\" \"real estate\" \"real estate\" \"building society savings/life insurance\" ...\n",
      " $ age_yrs                 : int  67 22 49 45 53 61 25 24 22 60 ...\n",
      " $ other_credit_outstanding: chr  \"none\" \"none\" \"none\" \"none\" ...\n",
      " $ home_ownership          : chr  \"own\" \"own\" \"own\" \"for free\" ...\n",
      " $ number_loans            : int  2 1 1 1 1 1 1 1 1 2 ...\n",
      " $ job_category            : chr  \"skilled\" \"skilled\" \"unskilled-resident\" \"skilled\" ...\n",
      " $ dependents              : int  1 1 2 2 1 1 1 1 1 1 ...\n",
      " $ telephone               : chr  \"yes\" \"none\" \"none\" \"none\" ...\n",
      " $ foreign_worker          : chr  \"yes\" \"yes\" \"yes\" \"yes\" ...\n",
      " $ bad_credit              : chr  \"No\" \"Yes\" \"No\" \"No\" ...\n"
     ]
    }
   ],
   "source": [
    "### Now let's build random forest on other dataset\n",
    "credit<-read.csv('C:\\\\Users\\\\Gaya\\\\Desktop\\\\R\\\\EDX_Scripts\\\\Principles-of-Machine-Learning-R-master\\\\Module4\\\\German_Credit_Preped.csv',stringsAsFactors = F)\n",
    "credit$Customer_ID<-NULL\n",
    "credit$bad_credit<-ifelse(credit$bad_credit==1,'Yes','No')\n",
    "set.seed(42)\n",
    "ind<-createDataPartition(credit$bad_credit,p = 0.7,list = F)\n",
    "\n",
    "credit_train<-credit[ind,]\n",
    "credit_test<-credit[-ind,]\n",
    "str(credit_train)"
   ]
  },
  {
   "cell_type": "code",
   "execution_count": 46,
   "metadata": {},
   "outputs": [],
   "source": [
    "ch_into_factors<-function(df){\n",
    "  ch <- sapply(df, is.character)\n",
    "  df[ch]<-data.frame(apply(df[ch],2,as.factor))\n",
    "  return(df)\n",
    "}"
   ]
  },
  {
   "cell_type": "code",
   "execution_count": 47,
   "metadata": {},
   "outputs": [
    {
     "name": "stdout",
     "output_type": "stream",
     "text": [
      "'data.frame':\t700 obs. of  21 variables:\n",
      " $ checking_account_status : Factor w/ 4 levels \"< 0 DM\",\"> 200 DM or salary assignment\",..: 1 3 4 1 4 4 3 1 3 1 ...\n",
      " $ loan_duration_mo        : int  6 48 12 42 24 12 12 48 12 24 ...\n",
      " $ credit_history          : Factor w/ 5 levels \"all loans at bank paid\",..: 2 3 2 3 3 3 3 3 3 2 ...\n",
      " $ purpose                 : Factor w/ 10 levels \"business\",\"car (new)\",..: 8 8 5 6 6 8 2 1 8 2 ...\n",
      " $ loan_amount             : int  1169 5951 2096 7882 2835 3059 1295 4308 1567 1199 ...\n",
      " $ savings_account_balance : Factor w/ 5 levels \"< 100 DM\",\">= 1000 DM\",..: 5 1 1 1 4 2 1 1 1 1 ...\n",
      " $ time_employed_yrs       : Factor w/ 5 levels \"< 1 year\",\">= 7 years\",..: 2 3 4 4 2 4 1 1 3 2 ...\n",
      " $ payment_pcnt_income     : int  4 2 2 2 3 2 3 3 1 4 ...\n",
      " $ gender_status           : Factor w/ 4 levels \"female-divorced/separated/married\",..: 4 1 4 4 4 2 1 1 1 4 ...\n",
      " $ other_signators         : Factor w/ 3 levels \"co-applicant\",..: 3 3 3 2 3 3 3 3 3 3 ...\n",
      " $ time_in_residence       : int  4 2 3 4 4 4 1 4 1 4 ...\n",
      " $ property                : Factor w/ 4 levels \"building society savings/life insurance\",..: 3 3 3 1 1 3 2 1 2 2 ...\n",
      " $ age_yrs                 : int  67 22 49 45 53 61 25 24 22 60 ...\n",
      " $ other_credit_outstanding: Factor w/ 3 levels \"bank\",\"none\",..: 2 2 2 2 2 2 2 2 2 2 ...\n",
      " $ home_ownership          : Factor w/ 3 levels \"for free\",\"own\",..: 2 2 2 1 2 2 3 3 2 2 ...\n",
      " $ number_loans            : int  2 1 1 1 1 1 1 1 1 2 ...\n",
      " $ job_category            : Factor w/ 4 levels \"highly skilled\",..: 2 2 4 2 2 4 2 2 2 4 ...\n",
      " $ dependents              : int  1 1 2 2 1 1 1 1 1 1 ...\n",
      " $ telephone               : Factor w/ 2 levels \"none\",\"yes\": 2 1 1 1 1 1 1 1 2 1 ...\n",
      " $ foreign_worker          : Factor w/ 2 levels \"no\",\"yes\": 2 2 2 2 2 2 2 2 2 2 ...\n",
      " $ bad_credit              : Factor w/ 2 levels \"No\",\"Yes\": 1 2 1 1 1 1 2 2 1 2 ...\n",
      "'data.frame':\t300 obs. of  21 variables:\n",
      " $ checking_account_status : Factor w/ 4 levels \"< 0 DM\",\"> 200 DM or salary assignment\",..: 1 4 3 3 1 3 4 3 3 4 ...\n",
      " $ loan_duration_mo        : int  24 36 36 30 24 24 24 18 18 11 ...\n",
      " $ credit_history          : Factor w/ 5 levels \"all loans at bank paid\",..: 5 3 3 2 3 3 3 3 3 2 ...\n",
      " $ purpose                 : Factor w/ 10 levels \"business\",\"car (new)\",..: 2 5 3 2 8 3 8 1 2 2 ...\n",
      " $ loan_amount             : int  4870 9055 6948 5234 1282 12579 3430 1913 5866 1393 ...\n",
      " $ savings_account_balance : Factor w/ 5 levels \"< 100 DM\",\">= 1000 DM\",..: 1 5 1 1 3 1 4 2 3 1 ...\n",
      " $ time_employed_yrs       : Factor w/ 5 levels \"< 1 year\",\">= 7 years\",..: 3 3 3 5 3 2 2 1 3 1 ...\n",
      " $ payment_pcnt_income     : int  3 2 2 4 4 4 3 3 2 4 ...\n",
      " $ gender_status           : Factor w/ 4 levels \"female-divorced/separated/married\",..: 4 4 4 3 1 1 4 3 4 1 ...\n",
      " $ other_signators         : Factor w/ 3 levels \"co-applicant\",..: 3 3 3 3 3 3 3 3 3 3 ...\n",
      " $ time_in_residence       : int  4 4 2 2 2 2 2 3 2 4 ...\n",
      " $ property                : Factor w/ 4 levels \"building society savings/life insurance\",..: 4 4 2 2 2 4 2 3 2 2 ...\n",
      " $ age_yrs                 : int  53 35 35 28 32 44 31 36 30 35 ...\n",
      " $ other_credit_outstanding: Factor w/ 3 levels \"bank\",\"none\",..: 2 2 2 2 2 2 2 1 2 2 ...\n",
      " $ home_ownership          : Factor w/ 3 levels \"for free\",\"own\",..: 1 1 3 2 2 1 2 2 2 2 ...\n",
      " $ number_loans            : int  2 1 1 2 1 1 1 1 2 2 ...\n",
      " $ job_category            : Factor w/ 4 levels \"highly skilled\",..: 2 4 1 1 4 1 2 2 2 1 ...\n",
      " $ dependents              : int  2 2 1 1 1 1 2 1 1 1 ...\n",
      " $ telephone               : Factor w/ 2 levels \"none\",\"yes\": 1 2 2 1 1 2 2 2 2 1 ...\n",
      " $ foreign_worker          : Factor w/ 2 levels \"no\",\"yes\": 2 2 2 2 2 2 2 2 2 2 ...\n",
      " $ bad_credit              : Factor w/ 2 levels \"No\",\"Yes\": 2 1 1 2 2 2 1 1 1 1 ...\n"
     ]
    }
   ],
   "source": [
    "credit_train<-ch_into_factors(credit_train)\n",
    "str(credit_train)\n",
    "credit_test<-ch_into_factors(credit_test)\n",
    "str(credit_test)"
   ]
  },
  {
   "cell_type": "code",
   "execution_count": 48,
   "metadata": {},
   "outputs": [
    {
     "name": "stdout",
     "output_type": "stream",
     "text": [
      "ntree      OOB      1      2\n",
      "    1:  35.68% 26.19% 57.53%\n",
      "    2:  34.21% 22.18% 62.40%\n",
      "    3:  33.46% 23.22% 56.44%\n",
      "    4:  34.28% 24.64% 55.98%\n",
      "    5:  33.28% 20.63% 62.18%\n",
      "    6:  32.77% 22.27% 57.07%\n",
      "    7:  31.20% 19.96% 57.43%\n",
      "    8:  29.78% 20.46% 51.46%\n",
      "    9:  29.86% 19.83% 53.40%\n",
      "   10:  30.79% 20.41% 54.76%\n",
      "   11:  30.76% 20.04% 55.71%\n",
      "   12:  29.47% 17.79% 56.67%\n",
      "   13:  29.18% 17.59% 56.19%\n",
      "   14:  30.57% 18.98% 57.62%\n",
      "   15:  29.71% 16.94% 59.52%\n",
      "   16:  30.00% 17.35% 59.52%\n",
      "   17:  29.43% 16.73% 59.05%\n",
      "   18:  28.14% 14.90% 59.05%\n",
      "   19:  29.14% 15.31% 61.43%\n",
      "   20:  26.86% 13.88% 57.14%\n",
      "   21:  27.86% 14.49% 59.05%\n",
      "   22:  27.57% 14.49% 58.10%\n",
      "   23:  27.43% 14.49% 57.62%\n",
      "   24:  26.14% 12.86% 57.14%\n",
      "   25:  25.86% 13.06% 55.71%\n"
     ]
    }
   ],
   "source": [
    "mod3<-randomForest(bad_credit~., data=credit_train,ntree=25,do.trace=T)"
   ]
  },
  {
   "cell_type": "code",
   "execution_count": 49,
   "metadata": {},
   "outputs": [
    {
     "data": {
      "text/html": [
       "<table>\n",
       "<thead><tr><th></th><th scope=col>No</th><th scope=col>Yes</th></tr></thead>\n",
       "<tbody>\n",
       "\t<tr><th scope=row>5</th><td>0.68</td><td>0.32</td></tr>\n",
       "\t<tr><th scope=row>6</th><td>0.72</td><td>0.28</td></tr>\n",
       "\t<tr><th scope=row>8</th><td>0.64</td><td>0.36</td></tr>\n",
       "\t<tr><th scope=row>10</th><td>0.28</td><td>0.72</td></tr>\n",
       "\t<tr><th scope=row>16</th><td>0.68</td><td>0.32</td></tr>\n",
       "\t<tr><th scope=row>19</th><td>0.36</td><td>0.64</td></tr>\n",
       "\t<tr><th scope=row>20</th><td>0.92</td><td>0.08</td></tr>\n",
       "\t<tr><th scope=row>31</th><td>0.84</td><td>0.16</td></tr>\n",
       "\t<tr><th scope=row>33</th><td>0.60</td><td>0.40</td></tr>\n",
       "\t<tr><th scope=row>46</th><td>0.88</td><td>0.12</td></tr>\n",
       "\t<tr><th scope=row>50</th><td>0.88</td><td>0.12</td></tr>\n",
       "\t<tr><th scope=row>52</th><td>0.92</td><td>0.08</td></tr>\n",
       "\t<tr><th scope=row>60</th><td>0.44</td><td>0.56</td></tr>\n",
       "\t<tr><th scope=row>61</th><td>0.80</td><td>0.20</td></tr>\n",
       "\t<tr><th scope=row>62</th><td>0.96</td><td>0.04</td></tr>\n",
       "\t<tr><th scope=row>65</th><td>0.84</td><td>0.16</td></tr>\n",
       "\t<tr><th scope=row>67</th><td>0.96</td><td>0.04</td></tr>\n",
       "\t<tr><th scope=row>68</th><td>0.64</td><td>0.36</td></tr>\n",
       "\t<tr><th scope=row>77</th><td>0.52</td><td>0.48</td></tr>\n",
       "\t<tr><th scope=row>81</th><td>0.76</td><td>0.24</td></tr>\n",
       "\t<tr><th scope=row>82</th><td>0.84</td><td>0.16</td></tr>\n",
       "\t<tr><th scope=row>85</th><td>0.96</td><td>0.04</td></tr>\n",
       "\t<tr><th scope=row>89</th><td>0.72</td><td>0.28</td></tr>\n",
       "\t<tr><th scope=row>90</th><td>0.64</td><td>0.36</td></tr>\n",
       "\t<tr><th scope=row>93</th><td>0.88</td><td>0.12</td></tr>\n",
       "</tbody>\n",
       "</table>\n"
      ],
      "text/latex": [
       "\\begin{tabular}{r|ll}\n",
       "  & No & Yes\\\\\n",
       "\\hline\n",
       "\t5 & 0.68 & 0.32\\\\\n",
       "\t6 & 0.72 & 0.28\\\\\n",
       "\t8 & 0.64 & 0.36\\\\\n",
       "\t10 & 0.28 & 0.72\\\\\n",
       "\t16 & 0.68 & 0.32\\\\\n",
       "\t19 & 0.36 & 0.64\\\\\n",
       "\t20 & 0.92 & 0.08\\\\\n",
       "\t31 & 0.84 & 0.16\\\\\n",
       "\t33 & 0.60 & 0.40\\\\\n",
       "\t46 & 0.88 & 0.12\\\\\n",
       "\t50 & 0.88 & 0.12\\\\\n",
       "\t52 & 0.92 & 0.08\\\\\n",
       "\t60 & 0.44 & 0.56\\\\\n",
       "\t61 & 0.80 & 0.20\\\\\n",
       "\t62 & 0.96 & 0.04\\\\\n",
       "\t65 & 0.84 & 0.16\\\\\n",
       "\t67 & 0.96 & 0.04\\\\\n",
       "\t68 & 0.64 & 0.36\\\\\n",
       "\t77 & 0.52 & 0.48\\\\\n",
       "\t81 & 0.76 & 0.24\\\\\n",
       "\t82 & 0.84 & 0.16\\\\\n",
       "\t85 & 0.96 & 0.04\\\\\n",
       "\t89 & 0.72 & 0.28\\\\\n",
       "\t90 & 0.64 & 0.36\\\\\n",
       "\t93 & 0.88 & 0.12\\\\\n",
       "\\end{tabular}\n"
      ],
      "text/markdown": [
       "\n",
       "| <!--/--> | No | Yes | \n",
       "|---|---|---|---|---|---|---|---|---|---|---|---|---|---|---|---|---|---|---|---|---|---|---|---|---|\n",
       "| 5 | 0.68 | 0.32 | \n",
       "| 6 | 0.72 | 0.28 | \n",
       "| 8 | 0.64 | 0.36 | \n",
       "| 10 | 0.28 | 0.72 | \n",
       "| 16 | 0.68 | 0.32 | \n",
       "| 19 | 0.36 | 0.64 | \n",
       "| 20 | 0.92 | 0.08 | \n",
       "| 31 | 0.84 | 0.16 | \n",
       "| 33 | 0.60 | 0.40 | \n",
       "| 46 | 0.88 | 0.12 | \n",
       "| 50 | 0.88 | 0.12 | \n",
       "| 52 | 0.92 | 0.08 | \n",
       "| 60 | 0.44 | 0.56 | \n",
       "| 61 | 0.80 | 0.20 | \n",
       "| 62 | 0.96 | 0.04 | \n",
       "| 65 | 0.84 | 0.16 | \n",
       "| 67 | 0.96 | 0.04 | \n",
       "| 68 | 0.64 | 0.36 | \n",
       "| 77 | 0.52 | 0.48 | \n",
       "| 81 | 0.76 | 0.24 | \n",
       "| 82 | 0.84 | 0.16 | \n",
       "| 85 | 0.96 | 0.04 | \n",
       "| 89 | 0.72 | 0.28 | \n",
       "| 90 | 0.64 | 0.36 | \n",
       "| 93 | 0.88 | 0.12 | \n",
       "\n",
       "\n"
      ],
      "text/plain": [
       "   No   Yes \n",
       "5  0.68 0.32\n",
       "6  0.72 0.28\n",
       "8  0.64 0.36\n",
       "10 0.28 0.72\n",
       "16 0.68 0.32\n",
       "19 0.36 0.64\n",
       "20 0.92 0.08\n",
       "31 0.84 0.16\n",
       "33 0.60 0.40\n",
       "46 0.88 0.12\n",
       "50 0.88 0.12\n",
       "52 0.92 0.08\n",
       "60 0.44 0.56\n",
       "61 0.80 0.20\n",
       "62 0.96 0.04\n",
       "65 0.84 0.16\n",
       "67 0.96 0.04\n",
       "68 0.64 0.36\n",
       "77 0.52 0.48\n",
       "81 0.76 0.24\n",
       "82 0.84 0.16\n",
       "85 0.96 0.04\n",
       "89 0.72 0.28\n",
       "90 0.64 0.36\n",
       "93 0.88 0.12"
      ]
     },
     "metadata": {},
     "output_type": "display_data"
    }
   ],
   "source": [
    "pr<-predict(mod3,credit_test,type='prob')\n",
    "pr[1:25,]"
   ]
  },
  {
   "cell_type": "code",
   "execution_count": 50,
   "metadata": {},
   "outputs": [
    {
     "data": {
      "text/html": [
       "<ol>\n",
       "\t<li>0.716904761904762</li>\n",
       "</ol>\n"
      ],
      "text/latex": [
       "\\begin{enumerate}\n",
       "\\item 0.716904761904762\n",
       "\\end{enumerate}\n"
      ],
      "text/markdown": [
       "1. 0.716904761904762\n",
       "\n",
       "\n"
      ],
      "text/plain": [
       "[[1]]\n",
       "[1] 0.7169048\n"
      ]
     },
     "metadata": {},
     "output_type": "display_data"
    },
    {
     "data": {
      "image/png": "[encoded data removed]",
      "text/plain": [
       "plot without title"
      ]
     },
     "metadata": {},
     "output_type": "display_data"
    }
   ],
   "source": [
    "p_test<-prediction(pr[,2],credit_test$bad_credit)\n",
    "perf<-performance(p_test,'tpr','fpr')\n",
    "plot(perf,colorize=T)  ### Obviously this is better than perfious model\n",
    "performance(p_test,'auc')@y.values  "
   ]
  },
  {
   "cell_type": "code",
   "execution_count": 51,
   "metadata": {},
   "outputs": [],
   "source": [
    "### Doing with caret\n",
    "library(caret)\n",
    "set.seed(42)\n",
    "trc<-trainControl(method='cv',number=10)\n",
    "mtry_grid<-expand.grid(mtry=c(4,7,9,10))"
   ]
  },
  {
   "cell_type": "code",
   "execution_count": 52,
   "metadata": {},
   "outputs": [],
   "source": [
    "set.seed(42)\n",
    "mod4<-train(bad_credit~.,data=credit_train,trControl=trc,\n",
    "            method='rf',ntree=25,\n",
    "            tuneGrid=mtry_grid)"
   ]
  },
  {
   "cell_type": "code",
   "execution_count": 53,
   "metadata": {},
   "outputs": [
    {
     "data": {
      "text/html": [
       "<table>\n",
       "<thead><tr><th scope=col>mtry</th><th scope=col>Accuracy</th><th scope=col>Kappa</th><th scope=col>AccuracySD</th><th scope=col>KappaSD</th></tr></thead>\n",
       "<tbody>\n",
       "\t<tr><td> 4        </td><td>0.7485714 </td><td>0.3056491 </td><td>0.03700830</td><td>0.1229854 </td></tr>\n",
       "\t<tr><td> 7        </td><td>0.7514286 </td><td>0.3401504 </td><td>0.04771419</td><td>0.1212344 </td></tr>\n",
       "\t<tr><td> 9        </td><td>0.7557143 </td><td>0.3415498 </td><td>0.04783285</td><td>0.1286765 </td></tr>\n",
       "\t<tr><td>10        </td><td>0.7700000 </td><td>0.3877509 </td><td>0.05692418</td><td>0.1593048 </td></tr>\n",
       "</tbody>\n",
       "</table>\n"
      ],
      "text/latex": [
       "\\begin{tabular}{r|lllll}\n",
       " mtry & Accuracy & Kappa & AccuracySD & KappaSD\\\\\n",
       "\\hline\n",
       "\t  4         & 0.7485714  & 0.3056491  & 0.03700830 & 0.1229854 \\\\\n",
       "\t  7         & 0.7514286  & 0.3401504  & 0.04771419 & 0.1212344 \\\\\n",
       "\t  9         & 0.7557143  & 0.3415498  & 0.04783285 & 0.1286765 \\\\\n",
       "\t 10         & 0.7700000  & 0.3877509  & 0.05692418 & 0.1593048 \\\\\n",
       "\\end{tabular}\n"
      ],
      "text/markdown": [
       "\n",
       "mtry | Accuracy | Kappa | AccuracySD | KappaSD | \n",
       "|---|---|---|---|\n",
       "|  4         | 0.7485714  | 0.3056491  | 0.03700830 | 0.1229854  | \n",
       "|  7         | 0.7514286  | 0.3401504  | 0.04771419 | 0.1212344  | \n",
       "|  9         | 0.7557143  | 0.3415498  | 0.04783285 | 0.1286765  | \n",
       "| 10         | 0.7700000  | 0.3877509  | 0.05692418 | 0.1593048  | \n",
       "\n",
       "\n"
      ],
      "text/plain": [
       "  mtry Accuracy  Kappa     AccuracySD KappaSD  \n",
       "1  4   0.7485714 0.3056491 0.03700830 0.1229854\n",
       "2  7   0.7514286 0.3401504 0.04771419 0.1212344\n",
       "3  9   0.7557143 0.3415498 0.04783285 0.1286765\n",
       "4 10   0.7700000 0.3877509 0.05692418 0.1593048"
      ]
     },
     "metadata": {},
     "output_type": "display_data"
    }
   ],
   "source": [
    "mod4$results"
   ]
  },
  {
   "cell_type": "code",
   "execution_count": 54,
   "metadata": {},
   "outputs": [
    {
     "data": {
      "text/html": [
       "<table>\n",
       "<thead><tr><th></th><th scope=col>mtry</th></tr></thead>\n",
       "<tbody>\n",
       "\t<tr><th scope=row>4</th><td>10</td></tr>\n",
       "</tbody>\n",
       "</table>\n"
      ],
      "text/latex": [
       "\\begin{tabular}{r|l}\n",
       "  & mtry\\\\\n",
       "\\hline\n",
       "\t4 & 10\\\\\n",
       "\\end{tabular}\n"
      ],
      "text/markdown": [
       "\n",
       "| <!--/--> | mtry | \n",
       "|---|\n",
       "| 4 | 10 | \n",
       "\n",
       "\n"
      ],
      "text/plain": [
       "  mtry\n",
       "4 10  "
      ]
     },
     "metadata": {},
     "output_type": "display_data"
    }
   ],
   "source": [
    "mod4$bestTune"
   ]
  },
  {
   "cell_type": "code",
   "execution_count": 55,
   "metadata": {},
   "outputs": [
    {
     "data": {
      "text/html": [
       "<table>\n",
       "<thead><tr><th></th><th scope=col>No</th><th scope=col>Yes</th></tr></thead>\n",
       "<tbody>\n",
       "\t<tr><th scope=row>5</th><td>0.48</td><td>0.52</td></tr>\n",
       "\t<tr><th scope=row>6</th><td>0.68</td><td>0.32</td></tr>\n",
       "\t<tr><th scope=row>8</th><td>0.52</td><td>0.48</td></tr>\n",
       "\t<tr><th scope=row>10</th><td>0.24</td><td>0.76</td></tr>\n",
       "\t<tr><th scope=row>16</th><td>0.36</td><td>0.64</td></tr>\n",
       "\t<tr><th scope=row>19</th><td>0.24</td><td>0.76</td></tr>\n",
       "\t<tr><th scope=row>20</th><td>0.80</td><td>0.20</td></tr>\n",
       "\t<tr><th scope=row>31</th><td>0.44</td><td>0.56</td></tr>\n",
       "\t<tr><th scope=row>33</th><td>0.68</td><td>0.32</td></tr>\n",
       "\t<tr><th scope=row>46</th><td>0.96</td><td>0.04</td></tr>\n",
       "\t<tr><th scope=row>50</th><td>0.92</td><td>0.08</td></tr>\n",
       "\t<tr><th scope=row>52</th><td>0.76</td><td>0.24</td></tr>\n",
       "\t<tr><th scope=row>60</th><td>0.16</td><td>0.84</td></tr>\n",
       "\t<tr><th scope=row>61</th><td>0.72</td><td>0.28</td></tr>\n",
       "\t<tr><th scope=row>62</th><td>0.96</td><td>0.04</td></tr>\n",
       "\t<tr><th scope=row>65</th><td>0.96</td><td>0.04</td></tr>\n",
       "\t<tr><th scope=row>67</th><td>0.80</td><td>0.20</td></tr>\n",
       "\t<tr><th scope=row>68</th><td>0.48</td><td>0.52</td></tr>\n",
       "\t<tr><th scope=row>77</th><td>0.44</td><td>0.56</td></tr>\n",
       "\t<tr><th scope=row>81</th><td>0.88</td><td>0.12</td></tr>\n",
       "\t<tr><th scope=row>82</th><td>0.84</td><td>0.16</td></tr>\n",
       "\t<tr><th scope=row>85</th><td>0.80</td><td>0.20</td></tr>\n",
       "\t<tr><th scope=row>89</th><td>0.44</td><td>0.56</td></tr>\n",
       "\t<tr><th scope=row>90</th><td>0.76</td><td>0.24</td></tr>\n",
       "\t<tr><th scope=row>93</th><td>0.96</td><td>0.04</td></tr>\n",
       "</tbody>\n",
       "</table>\n"
      ],
      "text/latex": [
       "\\begin{tabular}{r|ll}\n",
       "  & No & Yes\\\\\n",
       "\\hline\n",
       "\t5 & 0.48 & 0.52\\\\\n",
       "\t6 & 0.68 & 0.32\\\\\n",
       "\t8 & 0.52 & 0.48\\\\\n",
       "\t10 & 0.24 & 0.76\\\\\n",
       "\t16 & 0.36 & 0.64\\\\\n",
       "\t19 & 0.24 & 0.76\\\\\n",
       "\t20 & 0.80 & 0.20\\\\\n",
       "\t31 & 0.44 & 0.56\\\\\n",
       "\t33 & 0.68 & 0.32\\\\\n",
       "\t46 & 0.96 & 0.04\\\\\n",
       "\t50 & 0.92 & 0.08\\\\\n",
       "\t52 & 0.76 & 0.24\\\\\n",
       "\t60 & 0.16 & 0.84\\\\\n",
       "\t61 & 0.72 & 0.28\\\\\n",
       "\t62 & 0.96 & 0.04\\\\\n",
       "\t65 & 0.96 & 0.04\\\\\n",
       "\t67 & 0.80 & 0.20\\\\\n",
       "\t68 & 0.48 & 0.52\\\\\n",
       "\t77 & 0.44 & 0.56\\\\\n",
       "\t81 & 0.88 & 0.12\\\\\n",
       "\t82 & 0.84 & 0.16\\\\\n",
       "\t85 & 0.80 & 0.20\\\\\n",
       "\t89 & 0.44 & 0.56\\\\\n",
       "\t90 & 0.76 & 0.24\\\\\n",
       "\t93 & 0.96 & 0.04\\\\\n",
       "\\end{tabular}\n"
      ],
      "text/markdown": [
       "\n",
       "| <!--/--> | No | Yes | \n",
       "|---|---|---|---|---|---|---|---|---|---|---|---|---|---|---|---|---|---|---|---|---|---|---|---|---|\n",
       "| 5 | 0.48 | 0.52 | \n",
       "| 6 | 0.68 | 0.32 | \n",
       "| 8 | 0.52 | 0.48 | \n",
       "| 10 | 0.24 | 0.76 | \n",
       "| 16 | 0.36 | 0.64 | \n",
       "| 19 | 0.24 | 0.76 | \n",
       "| 20 | 0.80 | 0.20 | \n",
       "| 31 | 0.44 | 0.56 | \n",
       "| 33 | 0.68 | 0.32 | \n",
       "| 46 | 0.96 | 0.04 | \n",
       "| 50 | 0.92 | 0.08 | \n",
       "| 52 | 0.76 | 0.24 | \n",
       "| 60 | 0.16 | 0.84 | \n",
       "| 61 | 0.72 | 0.28 | \n",
       "| 62 | 0.96 | 0.04 | \n",
       "| 65 | 0.96 | 0.04 | \n",
       "| 67 | 0.80 | 0.20 | \n",
       "| 68 | 0.48 | 0.52 | \n",
       "| 77 | 0.44 | 0.56 | \n",
       "| 81 | 0.88 | 0.12 | \n",
       "| 82 | 0.84 | 0.16 | \n",
       "| 85 | 0.80 | 0.20 | \n",
       "| 89 | 0.44 | 0.56 | \n",
       "| 90 | 0.76 | 0.24 | \n",
       "| 93 | 0.96 | 0.04 | \n",
       "\n",
       "\n"
      ],
      "text/plain": [
       "   No   Yes \n",
       "5  0.48 0.52\n",
       "6  0.68 0.32\n",
       "8  0.52 0.48\n",
       "10 0.24 0.76\n",
       "16 0.36 0.64\n",
       "19 0.24 0.76\n",
       "20 0.80 0.20\n",
       "31 0.44 0.56\n",
       "33 0.68 0.32\n",
       "46 0.96 0.04\n",
       "50 0.92 0.08\n",
       "52 0.76 0.24\n",
       "60 0.16 0.84\n",
       "61 0.72 0.28\n",
       "62 0.96 0.04\n",
       "65 0.96 0.04\n",
       "67 0.80 0.20\n",
       "68 0.48 0.52\n",
       "77 0.44 0.56\n",
       "81 0.88 0.12\n",
       "82 0.84 0.16\n",
       "85 0.80 0.20\n",
       "89 0.44 0.56\n",
       "90 0.76 0.24\n",
       "93 0.96 0.04"
      ]
     },
     "metadata": {},
     "output_type": "display_data"
    }
   ],
   "source": [
    "pr4<-predict(mod4,credit_test,type='prob')\n",
    "pr4[1:25,]"
   ]
  },
  {
   "cell_type": "code",
   "execution_count": 56,
   "metadata": {},
   "outputs": [
    {
     "data": {
      "text/html": [
       "<ol>\n",
       "\t<li>0.716772486772487</li>\n",
       "</ol>\n"
      ],
      "text/latex": [
       "\\begin{enumerate}\n",
       "\\item 0.716772486772487\n",
       "\\end{enumerate}\n"
      ],
      "text/markdown": [
       "1. 0.716772486772487\n",
       "\n",
       "\n"
      ],
      "text/plain": [
       "[[1]]\n",
       "[1] 0.7167725\n"
      ]
     },
     "metadata": {},
     "output_type": "display_data"
    },
    {
     "data": {
      "image/png": "[encoded data removed]",
      "text/plain": [
       "plot without title"
      ]
     },
     "metadata": {},
     "output_type": "display_data"
    }
   ],
   "source": [
    "p_test4<-prediction(pr4[,2],credit_test$bad_credit)\n",
    "perf<-performance(p_test4,'tpr','fpr')\n",
    "plot(perf,colorize=T)  ### Obviously this is better than perfious model\n",
    "performance(p_test4,'auc')@y.values  "
   ]
  },
  {
   "cell_type": "code",
   "execution_count": 57,
   "metadata": {},
   "outputs": [],
   "source": [
    "set.seed(42)\n",
    "\n",
    "trc<-trainControl(method = 'cv',\n",
    "                  classProbs = TRUE,\n",
    "                  summaryFunction = twoClassSummary,\n",
    "                  number=5)"
   ]
  },
  {
   "cell_type": "code",
   "execution_count": 58,
   "metadata": {},
   "outputs": [
    {
     "data": {},
     "metadata": {},
     "output_type": "display_data"
    },
    {
     "data": {
      "image/png": "[encoded data removed]",
      "text/plain": [
       "plot without title"
      ]
     },
     "metadata": {},
     "output_type": "display_data"
    }
   ],
   "source": [
    "set.seed(42)\n",
    "mm<-train(bad_credit~.,data=credit_train,\n",
    "          trControl=trc,\n",
    "          method='rf',ntree=25,\n",
    "          metric='ROC',tuneGrid=mtry_grid)\n",
    "\n",
    "plot(mm)"
   ]
  },
  {
   "cell_type": "code",
   "execution_count": 59,
   "metadata": {},
   "outputs": [
    {
     "data": {
      "image/png": "[encoded data removed]",
      "text/plain": [
       "Plot with title \"mm$finalModel\""
      ]
     },
     "metadata": {},
     "output_type": "display_data"
    }
   ],
   "source": [
    "varImpPlot(mm$finalModel)"
   ]
  },
  {
   "cell_type": "code",
   "execution_count": null,
   "metadata": {},
   "outputs": [],
   "source": []
  }
 ],
 "metadata": {
  "kernelspec": {
   "display_name": "R 3.3",
   "language": "R",
   "name": "ir33"
  },
  "language_info": {
   "codemirror_mode": "r",
   "file_extension": ".r",
   "mimetype": "text/x-r-source",
   "name": "R",
   "pygments_lexer": "r",
   "version": "3.3.3"
  }
 },
 "nbformat": 4,
 "nbformat_minor": 2
}
