{
 "cells": [
  {
   "cell_type": "code",
   "execution_count": 1,
   "metadata": {},
   "outputs": [
    {
     "name": "stderr",
     "output_type": "stream",
     "text": [
      "\n",
      "Attaching package: 'dplyr'\n",
      "\n",
      "The following objects are masked from 'package:stats':\n",
      "\n",
      "    filter, lag\n",
      "\n",
      "The following objects are masked from 'package:base':\n",
      "\n",
      "    intersect, setdiff, setequal, union\n",
      "\n",
      "Loading required package: ggplot2\n"
     ]
    }
   ],
   "source": [
    "### K- Nearest Neighbours\n",
    "library(dplyr)\n",
    "library(class)\n",
    "library(caret)\n"
   ]
  },
  {
   "cell_type": "code",
   "execution_count": 2,
   "metadata": {},
   "outputs": [
    {
     "name": "stdout",
     "output_type": "stream",
     "text": [
      "'data.frame':\t205 obs. of  50 variables:\n",
      " $ sample   : chr  \"train\" \"train\" \"train\" \"train\" ...\n",
      " $ sign_type: chr  \"pedestrian\" \"pedestrian\" \"pedestrian\" \"pedestrian\" ...\n",
      " $ r1       : int  155 142 57 22 169 75 136 118 149 13 ...\n",
      " $ g1       : int  228 217 54 35 179 67 149 105 225 34 ...\n",
      " $ b1       : int  251 242 50 41 170 60 157 69 241 28 ...\n",
      " $ r2       : int  135 166 187 171 231 131 200 244 34 5 ...\n",
      " $ g2       : int  188 204 201 178 254 89 203 245 45 21 ...\n",
      " $ b2       : int  101 44 68 26 27 53 107 67 1 11 ...\n",
      " $ r3       : int  156 142 51 19 97 214 150 132 155 123 ...\n",
      " $ g3       : int  227 217 51 27 107 144 167 123 226 154 ...\n",
      " $ b3       : int  245 242 45 29 99 75 134 12 238 140 ...\n",
      " $ r4       : int  145 147 59 19 123 156 171 138 147 21 ...\n",
      " $ g4       : int  211 219 62 27 147 169 218 123 222 46 ...\n",
      " $ b4       : int  228 242 65 29 152 190 252 85 242 41 ...\n",
      " $ r5       : int  166 164 156 42 221 67 171 254 170 36 ...\n",
      " $ g5       : int  233 228 171 37 236 50 158 254 191 60 ...\n",
      " $ b5       : int  245 229 50 3 117 36 108 92 113 26 ...\n",
      " $ r6       : int  212 84 254 217 205 37 157 241 26 75 ...\n",
      " $ g6       : int  254 116 255 228 225 36 186 240 37 108 ...\n",
      " $ b6       : int  52 17 36 19 80 42 11 108 12 44 ...\n",
      " $ r7       : int  212 217 211 221 235 44 26 254 34 13 ...\n",
      " $ g7       : int  254 254 226 235 254 42 35 254 45 27 ...\n",
      " $ b7       : int  11 26 70 20 60 44 10 99 19 25 ...\n",
      " $ r8       : int  188 155 78 181 90 192 180 108 221 133 ...\n",
      " $ g8       : int  229 203 73 183 110 131 211 106 249 163 ...\n",
      " $ b8       : int  117 128 64 73 9 73 236 27 184 126 ...\n",
      " $ r9       : int  170 213 220 237 216 123 129 135 226 83 ...\n",
      " $ g9       : int  216 253 234 234 236 74 109 123 246 125 ...\n",
      " $ b9       : int  120 51 59 44 66 22 73 40 59 19 ...\n",
      " $ r10      : int  211 217 254 251 229 36 161 254 30 13 ...\n",
      " $ g10      : int  254 255 255 254 255 34 190 254 40 27 ...\n",
      " $ b10      : int  3 21 51 2 12 37 10 115 34 25 ...\n",
      " $ r11      : int  212 217 253 235 235 44 161 254 34 9 ...\n",
      " $ g11      : int  254 255 255 243 254 42 190 254 44 23 ...\n",
      " $ b11      : int  19 21 44 12 60 44 6 99 35 18 ...\n",
      " $ r12      : int  172 158 66 19 163 197 187 138 241 85 ...\n",
      " $ g12      : int  235 225 68 27 168 114 215 123 255 128 ...\n",
      " $ b12      : int  244 237 68 29 152 21 236 85 54 21 ...\n",
      " $ r13      : int  172 164 69 20 124 171 141 118 205 83 ...\n",
      " $ g13      : int  235 227 65 29 117 102 142 105 229 125 ...\n",
      " $ b13      : int  244 237 59 34 91 26 140 75 46 19 ...\n",
      " $ r14      : int  172 182 76 64 188 197 189 131 226 85 ...\n",
      " $ g14      : int  228 228 84 61 205 114 171 124 246 128 ...\n",
      " $ b14      : int  235 143 22 4 78 21 140 5 59 21 ...\n",
      " $ r15      : int  177 171 82 211 125 123 214 106 235 85 ...\n",
      " $ g15      : int  235 228 93 222 147 74 221 94 252 128 ...\n",
      " $ b15      : int  244 196 17 78 20 22 201 53 67 21 ...\n",
      " $ r16      : int  22 164 58 19 160 180 188 101 237 83 ...\n",
      " $ g16      : int  52 227 60 27 183 107 211 91 254 125 ...\n",
      " $ b16      : int  53 237 60 29 187 26 227 59 53 19 ...\n"
     ]
    }
   ],
   "source": [
    "signs<-read.csv('C:\\\\Users\\\\Gaya\\\\Desktop\\\\R\\\\Data mining\\\\signs.csv',stringsAsFactors = F)\n",
    "\n",
    "str(signs)\n"
   ]
  },
  {
   "cell_type": "code",
   "execution_count": 3,
   "metadata": {},
   "outputs": [
    {
     "data": {
      "text/plain": [
       "\n",
       "pedestrian      speed       stop \n",
       "        65         70         70 "
      ]
     },
     "metadata": {},
     "output_type": "display_data"
    }
   ],
   "source": [
    "table(signs$sign_type)"
   ]
  },
  {
   "cell_type": "code",
   "execution_count": 4,
   "metadata": {},
   "outputs": [],
   "source": [
    "signs_train<-signs%>%\n",
    "  filter(sample=='train')"
   ]
  },
  {
   "cell_type": "code",
   "execution_count": 5,
   "metadata": {},
   "outputs": [],
   "source": [
    "signs_test<-signs%>%\n",
    "  filter(sample=='test')"
   ]
  },
  {
   "cell_type": "code",
   "execution_count": 6,
   "metadata": {},
   "outputs": [],
   "source": [
    "signs_train$sample<-NULL\n",
    "signs_test$sample<-NULL"
   ]
  },
  {
   "cell_type": "code",
   "execution_count": 7,
   "metadata": {},
   "outputs": [],
   "source": [
    "sign_1<-read.csv('C:\\\\Users\\\\Gaya\\\\Desktop\\\\R\\\\Data mining\\\\sign_1.csv',stringsAsFactors = F)"
   ]
  },
  {
   "cell_type": "code",
   "execution_count": 9,
   "metadata": {},
   "outputs": [
    {
     "data": {
      "text/html": [
       "stop"
      ],
      "text/latex": [
       "stop"
      ],
      "text/markdown": [
       "stop"
      ],
      "text/plain": [
       "[1] stop\n",
       "Levels: pedestrian speed stop"
      ]
     },
     "metadata": {},
     "output_type": "display_data"
    }
   ],
   "source": [
    "knn(train = signs_train[,-1],test = sign_1,cl = signs_train$sign_type,k=5 )"
   ]
  },
  {
   "cell_type": "code",
   "execution_count": 10,
   "metadata": {},
   "outputs": [
    {
     "data": {
      "text/html": [
       "<ol class=list-inline>\n",
       "\t<li>pedestrian</li>\n",
       "\t<li>pedestrian</li>\n",
       "\t<li>pedestrian</li>\n",
       "\t<li>speed</li>\n",
       "\t<li>pedestrian</li>\n",
       "\t<li>pedestrian</li>\n",
       "\t<li>pedestrian</li>\n",
       "\t<li>pedestrian</li>\n",
       "\t<li>pedestrian</li>\n",
       "\t<li>pedestrian</li>\n",
       "\t<li>pedestrian</li>\n",
       "\t<li>pedestrian</li>\n",
       "\t<li>pedestrian</li>\n",
       "\t<li>pedestrian</li>\n",
       "\t<li>pedestrian</li>\n",
       "\t<li>pedestrian</li>\n",
       "\t<li>pedestrian</li>\n",
       "\t<li>pedestrian</li>\n",
       "\t<li>pedestrian</li>\n",
       "\t<li>speed</li>\n",
       "</ol>\n"
      ],
      "text/latex": [
       "\\begin{enumerate*}\n",
       "\\item pedestrian\n",
       "\\item pedestrian\n",
       "\\item pedestrian\n",
       "\\item speed\n",
       "\\item pedestrian\n",
       "\\item pedestrian\n",
       "\\item pedestrian\n",
       "\\item pedestrian\n",
       "\\item pedestrian\n",
       "\\item pedestrian\n",
       "\\item pedestrian\n",
       "\\item pedestrian\n",
       "\\item pedestrian\n",
       "\\item pedestrian\n",
       "\\item pedestrian\n",
       "\\item pedestrian\n",
       "\\item pedestrian\n",
       "\\item pedestrian\n",
       "\\item pedestrian\n",
       "\\item speed\n",
       "\\end{enumerate*}\n"
      ],
      "text/markdown": [
       "1. pedestrian\n",
       "2. pedestrian\n",
       "3. pedestrian\n",
       "4. speed\n",
       "5. pedestrian\n",
       "6. pedestrian\n",
       "7. pedestrian\n",
       "8. pedestrian\n",
       "9. pedestrian\n",
       "10. pedestrian\n",
       "11. pedestrian\n",
       "12. pedestrian\n",
       "13. pedestrian\n",
       "14. pedestrian\n",
       "15. pedestrian\n",
       "16. pedestrian\n",
       "17. pedestrian\n",
       "18. pedestrian\n",
       "19. pedestrian\n",
       "20. speed\n",
       "\n",
       "\n"
      ],
      "text/plain": [
       " [1] pedestrian pedestrian pedestrian speed      pedestrian pedestrian\n",
       " [7] pedestrian pedestrian pedestrian pedestrian pedestrian pedestrian\n",
       "[13] pedestrian pedestrian pedestrian pedestrian pedestrian pedestrian\n",
       "[19] pedestrian speed     \n",
       "Levels: pedestrian speed stop"
      ]
     },
     "metadata": {},
     "output_type": "display_data"
    }
   ],
   "source": [
    "knn1<-knn(train = signs_train[,-1],test = signs_test[,-1],cl = signs_train$sign_type,k=5 )\n",
    "knn1[1:20]"
   ]
  },
  {
   "cell_type": "code",
   "execution_count": 11,
   "metadata": {},
   "outputs": [
    {
     "data": {
      "text/plain": [
       "            \n",
       "knn1         pedestrian speed stop\n",
       "  pedestrian         18     0    0\n",
       "  speed               1    19    0\n",
       "  stop                0     2   19"
      ]
     },
     "metadata": {},
     "output_type": "display_data"
    }
   ],
   "source": [
    "table(knn1,signs_test$sign_type)"
   ]
  },
  {
   "cell_type": "code",
   "execution_count": 12,
   "metadata": {},
   "outputs": [
    {
     "data": {
      "text/html": [
       "0.949152542372881"
      ],
      "text/latex": [
       "0.949152542372881"
      ],
      "text/markdown": [
       "0.949152542372881"
      ],
      "text/plain": [
       "[1] 0.9491525"
      ]
     },
     "metadata": {},
     "output_type": "display_data"
    }
   ],
   "source": [
    "mean(knn1==signs_test$sign_type)"
   ]
  },
  {
   "cell_type": "code",
   "execution_count": 13,
   "metadata": {},
   "outputs": [],
   "source": [
    "knn_p<-knn(train = signs_train[,-1],test = signs_test[,-1],cl = signs_train$sign_type,k=5,prob = T )"
   ]
  },
  {
   "cell_type": "code",
   "execution_count": 14,
   "metadata": {},
   "outputs": [
    {
     "data": {
      "text/html": [
       "<ol class=list-inline>\n",
       "\t<li>0.6</li>\n",
       "\t<li>0.6</li>\n",
       "\t<li>0.8</li>\n",
       "\t<li>0.4</li>\n",
       "\t<li>1</li>\n",
       "\t<li>0.6</li>\n",
       "\t<li>0.8</li>\n",
       "\t<li>1</li>\n",
       "\t<li>0.6</li>\n",
       "\t<li>1</li>\n",
       "\t<li>1</li>\n",
       "\t<li>1</li>\n",
       "\t<li>0.8</li>\n",
       "\t<li>1</li>\n",
       "\t<li>1</li>\n",
       "\t<li>1</li>\n",
       "\t<li>1</li>\n",
       "\t<li>1</li>\n",
       "\t<li>0.8</li>\n",
       "\t<li>0.8</li>\n",
       "\t<li>0.6</li>\n",
       "\t<li>1</li>\n",
       "\t<li>1</li>\n",
       "\t<li>1</li>\n",
       "\t<li>1</li>\n",
       "\t<li>1</li>\n",
       "\t<li>1</li>\n",
       "\t<li>0.6</li>\n",
       "\t<li>0.4</li>\n",
       "\t<li>1</li>\n",
       "\t<li>1</li>\n",
       "\t<li>1</li>\n",
       "\t<li>1</li>\n",
       "\t<li>1</li>\n",
       "\t<li>1</li>\n",
       "\t<li>1</li>\n",
       "\t<li>1</li>\n",
       "\t<li>1</li>\n",
       "\t<li>1</li>\n",
       "\t<li>1</li>\n",
       "\t<li>1</li>\n",
       "\t<li>1</li>\n",
       "\t<li>1</li>\n",
       "\t<li>1</li>\n",
       "\t<li>1</li>\n",
       "\t<li>0.8</li>\n",
       "\t<li>1</li>\n",
       "\t<li>0.8</li>\n",
       "\t<li>1</li>\n",
       "\t<li>1</li>\n",
       "\t<li>1</li>\n",
       "\t<li>1</li>\n",
       "\t<li>1</li>\n",
       "\t<li>1</li>\n",
       "\t<li>1</li>\n",
       "\t<li>1</li>\n",
       "\t<li>1</li>\n",
       "\t<li>1</li>\n",
       "\t<li>1</li>\n",
       "</ol>\n"
      ],
      "text/latex": [
       "\\begin{enumerate*}\n",
       "\\item 0.6\n",
       "\\item 0.6\n",
       "\\item 0.8\n",
       "\\item 0.4\n",
       "\\item 1\n",
       "\\item 0.6\n",
       "\\item 0.8\n",
       "\\item 1\n",
       "\\item 0.6\n",
       "\\item 1\n",
       "\\item 1\n",
       "\\item 1\n",
       "\\item 0.8\n",
       "\\item 1\n",
       "\\item 1\n",
       "\\item 1\n",
       "\\item 1\n",
       "\\item 1\n",
       "\\item 0.8\n",
       "\\item 0.8\n",
       "\\item 0.6\n",
       "\\item 1\n",
       "\\item 1\n",
       "\\item 1\n",
       "\\item 1\n",
       "\\item 1\n",
       "\\item 1\n",
       "\\item 0.6\n",
       "\\item 0.4\n",
       "\\item 1\n",
       "\\item 1\n",
       "\\item 1\n",
       "\\item 1\n",
       "\\item 1\n",
       "\\item 1\n",
       "\\item 1\n",
       "\\item 1\n",
       "\\item 1\n",
       "\\item 1\n",
       "\\item 1\n",
       "\\item 1\n",
       "\\item 1\n",
       "\\item 1\n",
       "\\item 1\n",
       "\\item 1\n",
       "\\item 0.8\n",
       "\\item 1\n",
       "\\item 0.8\n",
       "\\item 1\n",
       "\\item 1\n",
       "\\item 1\n",
       "\\item 1\n",
       "\\item 1\n",
       "\\item 1\n",
       "\\item 1\n",
       "\\item 1\n",
       "\\item 1\n",
       "\\item 1\n",
       "\\item 1\n",
       "\\end{enumerate*}\n"
      ],
      "text/markdown": [
       "1. 0.6\n",
       "2. 0.6\n",
       "3. 0.8\n",
       "4. 0.4\n",
       "5. 1\n",
       "6. 0.6\n",
       "7. 0.8\n",
       "8. 1\n",
       "9. 0.6\n",
       "10. 1\n",
       "11. 1\n",
       "12. 1\n",
       "13. 0.8\n",
       "14. 1\n",
       "15. 1\n",
       "16. 1\n",
       "17. 1\n",
       "18. 1\n",
       "19. 0.8\n",
       "20. 0.8\n",
       "21. 0.6\n",
       "22. 1\n",
       "23. 1\n",
       "24. 1\n",
       "25. 1\n",
       "26. 1\n",
       "27. 1\n",
       "28. 0.6\n",
       "29. 0.4\n",
       "30. 1\n",
       "31. 1\n",
       "32. 1\n",
       "33. 1\n",
       "34. 1\n",
       "35. 1\n",
       "36. 1\n",
       "37. 1\n",
       "38. 1\n",
       "39. 1\n",
       "40. 1\n",
       "41. 1\n",
       "42. 1\n",
       "43. 1\n",
       "44. 1\n",
       "45. 1\n",
       "46. 0.8\n",
       "47. 1\n",
       "48. 0.8\n",
       "49. 1\n",
       "50. 1\n",
       "51. 1\n",
       "52. 1\n",
       "53. 1\n",
       "54. 1\n",
       "55. 1\n",
       "56. 1\n",
       "57. 1\n",
       "58. 1\n",
       "59. 1\n",
       "\n",
       "\n"
      ],
      "text/plain": [
       " [1] 0.6 0.6 0.8 0.4 1.0 0.6 0.8 1.0 0.6 1.0 1.0 1.0 0.8 1.0 1.0 1.0 1.0 1.0 0.8\n",
       "[20] 0.8 0.6 1.0 1.0 1.0 1.0 1.0 1.0 0.6 0.4 1.0 1.0 1.0 1.0 1.0 1.0 1.0 1.0 1.0\n",
       "[39] 1.0 1.0 1.0 1.0 1.0 1.0 1.0 0.8 1.0 0.8 1.0 1.0 1.0 1.0 1.0 1.0 1.0 1.0 1.0\n",
       "[58] 1.0 1.0"
      ]
     },
     "metadata": {},
     "output_type": "display_data"
    },
    {
     "data": {
      "text/html": [
       "<table>\n",
       "<thead><tr><th scope=col>class</th><th scope=col>probs</th></tr></thead>\n",
       "<tbody>\n",
       "\t<tr><td>pedestrian</td><td>0.6       </td></tr>\n",
       "\t<tr><td>pedestrian</td><td>0.6       </td></tr>\n",
       "\t<tr><td>pedestrian</td><td>0.8       </td></tr>\n",
       "\t<tr><td>speed     </td><td>0.4       </td></tr>\n",
       "\t<tr><td>pedestrian</td><td>1.0       </td></tr>\n",
       "\t<tr><td>pedestrian</td><td>0.6       </td></tr>\n",
       "\t<tr><td>pedestrian</td><td>0.8       </td></tr>\n",
       "\t<tr><td>pedestrian</td><td>1.0       </td></tr>\n",
       "\t<tr><td>pedestrian</td><td>0.6       </td></tr>\n",
       "\t<tr><td>pedestrian</td><td>1.0       </td></tr>\n",
       "\t<tr><td>pedestrian</td><td>1.0       </td></tr>\n",
       "\t<tr><td>pedestrian</td><td>1.0       </td></tr>\n",
       "\t<tr><td>pedestrian</td><td>0.8       </td></tr>\n",
       "\t<tr><td>pedestrian</td><td>1.0       </td></tr>\n",
       "\t<tr><td>pedestrian</td><td>1.0       </td></tr>\n",
       "\t<tr><td>pedestrian</td><td>1.0       </td></tr>\n",
       "\t<tr><td>pedestrian</td><td>1.0       </td></tr>\n",
       "\t<tr><td>pedestrian</td><td>1.0       </td></tr>\n",
       "\t<tr><td>pedestrian</td><td>0.8       </td></tr>\n",
       "\t<tr><td>speed     </td><td>0.8       </td></tr>\n",
       "\t<tr><td>speed     </td><td>0.6       </td></tr>\n",
       "\t<tr><td>speed     </td><td>1.0       </td></tr>\n",
       "\t<tr><td>speed     </td><td>1.0       </td></tr>\n",
       "\t<tr><td>speed     </td><td>1.0       </td></tr>\n",
       "\t<tr><td>speed     </td><td>1.0       </td></tr>\n",
       "\t<tr><td>speed     </td><td>1.0       </td></tr>\n",
       "\t<tr><td>speed     </td><td>1.0       </td></tr>\n",
       "\t<tr><td>stop      </td><td>0.6       </td></tr>\n",
       "\t<tr><td>stop      </td><td>0.4       </td></tr>\n",
       "\t<tr><td>speed     </td><td>1.0       </td></tr>\n",
       "\t<tr><td>speed     </td><td>1.0       </td></tr>\n",
       "\t<tr><td>speed     </td><td>1.0       </td></tr>\n",
       "\t<tr><td>speed     </td><td>1.0       </td></tr>\n",
       "\t<tr><td>speed     </td><td>1.0       </td></tr>\n",
       "\t<tr><td>speed     </td><td>1.0       </td></tr>\n",
       "\t<tr><td>speed     </td><td>1.0       </td></tr>\n",
       "\t<tr><td>speed     </td><td>1.0       </td></tr>\n",
       "\t<tr><td>speed     </td><td>1.0       </td></tr>\n",
       "\t<tr><td>speed     </td><td>1.0       </td></tr>\n",
       "\t<tr><td>speed     </td><td>1.0       </td></tr>\n",
       "\t<tr><td>stop      </td><td>1.0       </td></tr>\n",
       "\t<tr><td>stop      </td><td>1.0       </td></tr>\n",
       "\t<tr><td>stop      </td><td>1.0       </td></tr>\n",
       "\t<tr><td>stop      </td><td>1.0       </td></tr>\n",
       "\t<tr><td>stop      </td><td>1.0       </td></tr>\n",
       "\t<tr><td>stop      </td><td>0.8       </td></tr>\n",
       "\t<tr><td>stop      </td><td>1.0       </td></tr>\n",
       "\t<tr><td>stop      </td><td>0.8       </td></tr>\n",
       "\t<tr><td>stop      </td><td>1.0       </td></tr>\n",
       "\t<tr><td>stop      </td><td>1.0       </td></tr>\n",
       "\t<tr><td>stop      </td><td>1.0       </td></tr>\n",
       "\t<tr><td>stop      </td><td>1.0       </td></tr>\n",
       "\t<tr><td>stop      </td><td>1.0       </td></tr>\n",
       "\t<tr><td>stop      </td><td>1.0       </td></tr>\n",
       "\t<tr><td>stop      </td><td>1.0       </td></tr>\n",
       "\t<tr><td>stop      </td><td>1.0       </td></tr>\n",
       "\t<tr><td>stop      </td><td>1.0       </td></tr>\n",
       "\t<tr><td>stop      </td><td>1.0       </td></tr>\n",
       "\t<tr><td>stop      </td><td>1.0       </td></tr>\n",
       "</tbody>\n",
       "</table>\n"
      ],
      "text/latex": [
       "\\begin{tabular}{r|ll}\n",
       " class & probs\\\\\n",
       "\\hline\n",
       "\t pedestrian & 0.6       \\\\\n",
       "\t pedestrian & 0.6       \\\\\n",
       "\t pedestrian & 0.8       \\\\\n",
       "\t speed      & 0.4       \\\\\n",
       "\t pedestrian & 1.0       \\\\\n",
       "\t pedestrian & 0.6       \\\\\n",
       "\t pedestrian & 0.8       \\\\\n",
       "\t pedestrian & 1.0       \\\\\n",
       "\t pedestrian & 0.6       \\\\\n",
       "\t pedestrian & 1.0       \\\\\n",
       "\t pedestrian & 1.0       \\\\\n",
       "\t pedestrian & 1.0       \\\\\n",
       "\t pedestrian & 0.8       \\\\\n",
       "\t pedestrian & 1.0       \\\\\n",
       "\t pedestrian & 1.0       \\\\\n",
       "\t pedestrian & 1.0       \\\\\n",
       "\t pedestrian & 1.0       \\\\\n",
       "\t pedestrian & 1.0       \\\\\n",
       "\t pedestrian & 0.8       \\\\\n",
       "\t speed      & 0.8       \\\\\n",
       "\t speed      & 0.6       \\\\\n",
       "\t speed      & 1.0       \\\\\n",
       "\t speed      & 1.0       \\\\\n",
       "\t speed      & 1.0       \\\\\n",
       "\t speed      & 1.0       \\\\\n",
       "\t speed      & 1.0       \\\\\n",
       "\t speed      & 1.0       \\\\\n",
       "\t stop       & 0.6       \\\\\n",
       "\t stop       & 0.4       \\\\\n",
       "\t speed      & 1.0       \\\\\n",
       "\t speed      & 1.0       \\\\\n",
       "\t speed      & 1.0       \\\\\n",
       "\t speed      & 1.0       \\\\\n",
       "\t speed      & 1.0       \\\\\n",
       "\t speed      & 1.0       \\\\\n",
       "\t speed      & 1.0       \\\\\n",
       "\t speed      & 1.0       \\\\\n",
       "\t speed      & 1.0       \\\\\n",
       "\t speed      & 1.0       \\\\\n",
       "\t speed      & 1.0       \\\\\n",
       "\t stop       & 1.0       \\\\\n",
       "\t stop       & 1.0       \\\\\n",
       "\t stop       & 1.0       \\\\\n",
       "\t stop       & 1.0       \\\\\n",
       "\t stop       & 1.0       \\\\\n",
       "\t stop       & 0.8       \\\\\n",
       "\t stop       & 1.0       \\\\\n",
       "\t stop       & 0.8       \\\\\n",
       "\t stop       & 1.0       \\\\\n",
       "\t stop       & 1.0       \\\\\n",
       "\t stop       & 1.0       \\\\\n",
       "\t stop       & 1.0       \\\\\n",
       "\t stop       & 1.0       \\\\\n",
       "\t stop       & 1.0       \\\\\n",
       "\t stop       & 1.0       \\\\\n",
       "\t stop       & 1.0       \\\\\n",
       "\t stop       & 1.0       \\\\\n",
       "\t stop       & 1.0       \\\\\n",
       "\t stop       & 1.0       \\\\\n",
       "\\end{tabular}\n"
      ],
      "text/markdown": [
       "\n",
       "class | probs | \n",
       "|---|---|---|---|---|---|---|---|---|---|---|---|---|---|---|---|---|---|---|---|---|---|---|---|---|---|---|---|---|---|---|---|---|---|---|---|---|---|---|---|---|---|---|---|---|---|---|---|---|---|---|---|---|---|---|---|---|---|---|\n",
       "| pedestrian | 0.6        | \n",
       "| pedestrian | 0.6        | \n",
       "| pedestrian | 0.8        | \n",
       "| speed      | 0.4        | \n",
       "| pedestrian | 1.0        | \n",
       "| pedestrian | 0.6        | \n",
       "| pedestrian | 0.8        | \n",
       "| pedestrian | 1.0        | \n",
       "| pedestrian | 0.6        | \n",
       "| pedestrian | 1.0        | \n",
       "| pedestrian | 1.0        | \n",
       "| pedestrian | 1.0        | \n",
       "| pedestrian | 0.8        | \n",
       "| pedestrian | 1.0        | \n",
       "| pedestrian | 1.0        | \n",
       "| pedestrian | 1.0        | \n",
       "| pedestrian | 1.0        | \n",
       "| pedestrian | 1.0        | \n",
       "| pedestrian | 0.8        | \n",
       "| speed      | 0.8        | \n",
       "| speed      | 0.6        | \n",
       "| speed      | 1.0        | \n",
       "| speed      | 1.0        | \n",
       "| speed      | 1.0        | \n",
       "| speed      | 1.0        | \n",
       "| speed      | 1.0        | \n",
       "| speed      | 1.0        | \n",
       "| stop       | 0.6        | \n",
       "| stop       | 0.4        | \n",
       "| speed      | 1.0        | \n",
       "| speed      | 1.0        | \n",
       "| speed      | 1.0        | \n",
       "| speed      | 1.0        | \n",
       "| speed      | 1.0        | \n",
       "| speed      | 1.0        | \n",
       "| speed      | 1.0        | \n",
       "| speed      | 1.0        | \n",
       "| speed      | 1.0        | \n",
       "| speed      | 1.0        | \n",
       "| speed      | 1.0        | \n",
       "| stop       | 1.0        | \n",
       "| stop       | 1.0        | \n",
       "| stop       | 1.0        | \n",
       "| stop       | 1.0        | \n",
       "| stop       | 1.0        | \n",
       "| stop       | 0.8        | \n",
       "| stop       | 1.0        | \n",
       "| stop       | 0.8        | \n",
       "| stop       | 1.0        | \n",
       "| stop       | 1.0        | \n",
       "| stop       | 1.0        | \n",
       "| stop       | 1.0        | \n",
       "| stop       | 1.0        | \n",
       "| stop       | 1.0        | \n",
       "| stop       | 1.0        | \n",
       "| stop       | 1.0        | \n",
       "| stop       | 1.0        | \n",
       "| stop       | 1.0        | \n",
       "| stop       | 1.0        | \n",
       "\n",
       "\n"
      ],
      "text/plain": [
       "   class      probs\n",
       "1  pedestrian 0.6  \n",
       "2  pedestrian 0.6  \n",
       "3  pedestrian 0.8  \n",
       "4  speed      0.4  \n",
       "5  pedestrian 1.0  \n",
       "6  pedestrian 0.6  \n",
       "7  pedestrian 0.8  \n",
       "8  pedestrian 1.0  \n",
       "9  pedestrian 0.6  \n",
       "10 pedestrian 1.0  \n",
       "11 pedestrian 1.0  \n",
       "12 pedestrian 1.0  \n",
       "13 pedestrian 0.8  \n",
       "14 pedestrian 1.0  \n",
       "15 pedestrian 1.0  \n",
       "16 pedestrian 1.0  \n",
       "17 pedestrian 1.0  \n",
       "18 pedestrian 1.0  \n",
       "19 pedestrian 0.8  \n",
       "20 speed      0.8  \n",
       "21 speed      0.6  \n",
       "22 speed      1.0  \n",
       "23 speed      1.0  \n",
       "24 speed      1.0  \n",
       "25 speed      1.0  \n",
       "26 speed      1.0  \n",
       "27 speed      1.0  \n",
       "28 stop       0.6  \n",
       "29 stop       0.4  \n",
       "30 speed      1.0  \n",
       "31 speed      1.0  \n",
       "32 speed      1.0  \n",
       "33 speed      1.0  \n",
       "34 speed      1.0  \n",
       "35 speed      1.0  \n",
       "36 speed      1.0  \n",
       "37 speed      1.0  \n",
       "38 speed      1.0  \n",
       "39 speed      1.0  \n",
       "40 speed      1.0  \n",
       "41 stop       1.0  \n",
       "42 stop       1.0  \n",
       "43 stop       1.0  \n",
       "44 stop       1.0  \n",
       "45 stop       1.0  \n",
       "46 stop       0.8  \n",
       "47 stop       1.0  \n",
       "48 stop       0.8  \n",
       "49 stop       1.0  \n",
       "50 stop       1.0  \n",
       "51 stop       1.0  \n",
       "52 stop       1.0  \n",
       "53 stop       1.0  \n",
       "54 stop       1.0  \n",
       "55 stop       1.0  \n",
       "56 stop       1.0  \n",
       "57 stop       1.0  \n",
       "58 stop       1.0  \n",
       "59 stop       1.0  "
      ]
     },
     "metadata": {},
     "output_type": "display_data"
    }
   ],
   "source": [
    "attr(knn_p,'prob')\n",
    "\n",
    "df<-data.frame(class=knn1,probs=attr(knn_p,'prob'))\n",
    "\n",
    "df"
   ]
  },
  {
   "cell_type": "code",
   "execution_count": 15,
   "metadata": {},
   "outputs": [
    {
     "name": "stdout",
     "output_type": "stream",
     "text": [
      "'data.frame':\t768 obs. of  9 variables:\n",
      " $ NTS  : int  6 1 8 1 0 5 3 10 2 8 ...\n",
      " $ PGC  : int  148 85 183 89 137 116 78 115 197 125 ...\n",
      " $ DBP  : int  72 66 64 66 40 74 50 0 70 96 ...\n",
      " $ TSFT : int  35 29 0 23 35 0 32 0 45 0 ...\n",
      " $ INS  : int  0 0 0 94 168 0 88 0 543 0 ...\n",
      " $ BMI  : num  33.6 26.6 23.3 28.1 43.1 25.6 31 35.3 30.5 0 ...\n",
      " $ DPF  : num  0.627 0.351 0.672 0.167 2.288 ...\n",
      " $ Age  : int  50 31 32 21 33 30 26 29 53 54 ...\n",
      " $ Class: chr  \"Yes\" \"No\" \"Yes\" \"No\" ...\n"
     ]
    }
   ],
   "source": [
    "#### Doing with caret KNN\n",
    "\n",
    "diabetes<-read.csv('C:\\\\Users\\\\Gaya\\\\Desktop\\\\R\\\\Data mining\\\\final\\\\Diabetes.csv',stringsAsFactors=F)\n",
    "\n",
    "str(diabetes)"
   ]
  },
  {
   "cell_type": "code",
   "execution_count": 16,
   "metadata": {},
   "outputs": [],
   "source": [
    "set.seed(42)"
   ]
  },
  {
   "cell_type": "code",
   "execution_count": 20,
   "metadata": {},
   "outputs": [],
   "source": [
    "trc<-trainControl(method='cv',number=10)"
   ]
  },
  {
   "cell_type": "code",
   "execution_count": 21,
   "metadata": {},
   "outputs": [],
   "source": [
    "knn_c<-train(Class~.,data=diabetes,method='knn',trControl=trc,preProcess=c('center','scale'),tuneLength=10)"
   ]
  },
  {
   "cell_type": "code",
   "execution_count": 22,
   "metadata": {},
   "outputs": [
    {
     "data": {
      "text/html": [
       "<table>\n",
       "<thead><tr><th scope=col>k</th><th scope=col>Accuracy</th><th scope=col>Kappa</th><th scope=col>AccuracySD</th><th scope=col>KappaSD</th></tr></thead>\n",
       "<tbody>\n",
       "\t<tr><td> 5        </td><td>0.7461381 </td><td>0.4219006 </td><td>0.02646740</td><td>0.06594878</td></tr>\n",
       "\t<tr><td> 7        </td><td>0.7382946 </td><td>0.4003582 </td><td>0.03260308</td><td>0.08370286</td></tr>\n",
       "\t<tr><td> 9        </td><td>0.7434894 </td><td>0.4110116 </td><td>0.03472152</td><td>0.08836272</td></tr>\n",
       "\t<tr><td>11        </td><td>0.7422078 </td><td>0.4071813 </td><td>0.04183189</td><td>0.10729202</td></tr>\n",
       "\t<tr><td>13        </td><td>0.7435065 </td><td>0.4057369 </td><td>0.04450922</td><td>0.10948900</td></tr>\n",
       "\t<tr><td>15        </td><td>0.7435578 </td><td>0.4047535 </td><td>0.04156109</td><td>0.10258243</td></tr>\n",
       "\t<tr><td>17        </td><td>0.7500342 </td><td>0.4147416 </td><td>0.05059676</td><td>0.12380171</td></tr>\n",
       "\t<tr><td>19        </td><td>0.7539303 </td><td>0.4173851 </td><td>0.04749078</td><td>0.12577251</td></tr>\n",
       "\t<tr><td>21        </td><td>0.7564935 </td><td>0.4216512 </td><td>0.04551696</td><td>0.11955907</td></tr>\n",
       "\t<tr><td>23        </td><td>0.7473684 </td><td>0.4015615 </td><td>0.05070581</td><td>0.13241805</td></tr>\n",
       "</tbody>\n",
       "</table>\n"
      ],
      "text/latex": [
       "\\begin{tabular}{r|lllll}\n",
       " k & Accuracy & Kappa & AccuracySD & KappaSD\\\\\n",
       "\\hline\n",
       "\t  5         & 0.7461381  & 0.4219006  & 0.02646740 & 0.06594878\\\\\n",
       "\t  7         & 0.7382946  & 0.4003582  & 0.03260308 & 0.08370286\\\\\n",
       "\t  9         & 0.7434894  & 0.4110116  & 0.03472152 & 0.08836272\\\\\n",
       "\t 11         & 0.7422078  & 0.4071813  & 0.04183189 & 0.10729202\\\\\n",
       "\t 13         & 0.7435065  & 0.4057369  & 0.04450922 & 0.10948900\\\\\n",
       "\t 15         & 0.7435578  & 0.4047535  & 0.04156109 & 0.10258243\\\\\n",
       "\t 17         & 0.7500342  & 0.4147416  & 0.05059676 & 0.12380171\\\\\n",
       "\t 19         & 0.7539303  & 0.4173851  & 0.04749078 & 0.12577251\\\\\n",
       "\t 21         & 0.7564935  & 0.4216512  & 0.04551696 & 0.11955907\\\\\n",
       "\t 23         & 0.7473684  & 0.4015615  & 0.05070581 & 0.13241805\\\\\n",
       "\\end{tabular}\n"
      ],
      "text/markdown": [
       "\n",
       "k | Accuracy | Kappa | AccuracySD | KappaSD | \n",
       "|---|---|---|---|---|---|---|---|---|---|\n",
       "|  5         | 0.7461381  | 0.4219006  | 0.02646740 | 0.06594878 | \n",
       "|  7         | 0.7382946  | 0.4003582  | 0.03260308 | 0.08370286 | \n",
       "|  9         | 0.7434894  | 0.4110116  | 0.03472152 | 0.08836272 | \n",
       "| 11         | 0.7422078  | 0.4071813  | 0.04183189 | 0.10729202 | \n",
       "| 13         | 0.7435065  | 0.4057369  | 0.04450922 | 0.10948900 | \n",
       "| 15         | 0.7435578  | 0.4047535  | 0.04156109 | 0.10258243 | \n",
       "| 17         | 0.7500342  | 0.4147416  | 0.05059676 | 0.12380171 | \n",
       "| 19         | 0.7539303  | 0.4173851  | 0.04749078 | 0.12577251 | \n",
       "| 21         | 0.7564935  | 0.4216512  | 0.04551696 | 0.11955907 | \n",
       "| 23         | 0.7473684  | 0.4015615  | 0.05070581 | 0.13241805 | \n",
       "\n",
       "\n"
      ],
      "text/plain": [
       "   k  Accuracy  Kappa     AccuracySD KappaSD   \n",
       "1   5 0.7461381 0.4219006 0.02646740 0.06594878\n",
       "2   7 0.7382946 0.4003582 0.03260308 0.08370286\n",
       "3   9 0.7434894 0.4110116 0.03472152 0.08836272\n",
       "4  11 0.7422078 0.4071813 0.04183189 0.10729202\n",
       "5  13 0.7435065 0.4057369 0.04450922 0.10948900\n",
       "6  15 0.7435578 0.4047535 0.04156109 0.10258243\n",
       "7  17 0.7500342 0.4147416 0.05059676 0.12380171\n",
       "8  19 0.7539303 0.4173851 0.04749078 0.12577251\n",
       "9  21 0.7564935 0.4216512 0.04551696 0.11955907\n",
       "10 23 0.7473684 0.4015615 0.05070581 0.13241805"
      ]
     },
     "metadata": {},
     "output_type": "display_data"
    }
   ],
   "source": [
    "knn_c$results"
   ]
  },
  {
   "cell_type": "code",
   "execution_count": 23,
   "metadata": {},
   "outputs": [
    {
     "data": {},
     "metadata": {},
     "output_type": "display_data"
    },
    {
     "data": {
      "image/png": "[encoded data removed]",
      "text/plain": [
       "plot without title"
      ]
     },
     "metadata": {},
     "output_type": "display_data"
    }
   ],
   "source": [
    "plot(knn_c)"
   ]
  },
  {
   "cell_type": "code",
   "execution_count": 24,
   "metadata": {},
   "outputs": [],
   "source": [
    "grid<-expand.grid(k=15:30)"
   ]
  },
  {
   "cell_type": "code",
   "execution_count": 25,
   "metadata": {},
   "outputs": [
    {
     "data": {},
     "metadata": {},
     "output_type": "display_data"
    },
    {
     "data": {
      "image/png": "[encoded data removed]",
      "text/plain": [
       "plot without title"
      ]
     },
     "metadata": {},
     "output_type": "display_data"
    }
   ],
   "source": [
    "knn_c2<-train(Class~.,data=diabetes,method='knn',trControl=trc,preProcess=c('center','scale'),tuneGrid=grid)\n",
    "plot(knn_c2)"
   ]
  },
  {
   "cell_type": "code",
   "execution_count": null,
   "metadata": {},
   "outputs": [],
   "source": []
  }
 ],
 "metadata": {
  "kernelspec": {
   "display_name": "R 3.3",
   "language": "R",
   "name": "ir33"
  },
  "language_info": {
   "codemirror_mode": "r",
   "file_extension": ".r",
   "mimetype": "text/x-r-source",
   "name": "R",
   "pygments_lexer": "r",
   "version": "3.3.3"
  }
 },
 "nbformat": 4,
 "nbformat_minor": 2
}
