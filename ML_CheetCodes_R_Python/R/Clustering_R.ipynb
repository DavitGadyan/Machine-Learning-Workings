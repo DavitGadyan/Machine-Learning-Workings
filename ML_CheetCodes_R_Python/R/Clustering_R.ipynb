{
 "cells": [
  {
   "cell_type": "code",
   "execution_count": 1,
   "metadata": {},
   "outputs": [],
   "source": [
    "## Hierarchical clustering\n",
    "\n",
    "index<-read.csv('C:\\\\Users\\\\Gaya\\\\Desktop\\\\R\\\\Data mining\\\\final\\\\index2017.csv')"
   ]
  },
  {
   "cell_type": "code",
   "execution_count": 2,
   "metadata": {},
   "outputs": [
    {
     "name": "stdout",
     "output_type": "stream",
     "text": [
      "'data.frame':\t186 obs. of  32 variables:\n",
      " $ CountryID                    : int  1 2 3 4 5 6 7 8 9 10 ...\n",
      " $ Country.Name                 : Factor w/ 186 levels \"Afghanistan\",..: 1 2 3 4 5 6 7 8 9 10 ...\n",
      " $ Abbr                         : Factor w/ 186 levels \"AFG\",\"AGO\",\"ALB\",..: 1 3 48 2 5 6 7 8 9 17 ...\n",
      " $ Region                       : Factor w/ 5 levels \"Americas\",\"Asia-Pacific\",..: 2 3 4 5 1 3 2 3 2 1 ...\n",
      " $ World.Rank                   : int  163 65 172 165 156 33 5 30 68 90 ...\n",
      " $ Region.Rank                  : int  40 30 14 41 26 19 4 17 15 19 ...\n",
      " $ X2017.Score                  : num  48.9 64.4 46.5 48.5 50.4 70.3 81 72.3 63.6 61.1 ...\n",
      " $ Property.Rights              : num  12.6 54 38.2 36.4 32.4 55.5 81.7 86 50.5 45.3 ...\n",
      " $ Judical.Effectiveness        : num  28.4 28.5 29.6 19.8 39.6 42.5 92.9 81.8 33 48.7 ...\n",
      " $ Government.Integrity         : num  27.5 39.7 31.7 12.8 38.2 43.4 74.8 75.2 37.6 38.2 ...\n",
      " $ Tax.Burden                   : num  91.6 86.9 81.1 87.7 62.6 83.7 63.2 50.3 87.7 97.1 ...\n",
      " $ Gov.t.Spending               : num  79.9 72.5 51 58.6 54.6 81.7 59 19.3 57.5 83.8 ...\n",
      " $ Fiscal.Health                : num  97.3 51.5 19.8 70.7 56.4 82.9 84.6 79.7 97.4 42.3 ...\n",
      " $ Business.Freedom             : num  54.2 79.3 62.1 58.5 57.3 78.5 89.3 76.9 71.5 68.5 ...\n",
      " $ Labor.Freedom                : num  59.9 50.7 49.5 40.4 46.1 72.4 84.1 67.6 75 71.5 ...\n",
      " $ Monetary.Freedom             : num  69.3 81.4 67 70.6 50.9 72.8 86.4 83.4 73.6 77 ...\n",
      " $ Trade.Freedom                : num  66 87.7 63.3 56.7 66.7 80.2 86.2 87 74.4 50.6 ...\n",
      " $ Investment.Freedom           : int  0 70 35 30 50 80 80 90 55 50 ...\n",
      " $ Financial.Freedom            : int  0 70 30 40 50 70 90 70 50 60 ...\n",
      " $ Tariff.Rate                  : num  7 1.1 8.4 11.7 6.6 2.4 1.9 1.5 5.3 19.7 ...\n",
      " $ Income.Tax.Rate              : num  20 23 35 17 35 26 45 50 25 0 ...\n",
      " $ Corporate.Tax.Rate           : num  20 15 23 30 35 20 30 25 20 0 ...\n",
      " $ Tax.Burden.perc.of.GDP       : num  6.5 23.6 11.7 6.5 35.9 23.5 27.5 43 14.2 16.9 ...\n",
      " $ Gov.t.Expenditure.perc.of.GDP: num  27.1 30 44.4 28.9 43.9 26.4 37.2 51.9 38.5 24.2 ...\n",
      " $ Population_Millions          : num  32 2.8 39.5 25.1 42.4 3.3 23.9 8.6 9.5 0.4 ...\n",
      " $ GDP.Billions.PPP             : num  62.3 32.7 578.7 184.4 972 ...\n",
      " $ GDP.Growth.Rate              : num  1.5 2.6 3.7 3 1.2 3 2.5 0.9 1.1 0.5 ...\n",
      " $ GDP.per.Capita.PPP           : int  1947 11301 14504 7344 22554 8468 47389 47250 17993 25167 ...\n",
      " $ Unemployment                 : num  9.6 17.3 10.5 7.6 6.7 16.3 6.3 5.7 4.7 14.4 ...\n",
      " $ Inflation.Perc               : num  -1.5 1.9 4.8 10.3 26.5 3.7 1.5 0.8 4 1.9 ...\n",
      " $ FDI.Inflow.Millions          : num  58 1003 -587 8681 11655 ...\n",
      " $ Public.Debt.Perc.of.GDP      : num  6.8 71.9 8.7 62.3 56.5 46.6 36.8 86.2 36.1 65.7 ...\n"
     ]
    }
   ],
   "source": [
    "str(index)\n",
    "rownames(index)<-index$Abbr"
   ]
  },
  {
   "cell_type": "code",
   "execution_count": 3,
   "metadata": {},
   "outputs": [],
   "source": [
    "index1<-index[1:7,c('Unemployment','GDP.per.Capita.PPP')]\n",
    "# AS variables are completelly on different scales it would have been better to scale first \n",
    "# the variables then calculate distance"
   ]
  },
  {
   "cell_type": "code",
   "execution_count": 4,
   "metadata": {},
   "outputs": [
    {
     "data": {
      "text/plain": [
       "          AFG       ALB       DZA       AGO       ARG       ARM\n",
       "ALB  9354.003                                                  \n",
       "DZA 12557.000  3203.007                                        \n",
       "AGO  5397.000  3957.012  7160.001                              \n",
       "ARG 20607.000 11253.005  8050.001 15210.000                    \n",
       "ARM  6521.003  2833.000  6036.003  1124.034 14086.003          \n",
       "AUS 45442.000 36088.002 32885.000 40045.000 24835.000 38921.001"
      ]
     },
     "metadata": {},
     "output_type": "display_data"
    }
   ],
   "source": [
    "d<-dist(index1,method = 'euclidean')\n",
    "d"
   ]
  },
  {
   "cell_type": "code",
   "execution_count": 5,
   "metadata": {},
   "outputs": [
    {
     "data": {
      "text/plain": [
       "\n",
       "Call:\n",
       "hclust(d = d, method = \"complete\")\n",
       "\n",
       "Cluster method   : complete \n",
       "Distance         : euclidean \n",
       "Number of objects: 7 \n"
      ]
     },
     "metadata": {},
     "output_type": "display_data"
    }
   ],
   "source": [
    "cl<-hclust(d,method = 'complete')\n",
    "cl"
   ]
  },
  {
   "cell_type": "code",
   "execution_count": 6,
   "metadata": {},
   "outputs": [
    {
     "data": {
      "text/html": [
       "<table>\n",
       "<tbody>\n",
       "\t<tr><td>-4</td><td>-6</td></tr>\n",
       "\t<tr><td>-2</td><td>-3</td></tr>\n",
       "\t<tr><td>-1</td><td> 1</td></tr>\n",
       "\t<tr><td>-5</td><td> 2</td></tr>\n",
       "\t<tr><td> 3</td><td> 4</td></tr>\n",
       "\t<tr><td>-7</td><td> 5</td></tr>\n",
       "</tbody>\n",
       "</table>\n"
      ],
      "text/latex": [
       "\\begin{tabular}{ll}\n",
       "\t -4 & -6\\\\\n",
       "\t -2 & -3\\\\\n",
       "\t -1 &  1\\\\\n",
       "\t -5 &  2\\\\\n",
       "\t  3 &  4\\\\\n",
       "\t -7 &  5\\\\\n",
       "\\end{tabular}\n"
      ],
      "text/markdown": [
       "\n",
       "| -4 | -6 | \n",
       "| -2 | -3 | \n",
       "| -1 |  1 | \n",
       "| -5 |  2 | \n",
       "|  3 |  4 | \n",
       "| -7 |  5 | \n",
       "\n",
       "\n"
      ],
      "text/plain": [
       "     [,1] [,2]\n",
       "[1,] -4   -6  \n",
       "[2,] -2   -3  \n",
       "[3,] -1    1  \n",
       "[4,] -5    2  \n",
       "[5,]  3    4  \n",
       "[6,] -7    5  "
      ]
     },
     "metadata": {},
     "output_type": "display_data"
    },
    {
     "data": {
      "text/html": [
       "<table>\n",
       "<thead><tr><th></th><th scope=col>Unemployment</th><th scope=col>GDP.per.Capita.PPP</th></tr></thead>\n",
       "<tbody>\n",
       "\t<tr><th scope=row>AFG</th><td> 9.6 </td><td> 1947</td></tr>\n",
       "\t<tr><th scope=row>ALB</th><td>17.3 </td><td>11301</td></tr>\n",
       "\t<tr><th scope=row>DZA</th><td>10.5 </td><td>14504</td></tr>\n",
       "\t<tr><th scope=row>AGO</th><td> 7.6 </td><td> 7344</td></tr>\n",
       "\t<tr><th scope=row>ARG</th><td> 6.7 </td><td>22554</td></tr>\n",
       "\t<tr><th scope=row>ARM</th><td>16.3 </td><td> 8468</td></tr>\n",
       "\t<tr><th scope=row>AUS</th><td> 6.3 </td><td>47389</td></tr>\n",
       "</tbody>\n",
       "</table>\n"
      ],
      "text/latex": [
       "\\begin{tabular}{r|ll}\n",
       "  & Unemployment & GDP.per.Capita.PPP\\\\\n",
       "\\hline\n",
       "\tAFG &  9.6  &  1947\\\\\n",
       "\tALB & 17.3  & 11301\\\\\n",
       "\tDZA & 10.5  & 14504\\\\\n",
       "\tAGO &  7.6  &  7344\\\\\n",
       "\tARG &  6.7  & 22554\\\\\n",
       "\tARM & 16.3  &  8468\\\\\n",
       "\tAUS &  6.3  & 47389\\\\\n",
       "\\end{tabular}\n"
      ],
      "text/markdown": [
       "\n",
       "| <!--/--> | Unemployment | GDP.per.Capita.PPP | \n",
       "|---|---|---|---|---|---|---|\n",
       "| AFG |  9.6  |  1947 | \n",
       "| ALB | 17.3  | 11301 | \n",
       "| DZA | 10.5  | 14504 | \n",
       "| AGO |  7.6  |  7344 | \n",
       "| ARG |  6.7  | 22554 | \n",
       "| ARM | 16.3  |  8468 | \n",
       "| AUS |  6.3  | 47389 | \n",
       "\n",
       "\n"
      ],
      "text/plain": [
       "    Unemployment GDP.per.Capita.PPP\n",
       "AFG  9.6          1947             \n",
       "ALB 17.3         11301             \n",
       "DZA 10.5         14504             \n",
       "AGO  7.6          7344             \n",
       "ARG  6.7         22554             \n",
       "ARM 16.3          8468             \n",
       "AUS  6.3         47389             "
      ]
     },
     "metadata": {},
     "output_type": "display_data"
    }
   ],
   "source": [
    "cl$merge\n",
    "index1\n",
    "# by the matrix from cl$merge we can see the steps in each distance calcualtion with cases with - signs\n"
   ]
  },
  {
   "cell_type": "code",
   "execution_count": 7,
   "metadata": {},
   "outputs": [
    {
     "data": {
      "text/html": [
       "<table>\n",
       "<tbody>\n",
       "\t<tr><td>-4</td><td>-6</td></tr>\n",
       "\t<tr><td>-2</td><td>-3</td></tr>\n",
       "\t<tr><td>-1</td><td> 1</td></tr>\n",
       "\t<tr><td>-5</td><td> 2</td></tr>\n",
       "\t<tr><td> 3</td><td> 4</td></tr>\n",
       "\t<tr><td>-7</td><td> 5</td></tr>\n",
       "</tbody>\n",
       "</table>\n"
      ],
      "text/latex": [
       "\\begin{tabular}{ll}\n",
       "\t -4 & -6\\\\\n",
       "\t -2 & -3\\\\\n",
       "\t -1 &  1\\\\\n",
       "\t -5 &  2\\\\\n",
       "\t  3 &  4\\\\\n",
       "\t -7 &  5\\\\\n",
       "\\end{tabular}\n"
      ],
      "text/markdown": [
       "\n",
       "| -4 | -6 | \n",
       "| -2 | -3 | \n",
       "| -1 |  1 | \n",
       "| -5 |  2 | \n",
       "|  3 |  4 | \n",
       "| -7 |  5 | \n",
       "\n",
       "\n"
      ],
      "text/plain": [
       "     [,1] [,2]\n",
       "[1,] -4   -6  \n",
       "[2,] -2   -3  \n",
       "[3,] -1    1  \n",
       "[4,] -5    2  \n",
       "[5,]  3    4  \n",
       "[6,] -7    5  "
      ]
     },
     "metadata": {},
     "output_type": "display_data"
    },
    {
     "data": {
      "text/plain": [
       "          AFG       ALB       DZA       AGO       ARG       ARM\n",
       "ALB  9354.003                                                  \n",
       "DZA 12557.000  3203.007                                        \n",
       "AGO  5397.000  3957.012  7160.001                              \n",
       "ARG 20607.000 11253.005  8050.001 15210.000                    \n",
       "ARM  6521.003  2833.000  6036.003  1124.034 14086.003          \n",
       "AUS 45442.000 36088.002 32885.000 40045.000 24835.000 38921.001"
      ]
     },
     "metadata": {},
     "output_type": "display_data"
    }
   ],
   "source": [
    "cl$merge\n",
    "d"
   ]
  },
  {
   "cell_type": "code",
   "execution_count": 8,
   "metadata": {},
   "outputs": [
    {
     "data": {
      "text/html": [
       "<ol class=list-inline>\n",
       "\t<li>1124.03366942454</li>\n",
       "\t<li>3203.00721822477</li>\n",
       "\t<li>6521.00344195585</li>\n",
       "\t<li>11253.0049924454</li>\n",
       "\t<li>20607.0002040569</li>\n",
       "\t<li>45442.0001198231</li>\n",
       "</ol>\n"
      ],
      "text/latex": [
       "\\begin{enumerate*}\n",
       "\\item 1124.03366942454\n",
       "\\item 3203.00721822477\n",
       "\\item 6521.00344195585\n",
       "\\item 11253.0049924454\n",
       "\\item 20607.0002040569\n",
       "\\item 45442.0001198231\n",
       "\\end{enumerate*}\n"
      ],
      "text/markdown": [
       "1. 1124.03366942454\n",
       "2. 3203.00721822477\n",
       "3. 6521.00344195585\n",
       "4. 11253.0049924454\n",
       "5. 20607.0002040569\n",
       "6. 45442.0001198231\n",
       "\n",
       "\n"
      ],
      "text/plain": [
       "[1]  1124.034  3203.007  6521.003 11253.005 20607.000 45442.000"
      ]
     },
     "metadata": {},
     "output_type": "display_data"
    }
   ],
   "source": [
    "cl$height"
   ]
  },
  {
   "cell_type": "code",
   "execution_count": 9,
   "metadata": {},
   "outputs": [
    {
     "data": {
      "text/html": [
       "<table>\n",
       "<tbody>\n",
       "\t<tr><td>-4</td><td>-6</td></tr>\n",
       "\t<tr><td>-2</td><td>-3</td></tr>\n",
       "\t<tr><td>-1</td><td> 1</td></tr>\n",
       "\t<tr><td>-5</td><td> 2</td></tr>\n",
       "\t<tr><td> 3</td><td> 4</td></tr>\n",
       "\t<tr><td>-7</td><td> 5</td></tr>\n",
       "</tbody>\n",
       "</table>\n"
      ],
      "text/latex": [
       "\\begin{tabular}{ll}\n",
       "\t -4 & -6\\\\\n",
       "\t -2 & -3\\\\\n",
       "\t -1 &  1\\\\\n",
       "\t -5 &  2\\\\\n",
       "\t  3 &  4\\\\\n",
       "\t -7 &  5\\\\\n",
       "\\end{tabular}\n"
      ],
      "text/markdown": [
       "\n",
       "| -4 | -6 | \n",
       "| -2 | -3 | \n",
       "| -1 |  1 | \n",
       "| -5 |  2 | \n",
       "|  3 |  4 | \n",
       "| -7 |  5 | \n",
       "\n",
       "\n"
      ],
      "text/plain": [
       "     [,1] [,2]\n",
       "[1,] -4   -6  \n",
       "[2,] -2   -3  \n",
       "[3,] -1    1  \n",
       "[4,] -5    2  \n",
       "[5,]  3    4  \n",
       "[6,] -7    5  "
      ]
     },
     "metadata": {},
     "output_type": "display_data"
    }
   ],
   "source": [
    "cl$merge"
   ]
  },
  {
   "cell_type": "code",
   "execution_count": 11,
   "metadata": {},
   "outputs": [
    {
     "data": {
      "text/plain": [
       "          AFG       ALB       DZA       AGO       ARG       ARM\n",
       "ALB  9354.003                                                  \n",
       "DZA 12557.000  3203.007                                        \n",
       "AGO  5397.000  3957.012  7160.001                              \n",
       "ARG 20607.000 11253.005  8050.001 15210.000                    \n",
       "ARM  6521.003  2833.000  6036.003  1124.034 14086.003          \n",
       "AUS 45442.000 36088.002 32885.000 40045.000 24835.000 38921.001"
      ]
     },
     "metadata": {},
     "output_type": "display_data"
    }
   ],
   "source": [
    "d<-dist(index1,method='euclidean')\n",
    "d"
   ]
  },
  {
   "cell_type": "code",
   "execution_count": 12,
   "metadata": {},
   "outputs": [
    {
     "data": {
      "text/html": [
       "<ol class=list-inline>\n",
       "\t<li>1124.03366942454</li>\n",
       "\t<li>3203.00721822477</li>\n",
       "\t<li>6521.00344195585</li>\n",
       "\t<li>11253.0049924454</li>\n",
       "\t<li>20607.0002040569</li>\n",
       "\t<li>45442.0001198231</li>\n",
       "</ol>\n"
      ],
      "text/latex": [
       "\\begin{enumerate*}\n",
       "\\item 1124.03366942454\n",
       "\\item 3203.00721822477\n",
       "\\item 6521.00344195585\n",
       "\\item 11253.0049924454\n",
       "\\item 20607.0002040569\n",
       "\\item 45442.0001198231\n",
       "\\end{enumerate*}\n"
      ],
      "text/markdown": [
       "1. 1124.03366942454\n",
       "2. 3203.00721822477\n",
       "3. 6521.00344195585\n",
       "4. 11253.0049924454\n",
       "5. 20607.0002040569\n",
       "6. 45442.0001198231\n",
       "\n",
       "\n"
      ],
      "text/plain": [
       "[1]  1124.034  3203.007  6521.003 11253.005 20607.000 45442.000"
      ]
     },
     "metadata": {},
     "output_type": "display_data"
    }
   ],
   "source": [
    "cl$height"
   ]
  },
  {
   "cell_type": "code",
   "execution_count": 13,
   "metadata": {},
   "outputs": [
    {
     "data": {
      "image/png": "[encoded data removed]",
      "text/plain": [
       "Plot with title \"Cluster Dendrogram\""
      ]
     },
     "metadata": {},
     "output_type": "display_data"
    }
   ],
   "source": [
    "plot(cl,hang=-1)"
   ]
  },
  {
   "cell_type": "code",
   "execution_count": 14,
   "metadata": {},
   "outputs": [
    {
     "data": {
      "image/png": "[encoded data removed]",
      "text/plain": [
       "Plot with title \"Cluster Dendrogram\""
      ]
     },
     "metadata": {},
     "output_type": "display_data"
    }
   ],
   "source": [
    "plot(cl,hang=-1)\n",
    "rect.hclust(cl,3)"
   ]
  },
  {
   "cell_type": "code",
   "execution_count": 15,
   "metadata": {},
   "outputs": [
    {
     "data": {
      "text/html": [
       "<table>\n",
       "<thead><tr><th></th><th scope=col>Unemployment</th><th scope=col>GDP.per.Capita.PPP</th><th scope=col>cl_membership</th></tr></thead>\n",
       "<tbody>\n",
       "\t<tr><th scope=row>AFG</th><td> 9.6 </td><td> 1947</td><td>1    </td></tr>\n",
       "\t<tr><th scope=row>ALB</th><td>17.3 </td><td>11301</td><td>2    </td></tr>\n",
       "\t<tr><th scope=row>DZA</th><td>10.5 </td><td>14504</td><td>2    </td></tr>\n",
       "\t<tr><th scope=row>AGO</th><td> 7.6 </td><td> 7344</td><td>1    </td></tr>\n",
       "\t<tr><th scope=row>ARG</th><td> 6.7 </td><td>22554</td><td>2    </td></tr>\n",
       "\t<tr><th scope=row>ARM</th><td>16.3 </td><td> 8468</td><td>1    </td></tr>\n",
       "\t<tr><th scope=row>AUS</th><td> 6.3 </td><td>47389</td><td>3    </td></tr>\n",
       "</tbody>\n",
       "</table>\n"
      ],
      "text/latex": [
       "\\begin{tabular}{r|lll}\n",
       "  & Unemployment & GDP.per.Capita.PPP & cl\\_membership\\\\\n",
       "\\hline\n",
       "\tAFG &  9.6  &  1947 & 1    \\\\\n",
       "\tALB & 17.3  & 11301 & 2    \\\\\n",
       "\tDZA & 10.5  & 14504 & 2    \\\\\n",
       "\tAGO &  7.6  &  7344 & 1    \\\\\n",
       "\tARG &  6.7  & 22554 & 2    \\\\\n",
       "\tARM & 16.3  &  8468 & 1    \\\\\n",
       "\tAUS &  6.3  & 47389 & 3    \\\\\n",
       "\\end{tabular}\n"
      ],
      "text/markdown": [
       "\n",
       "| <!--/--> | Unemployment | GDP.per.Capita.PPP | cl_membership | \n",
       "|---|---|---|---|---|---|---|\n",
       "| AFG |  9.6  |  1947 | 1     | \n",
       "| ALB | 17.3  | 11301 | 2     | \n",
       "| DZA | 10.5  | 14504 | 2     | \n",
       "| AGO |  7.6  |  7344 | 1     | \n",
       "| ARG |  6.7  | 22554 | 2     | \n",
       "| ARM | 16.3  |  8468 | 1     | \n",
       "| AUS |  6.3  | 47389 | 3     | \n",
       "\n",
       "\n"
      ],
      "text/plain": [
       "    Unemployment GDP.per.Capita.PPP cl_membership\n",
       "AFG  9.6          1947              1            \n",
       "ALB 17.3         11301              2            \n",
       "DZA 10.5         14504              2            \n",
       "AGO  7.6          7344              1            \n",
       "ARG  6.7         22554              2            \n",
       "ARM 16.3          8468              1            \n",
       "AUS  6.3         47389              3            "
      ]
     },
     "metadata": {},
     "output_type": "display_data"
    }
   ],
   "source": [
    "index1$cl_membership<-cutree(cl,k=3)\n",
    "index1"
   ]
  },
  {
   "cell_type": "code",
   "execution_count": 16,
   "metadata": {},
   "outputs": [
    {
     "data": {
      "text/html": [
       "<table>\n",
       "<thead><tr><th></th><th scope=col>Unemployment</th><th scope=col>GDP.per.Capita.PPP</th><th scope=col>cl_membership</th></tr></thead>\n",
       "<tbody>\n",
       "\t<tr><th scope=row>AFG</th><td> 9.6 </td><td> 1947</td><td>1    </td></tr>\n",
       "\t<tr><th scope=row>AGO</th><td> 7.6 </td><td> 7344</td><td>1    </td></tr>\n",
       "\t<tr><th scope=row>ARM</th><td>16.3 </td><td> 8468</td><td>1    </td></tr>\n",
       "\t<tr><th scope=row>ALB</th><td>17.3 </td><td>11301</td><td>2    </td></tr>\n",
       "\t<tr><th scope=row>DZA</th><td>10.5 </td><td>14504</td><td>2    </td></tr>\n",
       "\t<tr><th scope=row>ARG</th><td> 6.7 </td><td>22554</td><td>2    </td></tr>\n",
       "\t<tr><th scope=row>AUS</th><td> 6.3 </td><td>47389</td><td>3    </td></tr>\n",
       "</tbody>\n",
       "</table>\n"
      ],
      "text/latex": [
       "\\begin{tabular}{r|lll}\n",
       "  & Unemployment & GDP.per.Capita.PPP & cl\\_membership\\\\\n",
       "\\hline\n",
       "\tAFG &  9.6  &  1947 & 1    \\\\\n",
       "\tAGO &  7.6  &  7344 & 1    \\\\\n",
       "\tARM & 16.3  &  8468 & 1    \\\\\n",
       "\tALB & 17.3  & 11301 & 2    \\\\\n",
       "\tDZA & 10.5  & 14504 & 2    \\\\\n",
       "\tARG &  6.7  & 22554 & 2    \\\\\n",
       "\tAUS &  6.3  & 47389 & 3    \\\\\n",
       "\\end{tabular}\n"
      ],
      "text/markdown": [
       "\n",
       "| <!--/--> | Unemployment | GDP.per.Capita.PPP | cl_membership | \n",
       "|---|---|---|---|---|---|---|\n",
       "| AFG |  9.6  |  1947 | 1     | \n",
       "| AGO |  7.6  |  7344 | 1     | \n",
       "| ARM | 16.3  |  8468 | 1     | \n",
       "| ALB | 17.3  | 11301 | 2     | \n",
       "| DZA | 10.5  | 14504 | 2     | \n",
       "| ARG |  6.7  | 22554 | 2     | \n",
       "| AUS |  6.3  | 47389 | 3     | \n",
       "\n",
       "\n"
      ],
      "text/plain": [
       "    Unemployment GDP.per.Capita.PPP cl_membership\n",
       "AFG  9.6          1947              1            \n",
       "AGO  7.6          7344              1            \n",
       "ARM 16.3          8468              1            \n",
       "ALB 17.3         11301              2            \n",
       "DZA 10.5         14504              2            \n",
       "ARG  6.7         22554              2            \n",
       "AUS  6.3         47389              3            "
      ]
     },
     "metadata": {},
     "output_type": "display_data"
    }
   ],
   "source": [
    "index1[order(index1$cl_membership),]"
   ]
  },
  {
   "cell_type": "code",
   "execution_count": 17,
   "metadata": {},
   "outputs": [
    {
     "data": {
      "text/html": [
       "<table>\n",
       "<thead><tr><th></th><th scope=col>Unemployment</th><th scope=col>GDP.per.Capita.PPP</th><th scope=col>cl_membership</th></tr></thead>\n",
       "<tbody>\n",
       "\t<tr><th scope=row>AFG</th><td>-0.22577942</td><td>-0.9403588 </td><td>-0.9449112 </td></tr>\n",
       "\t<tr><th scope=row>ALB</th><td> 1.48823619</td><td>-0.3238785 </td><td> 0.3779645 </td></tr>\n",
       "\t<tr><th scope=row>DZA</th><td>-0.02543993</td><td>-0.1127832 </td><td> 0.3779645 </td></tr>\n",
       "\t<tr><th scope=row>AGO</th><td>-0.67097828</td><td>-0.5846667 </td><td>-0.9449112 </td></tr>\n",
       "\t<tr><th scope=row>ARG</th><td>-0.87131777</td><td> 0.4177563 </td><td> 0.3779645 </td></tr>\n",
       "\t<tr><th scope=row>ARM</th><td> 1.26563676</td><td>-0.5105889 </td><td>-0.9449112 </td></tr>\n",
       "\t<tr><th scope=row>AUS</th><td>-0.96035754</td><td> 2.0545198 </td><td> 1.7008401 </td></tr>\n",
       "</tbody>\n",
       "</table>\n"
      ],
      "text/latex": [
       "\\begin{tabular}{r|lll}\n",
       "  & Unemployment & GDP.per.Capita.PPP & cl\\_membership\\\\\n",
       "\\hline\n",
       "\tAFG & -0.22577942 & -0.9403588  & -0.9449112 \\\\\n",
       "\tALB &  1.48823619 & -0.3238785  &  0.3779645 \\\\\n",
       "\tDZA & -0.02543993 & -0.1127832  &  0.3779645 \\\\\n",
       "\tAGO & -0.67097828 & -0.5846667  & -0.9449112 \\\\\n",
       "\tARG & -0.87131777 &  0.4177563  &  0.3779645 \\\\\n",
       "\tARM &  1.26563676 & -0.5105889  & -0.9449112 \\\\\n",
       "\tAUS & -0.96035754 &  2.0545198  &  1.7008401 \\\\\n",
       "\\end{tabular}\n"
      ],
      "text/markdown": [
       "\n",
       "| <!--/--> | Unemployment | GDP.per.Capita.PPP | cl_membership | \n",
       "|---|---|---|---|---|---|---|\n",
       "| AFG | -0.22577942 | -0.9403588  | -0.9449112  | \n",
       "| ALB |  1.48823619 | -0.3238785  |  0.3779645  | \n",
       "| DZA | -0.02543993 | -0.1127832  |  0.3779645  | \n",
       "| AGO | -0.67097828 | -0.5846667  | -0.9449112  | \n",
       "| ARG | -0.87131777 |  0.4177563  |  0.3779645  | \n",
       "| ARM |  1.26563676 | -0.5105889  | -0.9449112  | \n",
       "| AUS | -0.96035754 |  2.0545198  |  1.7008401  | \n",
       "\n",
       "\n"
      ],
      "text/plain": [
       "    Unemployment GDP.per.Capita.PPP cl_membership\n",
       "AFG -0.22577942  -0.9403588         -0.9449112   \n",
       "ALB  1.48823619  -0.3238785          0.3779645   \n",
       "DZA -0.02543993  -0.1127832          0.3779645   \n",
       "AGO -0.67097828  -0.5846667         -0.9449112   \n",
       "ARG -0.87131777   0.4177563          0.3779645   \n",
       "ARM  1.26563676  -0.5105889         -0.9449112   \n",
       "AUS -0.96035754   2.0545198          1.7008401   "
      ]
     },
     "metadata": {},
     "output_type": "display_data"
    }
   ],
   "source": [
    "scale(index1,center = TRUE,scale=TRUE)"
   ]
  },
  {
   "cell_type": "code",
   "execution_count": 18,
   "metadata": {},
   "outputs": [],
   "source": [
    "index2<-as.data.frame(scale(index1,center = TRUE,scale=TRUE))"
   ]
  },
  {
   "cell_type": "code",
   "execution_count": 19,
   "metadata": {},
   "outputs": [
    {
     "data": {
      "image/png": "[encoded data removed]",
      "text/plain": [
       "Plot with title \"Cluster Dendrogram\""
      ]
     },
     "metadata": {},
     "output_type": "display_data"
    }
   ],
   "source": [
    "d2<-dist(index2,method = 'euclidean')\n",
    "cl2<-hclust(d2,method = 'complete')\n",
    "plot(cl2,hang=-1)"
   ]
  },
  {
   "cell_type": "code",
   "execution_count": 20,
   "metadata": {},
   "outputs": [],
   "source": [
    "cl$cl_membership<-cutree(cl2,k=3)"
   ]
  },
  {
   "cell_type": "code",
   "execution_count": 21,
   "metadata": {},
   "outputs": [
    {
     "data": {
      "text/html": [
       "<table>\n",
       "<thead><tr><th></th><th scope=col>Unemployment</th><th scope=col>GDP.per.Capita.PPP</th><th scope=col>cl_membership</th></tr></thead>\n",
       "<tbody>\n",
       "\t<tr><th scope=row>AFG</th><td> 9.6 </td><td> 1947</td><td>1    </td></tr>\n",
       "\t<tr><th scope=row>ALB</th><td>17.3 </td><td>11301</td><td>2    </td></tr>\n",
       "\t<tr><th scope=row>DZA</th><td>10.5 </td><td>14504</td><td>2    </td></tr>\n",
       "\t<tr><th scope=row>AGO</th><td> 7.6 </td><td> 7344</td><td>1    </td></tr>\n",
       "\t<tr><th scope=row>ARG</th><td> 6.7 </td><td>22554</td><td>2    </td></tr>\n",
       "\t<tr><th scope=row>ARM</th><td>16.3 </td><td> 8468</td><td>1    </td></tr>\n",
       "\t<tr><th scope=row>AUS</th><td> 6.3 </td><td>47389</td><td>3    </td></tr>\n",
       "</tbody>\n",
       "</table>\n"
      ],
      "text/latex": [
       "\\begin{tabular}{r|lll}\n",
       "  & Unemployment & GDP.per.Capita.PPP & cl\\_membership\\\\\n",
       "\\hline\n",
       "\tAFG &  9.6  &  1947 & 1    \\\\\n",
       "\tALB & 17.3  & 11301 & 2    \\\\\n",
       "\tDZA & 10.5  & 14504 & 2    \\\\\n",
       "\tAGO &  7.6  &  7344 & 1    \\\\\n",
       "\tARG &  6.7  & 22554 & 2    \\\\\n",
       "\tARM & 16.3  &  8468 & 1    \\\\\n",
       "\tAUS &  6.3  & 47389 & 3    \\\\\n",
       "\\end{tabular}\n"
      ],
      "text/markdown": [
       "\n",
       "| <!--/--> | Unemployment | GDP.per.Capita.PPP | cl_membership | \n",
       "|---|---|---|---|---|---|---|\n",
       "| AFG |  9.6  |  1947 | 1     | \n",
       "| ALB | 17.3  | 11301 | 2     | \n",
       "| DZA | 10.5  | 14504 | 2     | \n",
       "| AGO |  7.6  |  7344 | 1     | \n",
       "| ARG |  6.7  | 22554 | 2     | \n",
       "| ARM | 16.3  |  8468 | 1     | \n",
       "| AUS |  6.3  | 47389 | 3     | \n",
       "\n",
       "\n"
      ],
      "text/plain": [
       "    Unemployment GDP.per.Capita.PPP cl_membership\n",
       "AFG  9.6          1947              1            \n",
       "ALB 17.3         11301              2            \n",
       "DZA 10.5         14504              2            \n",
       "AGO  7.6          7344              1            \n",
       "ARG  6.7         22554              2            \n",
       "ARM 16.3          8468              1            \n",
       "AUS  6.3         47389              3            "
      ]
     },
     "metadata": {},
     "output_type": "display_data"
    }
   ],
   "source": [
    "index1"
   ]
  },
  {
   "cell_type": "code",
   "execution_count": 22,
   "metadata": {},
   "outputs": [],
   "source": [
    "## K_means clustering\n",
    "library(ggplot2)"
   ]
  },
  {
   "cell_type": "code",
   "execution_count": 23,
   "metadata": {},
   "outputs": [
    {
     "data": {
      "text/html": [
       "<ol class=list-inline>\n",
       "\t<li>'CountryID'</li>\n",
       "\t<li>'Country.Name'</li>\n",
       "\t<li>'Abbr'</li>\n",
       "\t<li>'Region'</li>\n",
       "\t<li>'World.Rank'</li>\n",
       "\t<li>'Region.Rank'</li>\n",
       "\t<li>'X2017.Score'</li>\n",
       "\t<li>'Property.Rights'</li>\n",
       "\t<li>'Judical.Effectiveness'</li>\n",
       "\t<li>'Government.Integrity'</li>\n",
       "\t<li>'Tax.Burden'</li>\n",
       "\t<li>'Gov.t.Spending'</li>\n",
       "\t<li>'Fiscal.Health'</li>\n",
       "\t<li>'Business.Freedom'</li>\n",
       "\t<li>'Labor.Freedom'</li>\n",
       "\t<li>'Monetary.Freedom'</li>\n",
       "\t<li>'Trade.Freedom'</li>\n",
       "\t<li>'Investment.Freedom'</li>\n",
       "\t<li>'Financial.Freedom'</li>\n",
       "\t<li>'Tariff.Rate'</li>\n",
       "\t<li>'Income.Tax.Rate'</li>\n",
       "\t<li>'Corporate.Tax.Rate'</li>\n",
       "\t<li>'Tax.Burden.perc.of.GDP'</li>\n",
       "\t<li>'Gov.t.Expenditure.perc.of.GDP'</li>\n",
       "\t<li>'Population_Millions'</li>\n",
       "\t<li>'GDP.Billions.PPP'</li>\n",
       "\t<li>'GDP.Growth.Rate'</li>\n",
       "\t<li>'GDP.per.Capita.PPP'</li>\n",
       "\t<li>'Unemployment'</li>\n",
       "\t<li>'Inflation.Perc'</li>\n",
       "\t<li>'FDI.Inflow.Millions'</li>\n",
       "\t<li>'Public.Debt.Perc.of.GDP'</li>\n",
       "</ol>\n"
      ],
      "text/latex": [
       "\\begin{enumerate*}\n",
       "\\item 'CountryID'\n",
       "\\item 'Country.Name'\n",
       "\\item 'Abbr'\n",
       "\\item 'Region'\n",
       "\\item 'World.Rank'\n",
       "\\item 'Region.Rank'\n",
       "\\item 'X2017.Score'\n",
       "\\item 'Property.Rights'\n",
       "\\item 'Judical.Effectiveness'\n",
       "\\item 'Government.Integrity'\n",
       "\\item 'Tax.Burden'\n",
       "\\item 'Gov.t.Spending'\n",
       "\\item 'Fiscal.Health'\n",
       "\\item 'Business.Freedom'\n",
       "\\item 'Labor.Freedom'\n",
       "\\item 'Monetary.Freedom'\n",
       "\\item 'Trade.Freedom'\n",
       "\\item 'Investment.Freedom'\n",
       "\\item 'Financial.Freedom'\n",
       "\\item 'Tariff.Rate'\n",
       "\\item 'Income.Tax.Rate'\n",
       "\\item 'Corporate.Tax.Rate'\n",
       "\\item 'Tax.Burden.perc.of.GDP'\n",
       "\\item 'Gov.t.Expenditure.perc.of.GDP'\n",
       "\\item 'Population\\_Millions'\n",
       "\\item 'GDP.Billions.PPP'\n",
       "\\item 'GDP.Growth.Rate'\n",
       "\\item 'GDP.per.Capita.PPP'\n",
       "\\item 'Unemployment'\n",
       "\\item 'Inflation.Perc'\n",
       "\\item 'FDI.Inflow.Millions'\n",
       "\\item 'Public.Debt.Perc.of.GDP'\n",
       "\\end{enumerate*}\n"
      ],
      "text/markdown": [
       "1. 'CountryID'\n",
       "2. 'Country.Name'\n",
       "3. 'Abbr'\n",
       "4. 'Region'\n",
       "5. 'World.Rank'\n",
       "6. 'Region.Rank'\n",
       "7. 'X2017.Score'\n",
       "8. 'Property.Rights'\n",
       "9. 'Judical.Effectiveness'\n",
       "10. 'Government.Integrity'\n",
       "11. 'Tax.Burden'\n",
       "12. 'Gov.t.Spending'\n",
       "13. 'Fiscal.Health'\n",
       "14. 'Business.Freedom'\n",
       "15. 'Labor.Freedom'\n",
       "16. 'Monetary.Freedom'\n",
       "17. 'Trade.Freedom'\n",
       "18. 'Investment.Freedom'\n",
       "19. 'Financial.Freedom'\n",
       "20. 'Tariff.Rate'\n",
       "21. 'Income.Tax.Rate'\n",
       "22. 'Corporate.Tax.Rate'\n",
       "23. 'Tax.Burden.perc.of.GDP'\n",
       "24. 'Gov.t.Expenditure.perc.of.GDP'\n",
       "25. 'Population_Millions'\n",
       "26. 'GDP.Billions.PPP'\n",
       "27. 'GDP.Growth.Rate'\n",
       "28. 'GDP.per.Capita.PPP'\n",
       "29. 'Unemployment'\n",
       "30. 'Inflation.Perc'\n",
       "31. 'FDI.Inflow.Millions'\n",
       "32. 'Public.Debt.Perc.of.GDP'\n",
       "\n",
       "\n"
      ],
      "text/plain": [
       " [1] \"CountryID\"                     \"Country.Name\"                 \n",
       " [3] \"Abbr\"                          \"Region\"                       \n",
       " [5] \"World.Rank\"                    \"Region.Rank\"                  \n",
       " [7] \"X2017.Score\"                   \"Property.Rights\"              \n",
       " [9] \"Judical.Effectiveness\"         \"Government.Integrity\"         \n",
       "[11] \"Tax.Burden\"                    \"Gov.t.Spending\"               \n",
       "[13] \"Fiscal.Health\"                 \"Business.Freedom\"             \n",
       "[15] \"Labor.Freedom\"                 \"Monetary.Freedom\"             \n",
       "[17] \"Trade.Freedom\"                 \"Investment.Freedom\"           \n",
       "[19] \"Financial.Freedom\"             \"Tariff.Rate\"                  \n",
       "[21] \"Income.Tax.Rate\"               \"Corporate.Tax.Rate\"           \n",
       "[23] \"Tax.Burden.perc.of.GDP\"        \"Gov.t.Expenditure.perc.of.GDP\"\n",
       "[25] \"Population_Millions\"           \"GDP.Billions.PPP\"             \n",
       "[27] \"GDP.Growth.Rate\"               \"GDP.per.Capita.PPP\"           \n",
       "[29] \"Unemployment\"                  \"Inflation.Perc\"               \n",
       "[31] \"FDI.Inflow.Millions\"           \"Public.Debt.Perc.of.GDP\"      "
      ]
     },
     "metadata": {},
     "output_type": "display_data"
    }
   ],
   "source": [
    "colnames(index)\n",
    "index2<-index[,c('Unemployment','GDP.per.Capita.PPP')]\n",
    "index2<-index2[complete.cases(index2),]\n",
    "index2_sc<-as.data.frame(scale(index2))\n",
    "km1<-kmeans(index2_sc,centers = 3)"
   ]
  },
  {
   "cell_type": "code",
   "execution_count": 24,
   "metadata": {},
   "outputs": [
    {
     "data": {
      "text/html": [
       "<ol class=list-inline>\n",
       "\t<li>'cluster'</li>\n",
       "\t<li>'centers'</li>\n",
       "\t<li>'totss'</li>\n",
       "\t<li>'withinss'</li>\n",
       "\t<li>'tot.withinss'</li>\n",
       "\t<li>'betweenss'</li>\n",
       "\t<li>'size'</li>\n",
       "\t<li>'iter'</li>\n",
       "\t<li>'ifault'</li>\n",
       "</ol>\n"
      ],
      "text/latex": [
       "\\begin{enumerate*}\n",
       "\\item 'cluster'\n",
       "\\item 'centers'\n",
       "\\item 'totss'\n",
       "\\item 'withinss'\n",
       "\\item 'tot.withinss'\n",
       "\\item 'betweenss'\n",
       "\\item 'size'\n",
       "\\item 'iter'\n",
       "\\item 'ifault'\n",
       "\\end{enumerate*}\n"
      ],
      "text/markdown": [
       "1. 'cluster'\n",
       "2. 'centers'\n",
       "3. 'totss'\n",
       "4. 'withinss'\n",
       "5. 'tot.withinss'\n",
       "6. 'betweenss'\n",
       "7. 'size'\n",
       "8. 'iter'\n",
       "9. 'ifault'\n",
       "\n",
       "\n"
      ],
      "text/plain": [
       "[1] \"cluster\"      \"centers\"      \"totss\"        \"withinss\"     \"tot.withinss\"\n",
       "[6] \"betweenss\"    \"size\"         \"iter\"         \"ifault\"      "
      ]
     },
     "metadata": {},
     "output_type": "display_data"
    },
    {
     "data": {
      "text/html": [
       "<dl class=dl-horizontal>\n",
       "\t<dt>AFG</dt>\n",
       "\t\t<dd>1</dd>\n",
       "\t<dt>ALB</dt>\n",
       "\t\t<dd>3</dd>\n",
       "\t<dt>DZA</dt>\n",
       "\t\t<dd>1</dd>\n",
       "\t<dt>AGO</dt>\n",
       "\t\t<dd>1</dd>\n",
       "\t<dt>ARG</dt>\n",
       "\t\t<dd>1</dd>\n",
       "\t<dt>ARM</dt>\n",
       "\t\t<dd>3</dd>\n",
       "\t<dt>AUS</dt>\n",
       "\t\t<dd>2</dd>\n",
       "\t<dt>AUT</dt>\n",
       "\t\t<dd>2</dd>\n",
       "\t<dt>AZE</dt>\n",
       "\t\t<dd>1</dd>\n",
       "\t<dt>BHS</dt>\n",
       "\t\t<dd>1</dd>\n",
       "\t<dt>BHR</dt>\n",
       "\t\t<dd>2</dd>\n",
       "\t<dt>BGD</dt>\n",
       "\t\t<dd>1</dd>\n",
       "\t<dt>BRB</dt>\n",
       "\t\t<dd>1</dd>\n",
       "\t<dt>BLR</dt>\n",
       "\t\t<dd>1</dd>\n",
       "\t<dt>BEL</dt>\n",
       "\t\t<dd>2</dd>\n",
       "\t<dt>BLZ</dt>\n",
       "\t\t<dd>1</dd>\n",
       "\t<dt>BEN</dt>\n",
       "\t\t<dd>1</dd>\n",
       "\t<dt>BTN</dt>\n",
       "\t\t<dd>1</dd>\n",
       "\t<dt>BOL</dt>\n",
       "\t\t<dd>1</dd>\n",
       "\t<dt>BIH</dt>\n",
       "\t\t<dd>3</dd>\n",
       "\t<dt>BWA</dt>\n",
       "\t\t<dd>3</dd>\n",
       "\t<dt>BRA</dt>\n",
       "\t\t<dd>1</dd>\n",
       "\t<dt>BGR</dt>\n",
       "\t\t<dd>1</dd>\n",
       "\t<dt>BFA</dt>\n",
       "\t\t<dd>1</dd>\n",
       "\t<dt>MMR</dt>\n",
       "\t\t<dd>1</dd>\n",
       "\t<dt>BDI</dt>\n",
       "\t\t<dd>1</dd>\n",
       "\t<dt>KHM</dt>\n",
       "\t\t<dd>1</dd>\n",
       "\t<dt>CMR</dt>\n",
       "\t\t<dd>1</dd>\n",
       "\t<dt>CAN</dt>\n",
       "\t\t<dd>2</dd>\n",
       "\t<dt>CPV</dt>\n",
       "\t\t<dd>1</dd>\n",
       "\t<dt>CAF</dt>\n",
       "\t\t<dd>1</dd>\n",
       "\t<dt>TCD</dt>\n",
       "\t\t<dd>1</dd>\n",
       "\t<dt>CHL</dt>\n",
       "\t\t<dd>1</dd>\n",
       "\t<dt>CHN</dt>\n",
       "\t\t<dd>1</dd>\n",
       "\t<dt>COL</dt>\n",
       "\t\t<dd>1</dd>\n",
       "\t<dt>COM</dt>\n",
       "\t\t<dd>3</dd>\n",
       "\t<dt>COD</dt>\n",
       "\t\t<dd>1</dd>\n",
       "\t<dt>COG</dt>\n",
       "\t\t<dd>1</dd>\n",
       "\t<dt>CRI</dt>\n",
       "\t\t<dd>1</dd>\n",
       "\t<dt>CIV</dt>\n",
       "\t\t<dd>1</dd>\n",
       "\t<dt>HRV</dt>\n",
       "\t\t<dd>3</dd>\n",
       "\t<dt>CYP</dt>\n",
       "\t\t<dd>3</dd>\n",
       "\t<dt>CZE</dt>\n",
       "\t\t<dd>1</dd>\n",
       "\t<dt>DNK</dt>\n",
       "\t\t<dd>2</dd>\n",
       "\t<dt>DJI</dt>\n",
       "\t\t<dd>3</dd>\n",
       "\t<dt>DOM</dt>\n",
       "\t\t<dd>1</dd>\n",
       "\t<dt>ECU</dt>\n",
       "\t\t<dd>1</dd>\n",
       "\t<dt>EGY</dt>\n",
       "\t\t<dd>1</dd>\n",
       "\t<dt>SLV</dt>\n",
       "\t\t<dd>1</dd>\n",
       "\t<dt>GNQ</dt>\n",
       "\t\t<dd>1</dd>\n",
       "\t<dt>ERI</dt>\n",
       "\t\t<dd>1</dd>\n",
       "\t<dt>EST</dt>\n",
       "\t\t<dd>1</dd>\n",
       "\t<dt>ETH</dt>\n",
       "\t\t<dd>1</dd>\n",
       "\t<dt>FJI</dt>\n",
       "\t\t<dd>1</dd>\n",
       "\t<dt>FIN</dt>\n",
       "\t\t<dd>2</dd>\n",
       "\t<dt>FRA</dt>\n",
       "\t\t<dd>2</dd>\n",
       "\t<dt>GAB</dt>\n",
       "\t\t<dd>3</dd>\n",
       "\t<dt>GMB</dt>\n",
       "\t\t<dd>3</dd>\n",
       "\t<dt>GEO</dt>\n",
       "\t\t<dd>1</dd>\n",
       "\t<dt>DEU</dt>\n",
       "\t\t<dd>2</dd>\n",
       "\t<dt>GHA</dt>\n",
       "\t\t<dd>1</dd>\n",
       "\t<dt>GRC</dt>\n",
       "\t\t<dd>3</dd>\n",
       "\t<dt>GTM</dt>\n",
       "\t\t<dd>1</dd>\n",
       "\t<dt>GIN</dt>\n",
       "\t\t<dd>1</dd>\n",
       "\t<dt>GNB</dt>\n",
       "\t\t<dd>1</dd>\n",
       "\t<dt>GUY</dt>\n",
       "\t\t<dd>1</dd>\n",
       "\t<dt>HTI</dt>\n",
       "\t\t<dd>1</dd>\n",
       "\t<dt>HND</dt>\n",
       "\t\t<dd>1</dd>\n",
       "\t<dt>HKG</dt>\n",
       "\t\t<dd>2</dd>\n",
       "\t<dt>HUN</dt>\n",
       "\t\t<dd>1</dd>\n",
       "\t<dt>ISL</dt>\n",
       "\t\t<dd>2</dd>\n",
       "\t<dt>IND</dt>\n",
       "\t\t<dd>1</dd>\n",
       "\t<dt>IDN</dt>\n",
       "\t\t<dd>1</dd>\n",
       "\t<dt>IRN</dt>\n",
       "\t\t<dd>1</dd>\n",
       "\t<dt>IRQ</dt>\n",
       "\t\t<dd>3</dd>\n",
       "\t<dt>IRL</dt>\n",
       "\t\t<dd>2</dd>\n",
       "\t<dt>ISR</dt>\n",
       "\t\t<dd>2</dd>\n",
       "\t<dt>ITA</dt>\n",
       "\t\t<dd>2</dd>\n",
       "\t<dt>JAM</dt>\n",
       "\t\t<dd>1</dd>\n",
       "\t<dt>JPN</dt>\n",
       "\t\t<dd>2</dd>\n",
       "\t<dt>JOR</dt>\n",
       "\t\t<dd>1</dd>\n",
       "\t<dt>KAZ</dt>\n",
       "\t\t<dd>1</dd>\n",
       "\t<dt>KEN</dt>\n",
       "\t\t<dd>1</dd>\n",
       "\t<dt>KOR</dt>\n",
       "\t\t<dd>2</dd>\n",
       "\t<dt>KWT</dt>\n",
       "\t\t<dd>2</dd>\n",
       "\t<dt>KGZ</dt>\n",
       "\t\t<dd>1</dd>\n",
       "\t<dt>LAO</dt>\n",
       "\t\t<dd>1</dd>\n",
       "\t<dt>LVA</dt>\n",
       "\t\t<dd>1</dd>\n",
       "\t<dt>LBN</dt>\n",
       "\t\t<dd>1</dd>\n",
       "\t<dt>LSO</dt>\n",
       "\t\t<dd>3</dd>\n",
       "\t<dt>LBR</dt>\n",
       "\t\t<dd>1</dd>\n",
       "\t<dt>LBY</dt>\n",
       "\t\t<dd>3</dd>\n",
       "\t<dt>LTU</dt>\n",
       "\t\t<dd>1</dd>\n",
       "\t<dt>LUX</dt>\n",
       "\t\t<dd>2</dd>\n",
       "\t<dt>MAC</dt>\n",
       "\t\t<dd>2</dd>\n",
       "\t<dt>MKD</dt>\n",
       "\t\t<dd>3</dd>\n",
       "\t<dt>MDG</dt>\n",
       "\t\t<dd>1</dd>\n",
       "\t<dt>MWI</dt>\n",
       "\t\t<dd>1</dd>\n",
       "\t<dt>MYS</dt>\n",
       "\t\t<dd>1</dd>\n",
       "\t<dt>MDV</dt>\n",
       "\t\t<dd>1</dd>\n",
       "\t<dt>MLI</dt>\n",
       "\t\t<dd>1</dd>\n",
       "\t<dt>MLT</dt>\n",
       "\t\t<dd>2</dd>\n",
       "\t<dt>MRT</dt>\n",
       "\t\t<dd>3</dd>\n",
       "\t<dt>MUS</dt>\n",
       "\t\t<dd>1</dd>\n",
       "\t<dt>MEX</dt>\n",
       "\t\t<dd>1</dd>\n",
       "\t<dt>MDA</dt>\n",
       "\t\t<dd>1</dd>\n",
       "\t<dt>MNG</dt>\n",
       "\t\t<dd>1</dd>\n",
       "\t<dt>MNE</dt>\n",
       "\t\t<dd>3</dd>\n",
       "\t<dt>MAR</dt>\n",
       "\t\t<dd>1</dd>\n",
       "\t<dt>MOZ</dt>\n",
       "\t\t<dd>3</dd>\n",
       "\t<dt>NAM</dt>\n",
       "\t\t<dd>3</dd>\n",
       "\t<dt>NPL</dt>\n",
       "\t\t<dd>1</dd>\n",
       "\t<dt>NLD</dt>\n",
       "\t\t<dd>2</dd>\n",
       "\t<dt>NZL</dt>\n",
       "\t\t<dd>2</dd>\n",
       "\t<dt>NIC</dt>\n",
       "\t\t<dd>1</dd>\n",
       "\t<dt>NER</dt>\n",
       "\t\t<dd>1</dd>\n",
       "\t<dt>NGA</dt>\n",
       "\t\t<dd>1</dd>\n",
       "\t<dt>NOR</dt>\n",
       "\t\t<dd>2</dd>\n",
       "\t<dt>OMN</dt>\n",
       "\t\t<dd>2</dd>\n",
       "\t<dt>PAK</dt>\n",
       "\t\t<dd>1</dd>\n",
       "\t<dt>PAN</dt>\n",
       "\t\t<dd>1</dd>\n",
       "\t<dt>PNG</dt>\n",
       "\t\t<dd>1</dd>\n",
       "\t<dt>PRY</dt>\n",
       "\t\t<dd>1</dd>\n",
       "\t<dt>PER</dt>\n",
       "\t\t<dd>1</dd>\n",
       "\t<dt>PHL</dt>\n",
       "\t\t<dd>1</dd>\n",
       "\t<dt>POL</dt>\n",
       "\t\t<dd>1</dd>\n",
       "\t<dt>PRT</dt>\n",
       "\t\t<dd>1</dd>\n",
       "\t<dt>QAT</dt>\n",
       "\t\t<dd>2</dd>\n",
       "\t<dt>ROU</dt>\n",
       "\t\t<dd>1</dd>\n",
       "\t<dt>RUS</dt>\n",
       "\t\t<dd>1</dd>\n",
       "\t<dt>RWA</dt>\n",
       "\t\t<dd>1</dd>\n",
       "\t<dt>LCA</dt>\n",
       "\t\t<dd>3</dd>\n",
       "\t<dt>VCT</dt>\n",
       "\t\t<dd>3</dd>\n",
       "\t<dt>WSM</dt>\n",
       "\t\t<dd>1</dd>\n",
       "\t<dt>STP</dt>\n",
       "\t\t<dd>1</dd>\n",
       "\t<dt>SAU</dt>\n",
       "\t\t<dd>2</dd>\n",
       "\t<dt>SEN</dt>\n",
       "\t\t<dd>1</dd>\n",
       "\t<dt>SRB</dt>\n",
       "\t\t<dd>3</dd>\n",
       "\t<dt>SLE</dt>\n",
       "\t\t<dd>1</dd>\n",
       "\t<dt>SGP</dt>\n",
       "\t\t<dd>2</dd>\n",
       "\t<dt>SVK</dt>\n",
       "\t\t<dd>1</dd>\n",
       "\t<dt>SVN</dt>\n",
       "\t\t<dd>1</dd>\n",
       "\t<dt>SLB</dt>\n",
       "\t\t<dd>3</dd>\n",
       "\t<dt>ZAF</dt>\n",
       "\t\t<dd>3</dd>\n",
       "\t<dt>ESP</dt>\n",
       "\t\t<dd>3</dd>\n",
       "\t<dt>LKA</dt>\n",
       "\t\t<dd>1</dd>\n",
       "\t<dt>SDN</dt>\n",
       "\t\t<dd>1</dd>\n",
       "\t<dt>SUR</dt>\n",
       "\t\t<dd>1</dd>\n",
       "\t<dt>SWZ</dt>\n",
       "\t\t<dd>3</dd>\n",
       "\t<dt>SWE</dt>\n",
       "\t\t<dd>2</dd>\n",
       "\t<dt>CHE</dt>\n",
       "\t\t<dd>2</dd>\n",
       "\t<dt>TWN</dt>\n",
       "\t\t<dd>2</dd>\n",
       "\t<dt>TJK</dt>\n",
       "\t\t<dd>1</dd>\n",
       "\t<dt>TZA</dt>\n",
       "\t\t<dd>1</dd>\n",
       "\t<dt>THA</dt>\n",
       "\t\t<dd>1</dd>\n",
       "\t<dt>TGO</dt>\n",
       "\t\t<dd>1</dd>\n",
       "\t<dt>TON</dt>\n",
       "\t\t<dd>1</dd>\n",
       "\t<dt>TTO</dt>\n",
       "\t\t<dd>2</dd>\n",
       "\t<dt>TUN</dt>\n",
       "\t\t<dd>1</dd>\n",
       "\t<dt>TUR</dt>\n",
       "\t\t<dd>1</dd>\n",
       "\t<dt>TKM</dt>\n",
       "\t\t<dd>1</dd>\n",
       "\t<dt>UGA</dt>\n",
       "\t\t<dd>1</dd>\n",
       "\t<dt>UKR</dt>\n",
       "\t\t<dd>1</dd>\n",
       "\t<dt>ARE</dt>\n",
       "\t\t<dd>2</dd>\n",
       "\t<dt>GBR</dt>\n",
       "\t\t<dd>2</dd>\n",
       "\t<dt>USA</dt>\n",
       "\t\t<dd>2</dd>\n",
       "\t<dt>URY</dt>\n",
       "\t\t<dd>1</dd>\n",
       "\t<dt>UZB</dt>\n",
       "\t\t<dd>1</dd>\n",
       "\t<dt>VUT</dt>\n",
       "\t\t<dd>1</dd>\n",
       "\t<dt>VEN</dt>\n",
       "\t\t<dd>1</dd>\n",
       "\t<dt>VNM</dt>\n",
       "\t\t<dd>1</dd>\n",
       "\t<dt>YEM</dt>\n",
       "\t\t<dd>3</dd>\n",
       "\t<dt>ZMB</dt>\n",
       "\t\t<dd>1</dd>\n",
       "\t<dt>ZWE</dt>\n",
       "\t\t<dd>1</dd>\n",
       "\t<dt>BRN</dt>\n",
       "\t\t<dd>2</dd>\n",
       "</dl>\n"
      ],
      "text/latex": [
       "\\begin{description*}\n",
       "\\item[AFG] 1\n",
       "\\item[ALB] 3\n",
       "\\item[DZA] 1\n",
       "\\item[AGO] 1\n",
       "\\item[ARG] 1\n",
       "\\item[ARM] 3\n",
       "\\item[AUS] 2\n",
       "\\item[AUT] 2\n",
       "\\item[AZE] 1\n",
       "\\item[BHS] 1\n",
       "\\item[BHR] 2\n",
       "\\item[BGD] 1\n",
       "\\item[BRB] 1\n",
       "\\item[BLR] 1\n",
       "\\item[BEL] 2\n",
       "\\item[BLZ] 1\n",
       "\\item[BEN] 1\n",
       "\\item[BTN] 1\n",
       "\\item[BOL] 1\n",
       "\\item[BIH] 3\n",
       "\\item[BWA] 3\n",
       "\\item[BRA] 1\n",
       "\\item[BGR] 1\n",
       "\\item[BFA] 1\n",
       "\\item[MMR] 1\n",
       "\\item[BDI] 1\n",
       "\\item[KHM] 1\n",
       "\\item[CMR] 1\n",
       "\\item[CAN] 2\n",
       "\\item[CPV] 1\n",
       "\\item[CAF] 1\n",
       "\\item[TCD] 1\n",
       "\\item[CHL] 1\n",
       "\\item[CHN] 1\n",
       "\\item[COL] 1\n",
       "\\item[COM] 3\n",
       "\\item[COD] 1\n",
       "\\item[COG] 1\n",
       "\\item[CRI] 1\n",
       "\\item[CIV] 1\n",
       "\\item[HRV] 3\n",
       "\\item[CYP] 3\n",
       "\\item[CZE] 1\n",
       "\\item[DNK] 2\n",
       "\\item[DJI] 3\n",
       "\\item[DOM] 1\n",
       "\\item[ECU] 1\n",
       "\\item[EGY] 1\n",
       "\\item[SLV] 1\n",
       "\\item[GNQ] 1\n",
       "\\item[ERI] 1\n",
       "\\item[EST] 1\n",
       "\\item[ETH] 1\n",
       "\\item[FJI] 1\n",
       "\\item[FIN] 2\n",
       "\\item[FRA] 2\n",
       "\\item[GAB] 3\n",
       "\\item[GMB] 3\n",
       "\\item[GEO] 1\n",
       "\\item[DEU] 2\n",
       "\\item[GHA] 1\n",
       "\\item[GRC] 3\n",
       "\\item[GTM] 1\n",
       "\\item[GIN] 1\n",
       "\\item[GNB] 1\n",
       "\\item[GUY] 1\n",
       "\\item[HTI] 1\n",
       "\\item[HND] 1\n",
       "\\item[HKG] 2\n",
       "\\item[HUN] 1\n",
       "\\item[ISL] 2\n",
       "\\item[IND] 1\n",
       "\\item[IDN] 1\n",
       "\\item[IRN] 1\n",
       "\\item[IRQ] 3\n",
       "\\item[IRL] 2\n",
       "\\item[ISR] 2\n",
       "\\item[ITA] 2\n",
       "\\item[JAM] 1\n",
       "\\item[JPN] 2\n",
       "\\item[JOR] 1\n",
       "\\item[KAZ] 1\n",
       "\\item[KEN] 1\n",
       "\\item[KOR] 2\n",
       "\\item[KWT] 2\n",
       "\\item[KGZ] 1\n",
       "\\item[LAO] 1\n",
       "\\item[LVA] 1\n",
       "\\item[LBN] 1\n",
       "\\item[LSO] 3\n",
       "\\item[LBR] 1\n",
       "\\item[LBY] 3\n",
       "\\item[LTU] 1\n",
       "\\item[LUX] 2\n",
       "\\item[MAC] 2\n",
       "\\item[MKD] 3\n",
       "\\item[MDG] 1\n",
       "\\item[MWI] 1\n",
       "\\item[MYS] 1\n",
       "\\item[MDV] 1\n",
       "\\item[MLI] 1\n",
       "\\item[MLT] 2\n",
       "\\item[MRT] 3\n",
       "\\item[MUS] 1\n",
       "\\item[MEX] 1\n",
       "\\item[MDA] 1\n",
       "\\item[MNG] 1\n",
       "\\item[MNE] 3\n",
       "\\item[MAR] 1\n",
       "\\item[MOZ] 3\n",
       "\\item[NAM] 3\n",
       "\\item[NPL] 1\n",
       "\\item[NLD] 2\n",
       "\\item[NZL] 2\n",
       "\\item[NIC] 1\n",
       "\\item[NER] 1\n",
       "\\item[NGA] 1\n",
       "\\item[NOR] 2\n",
       "\\item[OMN] 2\n",
       "\\item[PAK] 1\n",
       "\\item[PAN] 1\n",
       "\\item[PNG] 1\n",
       "\\item[PRY] 1\n",
       "\\item[PER] 1\n",
       "\\item[PHL] 1\n",
       "\\item[POL] 1\n",
       "\\item[PRT] 1\n",
       "\\item[QAT] 2\n",
       "\\item[ROU] 1\n",
       "\\item[RUS] 1\n",
       "\\item[RWA] 1\n",
       "\\item[LCA] 3\n",
       "\\item[VCT] 3\n",
       "\\item[WSM] 1\n",
       "\\item[STP] 1\n",
       "\\item[SAU] 2\n",
       "\\item[SEN] 1\n",
       "\\item[SRB] 3\n",
       "\\item[SLE] 1\n",
       "\\item[SGP] 2\n",
       "\\item[SVK] 1\n",
       "\\item[SVN] 1\n",
       "\\item[SLB] 3\n",
       "\\item[ZAF] 3\n",
       "\\item[ESP] 3\n",
       "\\item[LKA] 1\n",
       "\\item[SDN] 1\n",
       "\\item[SUR] 1\n",
       "\\item[SWZ] 3\n",
       "\\item[SWE] 2\n",
       "\\item[CHE] 2\n",
       "\\item[TWN] 2\n",
       "\\item[TJK] 1\n",
       "\\item[TZA] 1\n",
       "\\item[THA] 1\n",
       "\\item[TGO] 1\n",
       "\\item[TON] 1\n",
       "\\item[TTO] 2\n",
       "\\item[TUN] 1\n",
       "\\item[TUR] 1\n",
       "\\item[TKM] 1\n",
       "\\item[UGA] 1\n",
       "\\item[UKR] 1\n",
       "\\item[ARE] 2\n",
       "\\item[GBR] 2\n",
       "\\item[USA] 2\n",
       "\\item[URY] 1\n",
       "\\item[UZB] 1\n",
       "\\item[VUT] 1\n",
       "\\item[VEN] 1\n",
       "\\item[VNM] 1\n",
       "\\item[YEM] 3\n",
       "\\item[ZMB] 1\n",
       "\\item[ZWE] 1\n",
       "\\item[BRN] 2\n",
       "\\end{description*}\n"
      ],
      "text/markdown": [
       "AFG\n",
       ":   1ALB\n",
       ":   3DZA\n",
       ":   1AGO\n",
       ":   1ARG\n",
       ":   1ARM\n",
       ":   3AUS\n",
       ":   2AUT\n",
       ":   2AZE\n",
       ":   1BHS\n",
       ":   1BHR\n",
       ":   2BGD\n",
       ":   1BRB\n",
       ":   1BLR\n",
       ":   1BEL\n",
       ":   2BLZ\n",
       ":   1BEN\n",
       ":   1BTN\n",
       ":   1BOL\n",
       ":   1BIH\n",
       ":   3BWA\n",
       ":   3BRA\n",
       ":   1BGR\n",
       ":   1BFA\n",
       ":   1MMR\n",
       ":   1BDI\n",
       ":   1KHM\n",
       ":   1CMR\n",
       ":   1CAN\n",
       ":   2CPV\n",
       ":   1CAF\n",
       ":   1TCD\n",
       ":   1CHL\n",
       ":   1CHN\n",
       ":   1COL\n",
       ":   1COM\n",
       ":   3COD\n",
       ":   1COG\n",
       ":   1CRI\n",
       ":   1CIV\n",
       ":   1HRV\n",
       ":   3CYP\n",
       ":   3CZE\n",
       ":   1DNK\n",
       ":   2DJI\n",
       ":   3DOM\n",
       ":   1ECU\n",
       ":   1EGY\n",
       ":   1SLV\n",
       ":   1GNQ\n",
       ":   1ERI\n",
       ":   1EST\n",
       ":   1ETH\n",
       ":   1FJI\n",
       ":   1FIN\n",
       ":   2FRA\n",
       ":   2GAB\n",
       ":   3GMB\n",
       ":   3GEO\n",
       ":   1DEU\n",
       ":   2GHA\n",
       ":   1GRC\n",
       ":   3GTM\n",
       ":   1GIN\n",
       ":   1GNB\n",
       ":   1GUY\n",
       ":   1HTI\n",
       ":   1HND\n",
       ":   1HKG\n",
       ":   2HUN\n",
       ":   1ISL\n",
       ":   2IND\n",
       ":   1IDN\n",
       ":   1IRN\n",
       ":   1IRQ\n",
       ":   3IRL\n",
       ":   2ISR\n",
       ":   2ITA\n",
       ":   2JAM\n",
       ":   1JPN\n",
       ":   2JOR\n",
       ":   1KAZ\n",
       ":   1KEN\n",
       ":   1KOR\n",
       ":   2KWT\n",
       ":   2KGZ\n",
       ":   1LAO\n",
       ":   1LVA\n",
       ":   1LBN\n",
       ":   1LSO\n",
       ":   3LBR\n",
       ":   1LBY\n",
       ":   3LTU\n",
       ":   1LUX\n",
       ":   2MAC\n",
       ":   2MKD\n",
       ":   3MDG\n",
       ":   1MWI\n",
       ":   1MYS\n",
       ":   1MDV\n",
       ":   1MLI\n",
       ":   1MLT\n",
       ":   2MRT\n",
       ":   3MUS\n",
       ":   1MEX\n",
       ":   1MDA\n",
       ":   1MNG\n",
       ":   1MNE\n",
       ":   3MAR\n",
       ":   1MOZ\n",
       ":   3NAM\n",
       ":   3NPL\n",
       ":   1NLD\n",
       ":   2NZL\n",
       ":   2NIC\n",
       ":   1NER\n",
       ":   1NGA\n",
       ":   1NOR\n",
       ":   2OMN\n",
       ":   2PAK\n",
       ":   1PAN\n",
       ":   1PNG\n",
       ":   1PRY\n",
       ":   1PER\n",
       ":   1PHL\n",
       ":   1POL\n",
       ":   1PRT\n",
       ":   1QAT\n",
       ":   2ROU\n",
       ":   1RUS\n",
       ":   1RWA\n",
       ":   1LCA\n",
       ":   3VCT\n",
       ":   3WSM\n",
       ":   1STP\n",
       ":   1SAU\n",
       ":   2SEN\n",
       ":   1SRB\n",
       ":   3SLE\n",
       ":   1SGP\n",
       ":   2SVK\n",
       ":   1SVN\n",
       ":   1SLB\n",
       ":   3ZAF\n",
       ":   3ESP\n",
       ":   3LKA\n",
       ":   1SDN\n",
       ":   1SUR\n",
       ":   1SWZ\n",
       ":   3SWE\n",
       ":   2CHE\n",
       ":   2TWN\n",
       ":   2TJK\n",
       ":   1TZA\n",
       ":   1THA\n",
       ":   1TGO\n",
       ":   1TON\n",
       ":   1TTO\n",
       ":   2TUN\n",
       ":   1TUR\n",
       ":   1TKM\n",
       ":   1UGA\n",
       ":   1UKR\n",
       ":   1ARE\n",
       ":   2GBR\n",
       ":   2USA\n",
       ":   2URY\n",
       ":   1UZB\n",
       ":   1VUT\n",
       ":   1VEN\n",
       ":   1VNM\n",
       ":   1YEM\n",
       ":   3ZMB\n",
       ":   1ZWE\n",
       ":   1BRN\n",
       ":   2\n",
       "\n"
      ],
      "text/plain": [
       "AFG ALB DZA AGO ARG ARM AUS AUT AZE BHS BHR BGD BRB BLR BEL BLZ BEN BTN BOL BIH \n",
       "  1   3   1   1   1   3   2   2   1   1   2   1   1   1   2   1   1   1   1   3 \n",
       "BWA BRA BGR BFA MMR BDI KHM CMR CAN CPV CAF TCD CHL CHN COL COM COD COG CRI CIV \n",
       "  3   1   1   1   1   1   1   1   2   1   1   1   1   1   1   3   1   1   1   1 \n",
       "HRV CYP CZE DNK DJI DOM ECU EGY SLV GNQ ERI EST ETH FJI FIN FRA GAB GMB GEO DEU \n",
       "  3   3   1   2   3   1   1   1   1   1   1   1   1   1   2   2   3   3   1   2 \n",
       "GHA GRC GTM GIN GNB GUY HTI HND HKG HUN ISL IND IDN IRN IRQ IRL ISR ITA JAM JPN \n",
       "  1   3   1   1   1   1   1   1   2   1   2   1   1   1   3   2   2   2   1   2 \n",
       "JOR KAZ KEN KOR KWT KGZ LAO LVA LBN LSO LBR LBY LTU LUX MAC MKD MDG MWI MYS MDV \n",
       "  1   1   1   2   2   1   1   1   1   3   1   3   1   2   2   3   1   1   1   1 \n",
       "MLI MLT MRT MUS MEX MDA MNG MNE MAR MOZ NAM NPL NLD NZL NIC NER NGA NOR OMN PAK \n",
       "  1   2   3   1   1   1   1   3   1   3   3   1   2   2   1   1   1   2   2   1 \n",
       "PAN PNG PRY PER PHL POL PRT QAT ROU RUS RWA LCA VCT WSM STP SAU SEN SRB SLE SGP \n",
       "  1   1   1   1   1   1   1   2   1   1   1   3   3   1   1   2   1   3   1   2 \n",
       "SVK SVN SLB ZAF ESP LKA SDN SUR SWZ SWE CHE TWN TJK TZA THA TGO TON TTO TUN TUR \n",
       "  1   1   3   3   3   1   1   1   3   2   2   2   1   1   1   1   1   2   1   1 \n",
       "TKM UGA UKR ARE GBR USA URY UZB VUT VEN VNM YEM ZMB ZWE BRN \n",
       "  1   1   1   2   2   2   1   1   1   1   1   3   1   1   2 "
      ]
     },
     "metadata": {},
     "output_type": "display_data"
    }
   ],
   "source": [
    "names(km1)\n",
    "km1$cluster"
   ]
  },
  {
   "cell_type": "code",
   "execution_count": 25,
   "metadata": {},
   "outputs": [
    {
     "data": {
      "text/html": [
       "<table>\n",
       "<thead><tr><th></th><th scope=col>Unemployment</th><th scope=col>GDP.per.Capita.PPP</th></tr></thead>\n",
       "<tbody>\n",
       "\t<tr><th scope=row>1</th><td>-0.2916477</td><td>-0.4211617</td></tr>\n",
       "\t<tr><th scope=row>2</th><td>-0.5249025</td><td> 1.6272829</td></tr>\n",
       "\t<tr><th scope=row>3</th><td> 1.9010286</td><td>-0.3468012</td></tr>\n",
       "</tbody>\n",
       "</table>\n"
      ],
      "text/latex": [
       "\\begin{tabular}{r|ll}\n",
       "  & Unemployment & GDP.per.Capita.PPP\\\\\n",
       "\\hline\n",
       "\t1 & -0.2916477 & -0.4211617\\\\\n",
       "\t2 & -0.5249025 &  1.6272829\\\\\n",
       "\t3 &  1.9010286 & -0.3468012\\\\\n",
       "\\end{tabular}\n"
      ],
      "text/markdown": [
       "\n",
       "| <!--/--> | Unemployment | GDP.per.Capita.PPP | \n",
       "|---|---|---|\n",
       "| 1 | -0.2916477 | -0.4211617 | \n",
       "| 2 | -0.5249025 |  1.6272829 | \n",
       "| 3 |  1.9010286 | -0.3468012 | \n",
       "\n",
       "\n"
      ],
      "text/plain": [
       "  Unemployment GDP.per.Capita.PPP\n",
       "1 -0.2916477   -0.4211617        \n",
       "2 -0.5249025    1.6272829        \n",
       "3  1.9010286   -0.3468012        "
      ]
     },
     "metadata": {},
     "output_type": "display_data"
    }
   ],
   "source": [
    "km1$centers"
   ]
  },
  {
   "cell_type": "code",
   "execution_count": 26,
   "metadata": {},
   "outputs": [
    {
     "data": {
      "text/html": [
       "348"
      ],
      "text/latex": [
       "348"
      ],
      "text/markdown": [
       "348"
      ],
      "text/plain": [
       "[1] 348"
      ]
     },
     "metadata": {},
     "output_type": "display_data"
    },
    {
     "data": {
      "text/html": [
       "348"
      ],
      "text/latex": [
       "348"
      ],
      "text/markdown": [
       "348"
      ],
      "text/plain": [
       "[1] 348"
      ]
     },
     "metadata": {},
     "output_type": "display_data"
    }
   ],
   "source": [
    "# Total sum of Squares\n",
    "km1$totss\n",
    "sum(km1$withinss)+km1$betweenss"
   ]
  },
  {
   "cell_type": "code",
   "execution_count": 27,
   "metadata": {},
   "outputs": [
    {
     "data": {
      "text/html": [
       "<ol class=list-inline>\n",
       "\t<li>42.2162058451894</li>\n",
       "\t<li>38.5374615109549</li>\n",
       "\t<li>34.4432030877405</li>\n",
       "</ol>\n"
      ],
      "text/latex": [
       "\\begin{enumerate*}\n",
       "\\item 42.2162058451894\n",
       "\\item 38.5374615109549\n",
       "\\item 34.4432030877405\n",
       "\\end{enumerate*}\n"
      ],
      "text/markdown": [
       "1. 42.2162058451894\n",
       "2. 38.5374615109549\n",
       "3. 34.4432030877405\n",
       "\n",
       "\n"
      ],
      "text/plain": [
       "[1] 42.21621 38.53746 34.44320"
      ]
     },
     "metadata": {},
     "output_type": "display_data"
    }
   ],
   "source": [
    "# Within SUm of Squares\n",
    "km1$withinss"
   ]
  },
  {
   "cell_type": "code",
   "execution_count": 28,
   "metadata": {},
   "outputs": [
    {
     "data": {
      "text/html": [
       "232.803129556115"
      ],
      "text/latex": [
       "232.803129556115"
      ],
      "text/markdown": [
       "232.803129556115"
      ],
      "text/plain": [
       "[1] 232.8031"
      ]
     },
     "metadata": {},
     "output_type": "display_data"
    }
   ],
   "source": [
    "# Between group Sum of Squares\n",
    "km1$betweenss"
   ]
  },
  {
   "cell_type": "code",
   "execution_count": 29,
   "metadata": {},
   "outputs": [
    {
     "data": {
      "text/html": [
       "0.668974510218722"
      ],
      "text/latex": [
       "0.668974510218722"
      ],
      "text/markdown": [
       "0.668974510218722"
      ],
      "text/plain": [
       "[1] 0.6689745"
      ]
     },
     "metadata": {},
     "output_type": "display_data"
    }
   ],
   "source": [
    "km1$betweenss/km1$totss"
   ]
  },
  {
   "cell_type": "code",
   "execution_count": 32,
   "metadata": {},
   "outputs": [],
   "source": [
    "index2_sc$cl<-km1$cluster"
   ]
  },
  {
   "cell_type": "code",
   "execution_count": 33,
   "metadata": {},
   "outputs": [
    {
     "data": {},
     "metadata": {},
     "output_type": "display_data"
    },
    {
     "data": {
      "image/png": "[encoded data removed]",
      "text/plain": [
       "plot without title"
      ]
     },
     "metadata": {},
     "output_type": "display_data"
    }
   ],
   "source": [
    "ggplot(data=index2_sc,aes(x=Unemployment,y=GDP.per.Capita.PPP,col=factor(cl)))+geom_point(size=2)"
   ]
  },
  {
   "cell_type": "code",
   "execution_count": 34,
   "metadata": {},
   "outputs": [
    {
     "data": {},
     "metadata": {},
     "output_type": "display_data"
    },
    {
     "data": {
      "image/png": "[encoded data removed]",
      "text/plain": [
       "plot without title"
      ]
     },
     "metadata": {},
     "output_type": "display_data"
    }
   ],
   "source": [
    "ggplot(data=index2_sc,aes(x=Unemployment,y=GDP.per.Capita.PPP,col=factor(cl)))+geom_point(size=2)+\n",
    "  geom_point(data=data.frame(km1$centers,cl=factor(1:3)),aes(Unemployment,GDP.per.Capita.PPP,col=cl),\n",
    "                                                            pch=8,size=10)\n"
   ]
  },
  {
   "cell_type": "code",
   "execution_count": 35,
   "metadata": {},
   "outputs": [],
   "source": [
    "# The goal is to increase between sum of squares/total sum of squares, and decrease within sum of squares/ total\n",
    "# sum of squares\n"
   ]
  },
  {
   "cell_type": "code",
   "execution_count": 36,
   "metadata": {},
   "outputs": [],
   "source": [
    "index<-read.csv('C:\\\\Users\\\\Gaya\\\\Desktop\\\\R\\\\Data mining\\\\final\\\\index2017.csv')\n",
    "index1<-index[complete.cases(index),]\n",
    "rownames(index2)<-index2$Abbr\n",
    "index2<-index1[,c(8:19)]\n",
    "index2_sc<-as.data.frame(scale(index2))"
   ]
  },
  {
   "cell_type": "code",
   "execution_count": 37,
   "metadata": {},
   "outputs": [],
   "source": [
    "# simple loop for calculating within sum/total sum\n",
    "B_T<-c()\n",
    "for(i in 1:10){\n",
    "  set.seed(1)\n",
    "  km1<-kmeans(index2_sc,i)\n",
    "  B_T[i]<-km1$tot.withinss/km1$totss\n",
    "}\n"
   ]
  },
  {
   "cell_type": "code",
   "execution_count": 38,
   "metadata": {},
   "outputs": [
    {
     "data": {
      "image/png": "[encoded data removed]",
      "text/plain": [
       "plot without title"
      ]
     },
     "metadata": {},
     "output_type": "display_data"
    }
   ],
   "source": [
    "plot(B_T)"
   ]
  },
  {
   "cell_type": "code",
   "execution_count": 40,
   "metadata": {},
   "outputs": [],
   "source": [
    "# install.packages('factoextra')\n",
    "library(factoextra)"
   ]
  },
  {
   "cell_type": "code",
   "execution_count": 41,
   "metadata": {},
   "outputs": [
    {
     "data": {},
     "metadata": {},
     "output_type": "display_data"
    },
    {
     "data": {
      "image/png": "[encoded data removed]",
      "text/plain": [
       "plot without title"
      ]
     },
     "metadata": {},
     "output_type": "display_data"
    }
   ],
   "source": [
    "set.seed(1)\n",
    "fviz_nbclust(index2_sc,kmeans,method = 'wss')"
   ]
  }
 ],
 "metadata": {
  "kernelspec": {
   "display_name": "R 3.3",
   "language": "R",
   "name": "ir33"
  },
  "language_info": {
   "codemirror_mode": "r",
   "file_extension": ".r",
   "mimetype": "text/x-r-source",
   "name": "R",
   "pygments_lexer": "r",
   "version": "3.3.3"
  }
 },
 "nbformat": 4,
 "nbformat_minor": 2
}
