{
 "cells": [
  {
   "cell_type": "code",
   "execution_count": 131,
   "metadata": {},
   "outputs": [],
   "source": [
    "from sklearn.linear_model import LogisticRegression\n",
    "from sklearn.model_selection import train_test_split\n",
    "from sklearn import metrics\n",
    "from sklearn.metrics import accuracy_score\n",
    "import pandas as pd\n",
    "import numpy as np\n",
    "import matplotlib.pyplot as plt\n",
    "import seaborn as sns"
   ]
  },
  {
   "cell_type": "code",
   "execution_count": 132,
   "metadata": {},
   "outputs": [],
   "source": [
    "credit=pd.read_csv('C:\\\\Users\\\\Gaya\\\\Desktop\\\\R\\\\EDX_Scripts\\\\Principles-of-Machine-Learning-R-master\\\\Module5\\\\German_Credit_Preped.csv')"
   ]
  },
  {
   "cell_type": "code",
   "execution_count": 133,
   "metadata": {
    "scrolled": true
   },
   "outputs": [
    {
     "name": "stdout",
     "output_type": "stream",
     "text": [
      "<class 'pandas.core.frame.DataFrame'>\n",
      "RangeIndex: 1000 entries, 0 to 999\n",
      "Data columns (total 22 columns):\n",
      "Customer_ID                 1000 non-null int64\n",
      "checking_account_status     1000 non-null object\n",
      "loan_duration_mo            1000 non-null int64\n",
      "credit_history              1000 non-null object\n",
      "purpose                     1000 non-null object\n",
      "loan_amount                 1000 non-null int64\n",
      "savings_account_balance     1000 non-null object\n",
      "time_employed_yrs           1000 non-null object\n",
      "payment_pcnt_income         1000 non-null int64\n",
      "gender_status               1000 non-null object\n",
      "other_signators             1000 non-null object\n",
      "time_in_residence           1000 non-null int64\n",
      "property                    1000 non-null object\n",
      "age_yrs                     1000 non-null int64\n",
      "other_credit_outstanding    1000 non-null object\n",
      "home_ownership              1000 non-null object\n",
      "number_loans                1000 non-null int64\n",
      "job_category                1000 non-null object\n",
      "dependents                  1000 non-null int64\n",
      "telephone                   1000 non-null object\n",
      "foreign_worker              1000 non-null object\n",
      "bad_credit                  1000 non-null int64\n",
      "dtypes: int64(9), object(13)\n",
      "memory usage: 172.0+ KB\n"
     ]
    }
   ],
   "source": [
    "credit.info()"
   ]
  },
  {
   "cell_type": "code",
   "execution_count": 134,
   "metadata": {},
   "outputs": [
    {
     "data": {
      "text/plain": [
       "Index(['Customer_ID', 'checking_account_status', 'loan_duration_mo',\n",
       "       'credit_history', 'purpose', 'loan_amount', 'savings_account_balance',\n",
       "       'time_employed_yrs', 'payment_pcnt_income', 'gender_status',\n",
       "       'other_signators', 'time_in_residence', 'property', 'age_yrs',\n",
       "       'other_credit_outstanding', 'home_ownership', 'number_loans',\n",
       "       'job_category', 'dependents', 'telephone', 'foreign_worker',\n",
       "       'bad_credit'],\n",
       "      dtype='object')"
      ]
     },
     "execution_count": 134,
     "metadata": {},
     "output_type": "execute_result"
    }
   ],
   "source": [
    "credit.columns"
   ]
  },
  {
   "cell_type": "code",
   "execution_count": 135,
   "metadata": {},
   "outputs": [],
   "source": [
    "del credit['Customer_ID']"
   ]
  },
  {
   "cell_type": "code",
   "execution_count": 136,
   "metadata": {},
   "outputs": [
    {
     "name": "stdout",
     "output_type": "stream",
     "text": [
      "<class 'pandas.core.frame.DataFrame'>\n",
      "RangeIndex: 1000 entries, 0 to 999\n",
      "Data columns (total 21 columns):\n",
      "checking_account_status     1000 non-null object\n",
      "loan_duration_mo            1000 non-null int64\n",
      "credit_history              1000 non-null object\n",
      "purpose                     1000 non-null object\n",
      "loan_amount                 1000 non-null int64\n",
      "savings_account_balance     1000 non-null object\n",
      "time_employed_yrs           1000 non-null object\n",
      "payment_pcnt_income         1000 non-null int64\n",
      "gender_status               1000 non-null object\n",
      "other_signators             1000 non-null object\n",
      "time_in_residence           1000 non-null int64\n",
      "property                    1000 non-null object\n",
      "age_yrs                     1000 non-null int64\n",
      "other_credit_outstanding    1000 non-null object\n",
      "home_ownership              1000 non-null object\n",
      "number_loans                1000 non-null int64\n",
      "job_category                1000 non-null object\n",
      "dependents                  1000 non-null int64\n",
      "telephone                   1000 non-null object\n",
      "foreign_worker              1000 non-null object\n",
      "bad_credit                  1000 non-null int64\n",
      "dtypes: int64(8), object(13)\n",
      "memory usage: 164.1+ KB\n"
     ]
    }
   ],
   "source": [
    "credit.info()"
   ]
  },
  {
   "cell_type": "markdown",
   "metadata": {},
   "source": [
    "Data Partition"
   ]
  },
  {
   "cell_type": "code",
   "execution_count": 137,
   "metadata": {},
   "outputs": [],
   "source": [
    "Y=credit['bad_credit']"
   ]
  },
  {
   "cell_type": "code",
   "execution_count": 138,
   "metadata": {},
   "outputs": [
    {
     "data": {
      "text/plain": [
       "0    700\n",
       "1    300\n",
       "Name: bad_credit, dtype: int64"
      ]
     },
     "execution_count": 138,
     "metadata": {},
     "output_type": "execute_result"
    }
   ],
   "source": [
    "Y.value_counts()"
   ]
  },
  {
   "cell_type": "markdown",
   "metadata": {},
   "source": [
    "### As a must we should always check proprotion of target variable in our dataset.. Particularly when we are more interested in one class compared to another.. as in this case we are more interested in correct prediciton of bad_credits with 1 status .. even at the expense of 0 predicition accuracy"
   ]
  },
  {
   "cell_type": "code",
   "execution_count": 139,
   "metadata": {},
   "outputs": [
    {
     "data": {
      "text/plain": [
       "Index(['checking_account_status', 'loan_duration_mo', 'credit_history',\n",
       "       'purpose', 'loan_amount', 'savings_account_balance',\n",
       "       'time_employed_yrs', 'payment_pcnt_income', 'gender_status',\n",
       "       'other_signators', 'time_in_residence', 'property', 'age_yrs',\n",
       "       'other_credit_outstanding', 'home_ownership', 'number_loans',\n",
       "       'job_category', 'dependents', 'telephone', 'foreign_worker',\n",
       "       'bad_credit'],\n",
       "      dtype='object')"
      ]
     },
     "execution_count": 139,
     "metadata": {},
     "output_type": "execute_result"
    }
   ],
   "source": [
    "credit.columns"
   ]
  },
  {
   "cell_type": "code",
   "execution_count": 140,
   "metadata": {},
   "outputs": [],
   "source": [
    "credit=pd.get_dummies(credit)"
   ]
  },
  {
   "cell_type": "code",
   "execution_count": 141,
   "metadata": {},
   "outputs": [
    {
     "data": {
      "text/html": [
       "<div>\n",
       "<style scoped>\n",
       "    .dataframe tbody tr th:only-of-type {\n",
       "        vertical-align: middle;\n",
       "    }\n",
       "\n",
       "    .dataframe tbody tr th {\n",
       "        vertical-align: top;\n",
       "    }\n",
       "\n",
       "    .dataframe thead th {\n",
       "        text-align: right;\n",
       "    }\n",
       "</style>\n",
       "<table border=\"1\" class=\"dataframe\">\n",
       "  <thead>\n",
       "    <tr style=\"text-align: right;\">\n",
       "      <th></th>\n",
       "      <th>loan_duration_mo</th>\n",
       "      <th>loan_amount</th>\n",
       "      <th>payment_pcnt_income</th>\n",
       "      <th>time_in_residence</th>\n",
       "      <th>age_yrs</th>\n",
       "      <th>number_loans</th>\n",
       "      <th>dependents</th>\n",
       "      <th>bad_credit</th>\n",
       "      <th>checking_account_status_0 - 200 DM</th>\n",
       "      <th>checking_account_status_&lt; 0 DM</th>\n",
       "      <th>...</th>\n",
       "      <th>home_ownership_own</th>\n",
       "      <th>home_ownership_rent</th>\n",
       "      <th>job_category_highly skilled</th>\n",
       "      <th>job_category_skilled</th>\n",
       "      <th>job_category_unemployed-unskilled-non-resident</th>\n",
       "      <th>job_category_unskilled-resident</th>\n",
       "      <th>telephone_none</th>\n",
       "      <th>telephone_yes</th>\n",
       "      <th>foreign_worker_no</th>\n",
       "      <th>foreign_worker_yes</th>\n",
       "    </tr>\n",
       "  </thead>\n",
       "  <tbody>\n",
       "    <tr>\n",
       "      <th>0</th>\n",
       "      <td>6</td>\n",
       "      <td>1169</td>\n",
       "      <td>4</td>\n",
       "      <td>4</td>\n",
       "      <td>67</td>\n",
       "      <td>2</td>\n",
       "      <td>1</td>\n",
       "      <td>0</td>\n",
       "      <td>0</td>\n",
       "      <td>1</td>\n",
       "      <td>...</td>\n",
       "      <td>1</td>\n",
       "      <td>0</td>\n",
       "      <td>0</td>\n",
       "      <td>1</td>\n",
       "      <td>0</td>\n",
       "      <td>0</td>\n",
       "      <td>0</td>\n",
       "      <td>1</td>\n",
       "      <td>0</td>\n",
       "      <td>1</td>\n",
       "    </tr>\n",
       "    <tr>\n",
       "      <th>1</th>\n",
       "      <td>48</td>\n",
       "      <td>5951</td>\n",
       "      <td>2</td>\n",
       "      <td>2</td>\n",
       "      <td>22</td>\n",
       "      <td>1</td>\n",
       "      <td>1</td>\n",
       "      <td>1</td>\n",
       "      <td>1</td>\n",
       "      <td>0</td>\n",
       "      <td>...</td>\n",
       "      <td>1</td>\n",
       "      <td>0</td>\n",
       "      <td>0</td>\n",
       "      <td>1</td>\n",
       "      <td>0</td>\n",
       "      <td>0</td>\n",
       "      <td>1</td>\n",
       "      <td>0</td>\n",
       "      <td>0</td>\n",
       "      <td>1</td>\n",
       "    </tr>\n",
       "    <tr>\n",
       "      <th>2</th>\n",
       "      <td>12</td>\n",
       "      <td>2096</td>\n",
       "      <td>2</td>\n",
       "      <td>3</td>\n",
       "      <td>49</td>\n",
       "      <td>1</td>\n",
       "      <td>2</td>\n",
       "      <td>0</td>\n",
       "      <td>0</td>\n",
       "      <td>0</td>\n",
       "      <td>...</td>\n",
       "      <td>1</td>\n",
       "      <td>0</td>\n",
       "      <td>0</td>\n",
       "      <td>0</td>\n",
       "      <td>0</td>\n",
       "      <td>1</td>\n",
       "      <td>1</td>\n",
       "      <td>0</td>\n",
       "      <td>0</td>\n",
       "      <td>1</td>\n",
       "    </tr>\n",
       "    <tr>\n",
       "      <th>3</th>\n",
       "      <td>42</td>\n",
       "      <td>7882</td>\n",
       "      <td>2</td>\n",
       "      <td>4</td>\n",
       "      <td>45</td>\n",
       "      <td>1</td>\n",
       "      <td>2</td>\n",
       "      <td>0</td>\n",
       "      <td>0</td>\n",
       "      <td>1</td>\n",
       "      <td>...</td>\n",
       "      <td>0</td>\n",
       "      <td>0</td>\n",
       "      <td>0</td>\n",
       "      <td>1</td>\n",
       "      <td>0</td>\n",
       "      <td>0</td>\n",
       "      <td>1</td>\n",
       "      <td>0</td>\n",
       "      <td>0</td>\n",
       "      <td>1</td>\n",
       "    </tr>\n",
       "    <tr>\n",
       "      <th>4</th>\n",
       "      <td>24</td>\n",
       "      <td>4870</td>\n",
       "      <td>3</td>\n",
       "      <td>4</td>\n",
       "      <td>53</td>\n",
       "      <td>2</td>\n",
       "      <td>2</td>\n",
       "      <td>1</td>\n",
       "      <td>0</td>\n",
       "      <td>1</td>\n",
       "      <td>...</td>\n",
       "      <td>0</td>\n",
       "      <td>0</td>\n",
       "      <td>0</td>\n",
       "      <td>1</td>\n",
       "      <td>0</td>\n",
       "      <td>0</td>\n",
       "      <td>1</td>\n",
       "      <td>0</td>\n",
       "      <td>0</td>\n",
       "      <td>1</td>\n",
       "    </tr>\n",
       "  </tbody>\n",
       "</table>\n",
       "<p>5 rows × 62 columns</p>\n",
       "</div>"
      ],
      "text/plain": [
       "   loan_duration_mo  loan_amount  payment_pcnt_income  time_in_residence  \\\n",
       "0                 6         1169                    4                  4   \n",
       "1                48         5951                    2                  2   \n",
       "2                12         2096                    2                  3   \n",
       "3                42         7882                    2                  4   \n",
       "4                24         4870                    3                  4   \n",
       "\n",
       "   age_yrs  number_loans  dependents  bad_credit  \\\n",
       "0       67             2           1           0   \n",
       "1       22             1           1           1   \n",
       "2       49             1           2           0   \n",
       "3       45             1           2           0   \n",
       "4       53             2           2           1   \n",
       "\n",
       "   checking_account_status_0 - 200 DM  checking_account_status_< 0 DM  \\\n",
       "0                                   0                               1   \n",
       "1                                   1                               0   \n",
       "2                                   0                               0   \n",
       "3                                   0                               1   \n",
       "4                                   0                               1   \n",
       "\n",
       "          ...          home_ownership_own  home_ownership_rent  \\\n",
       "0         ...                           1                    0   \n",
       "1         ...                           1                    0   \n",
       "2         ...                           1                    0   \n",
       "3         ...                           0                    0   \n",
       "4         ...                           0                    0   \n",
       "\n",
       "   job_category_highly skilled  job_category_skilled  \\\n",
       "0                            0                     1   \n",
       "1                            0                     1   \n",
       "2                            0                     0   \n",
       "3                            0                     1   \n",
       "4                            0                     1   \n",
       "\n",
       "   job_category_unemployed-unskilled-non-resident  \\\n",
       "0                                               0   \n",
       "1                                               0   \n",
       "2                                               0   \n",
       "3                                               0   \n",
       "4                                               0   \n",
       "\n",
       "   job_category_unskilled-resident  telephone_none  telephone_yes  \\\n",
       "0                                0               0              1   \n",
       "1                                0               1              0   \n",
       "2                                1               1              0   \n",
       "3                                0               1              0   \n",
       "4                                0               1              0   \n",
       "\n",
       "   foreign_worker_no  foreign_worker_yes  \n",
       "0                  0                   1  \n",
       "1                  0                   1  \n",
       "2                  0                   1  \n",
       "3                  0                   1  \n",
       "4                  0                   1  \n",
       "\n",
       "[5 rows x 62 columns]"
      ]
     },
     "execution_count": 141,
     "metadata": {},
     "output_type": "execute_result"
    }
   ],
   "source": [
    "credit.head()"
   ]
  },
  {
   "cell_type": "code",
   "execution_count": 142,
   "metadata": {},
   "outputs": [
    {
     "data": {
      "text/plain": [
       "Index(['loan_duration_mo', 'loan_amount', 'payment_pcnt_income',\n",
       "       'time_in_residence', 'age_yrs', 'number_loans', 'dependents',\n",
       "       'bad_credit', 'checking_account_status_0 - 200 DM',\n",
       "       'checking_account_status_< 0 DM',\n",
       "       'checking_account_status_> 200 DM or salary assignment',\n",
       "       'checking_account_status_none', 'credit_history_all loans at bank paid',\n",
       "       'credit_history_critical account - other non-bank loans',\n",
       "       'credit_history_current loans paid', 'credit_history_no credit - paid',\n",
       "       'credit_history_past payment delays', 'purpose_business',\n",
       "       'purpose_car (new)', 'purpose_car (used)',\n",
       "       'purpose_domestic appliances', 'purpose_education',\n",
       "       'purpose_furniture/equipment', 'purpose_other',\n",
       "       'purpose_radio/television', 'purpose_repairs', 'purpose_retraining',\n",
       "       'savings_account_balance_100 - 500 DM',\n",
       "       'savings_account_balance_500 - 1000 DM',\n",
       "       'savings_account_balance_< 100 DM',\n",
       "       'savings_account_balance_>= 1000 DM',\n",
       "       'savings_account_balance_unknown/none', 'time_employed_yrs_1 - 4 years',\n",
       "       'time_employed_yrs_4 - 7 years', 'time_employed_yrs_< 1 year',\n",
       "       'time_employed_yrs_>= 7 years', 'time_employed_yrs_unemployed',\n",
       "       'gender_status_female-divorced/separated/married',\n",
       "       'gender_status_male-divorced/separated',\n",
       "       'gender_status_male-married/widowed', 'gender_status_male-single',\n",
       "       'other_signators_co-applicant', 'other_signators_guarantor',\n",
       "       'other_signators_none',\n",
       "       'property_building society savings/life insurance',\n",
       "       'property_car or other', 'property_real estate',\n",
       "       'property_unknown-none', 'other_credit_outstanding_bank',\n",
       "       'other_credit_outstanding_none', 'other_credit_outstanding_stores',\n",
       "       'home_ownership_for free', 'home_ownership_own', 'home_ownership_rent',\n",
       "       'job_category_highly skilled', 'job_category_skilled',\n",
       "       'job_category_unemployed-unskilled-non-resident',\n",
       "       'job_category_unskilled-resident', 'telephone_none', 'telephone_yes',\n",
       "       'foreign_worker_no', 'foreign_worker_yes'],\n",
       "      dtype='object')"
      ]
     },
     "execution_count": 142,
     "metadata": {},
     "output_type": "execute_result"
    }
   ],
   "source": [
    "credit.columns"
   ]
  },
  {
   "cell_type": "code",
   "execution_count": 143,
   "metadata": {},
   "outputs": [],
   "source": [
    "X=credit[['loan_duration_mo', 'loan_amount', 'payment_pcnt_income',\n",
    "       'time_in_residence', 'age_yrs', 'number_loans', 'dependents',\n",
    "       'checking_account_status_0 - 200 DM',\n",
    "       'checking_account_status_< 0 DM',\n",
    "       'checking_account_status_> 200 DM or salary assignment',\n",
    "       'checking_account_status_none', 'credit_history_all loans at bank paid',\n",
    "       'credit_history_critical account - other non-bank loans',\n",
    "       'credit_history_current loans paid', 'credit_history_no credit - paid',\n",
    "       'credit_history_past payment delays', 'purpose_business',\n",
    "       'purpose_car (new)', 'purpose_car (used)',\n",
    "       'purpose_domestic appliances', 'purpose_education',\n",
    "       'purpose_furniture/equipment', 'purpose_other',\n",
    "       'purpose_radio/television', 'purpose_repairs', 'purpose_retraining',\n",
    "       'savings_account_balance_100 - 500 DM',\n",
    "       'savings_account_balance_500 - 1000 DM',\n",
    "       'savings_account_balance_< 100 DM',\n",
    "       'savings_account_balance_>= 1000 DM',\n",
    "       'savings_account_balance_unknown/none', 'time_employed_yrs_1 - 4 years',\n",
    "       'time_employed_yrs_4 - 7 years', 'time_employed_yrs_< 1 year',\n",
    "       'time_employed_yrs_>= 7 years', 'time_employed_yrs_unemployed',\n",
    "       'gender_status_female-divorced/separated/married',\n",
    "       'gender_status_male-divorced/separated',\n",
    "       'gender_status_male-married/widowed', 'gender_status_male-single',\n",
    "       'other_signators_co-applicant', 'other_signators_guarantor',\n",
    "       'other_signators_none',\n",
    "       'property_building society savings/life insurance',\n",
    "       'property_car or other', 'property_real estate',\n",
    "       'property_unknown-none', 'other_credit_outstanding_bank',\n",
    "       'other_credit_outstanding_none', 'other_credit_outstanding_stores',\n",
    "       'home_ownership_for free', 'home_ownership_own', 'home_ownership_rent',\n",
    "       'job_category_highly skilled', 'job_category_skilled',\n",
    "       'job_category_unemployed-unskilled-non-resident',\n",
    "       'job_category_unskilled-resident', 'telephone_none', 'telephone_yes',\n",
    "       'foreign_worker_no', 'foreign_worker_yes']]"
   ]
  },
  {
   "cell_type": "code",
   "execution_count": 144,
   "metadata": {},
   "outputs": [],
   "source": [
    "X_train,X_test,Y_train,Y_test=train_test_split(X,Y,test_size=0.3,random_state=42)"
   ]
  },
  {
   "cell_type": "code",
   "execution_count": 145,
   "metadata": {},
   "outputs": [],
   "source": [
    "logreg=LogisticRegression()"
   ]
  },
  {
   "cell_type": "code",
   "execution_count": 146,
   "metadata": {},
   "outputs": [],
   "source": [
    "mod1=logreg.fit(X_train,Y_train)"
   ]
  },
  {
   "cell_type": "code",
   "execution_count": 147,
   "metadata": {},
   "outputs": [],
   "source": [
    "pred1=logreg.predict(X_test)"
   ]
  },
  {
   "cell_type": "code",
   "execution_count": 148,
   "metadata": {},
   "outputs": [
    {
     "data": {
      "text/plain": [
       "0.7666666666666667"
      ]
     },
     "execution_count": 148,
     "metadata": {},
     "output_type": "execute_result"
    }
   ],
   "source": [
    "accuracy_score(y_true=Y_test, y_pred=pred1)"
   ]
  },
  {
   "cell_type": "markdown",
   "metadata": {},
   "source": [
    "### Feature selection\n"
   ]
  },
  {
   "cell_type": "code",
   "execution_count": 160,
   "metadata": {},
   "outputs": [
    {
     "name": "stdout",
     "output_type": "stream",
     "text": [
      "[False False False False False False False  True  True  True  True  True\n",
      "  True False  True False  True  True  True False  True False False False\n",
      "  True  True False  True  True  True False False  True False  True False\n",
      " False False False False  True  True False False False False  True False\n",
      "  True False  True False False False False False False False False  True\n",
      " False]\n",
      "[28 38 10 21 34 36 27  1  1  1  1  1  1 11  1  4  1  1  1 37  1  6 25  7\n",
      "  1  1  5  1  1  1 20 12  1 32  1 31 26  9 15  8  1  1 29 17 19  2  1 23\n",
      "  1 13  1  3 18 24 33 16 35 22 14  1 30]\n"
     ]
    }
   ],
   "source": [
    "from sklearn import datasets\n",
    "from sklearn.feature_selection import RFE\n",
    "from sklearn.linear_model import LogisticRegression\n",
    "logreg = LogisticRegression()\n",
    "rfe = RFE(logreg, 24)\n",
    "rfe = rfe.fit(X_train, Y_train)\n",
    "print(rfe.support_)\n",
    "print(rfe.ranking_)"
   ]
  },
  {
   "cell_type": "code",
   "execution_count": 161,
   "metadata": {},
   "outputs": [
    {
     "data": {
      "text/plain": [
       "array([False, False, False, False, False, False, False,  True,  True,\n",
       "        True,  True,  True,  True, False,  True, False,  True,  True,\n",
       "        True, False,  True, False, False, False,  True,  True, False,\n",
       "        True,  True,  True, False, False,  True, False,  True, False,\n",
       "       False, False, False, False,  True,  True, False, False, False,\n",
       "       False,  True, False,  True, False,  True, False, False, False,\n",
       "       False, False, False, False, False,  True, False])"
      ]
     },
     "execution_count": 161,
     "metadata": {},
     "output_type": "execute_result"
    }
   ],
   "source": [
    "rfe.support_"
   ]
  },
  {
   "cell_type": "code",
   "execution_count": 162,
   "metadata": {},
   "outputs": [],
   "source": [
    "col_ind=rfe.support_.tolist()"
   ]
  },
  {
   "cell_type": "code",
   "execution_count": 163,
   "metadata": {},
   "outputs": [],
   "source": [
    "col=X_train.columns[col_ind]"
   ]
  },
  {
   "cell_type": "code",
   "execution_count": 164,
   "metadata": {},
   "outputs": [],
   "source": [
    "X_test_n=X_test[col]\n",
    "X_train_n=X_train[col]"
   ]
  },
  {
   "cell_type": "code",
   "execution_count": 165,
   "metadata": {},
   "outputs": [
    {
     "data": {
      "text/plain": [
       "(700, 24)"
      ]
     },
     "execution_count": 165,
     "metadata": {},
     "output_type": "execute_result"
    }
   ],
   "source": [
    "X_train[col].shape"
   ]
  },
  {
   "cell_type": "markdown",
   "metadata": {},
   "source": [
    "## Applying LG after selecting the most important feautures"
   ]
  },
  {
   "cell_type": "code",
   "execution_count": 166,
   "metadata": {},
   "outputs": [
    {
     "data": {
      "text/plain": [
       "0.75"
      ]
     },
     "execution_count": 166,
     "metadata": {},
     "output_type": "execute_result"
    }
   ],
   "source": [
    "mod2=logreg.fit(X_train_n,Y_train)\n",
    "pred2=logreg.predict(X_test_n)\n",
    "accuracy_score(y_true=Y_test, y_pred=pred2)"
   ]
  },
  {
   "cell_type": "markdown",
   "metadata": {},
   "source": [
    "## Actually accuracy dropped but nevertheless let's proceed\n"
   ]
  },
  {
   "cell_type": "code",
   "execution_count": 167,
   "metadata": {},
   "outputs": [
    {
     "name": "stdout",
     "output_type": "stream",
     "text": [
      "Optimization terminated successfully.\n",
      "         Current function value: 0.438814\n",
      "         Iterations 19\n",
      "                           Logit Regression Results                           \n",
      "==============================================================================\n",
      "Dep. Variable:             bad_credit   No. Observations:                  700\n",
      "Model:                          Logit   Df Residuals:                      651\n",
      "Method:                           MLE   Df Model:                           48\n",
      "Date:                Tue, 21 Aug 2018   Pseudo R-squ.:                  0.2817\n",
      "Time:                        21:57:39   Log-Likelihood:                -307.17\n",
      "converged:                       True   LL-Null:                       -427.61\n",
      "                                        LLR p-value:                 1.704e-27\n",
      "==========================================================================================================================\n",
      "                                                             coef    std err          z      P>|z|      [0.025      0.975]\n",
      "--------------------------------------------------------------------------------------------------------------------------\n",
      "loan_duration_mo                                           0.0189      0.011      1.686      0.092      -0.003       0.041\n",
      "loan_amount                                                0.0002   5.42e-05      2.844      0.004    4.79e-05       0.000\n",
      "payment_pcnt_income                                        0.4228      0.108      3.917      0.000       0.211       0.634\n",
      "time_in_residence                                         -0.0645      0.105     -0.616      0.538      -0.269       0.141\n",
      "age_yrs                                                   -0.0218      0.012     -1.855      0.064      -0.045       0.001\n",
      "number_loans                                              -0.0095      0.258     -0.037      0.971      -0.515       0.496\n",
      "dependents                                                 0.1711      0.325      0.527      0.598      -0.466       0.808\n",
      "checking_account_status_0 - 200 DM                        -1.0688    2.5e+06  -4.27e-07      1.000    -4.9e+06     4.9e+06\n",
      "checking_account_status_< 0 DM                            -0.9410   5.06e+06  -1.86e-07      1.000   -9.92e+06    9.92e+06\n",
      "checking_account_status_> 200 DM or salary assignment     -2.0966   3.31e+06  -6.33e-07      1.000   -6.49e+06    6.49e+06\n",
      "checking_account_status_none                              -2.5349   5.73e+06  -4.42e-07      1.000   -1.12e+07    1.12e+07\n",
      "credit_history_all loans at bank paid                      0.3389        nan        nan        nan         nan         nan\n",
      "credit_history_critical account - other non-bank loans    -1.1771        nan        nan        nan         nan         nan\n",
      "credit_history_current loans paid                         -0.4740        nan        nan        nan         nan         nan\n",
      "credit_history_no credit - paid                            0.7581        nan        nan        nan         nan         nan\n",
      "credit_history_past payment delays                        -1.0027        nan        nan        nan         nan         nan\n",
      "purpose_business                                          -1.0760        nan        nan        nan         nan         nan\n",
      "purpose_car (new)                                         -0.8080        nan        nan        nan         nan         nan\n",
      "purpose_car (used)                                        -2.1719        nan        nan        nan         nan         nan\n",
      "purpose_domestic appliances                               -1.1247        nan        nan        nan         nan         nan\n",
      "purpose_education                                         -0.1147        nan        nan        nan         nan         nan\n",
      "purpose_furniture/equipment                               -1.5772        nan        nan        nan         nan         nan\n",
      "purpose_other                                             -1.8523        nan        nan        nan         nan         nan\n",
      "purpose_radio/television                                  -1.6387        nan        nan        nan         nan         nan\n",
      "purpose_repairs                                           -0.4068        nan        nan        nan         nan         nan\n",
      "purpose_retraining                                        -2.8231        nan        nan        nan         nan         nan\n",
      "savings_account_balance_100 - 500 DM                      -2.4968        nan        nan        nan         nan         nan\n",
      "savings_account_balance_500 - 1000 DM                     -3.4243        nan        nan        nan         nan         nan\n",
      "savings_account_balance_< 100 DM                          -1.9513        nan        nan        nan         nan         nan\n",
      "savings_account_balance_>= 1000 DM                        -3.2865        nan        nan        nan         nan         nan\n",
      "savings_account_balance_unknown/none                      -2.8707        nan        nan        nan         nan         nan\n",
      "time_employed_yrs_1 - 4 years                              2.9311        nan        nan        nan         nan         nan\n",
      "time_employed_yrs_4 - 7 years                              2.2849        nan        nan        nan         nan         nan\n",
      "time_employed_yrs_< 1 year                                 2.6671        nan        nan        nan         nan         nan\n",
      "time_employed_yrs_>= 7 years                               2.6073        nan        nan        nan         nan         nan\n",
      "time_employed_yrs_unemployed                               2.7807        nan        nan        nan         nan         nan\n",
      "gender_status_female-divorced/separated/married           -1.9315   2.86e+06  -6.75e-07      1.000   -5.61e+06    5.61e+06\n",
      "gender_status_male-divorced/separated                     -1.5473   2.61e+06  -5.93e-07      1.000   -5.11e+06    5.11e+06\n",
      "gender_status_male-married/widowed                        -1.9977   3.13e+06  -6.38e-07      1.000   -6.14e+06    6.14e+06\n",
      "gender_status_male-single                                 -2.3415   3.63e+06  -6.44e-07      1.000   -7.12e+06    7.12e+06\n",
      "other_signators_co-applicant                              -2.2322   1.21e+06  -1.84e-06      1.000   -2.37e+06    2.37e+06\n",
      "other_signators_guarantor                                 -3.7867      6e+05  -6.31e-06      1.000   -1.18e+06    1.18e+06\n",
      "other_signators_none                                      -2.5408        nan        nan        nan         nan         nan\n",
      "property_building society savings/life insurance          -1.9814        nan        nan        nan         nan         nan\n",
      "property_car or other                                     -1.9212        nan        nan        nan         nan         nan\n",
      "property_real estate                                      -2.1946        nan        nan        nan         nan         nan\n",
      "property_unknown-none                                     -1.1520        nan        nan        nan         nan         nan\n",
      "other_credit_outstanding_bank                             -2.4595        nan        nan        nan         nan         nan\n",
      "other_credit_outstanding_none                             -2.9080        nan        nan        nan         nan         nan\n",
      "other_credit_outstanding_stores                           -2.2346        nan        nan        nan         nan         nan\n",
      "home_ownership_for free                                   -2.4993   1.73e+06  -1.45e-06      1.000   -3.39e+06    3.39e+06\n",
      "home_ownership_own                                        -2.1225   2.14e+06  -9.91e-07      1.000    -4.2e+06     4.2e+06\n",
      "home_ownership_rent                                       -1.6474   1.75e+06  -9.44e-07      1.000   -3.42e+06    3.42e+06\n",
      "job_category_highly skilled                               12.3942   2.47e+06   5.01e-06      1.000   -4.84e+06    4.84e+06\n",
      "job_category_skilled                                      12.6100   2.47e+06    5.1e-06      1.000   -4.84e+06    4.84e+06\n",
      "job_category_unemployed-unskilled-non-resident            12.1939   2.49e+06    4.9e-06      1.000   -4.88e+06    4.88e+06\n",
      "job_category_unskilled-resident                           12.6635   2.49e+06   5.09e-06      1.000   -4.87e+06    4.87e+06\n",
      "telephone_none                                            -0.2873        nan        nan        nan         nan         nan\n",
      "telephone_yes                                             -0.5501        nan        nan        nan         nan         nan\n",
      "foreign_worker_no                                         -0.8747        nan        nan        nan         nan         nan\n",
      "foreign_worker_yes                                         0.0373        nan        nan        nan         nan         nan\n",
      "==========================================================================================================================\n"
     ]
    },
    {
     "name": "stderr",
     "output_type": "stream",
     "text": [
      "C:\\Users\\Gaya\\Anaconda3\\lib\\site-packages\\statsmodels\\base\\model.py:1092: RuntimeWarning: invalid value encountered in sqrt\n",
      "  bse_ = np.sqrt(np.diag(self.cov_params()))\n",
      "C:\\Users\\Gaya\\Anaconda3\\lib\\site-packages\\scipy\\stats\\_distn_infrastructure.py:879: RuntimeWarning: invalid value encountered in greater\n",
      "  return (self.a < x) & (x < self.b)\n",
      "C:\\Users\\Gaya\\Anaconda3\\lib\\site-packages\\scipy\\stats\\_distn_infrastructure.py:879: RuntimeWarning: invalid value encountered in less\n",
      "  return (self.a < x) & (x < self.b)\n",
      "C:\\Users\\Gaya\\Anaconda3\\lib\\site-packages\\scipy\\stats\\_distn_infrastructure.py:1821: RuntimeWarning: invalid value encountered in less_equal\n",
      "  cond2 = cond0 & (x <= self.a)\n"
     ]
    }
   ],
   "source": [
    "import statsmodels.api as sm\n",
    "logit_model=sm.Logit(Y_train,X_train)\n",
    "result=logit_model.fit()\n",
    "print(result.summary())"
   ]
  },
  {
   "cell_type": "code",
   "execution_count": 168,
   "metadata": {},
   "outputs": [
    {
     "name": "stdout",
     "output_type": "stream",
     "text": [
      "Optimization terminated successfully.\n",
      "         Current function value: 0.475335\n",
      "         Iterations 7\n",
      "                           Logit Regression Results                           \n",
      "==============================================================================\n",
      "Dep. Variable:             bad_credit   No. Observations:                  700\n",
      "Model:                          Logit   Df Residuals:                      676\n",
      "Method:                           MLE   Df Model:                           23\n",
      "Date:                Tue, 21 Aug 2018   Pseudo R-squ.:                  0.2219\n",
      "Time:                        21:57:40   Log-Likelihood:                -332.73\n",
      "converged:                       True   LL-Null:                       -427.61\n",
      "                                        LLR p-value:                 3.412e-28\n",
      "==========================================================================================================================\n",
      "                                                             coef    std err          z      P>|z|      [0.025      0.975]\n",
      "--------------------------------------------------------------------------------------------------------------------------\n",
      "checking_account_status_0 - 200 DM                        -0.3224      0.338     -0.953      0.341      -0.986       0.341\n",
      "checking_account_status_< 0 DM                            -0.0852      0.375     -0.227      0.820      -0.820       0.650\n",
      "checking_account_status_> 200 DM or salary assignment     -1.4826      0.504     -2.944      0.003      -2.470      -0.496\n",
      "checking_account_status_none                              -1.8150      0.363     -5.006      0.000      -2.526      -1.104\n",
      "credit_history_all loans at bank paid                      0.6671      0.439      1.520      0.129      -0.193       1.528\n",
      "credit_history_critical account - other non-bank loans    -0.7261      0.241     -3.008      0.003      -1.199      -0.253\n",
      "credit_history_no credit - paid                            1.3463      0.481      2.800      0.005       0.404       2.289\n",
      "purpose_business                                           0.5627      0.345      1.631      0.103      -0.114       1.239\n",
      "purpose_car (new)                                          0.5819      0.240      2.428      0.015       0.112       1.052\n",
      "purpose_car (used)                                        -0.3851      0.402     -0.958      0.338      -1.173       0.403\n",
      "purpose_education                                          1.3914      0.449      3.100      0.002       0.512       2.271\n",
      "purpose_repairs                                            0.7307      0.678      1.078      0.281      -0.598       2.059\n",
      "purpose_retraining                                        -1.5267      1.204     -1.268      0.205      -3.887       0.834\n",
      "savings_account_balance_500 - 1000 DM                     -0.9006      0.610     -1.477      0.140      -2.096       0.295\n",
      "savings_account_balance_< 100 DM                           0.5629      0.236      2.386      0.017       0.101       1.025\n",
      "savings_account_balance_>= 1000 DM                        -0.7477      0.578     -1.294      0.195      -1.880       0.384\n",
      "time_employed_yrs_4 - 7 years                             -0.4640      0.276     -1.681      0.093      -1.005       0.077\n",
      "time_employed_yrs_>= 7 years                              -0.4350      0.253     -1.722      0.085      -0.930       0.060\n",
      "other_signators_co-applicant                               0.4856      0.475      1.022      0.307      -0.446       1.417\n",
      "other_signators_guarantor                                 -1.1386      0.472     -2.412      0.016      -2.064      -0.214\n",
      "property_unknown-none                                      0.9257      0.433      2.140      0.032       0.078       1.774\n",
      "other_credit_outstanding_none                             -0.4462      0.257     -1.735      0.083      -0.950       0.058\n",
      "home_ownership_for free                                   -0.6175      0.523     -1.181      0.238      -1.642       0.407\n",
      "foreign_worker_no                                         -1.1752      0.599     -1.962      0.050      -2.349      -0.001\n",
      "==========================================================================================================================\n"
     ]
    }
   ],
   "source": [
    "import statsmodels.api as sm\n",
    "logit_model2=sm.Logit(Y_train,X_train_n)\n",
    "result2=logit_model2.fit()\n",
    "print(result2.summary())"
   ]
  },
  {
   "cell_type": "code",
   "execution_count": 171,
   "metadata": {},
   "outputs": [
    {
     "name": "stdout",
     "output_type": "stream",
     "text": [
      "[[185  25]\n",
      " [ 45  45]]\n"
     ]
    }
   ],
   "source": [
    "from sklearn.metrics import confusion_matrix\n",
    "confusion_matrix = confusion_matrix(Y_test, pred1)\n",
    "print(confusion_matrix)"
   ]
  },
  {
   "cell_type": "code",
   "execution_count": 170,
   "metadata": {},
   "outputs": [
    {
     "name": "stdout",
     "output_type": "stream",
     "text": [
      "             precision    recall  f1-score   support\n",
      "\n",
      "          0       0.80      0.88      0.84       210\n",
      "          1       0.64      0.50      0.56        90\n",
      "\n",
      "avg / total       0.76      0.77      0.76       300\n",
      "\n"
     ]
    }
   ],
   "source": [
    "from sklearn.metrics import classification_report\n",
    "print(classification_report(Y_test, pred1))"
   ]
  },
  {
   "cell_type": "code",
   "execution_count": null,
   "metadata": {},
   "outputs": [],
   "source": []
  }
 ],
 "metadata": {
  "kernelspec": {
   "display_name": "Python 3",
   "language": "python",
   "name": "python3"
  },
  "language_info": {
   "codemirror_mode": {
    "name": "ipython",
    "version": 3
   },
   "file_extension": ".py",
   "mimetype": "text/x-python",
   "name": "python",
   "nbconvert_exporter": "python",
   "pygments_lexer": "ipython3",
   "version": "3.6.5"
  }
 },
 "nbformat": 4,
 "nbformat_minor": 2
}
