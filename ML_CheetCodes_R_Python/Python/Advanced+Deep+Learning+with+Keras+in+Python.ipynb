{
 "cells": [
  {
   "cell_type": "markdown",
   "metadata": {},
   "source": [
    "The first step in creating a neural network model is to define the Input layer. This layer takes in raw data, usually in the form of numpy arrays. The shape of the Input layer defines how many variables your neural network will use. For example, if the input data has 10 columns, you define an Input layer with a shape of (10,)"
   ]
  },
  {
   "cell_type": "code",
   "execution_count": 1,
   "metadata": {},
   "outputs": [
    {
     "name": "stderr",
     "output_type": "stream",
     "text": [
      "C:\\Users\\Gaya\\Anaconda3\\lib\\site-packages\\h5py\\__init__.py:34: FutureWarning: Conversion of the second argument of issubdtype from `float` to `np.floating` is deprecated. In future, it will be treated as `np.float64 == np.dtype(float).type`.\n",
      "  from ._conv import register_converters as _register_converters\n",
      "Using TensorFlow backend.\n"
     ]
    }
   ],
   "source": [
    "# Import Input from keras.layers\n",
    "from keras.layers import Input\n",
    "\n",
    "# Create an input layer of shape 1\n",
    "input_tensor = Input(shape=(1,))"
   ]
  },
  {
   "cell_type": "code",
   "execution_count": 2,
   "metadata": {
    "collapsed": true
   },
   "outputs": [],
   "source": [
    "# Load layers\n",
    "from keras.layers import Input, Dense\n",
    "\n",
    "# Input layer\n",
    "input_tensor = Input(shape=(1,))\n",
    "\n",
    "# Dense layer\n",
    "output_layer = Dense(1)\n",
    "\n",
    "# Connect the dense layer to the input_tensor\n",
    "output_tensor = output_layer(input_tensor)"
   ]
  },
  {
   "cell_type": "code",
   "execution_count": 3,
   "metadata": {
    "collapsed": true
   },
   "outputs": [],
   "source": [
    "# Load layers\n",
    "from keras.layers import Input, Dense\n",
    "\n",
    "# Input layer\n",
    "input_tensor = Input(shape=(1,))\n",
    "\n",
    "# Create a dense layer and connect the dense layer to the input_tensor in one step\n",
    "# Note that we did this in 2 steps in the previous exercise, but are doing it in one step now\n",
    "output_tensor = Dense(1)(input_tensor)"
   ]
  },
  {
   "cell_type": "code",
   "execution_count": 4,
   "metadata": {
    "collapsed": true
   },
   "outputs": [],
   "source": [
    "# Input/dense/output layers\n",
    "from keras.layers import Input, Dense\n",
    "input_tensor = Input(shape=(1,))\n",
    "output_tensor = Dense(1)(input_tensor)\n",
    "\n",
    "# Build the model\n",
    "from keras.models import Model\n",
    "model = Model(input_tensor, output_tensor)"
   ]
  },
  {
   "cell_type": "markdown",
   "metadata": {},
   "source": [
    "The final step in creating a model is compiling it. Now that you've created a model, you have to compile it before you can fit it to data. This finalizes your model, freezes all its settings, and prepares it to meet some data!\n",
    "\n",
    "During compilation, you specify the optimizer to use for fitting the model to the data, and a loss function. 'adam' is a good default optimizer to use, and will generally work well. Loss function depends on the problem at hand. Mean squared error is a common loss function and will optimize for predicting the mean, as is done in least squares regression.\n",
    "\n",
    "Mean absolute error optimizes for the median and is used in quantile regression. For this dataset, 'mean_absolute_error' works pretty well, so use it as your loss function."
   ]
  },
  {
   "cell_type": "code",
   "execution_count": 5,
   "metadata": {
    "collapsed": true
   },
   "outputs": [],
   "source": [
    "# Compile the model\n",
    "model.compile(optimizer='adam', loss='mean_absolute_error')"
   ]
  },
  {
   "cell_type": "markdown",
   "metadata": {},
   "source": [
    "Visualize a model\n",
    "Now that you've compiled the model, take a look a the result of your hard work! You can do this by looking at the model summary, as well as its plot.\n",
    "\n",
    "The summary will tell you the names of the layers, as well as how many units they have and how many parameters are in the model.\n",
    "\n",
    "The plot will show how the layers connect to each other."
   ]
  },
  {
   "cell_type": "code",
   "execution_count": 6,
   "metadata": {
    "collapsed": true
   },
   "outputs": [],
   "source": [
    "import os\n",
    "os.environ[\"PATH\"] += os.pathsep + 'C:\\\\Program Files (x86)\\\\release\\\\bin\\\\'"
   ]
  },
  {
   "cell_type": "code",
   "execution_count": 7,
   "metadata": {
    "scrolled": true
   },
   "outputs": [
    {
     "name": "stdout",
     "output_type": "stream",
     "text": [
      "_________________________________________________________________\n",
      "Layer (type)                 Output Shape              Param #   \n",
      "=================================================================\n",
      "input_4 (InputLayer)         (None, 1)                 0         \n",
      "_________________________________________________________________\n",
      "dense_3 (Dense)              (None, 1)                 2         \n",
      "=================================================================\n",
      "Total params: 2\n",
      "Trainable params: 2\n",
      "Non-trainable params: 0\n",
      "_________________________________________________________________\n"
     ]
    }
   ],
   "source": [
    "# Import the plotting function\n",
    "import pydot\n",
    "from keras.utils import plot_model\n",
    "import matplotlib.pyplot as plt\n",
    "\n",
    "# Summarize the model\n",
    "model.summary()\n"
   ]
  },
  {
   "cell_type": "raw",
   "metadata": {},
   "source": [
    "import pydot \n",
    "# Plot the model\n",
    "plot_model(model, to_file='model.png')\n",
    "\n",
    "# Display the image\n",
    "data = plt.imread('model.png')\n",
    "plt.imshow(data)\n",
    "plt.show()"
   ]
  },
  {
   "cell_type": "code",
   "execution_count": 8,
   "metadata": {
    "collapsed": true
   },
   "outputs": [],
   "source": [
    "import pandas as pd\n",
    "from sklearn.model_selection import train_test_split\n",
    "games_tourney=pd.read_csv('E:\\\\PYTHON\\\\Data\\\\basketball\\\\games_tourney.csv')"
   ]
  },
  {
   "cell_type": "code",
   "execution_count": 9,
   "metadata": {
    "collapsed": true
   },
   "outputs": [],
   "source": [
    "games_tourney_train,games_tourney_test=games_tourney.loc[:3430,:],games_tourney.loc[3430:,:]"
   ]
  },
  {
   "cell_type": "code",
   "execution_count": 10,
   "metadata": {},
   "outputs": [
    {
     "name": "stdout",
     "output_type": "stream",
     "text": [
      "Train on 3087 samples, validate on 344 samples\n",
      "Epoch 1/1\n",
      "3087/3087 [==============================] - 0s 74us/step - loss: 9.2800 - val_loss: 8.5836\n"
     ]
    },
    {
     "data": {
      "text/plain": [
       "<keras.callbacks.History at 0x4c8011c18>"
      ]
     },
     "execution_count": 10,
     "metadata": {},
     "output_type": "execute_result"
    }
   ],
   "source": [
    "# Now fit the model\n",
    "model.fit(games_tourney_train['seed_diff'], games_tourney_train['score_diff'],\n",
    "          epochs=1,\n",
    "          batch_size=128,\n",
    "          validation_split=0.1,\n",
    "          verbose=True)"
   ]
  },
  {
   "cell_type": "code",
   "execution_count": 11,
   "metadata": {},
   "outputs": [
    {
     "name": "stdout",
     "output_type": "stream",
     "text": [
      "804/804 [==============================] - 0s 14us/step\n"
     ]
    },
    {
     "data": {
      "text/plain": [
       "9.520400165918455"
      ]
     },
     "execution_count": 11,
     "metadata": {},
     "output_type": "execute_result"
    }
   ],
   "source": [
    "# Load the X variable from the test data\n",
    "X_test = games_tourney_test['seed_diff']\n",
    "\n",
    "# Load the y variable from the test data\n",
    "y_test = games_tourney_test['score_diff']\n",
    "\n",
    "# Evaluate the model on the test data\n",
    "model.evaluate(X_test,y_test)"
   ]
  },
  {
   "cell_type": "code",
   "execution_count": 12,
   "metadata": {
    "collapsed": true
   },
   "outputs": [],
   "source": [
    "games_season=pd.read_csv('E:\\\\PYTHON\\\\Data\\\\basketball\\\\games_season.csv')"
   ]
  },
  {
   "cell_type": "code",
   "execution_count": 13,
   "metadata": {
    "collapsed": true
   },
   "outputs": [],
   "source": [
    "# Imports\n",
    "from keras.layers import Embedding\n",
    "from numpy import unique\n",
    "\n",
    "# Count the unique number of teams\n",
    "n_teams = unique(games_season['team_1']).shape[0]\n",
    "\n",
    "# Create an embedding layer\n",
    "team_lookup = Embedding(input_dim=n_teams,\n",
    "                        output_dim=1,\n",
    "                        input_length=1,\n",
    "                        name='Team-Strength')"
   ]
  },
  {
   "cell_type": "code",
   "execution_count": 14,
   "metadata": {
    "collapsed": true
   },
   "outputs": [],
   "source": [
    "# Imports\n",
    "from keras.layers import Input, Embedding, Flatten\n",
    "from keras.models import Model\n",
    "\n",
    "# Create an input layer for the team ID\n",
    "teamid_in = Input(shape=(1,))\n",
    "\n",
    "# Lookup the input in the team strength embedding layer\n",
    "strength_lookup = team_lookup(teamid_in)\n",
    "\n",
    "# Flatten the output\n",
    "strength_lookup_flat = Flatten()(strength_lookup)\n",
    "\n",
    "# Combine the operations into a single, re-usable model\n",
    "team_strength_model = Model(teamid_in, strength_lookup_flat, name='Team-Strength-Model')"
   ]
  },
  {
   "cell_type": "code",
   "execution_count": 15,
   "metadata": {
    "collapsed": true
   },
   "outputs": [],
   "source": [
    "# Load the input layer from keras.layers\n",
    "from keras.layers import Input\n",
    "\n",
    "# Input layer for team 1\n",
    "team_in_1 = Input((1,),name='Team-1-In')\n",
    "\n",
    "# Separate input layer for team 2\n",
    "team_in_2 = Input((1,),name='Team-2-In')"
   ]
  },
  {
   "cell_type": "code",
   "execution_count": 16,
   "metadata": {
    "collapsed": true
   },
   "outputs": [],
   "source": [
    "# Lookup team 1 in the team strength model\n",
    "team_1_strength = team_strength_model(team_in_1)\n",
    "\n",
    "# Lookup team 2 in the team strength model\n",
    "team_2_strength = team_strength_model(team_in_2)"
   ]
  },
  {
   "cell_type": "code",
   "execution_count": 17,
   "metadata": {
    "collapsed": true
   },
   "outputs": [],
   "source": [
    "# Import the Subtract layer from keras\n",
    "from keras.layers import Subtract\n",
    "\n",
    "# Create a subtract layer using the inputs from the previous exercise\n",
    "score_diff = Subtract()([team_1_strength, team_2_strength])"
   ]
  },
  {
   "cell_type": "code",
   "execution_count": 18,
   "metadata": {
    "collapsed": true
   },
   "outputs": [],
   "source": [
    "# Imports\n",
    "from keras.layers import Subtract,Concatenate\n",
    "from keras.models import Model\n",
    "\n",
    "# Subtraction layer from previous exercise\n",
    "score_diff = Subtract()([team_1_strength, team_2_strength])\n",
    "\n",
    "# Create the model\n",
    "model = Model([team_in_1, team_in_2], score_diff)\n",
    "\n",
    "# Compile the model\n",
    "model.compile('adam', 'mean_absolute_error')"
   ]
  },
  {
   "cell_type": "code",
   "execution_count": 19,
   "metadata": {},
   "outputs": [
    {
     "name": "stdout",
     "output_type": "stream",
     "text": [
      "Train on 280960 samples, validate on 31218 samples\n",
      "Epoch 1/1\n",
      "280960/280960 [==============================] - 0s 2us/step - loss: 12.1200 - val_loss: 11.8380\n"
     ]
    },
    {
     "data": {
      "text/plain": [
       "<keras.callbacks.History at 0x4ca465f60>"
      ]
     },
     "execution_count": 19,
     "metadata": {},
     "output_type": "execute_result"
    }
   ],
   "source": [
    "# Get the team_1 column from the regular season data\n",
    "input_1 = games_season['team_1']\n",
    "\n",
    "# Get the team_2 column from the regular season data\n",
    "input_2 = games_season['team_2']\n",
    "\n",
    "# Fit the model to input 1 and 2, using score diff as a target\n",
    "model.fit([input_1,input_2],\n",
    "          games_season['score_diff'],\n",
    "          epochs=1,\n",
    "          batch_size=2048,\n",
    "          validation_split=0.1,\n",
    "          verbose=True)"
   ]
  },
  {
   "cell_type": "code",
   "execution_count": 20,
   "metadata": {
    "collapsed": true
   },
   "outputs": [],
   "source": [
    "games_tourney=pd.read_csv('E:\\\\PYTHON\\\\Data\\\\basketball\\\\games_tourney.csv')"
   ]
  },
  {
   "cell_type": "code",
   "execution_count": 21,
   "metadata": {},
   "outputs": [
    {
     "name": "stdout",
     "output_type": "stream",
     "text": [
      "4234/4234 [==============================] - 0s 9us/step\n"
     ]
    },
    {
     "data": {
      "text/plain": [
       "11.680330610748276"
      ]
     },
     "execution_count": 21,
     "metadata": {},
     "output_type": "execute_result"
    }
   ],
   "source": [
    "# Get team_1 from the tournament data\n",
    "input_1 = games_tourney['team_1']\n",
    "\n",
    "# Get team_2 from the tournament data\n",
    "input_2 = games_tourney['team_2']\n",
    "\n",
    "# Evaluate the model using these inputs\n",
    "model.evaluate([input_1, input_2], games_tourney['score_diff'])"
   ]
  },
  {
   "cell_type": "code",
   "execution_count": 22,
   "metadata": {
    "collapsed": true
   },
   "outputs": [],
   "source": [
    "# Create an Input for each team\n",
    "team_in_1 = Input(shape=(1,), name='Team-1-In')\n",
    "team_in_2 = Input(shape=(1,), name='Team-2-In')\n",
    "\n",
    "# Create an input for home vs away\n",
    "home_in = Input(shape=(1,), name='Home-In')\n",
    "\n",
    "# Lookup the team inputs in the team strength model\n",
    "team_1_strength = team_strength_model(team_in_1)\n",
    "team_2_strength = team_strength_model(team_in_2)\n",
    "\n",
    "# Combine the team strengths with the home input using a Concatenate layer, then add a Dense layer\n",
    "out = Concatenate()([team_1_strength, team_2_strength, home_in])\n",
    "out = Dense(1)(out)"
   ]
  },
  {
   "cell_type": "code",
   "execution_count": 23,
   "metadata": {
    "collapsed": true
   },
   "outputs": [],
   "source": [
    "# Import the model class\n",
    "from keras.models import Model\n",
    "\n",
    "# Make a Model\n",
    "model = Model([team_in_1, team_in_2, home_in], out)\n",
    "\n",
    "# Compile the model\n",
    "model.compile(optimizer='adam', loss='mean_absolute_error')"
   ]
  },
  {
   "cell_type": "code",
   "execution_count": 24,
   "metadata": {},
   "outputs": [
    {
     "name": "stdout",
     "output_type": "stream",
     "text": [
      "Train on 280960 samples, validate on 31218 samples\n",
      "Epoch 1/1\n",
      "280960/280960 [==============================] - 1s 2us/step - loss: 12.1718 - val_loss: 11.9187\n",
      "4234/4234 [==============================] - 0s 11us/step\n"
     ]
    },
    {
     "data": {
      "text/plain": [
       "11.690033118906143"
      ]
     },
     "execution_count": 24,
     "metadata": {},
     "output_type": "execute_result"
    }
   ],
   "source": [
    "# Fit the model to the games_season dataset\n",
    "model.fit([games_season['team_1'], games_season['team_2'], games_season['home']],\n",
    "          games_season['score_diff'],\n",
    "          epochs=1,\n",
    "          verbose=True,\n",
    "          validation_split=0.1,\n",
    "          batch_size=2048)\n",
    "\n",
    "# Evaluate the model on the games_tourney dataset\n",
    "model.evaluate([games_tourney['team_1'], games_tourney['team_2'], games_tourney['home']],games_tourney['score_diff'])"
   ]
  },
  {
   "cell_type": "code",
   "execution_count": 25,
   "metadata": {},
   "outputs": [
    {
     "name": "stdout",
     "output_type": "stream",
     "text": [
      "__________________________________________________________________________________________________\n",
      "Layer (type)                    Output Shape         Param #     Connected to                     \n",
      "==================================================================================================\n",
      "Team-1-In (InputLayer)          (None, 1)            0                                            \n",
      "__________________________________________________________________________________________________\n",
      "Team-2-In (InputLayer)          (None, 1)            0                                            \n",
      "__________________________________________________________________________________________________\n",
      "Team-Strength-Model (Model)     (None, 1)            10888       Team-1-In[0][0]                  \n",
      "                                                                 Team-2-In[0][0]                  \n",
      "__________________________________________________________________________________________________\n",
      "Home-In (InputLayer)            (None, 1)            0                                            \n",
      "__________________________________________________________________________________________________\n",
      "concatenate_1 (Concatenate)     (None, 3)            0           Team-Strength-Model[3][0]        \n",
      "                                                                 Team-Strength-Model[4][0]        \n",
      "                                                                 Home-In[0][0]                    \n",
      "__________________________________________________________________________________________________\n",
      "dense_4 (Dense)                 (None, 1)            4           concatenate_1[0][0]              \n",
      "==================================================================================================\n",
      "Total params: 10,892\n",
      "Trainable params: 10,892\n",
      "Non-trainable params: 0\n",
      "__________________________________________________________________________________________________\n"
     ]
    }
   ],
   "source": [
    "model.summary()"
   ]
  },
  {
   "cell_type": "raw",
   "metadata": {},
   "source": [
    "# Imports\n",
    "import matplotlib.pyplot as plt\n",
    "from keras.utils import plot_model\n",
    "\n",
    "# Plot the model\n",
    "plot_model(model, to_file='model.png')\n",
    "\n",
    "# Display the image\n",
    "data = plt.imread('model.png')\n",
    "plt.imshow(data)\n",
    "plt.show()"
   ]
  },
  {
   "cell_type": "code",
   "execution_count": 26,
   "metadata": {
    "collapsed": true
   },
   "outputs": [],
   "source": [
    "# Predict\n",
    "games_tourney['pred'] = model.predict([games_tourney['team_1'],games_tourney['team_2'],games_tourney['home']])"
   ]
  },
  {
   "cell_type": "code",
   "execution_count": 27,
   "metadata": {
    "collapsed": true
   },
   "outputs": [],
   "source": [
    "# Create an input layer with 3 columns\n",
    "input_tensor = Input((3,))\n",
    "\n",
    "# Pass it to a Dense layer with 1 unit\n",
    "output_tensor = Dense(1)(input_tensor)\n",
    "\n",
    "# Create a model\n",
    "model = Model(input_tensor, output_tensor)\n",
    "\n",
    "# Compile the model\n",
    "model.compile(optimizer='adam', loss='mean_absolute_error')"
   ]
  },
  {
   "cell_type": "code",
   "execution_count": 28,
   "metadata": {
    "collapsed": true
   },
   "outputs": [],
   "source": [
    "games_tourney_train=games_tourney[games_tourney.season<2010]\n",
    "games_tourney_test=games_tourney[games_tourney.season>=2010]"
   ]
  },
  {
   "cell_type": "code",
   "execution_count": 29,
   "metadata": {},
   "outputs": [
    {
     "name": "stdout",
     "output_type": "stream",
     "text": [
      "Epoch 1/1\n",
      "3168/3168 [==============================] - 0s 67us/step - loss: 15.8779\n"
     ]
    },
    {
     "data": {
      "text/plain": [
       "<keras.callbacks.History at 0x4ca5a51d0>"
      ]
     },
     "execution_count": 29,
     "metadata": {},
     "output_type": "execute_result"
    }
   ],
   "source": [
    "# Fit the model\n",
    "model.fit(games_tourney_train[['home', 'seed_diff', 'pred']],\n",
    "          games_tourney_train['score_diff'],\n",
    "          epochs=1,\n",
    "          verbose=True)"
   ]
  },
  {
   "cell_type": "code",
   "execution_count": 30,
   "metadata": {},
   "outputs": [
    {
     "name": "stdout",
     "output_type": "stream",
     "text": [
      "1066/1066 [==============================] - 0s 51us/step\n"
     ]
    },
    {
     "data": {
      "text/plain": [
       "14.638439380652908"
      ]
     },
     "execution_count": 30,
     "metadata": {},
     "output_type": "execute_result"
    }
   ],
   "source": [
    "# Evaluate the model on the games_tourney_test dataset\n",
    "model.evaluate(games_tourney_test[['home', 'seed_diff', 'pred']], \n",
    "               games_tourney_test['score_diff'])"
   ]
  },
  {
   "cell_type": "markdown",
   "metadata": {
    "collapsed": true
   },
   "source": [
    "# Model woth 2 outputs"
   ]
  },
  {
   "cell_type": "code",
   "execution_count": 31,
   "metadata": {
    "collapsed": true
   },
   "outputs": [],
   "source": [
    "# Define the input\n",
    "input_tensor = Input(shape=(2,))\n",
    "\n",
    "# Define the output\n",
    "output_tensor = Dense(2)(input_tensor)\n",
    "\n",
    "# Create a model\n",
    "model = Model(input_tensor, output_tensor)\n",
    "\n",
    "# Compile the model\n",
    "model.compile(loss='mean_absolute_error', optimizer='adam')"
   ]
  },
  {
   "cell_type": "code",
   "execution_count": 32,
   "metadata": {},
   "outputs": [
    {
     "name": "stdout",
     "output_type": "stream",
     "text": [
      "Epoch 1/100\n",
      "3168/3168 [==============================] - 0s 53us/step - loss: 71.9472\n",
      "Epoch 2/100\n",
      "3168/3168 [==============================] - 0s 1us/step - loss: 71.9460\n",
      "Epoch 3/100\n",
      "3168/3168 [==============================] - 0s 1us/step - loss: 71.9449\n",
      "Epoch 4/100\n",
      "3168/3168 [==============================] - 0s 1us/step - loss: 71.9438\n",
      "Epoch 5/100\n",
      "3168/3168 [==============================] - 0s 1us/step - loss: 71.9427\n",
      "Epoch 6/100\n",
      "3168/3168 [==============================] - 0s 1us/step - loss: 71.9416\n",
      "Epoch 7/100\n",
      "3168/3168 [==============================] - 0s 1us/step - loss: 71.9405\n",
      "Epoch 8/100\n",
      "3168/3168 [==============================] - 0s 1us/step - loss: 71.9393\n",
      "Epoch 9/100\n",
      "3168/3168 [==============================] - 0s 1us/step - loss: 71.9382\n",
      "Epoch 10/100\n",
      "3168/3168 [==============================] - 0s 1us/step - loss: 71.9371\n",
      "Epoch 11/100\n",
      "3168/3168 [==============================] - 0s 1us/step - loss: 71.9359\n",
      "Epoch 12/100\n",
      "3168/3168 [==============================] - 0s 1us/step - loss: 71.9348\n",
      "Epoch 13/100\n",
      "3168/3168 [==============================] - 0s 1us/step - loss: 71.9337\n",
      "Epoch 14/100\n",
      "3168/3168 [==============================] - 0s 2us/step - loss: 71.9325\n",
      "Epoch 15/100\n",
      "3168/3168 [==============================] - 0s 1us/step - loss: 71.9314\n",
      "Epoch 16/100\n",
      "3168/3168 [==============================] - 0s 1us/step - loss: 71.9303\n",
      "Epoch 17/100\n",
      "3168/3168 [==============================] - 0s 1us/step - loss: 71.9291\n",
      "Epoch 18/100\n",
      "3168/3168 [==============================] - 0s 1us/step - loss: 71.9280\n",
      "Epoch 19/100\n",
      "3168/3168 [==============================] - 0s 1us/step - loss: 71.9268\n",
      "Epoch 20/100\n",
      "3168/3168 [==============================] - 0s 1us/step - loss: 71.9257\n",
      "Epoch 21/100\n",
      "3168/3168 [==============================] - 0s 1us/step - loss: 71.9246\n",
      "Epoch 22/100\n",
      "3168/3168 [==============================] - 0s 2us/step - loss: 71.9234\n",
      "Epoch 23/100\n",
      "3168/3168 [==============================] - 0s 1us/step - loss: 71.9223\n",
      "Epoch 24/100\n",
      "3168/3168 [==============================] - 0s 1us/step - loss: 71.9212\n",
      "Epoch 25/100\n",
      "3168/3168 [==============================] - 0s 1us/step - loss: 71.9200\n",
      "Epoch 26/100\n",
      "3168/3168 [==============================] - 0s 1us/step - loss: 71.9189\n",
      "Epoch 27/100\n",
      "3168/3168 [==============================] - 0s 1us/step - loss: 71.9177\n",
      "Epoch 28/100\n",
      "3168/3168 [==============================] - 0s 1us/step - loss: 71.9166\n",
      "Epoch 29/100\n",
      "3168/3168 [==============================] - 0s 1us/step - loss: 71.9155\n",
      "Epoch 30/100\n",
      "3168/3168 [==============================] - 0s 1us/step - loss: 71.9143\n",
      "Epoch 31/100\n",
      "3168/3168 [==============================] - 0s 2us/step - loss: 71.9132\n",
      "Epoch 32/100\n",
      "3168/3168 [==============================] - 0s 1us/step - loss: 71.9121\n",
      "Epoch 33/100\n",
      "3168/3168 [==============================] - 0s 1us/step - loss: 71.9109\n",
      "Epoch 34/100\n",
      "3168/3168 [==============================] - 0s 1us/step - loss: 71.9098\n",
      "Epoch 35/100\n",
      "3168/3168 [==============================] - 0s 1us/step - loss: 71.9087\n",
      "Epoch 36/100\n",
      "3168/3168 [==============================] - 0s 1us/step - loss: 71.9075\n",
      "Epoch 37/100\n",
      "3168/3168 [==============================] - 0s 1us/step - loss: 71.9064\n",
      "Epoch 38/100\n",
      "3168/3168 [==============================] - 0s 1us/step - loss: 71.9053\n",
      "Epoch 39/100\n",
      "3168/3168 [==============================] - 0s 1us/step - loss: 71.9041\n",
      "Epoch 40/100\n",
      "3168/3168 [==============================] - 0s 3us/step - loss: 71.9030\n",
      "Epoch 41/100\n",
      "3168/3168 [==============================] - 0s 1us/step - loss: 71.9018\n",
      "Epoch 42/100\n",
      "3168/3168 [==============================] - 0s 1us/step - loss: 71.9007\n",
      "Epoch 43/100\n",
      "3168/3168 [==============================] - 0s 1us/step - loss: 71.8996\n",
      "Epoch 44/100\n",
      "3168/3168 [==============================] - 0s 1us/step - loss: 71.8984\n",
      "Epoch 45/100\n",
      "3168/3168 [==============================] - 0s 1us/step - loss: 71.8973\n",
      "Epoch 46/100\n",
      "3168/3168 [==============================] - 0s 1us/step - loss: 71.8962\n",
      "Epoch 47/100\n",
      "3168/3168 [==============================] - 0s 1us/step - loss: 71.8950\n",
      "Epoch 48/100\n",
      "3168/3168 [==============================] - 0s 1us/step - loss: 71.8939\n",
      "Epoch 49/100\n",
      "3168/3168 [==============================] - 0s 1us/step - loss: 71.8927\n",
      "Epoch 50/100\n",
      "3168/3168 [==============================] - 0s 1us/step - loss: 71.8916\n",
      "Epoch 51/100\n",
      "3168/3168 [==============================] - 0s 1us/step - loss: 71.8905\n",
      "Epoch 52/100\n",
      "3168/3168 [==============================] - 0s 1us/step - loss: 71.8893\n",
      "Epoch 53/100\n",
      "3168/3168 [==============================] - 0s 1us/step - loss: 71.8882\n",
      "Epoch 54/100\n",
      "3168/3168 [==============================] - 0s 2us/step - loss: 71.8871\n",
      "Epoch 55/100\n",
      "3168/3168 [==============================] - 0s 1us/step - loss: 71.8859\n",
      "Epoch 56/100\n",
      "3168/3168 [==============================] - 0s 1us/step - loss: 71.8848\n",
      "Epoch 57/100\n",
      "3168/3168 [==============================] - 0s 1us/step - loss: 71.8837\n",
      "Epoch 58/100\n",
      "3168/3168 [==============================] - 0s 1us/step - loss: 71.8825\n",
      "Epoch 59/100\n",
      "3168/3168 [==============================] - 0s 1us/step - loss: 71.8814\n",
      "Epoch 60/100\n",
      "3168/3168 [==============================] - 0s 1us/step - loss: 71.8802\n",
      "Epoch 61/100\n",
      "3168/3168 [==============================] - 0s 1us/step - loss: 71.8791\n",
      "Epoch 62/100\n",
      "3168/3168 [==============================] - 0s 1us/step - loss: 71.8780\n",
      "Epoch 63/100\n",
      "3168/3168 [==============================] - 0s 1us/step - loss: 71.8768\n",
      "Epoch 64/100\n",
      "3168/3168 [==============================] - 0s 1us/step - loss: 71.8757\n",
      "Epoch 65/100\n",
      "3168/3168 [==============================] - 0s 1us/step - loss: 71.8745\n",
      "Epoch 66/100\n",
      "3168/3168 [==============================] - 0s 1us/step - loss: 71.8734\n",
      "Epoch 67/100\n",
      "3168/3168 [==============================] - 0s 1us/step - loss: 71.8722\n",
      "Epoch 68/100\n",
      "3168/3168 [==============================] - 0s 1us/step - loss: 71.8711\n",
      "Epoch 69/100\n",
      "3168/3168 [==============================] - 0s 1us/step - loss: 71.8700\n",
      "Epoch 70/100\n",
      "3168/3168 [==============================] - 0s 3us/step - loss: 71.8688\n",
      "Epoch 71/100\n",
      "3168/3168 [==============================] - 0s 1us/step - loss: 71.8677\n",
      "Epoch 72/100\n",
      "3168/3168 [==============================] - 0s 1us/step - loss: 71.8666\n",
      "Epoch 73/100\n",
      "3168/3168 [==============================] - 0s 1us/step - loss: 71.8654\n",
      "Epoch 74/100\n",
      "3168/3168 [==============================] - 0s 1us/step - loss: 71.8643\n",
      "Epoch 75/100\n",
      "3168/3168 [==============================] - 0s 1us/step - loss: 71.8632\n",
      "Epoch 76/100\n",
      "3168/3168 [==============================] - 0s 1us/step - loss: 71.8620\n",
      "Epoch 77/100\n",
      "3168/3168 [==============================] - 0s 1us/step - loss: 71.8609\n",
      "Epoch 78/100\n",
      "3168/3168 [==============================] - 0s 1us/step - loss: 71.8598\n",
      "Epoch 79/100\n",
      "3168/3168 [==============================] - 0s 1us/step - loss: 71.8586\n",
      "Epoch 80/100\n",
      "3168/3168 [==============================] - 0s 1us/step - loss: 71.8575\n",
      "Epoch 81/100\n",
      "3168/3168 [==============================] - 0s 1us/step - loss: 71.8564\n",
      "Epoch 82/100\n",
      "3168/3168 [==============================] - 0s 1us/step - loss: 71.8552\n",
      "Epoch 83/100\n",
      "3168/3168 [==============================] - 0s 1us/step - loss: 71.8541\n",
      "Epoch 84/100\n",
      "3168/3168 [==============================] - 0s 1us/step - loss: 71.8530\n",
      "Epoch 85/100\n",
      "3168/3168 [==============================] - 0s 1us/step - loss: 71.8518\n",
      "Epoch 86/100\n",
      "3168/3168 [==============================] - 0s 1us/step - loss: 71.8507\n",
      "Epoch 87/100\n",
      "3168/3168 [==============================] - 0s 1us/step - loss: 71.8495\n",
      "Epoch 88/100\n",
      "3168/3168 [==============================] - 0s 1us/step - loss: 71.8484\n",
      "Epoch 89/100\n",
      "3168/3168 [==============================] - 0s 1us/step - loss: 71.8473\n",
      "Epoch 90/100\n",
      "3168/3168 [==============================] - 0s 1us/step - loss: 71.8461\n",
      "Epoch 91/100\n",
      "3168/3168 [==============================] - 0s 1us/step - loss: 71.8450\n",
      "Epoch 92/100\n",
      "3168/3168 [==============================] - 0s 1us/step - loss: 71.8439\n",
      "Epoch 93/100\n",
      "3168/3168 [==============================] - 0s 1us/step - loss: 71.8427\n",
      "Epoch 94/100\n",
      "3168/3168 [==============================] - 0s 1us/step - loss: 71.8416\n",
      "Epoch 95/100\n",
      "3168/3168 [==============================] - 0s 1us/step - loss: 71.8405\n",
      "Epoch 96/100\n",
      "3168/3168 [==============================] - 0s 1us/step - loss: 71.8393\n"
     ]
    },
    {
     "name": "stdout",
     "output_type": "stream",
     "text": [
      "Epoch 97/100\n",
      "3168/3168 [==============================] - 0s 1us/step - loss: 71.8382\n",
      "Epoch 98/100\n",
      "3168/3168 [==============================] - 0s 1us/step - loss: 71.8371\n",
      "Epoch 99/100\n",
      "3168/3168 [==============================] - 0s 1us/step - loss: 71.8359\n",
      "Epoch 100/100\n",
      "3168/3168 [==============================] - 0s 2us/step - loss: 71.8348\n"
     ]
    },
    {
     "data": {
      "text/plain": [
       "<keras.callbacks.History at 0x4cab55dd8>"
      ]
     },
     "execution_count": 32,
     "metadata": {},
     "output_type": "execute_result"
    }
   ],
   "source": [
    "# Fit the model\n",
    "model.fit(games_tourney_train[['seed_diff', 'pred']],\n",
    "  \t\t  games_tourney_train[['score_1', 'score_2']],\n",
    "  \t\t  verbose=True,\n",
    "  \t\t  epochs=100,\n",
    "  \t\t  batch_size=16384)"
   ]
  },
  {
   "cell_type": "code",
   "execution_count": 33,
   "metadata": {},
   "outputs": [
    {
     "name": "stdout",
     "output_type": "stream",
     "text": [
      "[array([[ 0.01538543,  0.57539284],\n",
      "       [ 0.5532574 , -0.86861634]], dtype=float32), array([0.09996708, 0.09996708], dtype=float32)]\n",
      "season        1997.045455\n",
      "team_1        5546.025568\n",
      "team_2        5546.025568\n",
      "home             0.000000\n",
      "seed_diff        0.000000\n",
      "score_diff       0.000000\n",
      "score_1         71.912247\n",
      "score_2         71.912247\n",
      "won              0.500000\n",
      "pred             0.135529\n",
      "dtype: float64\n"
     ]
    }
   ],
   "source": [
    "# Print the model's weights\n",
    "print(model.get_weights())\n",
    "\n",
    "# Print the column means of the training data\n",
    "print(games_tourney_train.mean())"
   ]
  },
  {
   "cell_type": "code",
   "execution_count": 34,
   "metadata": {},
   "outputs": [
    {
     "name": "stdout",
     "output_type": "stream",
     "text": [
      "1066/1066 [==============================] - 0s 70us/step\n"
     ]
    },
    {
     "data": {
      "text/plain": [
       "68.73198164605289"
      ]
     },
     "execution_count": 34,
     "metadata": {},
     "output_type": "execute_result"
    }
   ],
   "source": [
    "# Evaluate the model on the tournament test data\n",
    "model.evaluate(games_tourney_test[['seed_diff', 'pred']],\n",
    "  \t\t  games_tourney_test[['score_1', 'score_2']])"
   ]
  },
  {
   "cell_type": "code",
   "execution_count": 35,
   "metadata": {
    "collapsed": true
   },
   "outputs": [],
   "source": [
    "# Create an input layer with 2 columns\n",
    "input_tensor = Input((2,))\n",
    "\n",
    "# Create the first output\n",
    "output_tensor_1 = Dense(1, activation='linear', use_bias=False)(input_tensor)\n",
    "\n",
    "# Create the second output (use the first output as input here)\n",
    "output_tensor_2 = S=Dense(1, activation='sigmoid', use_bias=False)(output_tensor_1)\n",
    "\n",
    "# Create a model with 2 outputs\n",
    "model = Model(input_tensor, [output_tensor_1, output_tensor_2])"
   ]
  },
  {
   "cell_type": "code",
   "execution_count": 36,
   "metadata": {},
   "outputs": [
    {
     "name": "stdout",
     "output_type": "stream",
     "text": [
      "Epoch 1/10\n",
      "3168/3168 [==============================] - 0s 101us/step - loss: 16.0192 - dense_7_loss: 9.2096 - dense_8_loss: 6.8096\n",
      "Epoch 2/10\n",
      "3168/3168 [==============================] - 0s 1us/step - loss: 15.9329 - dense_7_loss: 9.2160 - dense_8_loss: 6.7169\n",
      "Epoch 3/10\n",
      "3168/3168 [==============================] - 0s 1us/step - loss: 15.8696 - dense_7_loss: 9.2224 - dense_8_loss: 6.6472\n",
      "Epoch 4/10\n",
      "3168/3168 [==============================] - 0s 1us/step - loss: 15.7941 - dense_7_loss: 9.2289 - dense_8_loss: 6.5652\n",
      "Epoch 5/10\n",
      "3168/3168 [==============================] - 0s 1us/step - loss: 15.7226 - dense_7_loss: 9.2354 - dense_8_loss: 6.4873\n",
      "Epoch 6/10\n",
      "3168/3168 [==============================] - 0s 1us/step - loss: 15.6549 - dense_7_loss: 9.2428 - dense_8_loss: 6.4121\n",
      "Epoch 7/10\n",
      "3168/3168 [==============================] - 0s 1us/step - loss: 15.5900 - dense_7_loss: 9.2527 - dense_8_loss: 6.3373\n",
      "Epoch 8/10\n",
      "3168/3168 [==============================] - 0s 2us/step - loss: 15.5263 - dense_7_loss: 9.2637 - dense_8_loss: 6.2627\n",
      "Epoch 9/10\n",
      "3168/3168 [==============================] - 0s 2us/step - loss: 15.4568 - dense_7_loss: 9.2746 - dense_8_loss: 6.1822\n",
      "Epoch 10/10\n",
      "3168/3168 [==============================] - 0s 3us/step - loss: 15.3854 - dense_7_loss: 9.2856 - dense_8_loss: 6.0997\n"
     ]
    },
    {
     "data": {
      "text/plain": [
       "<keras.callbacks.History at 0x4cad51eb8>"
      ]
     },
     "execution_count": 36,
     "metadata": {},
     "output_type": "execute_result"
    }
   ],
   "source": [
    "# Import the Adam optimizer\n",
    "from keras.optimizers import Adam\n",
    "\n",
    "# Compile the model with 2 losses and the Adam optimzer with a higher learning rate\n",
    "model.compile(loss=['mean_absolute_error', 'binary_crossentropy'], optimizer=Adam(0.01))\n",
    "\n",
    "# Fit the model to the tournament training data, with 2 inputs and 2 outputs\n",
    "model.fit(games_tourney_train[['seed_diff', 'pred']],\n",
    "          [games_tourney_train[['score_diff']], games_tourney_train[['won']]],\n",
    "          epochs=10,\n",
    "          verbose=True,\n",
    "          batch_size=16384)"
   ]
  },
  {
   "cell_type": "code",
   "execution_count": 37,
   "metadata": {},
   "outputs": [
    {
     "name": "stdout",
     "output_type": "stream",
     "text": [
      "[array([[ 0.95009285],\n",
      "       [-0.1772691 ]], dtype=float32), array([[-1.2493427]], dtype=float32)]\n",
      "season        1997.045455\n",
      "team_1        5546.025568\n",
      "team_2        5546.025568\n",
      "home             0.000000\n",
      "seed_diff        0.000000\n",
      "score_diff       0.000000\n",
      "score_1         71.912247\n",
      "score_2         71.912247\n",
      "won              0.500000\n",
      "pred             0.135529\n",
      "dtype: float64\n"
     ]
    }
   ],
   "source": [
    "# Print the model weights\n",
    "print(model.get_weights())\n",
    "\n",
    "# Print the training data means\n",
    "print(games_tourney_train.mean())"
   ]
  },
  {
   "cell_type": "code",
   "execution_count": 38,
   "metadata": {},
   "outputs": [
    {
     "name": "stdout",
     "output_type": "stream",
     "text": [
      "0.5349429451582145\n",
      "0.8021838885585818\n"
     ]
    }
   ],
   "source": [
    "# Import the sigmoid function from scipy\n",
    "from scipy.special import expit as sigmoid\n",
    "\n",
    "# Weight from the model\n",
    "weight = 0.14\n",
    "\n",
    "# Print the approximate win probability predicted close game\n",
    "print(sigmoid(1 * weight))\n",
    "\n",
    "# Print the approximate win probability predicted blowout game\n",
    "print(sigmoid(10 * weight))"
   ]
  },
  {
   "cell_type": "code",
   "execution_count": 39,
   "metadata": {},
   "outputs": [
    {
     "name": "stdout",
     "output_type": "stream",
     "text": [
      "1066/1066 [==============================] - 0s 107us/step\n"
     ]
    },
    {
     "data": {
      "text/plain": [
       "[14.683892273321383, 9.099845762771693, 5.584046520390609]"
      ]
     },
     "execution_count": 39,
     "metadata": {},
     "output_type": "execute_result"
    }
   ],
   "source": [
    "# Evaluate the model on new data\n",
    "model.evaluate(games_tourney_test[['seed_diff', 'pred']],\n",
    "          [games_tourney_test[['score_diff']], games_tourney_test[['won']]])"
   ]
  },
  {
   "cell_type": "code",
   "execution_count": null,
   "metadata": {
    "collapsed": true
   },
   "outputs": [],
   "source": []
  }
 ],
 "metadata": {
  "kernelspec": {
   "display_name": "Python 3",
   "language": "python",
   "name": "python3"
  },
  "language_info": {
   "codemirror_mode": {
    "name": "ipython",
    "version": 3
   },
   "file_extension": ".py",
   "mimetype": "text/x-python",
   "name": "python",
   "nbconvert_exporter": "python",
   "pygments_lexer": "ipython3",
   "version": "3.6.3"
  }
 },
 "nbformat": 4,
 "nbformat_minor": 2
}
